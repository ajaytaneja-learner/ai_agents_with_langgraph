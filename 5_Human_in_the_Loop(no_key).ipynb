{
  "nbformat": 4,
  "nbformat_minor": 0,
  "metadata": {
    "colab": {
      "provenance": []
    },
    "kernelspec": {
      "name": "python3",
      "display_name": "Python 3"
    },
    "language_info": {
      "name": "python"
    }
  },
  "cells": [
    {
      "cell_type": "code",
      "execution_count": null,
      "metadata": {
        "id": "J-gZ8NIbn9x3"
      },
      "outputs": [],
      "source": []
    },
    {
      "cell_type": "markdown",
      "source": [
        "1. There are many occasions where you'd like to ut human in the loop to keep track on what an Agent is doing.\n",
        "\n",
        "2. This is very easy to do with LangGraph\n",
        "\n",
        "3. Let's see how this works.\n"
      ],
      "metadata": {
        "id": "1mqj6kVroRo3"
      }
    },
    {
      "cell_type": "code",
      "source": [
        "# 1. We are actually resuming from where we left in Persistence and Streaming\n",
        "# 2. Let's start by setting the environmental variables.\n",
        "\n",
        "\n",
        "\n",
        "import os\n",
        "import openai\n",
        "os.environ[\"OPENAI_API_KEY\"] = \"\"\n",
        "openai.api_key = os.environ['OPENAI_API_KEY']\n",
        "os.environ[\"TAVILY_API_KEY\"] = \"\""
      ],
      "metadata": {
        "id": "u_jVrNkWoo9d"
      },
      "execution_count": null,
      "outputs": []
    },
    {
      "cell_type": "code",
      "source": [
        "# 3. We make the relevant imports and set up the check pointer\n",
        "\n",
        "!pip install langgraph\n",
        "!pip install langchain-openai\n",
        "!pip install langchain-community\n",
        "!pip install langgraph-checkpoint-sqlite\n",
        "\n",
        "from langgraph.graph import StateGraph, END\n",
        "from typing import TypedDict, Annotated\n",
        "import operator\n",
        "from langchain_core.messages import AnyMessage, SystemMessage, HumanMessage, ToolMessage\n",
        "from langchain_openai import ChatOpenAI\n",
        "from langchain_community.tools.tavily_search import TavilySearchResults\n",
        "from langgraph.checkpoint.sqlite import SqliteSaver\n",
        "\n",
        "memory = SqliteSaver.from_conn_string(\":memory:\")"
      ],
      "metadata": {
        "colab": {
          "base_uri": "https://localhost:8080/"
        },
        "collapsed": true,
        "id": "wf5F-ZapphV5",
        "outputId": "49709fbc-5a5d-45da-b3b4-8e04eae8faf3"
      },
      "execution_count": null,
      "outputs": [
        {
          "output_type": "stream",
          "name": "stdout",
          "text": [
            "Requirement already satisfied: langgraph in /usr/local/lib/python3.12/dist-packages (0.6.7)\n",
            "Requirement already satisfied: langchain-core>=0.1 in /usr/local/lib/python3.12/dist-packages (from langgraph) (0.3.76)\n",
            "Requirement already satisfied: langgraph-checkpoint<3.0.0,>=2.1.0 in /usr/local/lib/python3.12/dist-packages (from langgraph) (2.1.1)\n",
            "Requirement already satisfied: langgraph-prebuilt<0.7.0,>=0.6.0 in /usr/local/lib/python3.12/dist-packages (from langgraph) (0.6.4)\n",
            "Requirement already satisfied: langgraph-sdk<0.3.0,>=0.2.2 in /usr/local/lib/python3.12/dist-packages (from langgraph) (0.2.9)\n",
            "Requirement already satisfied: pydantic>=2.7.4 in /usr/local/lib/python3.12/dist-packages (from langgraph) (2.11.9)\n",
            "Requirement already satisfied: xxhash>=3.5.0 in /usr/local/lib/python3.12/dist-packages (from langgraph) (3.5.0)\n",
            "Requirement already satisfied: langsmith>=0.3.45 in /usr/local/lib/python3.12/dist-packages (from langchain-core>=0.1->langgraph) (0.4.28)\n",
            "Requirement already satisfied: tenacity!=8.4.0,<10.0.0,>=8.1.0 in /usr/local/lib/python3.12/dist-packages (from langchain-core>=0.1->langgraph) (8.5.0)\n",
            "Requirement already satisfied: jsonpatch<2.0,>=1.33 in /usr/local/lib/python3.12/dist-packages (from langchain-core>=0.1->langgraph) (1.33)\n",
            "Requirement already satisfied: PyYAML>=5.3 in /usr/local/lib/python3.12/dist-packages (from langchain-core>=0.1->langgraph) (6.0.2)\n",
            "Requirement already satisfied: typing-extensions>=4.7 in /usr/local/lib/python3.12/dist-packages (from langchain-core>=0.1->langgraph) (4.15.0)\n",
            "Requirement already satisfied: packaging>=23.2 in /usr/local/lib/python3.12/dist-packages (from langchain-core>=0.1->langgraph) (25.0)\n",
            "Requirement already satisfied: ormsgpack>=1.10.0 in /usr/local/lib/python3.12/dist-packages (from langgraph-checkpoint<3.0.0,>=2.1.0->langgraph) (1.10.0)\n",
            "Requirement already satisfied: httpx>=0.25.2 in /usr/local/lib/python3.12/dist-packages (from langgraph-sdk<0.3.0,>=0.2.2->langgraph) (0.28.1)\n",
            "Requirement already satisfied: orjson>=3.10.1 in /usr/local/lib/python3.12/dist-packages (from langgraph-sdk<0.3.0,>=0.2.2->langgraph) (3.11.3)\n",
            "Requirement already satisfied: annotated-types>=0.6.0 in /usr/local/lib/python3.12/dist-packages (from pydantic>=2.7.4->langgraph) (0.7.0)\n",
            "Requirement already satisfied: pydantic-core==2.33.2 in /usr/local/lib/python3.12/dist-packages (from pydantic>=2.7.4->langgraph) (2.33.2)\n",
            "Requirement already satisfied: typing-inspection>=0.4.0 in /usr/local/lib/python3.12/dist-packages (from pydantic>=2.7.4->langgraph) (0.4.1)\n",
            "Requirement already satisfied: anyio in /usr/local/lib/python3.12/dist-packages (from httpx>=0.25.2->langgraph-sdk<0.3.0,>=0.2.2->langgraph) (4.10.0)\n",
            "Requirement already satisfied: certifi in /usr/local/lib/python3.12/dist-packages (from httpx>=0.25.2->langgraph-sdk<0.3.0,>=0.2.2->langgraph) (2025.8.3)\n",
            "Requirement already satisfied: httpcore==1.* in /usr/local/lib/python3.12/dist-packages (from httpx>=0.25.2->langgraph-sdk<0.3.0,>=0.2.2->langgraph) (1.0.9)\n",
            "Requirement already satisfied: idna in /usr/local/lib/python3.12/dist-packages (from httpx>=0.25.2->langgraph-sdk<0.3.0,>=0.2.2->langgraph) (3.10)\n",
            "Requirement already satisfied: h11>=0.16 in /usr/local/lib/python3.12/dist-packages (from httpcore==1.*->httpx>=0.25.2->langgraph-sdk<0.3.0,>=0.2.2->langgraph) (0.16.0)\n",
            "Requirement already satisfied: jsonpointer>=1.9 in /usr/local/lib/python3.12/dist-packages (from jsonpatch<2.0,>=1.33->langchain-core>=0.1->langgraph) (3.0.0)\n",
            "Requirement already satisfied: requests-toolbelt>=1.0.0 in /usr/local/lib/python3.12/dist-packages (from langsmith>=0.3.45->langchain-core>=0.1->langgraph) (1.0.0)\n",
            "Requirement already satisfied: requests>=2.0.0 in /usr/local/lib/python3.12/dist-packages (from langsmith>=0.3.45->langchain-core>=0.1->langgraph) (2.32.5)\n",
            "Requirement already satisfied: zstandard>=0.23.0 in /usr/local/lib/python3.12/dist-packages (from langsmith>=0.3.45->langchain-core>=0.1->langgraph) (0.25.0)\n",
            "Requirement already satisfied: charset_normalizer<4,>=2 in /usr/local/lib/python3.12/dist-packages (from requests>=2.0.0->langsmith>=0.3.45->langchain-core>=0.1->langgraph) (3.4.3)\n",
            "Requirement already satisfied: urllib3<3,>=1.21.1 in /usr/local/lib/python3.12/dist-packages (from requests>=2.0.0->langsmith>=0.3.45->langchain-core>=0.1->langgraph) (2.5.0)\n",
            "Requirement already satisfied: sniffio>=1.1 in /usr/local/lib/python3.12/dist-packages (from anyio->httpx>=0.25.2->langgraph-sdk<0.3.0,>=0.2.2->langgraph) (1.3.1)\n",
            "Requirement already satisfied: langchain-openai in /usr/local/lib/python3.12/dist-packages (0.3.33)\n",
            "Requirement already satisfied: langchain-core<1.0.0,>=0.3.76 in /usr/local/lib/python3.12/dist-packages (from langchain-openai) (0.3.76)\n",
            "Requirement already satisfied: openai<2.0.0,>=1.104.2 in /usr/local/lib/python3.12/dist-packages (from langchain-openai) (1.108.0)\n",
            "Requirement already satisfied: tiktoken<1,>=0.7 in /usr/local/lib/python3.12/dist-packages (from langchain-openai) (0.11.0)\n",
            "Requirement already satisfied: langsmith>=0.3.45 in /usr/local/lib/python3.12/dist-packages (from langchain-core<1.0.0,>=0.3.76->langchain-openai) (0.4.28)\n",
            "Requirement already satisfied: tenacity!=8.4.0,<10.0.0,>=8.1.0 in /usr/local/lib/python3.12/dist-packages (from langchain-core<1.0.0,>=0.3.76->langchain-openai) (8.5.0)\n",
            "Requirement already satisfied: jsonpatch<2.0,>=1.33 in /usr/local/lib/python3.12/dist-packages (from langchain-core<1.0.0,>=0.3.76->langchain-openai) (1.33)\n",
            "Requirement already satisfied: PyYAML>=5.3 in /usr/local/lib/python3.12/dist-packages (from langchain-core<1.0.0,>=0.3.76->langchain-openai) (6.0.2)\n",
            "Requirement already satisfied: typing-extensions>=4.7 in /usr/local/lib/python3.12/dist-packages (from langchain-core<1.0.0,>=0.3.76->langchain-openai) (4.15.0)\n",
            "Requirement already satisfied: packaging>=23.2 in /usr/local/lib/python3.12/dist-packages (from langchain-core<1.0.0,>=0.3.76->langchain-openai) (25.0)\n",
            "Requirement already satisfied: pydantic>=2.7.4 in /usr/local/lib/python3.12/dist-packages (from langchain-core<1.0.0,>=0.3.76->langchain-openai) (2.11.9)\n",
            "Requirement already satisfied: anyio<5,>=3.5.0 in /usr/local/lib/python3.12/dist-packages (from openai<2.0.0,>=1.104.2->langchain-openai) (4.10.0)\n",
            "Requirement already satisfied: distro<2,>=1.7.0 in /usr/local/lib/python3.12/dist-packages (from openai<2.0.0,>=1.104.2->langchain-openai) (1.9.0)\n",
            "Requirement already satisfied: httpx<1,>=0.23.0 in /usr/local/lib/python3.12/dist-packages (from openai<2.0.0,>=1.104.2->langchain-openai) (0.28.1)\n",
            "Requirement already satisfied: jiter<1,>=0.4.0 in /usr/local/lib/python3.12/dist-packages (from openai<2.0.0,>=1.104.2->langchain-openai) (0.11.0)\n",
            "Requirement already satisfied: sniffio in /usr/local/lib/python3.12/dist-packages (from openai<2.0.0,>=1.104.2->langchain-openai) (1.3.1)\n",
            "Requirement already satisfied: tqdm>4 in /usr/local/lib/python3.12/dist-packages (from openai<2.0.0,>=1.104.2->langchain-openai) (4.67.1)\n",
            "Requirement already satisfied: regex>=2022.1.18 in /usr/local/lib/python3.12/dist-packages (from tiktoken<1,>=0.7->langchain-openai) (2024.11.6)\n",
            "Requirement already satisfied: requests>=2.26.0 in /usr/local/lib/python3.12/dist-packages (from tiktoken<1,>=0.7->langchain-openai) (2.32.5)\n",
            "Requirement already satisfied: idna>=2.8 in /usr/local/lib/python3.12/dist-packages (from anyio<5,>=3.5.0->openai<2.0.0,>=1.104.2->langchain-openai) (3.10)\n",
            "Requirement already satisfied: certifi in /usr/local/lib/python3.12/dist-packages (from httpx<1,>=0.23.0->openai<2.0.0,>=1.104.2->langchain-openai) (2025.8.3)\n",
            "Requirement already satisfied: httpcore==1.* in /usr/local/lib/python3.12/dist-packages (from httpx<1,>=0.23.0->openai<2.0.0,>=1.104.2->langchain-openai) (1.0.9)\n",
            "Requirement already satisfied: h11>=0.16 in /usr/local/lib/python3.12/dist-packages (from httpcore==1.*->httpx<1,>=0.23.0->openai<2.0.0,>=1.104.2->langchain-openai) (0.16.0)\n",
            "Requirement already satisfied: jsonpointer>=1.9 in /usr/local/lib/python3.12/dist-packages (from jsonpatch<2.0,>=1.33->langchain-core<1.0.0,>=0.3.76->langchain-openai) (3.0.0)\n",
            "Requirement already satisfied: orjson>=3.9.14 in /usr/local/lib/python3.12/dist-packages (from langsmith>=0.3.45->langchain-core<1.0.0,>=0.3.76->langchain-openai) (3.11.3)\n",
            "Requirement already satisfied: requests-toolbelt>=1.0.0 in /usr/local/lib/python3.12/dist-packages (from langsmith>=0.3.45->langchain-core<1.0.0,>=0.3.76->langchain-openai) (1.0.0)\n",
            "Requirement already satisfied: zstandard>=0.23.0 in /usr/local/lib/python3.12/dist-packages (from langsmith>=0.3.45->langchain-core<1.0.0,>=0.3.76->langchain-openai) (0.25.0)\n",
            "Requirement already satisfied: annotated-types>=0.6.0 in /usr/local/lib/python3.12/dist-packages (from pydantic>=2.7.4->langchain-core<1.0.0,>=0.3.76->langchain-openai) (0.7.0)\n",
            "Requirement already satisfied: pydantic-core==2.33.2 in /usr/local/lib/python3.12/dist-packages (from pydantic>=2.7.4->langchain-core<1.0.0,>=0.3.76->langchain-openai) (2.33.2)\n",
            "Requirement already satisfied: typing-inspection>=0.4.0 in /usr/local/lib/python3.12/dist-packages (from pydantic>=2.7.4->langchain-core<1.0.0,>=0.3.76->langchain-openai) (0.4.1)\n",
            "Requirement already satisfied: charset_normalizer<4,>=2 in /usr/local/lib/python3.12/dist-packages (from requests>=2.26.0->tiktoken<1,>=0.7->langchain-openai) (3.4.3)\n",
            "Requirement already satisfied: urllib3<3,>=1.21.1 in /usr/local/lib/python3.12/dist-packages (from requests>=2.26.0->tiktoken<1,>=0.7->langchain-openai) (2.5.0)\n",
            "Requirement already satisfied: langchain-community in /usr/local/lib/python3.12/dist-packages (0.3.29)\n",
            "Requirement already satisfied: langchain-core<2.0.0,>=0.3.75 in /usr/local/lib/python3.12/dist-packages (from langchain-community) (0.3.76)\n",
            "Requirement already satisfied: langchain<2.0.0,>=0.3.27 in /usr/local/lib/python3.12/dist-packages (from langchain-community) (0.3.27)\n",
            "Requirement already satisfied: SQLAlchemy<3,>=1.4 in /usr/local/lib/python3.12/dist-packages (from langchain-community) (2.0.43)\n",
            "Requirement already satisfied: requests<3,>=2.32.5 in /usr/local/lib/python3.12/dist-packages (from langchain-community) (2.32.5)\n",
            "Requirement already satisfied: PyYAML>=5.3 in /usr/local/lib/python3.12/dist-packages (from langchain-community) (6.0.2)\n",
            "Requirement already satisfied: aiohttp<4.0.0,>=3.8.3 in /usr/local/lib/python3.12/dist-packages (from langchain-community) (3.12.15)\n",
            "Requirement already satisfied: tenacity!=8.4.0,<10,>=8.1.0 in /usr/local/lib/python3.12/dist-packages (from langchain-community) (8.5.0)\n",
            "Requirement already satisfied: dataclasses-json<0.7,>=0.6.7 in /usr/local/lib/python3.12/dist-packages (from langchain-community) (0.6.7)\n",
            "Requirement already satisfied: pydantic-settings<3.0.0,>=2.10.1 in /usr/local/lib/python3.12/dist-packages (from langchain-community) (2.10.1)\n",
            "Requirement already satisfied: langsmith>=0.1.125 in /usr/local/lib/python3.12/dist-packages (from langchain-community) (0.4.28)\n",
            "Requirement already satisfied: httpx-sse<1.0.0,>=0.4.0 in /usr/local/lib/python3.12/dist-packages (from langchain-community) (0.4.1)\n",
            "Requirement already satisfied: numpy>=1.26.2 in /usr/local/lib/python3.12/dist-packages (from langchain-community) (2.0.2)\n",
            "Requirement already satisfied: aiohappyeyeballs>=2.5.0 in /usr/local/lib/python3.12/dist-packages (from aiohttp<4.0.0,>=3.8.3->langchain-community) (2.6.1)\n",
            "Requirement already satisfied: aiosignal>=1.4.0 in /usr/local/lib/python3.12/dist-packages (from aiohttp<4.0.0,>=3.8.3->langchain-community) (1.4.0)\n",
            "Requirement already satisfied: attrs>=17.3.0 in /usr/local/lib/python3.12/dist-packages (from aiohttp<4.0.0,>=3.8.3->langchain-community) (25.3.0)\n",
            "Requirement already satisfied: frozenlist>=1.1.1 in /usr/local/lib/python3.12/dist-packages (from aiohttp<4.0.0,>=3.8.3->langchain-community) (1.7.0)\n",
            "Requirement already satisfied: multidict<7.0,>=4.5 in /usr/local/lib/python3.12/dist-packages (from aiohttp<4.0.0,>=3.8.3->langchain-community) (6.6.4)\n",
            "Requirement already satisfied: propcache>=0.2.0 in /usr/local/lib/python3.12/dist-packages (from aiohttp<4.0.0,>=3.8.3->langchain-community) (0.3.2)\n",
            "Requirement already satisfied: yarl<2.0,>=1.17.0 in /usr/local/lib/python3.12/dist-packages (from aiohttp<4.0.0,>=3.8.3->langchain-community) (1.20.1)\n",
            "Requirement already satisfied: marshmallow<4.0.0,>=3.18.0 in /usr/local/lib/python3.12/dist-packages (from dataclasses-json<0.7,>=0.6.7->langchain-community) (3.26.1)\n",
            "Requirement already satisfied: typing-inspect<1,>=0.4.0 in /usr/local/lib/python3.12/dist-packages (from dataclasses-json<0.7,>=0.6.7->langchain-community) (0.9.0)\n",
            "Requirement already satisfied: langchain-text-splitters<1.0.0,>=0.3.9 in /usr/local/lib/python3.12/dist-packages (from langchain<2.0.0,>=0.3.27->langchain-community) (0.3.11)\n",
            "Requirement already satisfied: pydantic<3.0.0,>=2.7.4 in /usr/local/lib/python3.12/dist-packages (from langchain<2.0.0,>=0.3.27->langchain-community) (2.11.9)\n",
            "Requirement already satisfied: jsonpatch<2.0,>=1.33 in /usr/local/lib/python3.12/dist-packages (from langchain-core<2.0.0,>=0.3.75->langchain-community) (1.33)\n",
            "Requirement already satisfied: typing-extensions>=4.7 in /usr/local/lib/python3.12/dist-packages (from langchain-core<2.0.0,>=0.3.75->langchain-community) (4.15.0)\n",
            "Requirement already satisfied: packaging>=23.2 in /usr/local/lib/python3.12/dist-packages (from langchain-core<2.0.0,>=0.3.75->langchain-community) (25.0)\n",
            "Requirement already satisfied: httpx<1,>=0.23.0 in /usr/local/lib/python3.12/dist-packages (from langsmith>=0.1.125->langchain-community) (0.28.1)\n",
            "Requirement already satisfied: orjson>=3.9.14 in /usr/local/lib/python3.12/dist-packages (from langsmith>=0.1.125->langchain-community) (3.11.3)\n",
            "Requirement already satisfied: requests-toolbelt>=1.0.0 in /usr/local/lib/python3.12/dist-packages (from langsmith>=0.1.125->langchain-community) (1.0.0)\n",
            "Requirement already satisfied: zstandard>=0.23.0 in /usr/local/lib/python3.12/dist-packages (from langsmith>=0.1.125->langchain-community) (0.25.0)\n",
            "Requirement already satisfied: python-dotenv>=0.21.0 in /usr/local/lib/python3.12/dist-packages (from pydantic-settings<3.0.0,>=2.10.1->langchain-community) (1.1.1)\n",
            "Requirement already satisfied: typing-inspection>=0.4.0 in /usr/local/lib/python3.12/dist-packages (from pydantic-settings<3.0.0,>=2.10.1->langchain-community) (0.4.1)\n",
            "Requirement already satisfied: charset_normalizer<4,>=2 in /usr/local/lib/python3.12/dist-packages (from requests<3,>=2.32.5->langchain-community) (3.4.3)\n",
            "Requirement already satisfied: idna<4,>=2.5 in /usr/local/lib/python3.12/dist-packages (from requests<3,>=2.32.5->langchain-community) (3.10)\n",
            "Requirement already satisfied: urllib3<3,>=1.21.1 in /usr/local/lib/python3.12/dist-packages (from requests<3,>=2.32.5->langchain-community) (2.5.0)\n",
            "Requirement already satisfied: certifi>=2017.4.17 in /usr/local/lib/python3.12/dist-packages (from requests<3,>=2.32.5->langchain-community) (2025.8.3)\n",
            "Requirement already satisfied: greenlet>=1 in /usr/local/lib/python3.12/dist-packages (from SQLAlchemy<3,>=1.4->langchain-community) (3.2.4)\n",
            "Requirement already satisfied: anyio in /usr/local/lib/python3.12/dist-packages (from httpx<1,>=0.23.0->langsmith>=0.1.125->langchain-community) (4.10.0)\n",
            "Requirement already satisfied: httpcore==1.* in /usr/local/lib/python3.12/dist-packages (from httpx<1,>=0.23.0->langsmith>=0.1.125->langchain-community) (1.0.9)\n",
            "Requirement already satisfied: h11>=0.16 in /usr/local/lib/python3.12/dist-packages (from httpcore==1.*->httpx<1,>=0.23.0->langsmith>=0.1.125->langchain-community) (0.16.0)\n",
            "Requirement already satisfied: jsonpointer>=1.9 in /usr/local/lib/python3.12/dist-packages (from jsonpatch<2.0,>=1.33->langchain-core<2.0.0,>=0.3.75->langchain-community) (3.0.0)\n",
            "Requirement already satisfied: annotated-types>=0.6.0 in /usr/local/lib/python3.12/dist-packages (from pydantic<3.0.0,>=2.7.4->langchain<2.0.0,>=0.3.27->langchain-community) (0.7.0)\n",
            "Requirement already satisfied: pydantic-core==2.33.2 in /usr/local/lib/python3.12/dist-packages (from pydantic<3.0.0,>=2.7.4->langchain<2.0.0,>=0.3.27->langchain-community) (2.33.2)\n",
            "Requirement already satisfied: mypy-extensions>=0.3.0 in /usr/local/lib/python3.12/dist-packages (from typing-inspect<1,>=0.4.0->dataclasses-json<0.7,>=0.6.7->langchain-community) (1.1.0)\n",
            "Requirement already satisfied: sniffio>=1.1 in /usr/local/lib/python3.12/dist-packages (from anyio->httpx<1,>=0.23.0->langsmith>=0.1.125->langchain-community) (1.3.1)\n",
            "Requirement already satisfied: langgraph-checkpoint-sqlite in /usr/local/lib/python3.12/dist-packages (2.0.11)\n",
            "Requirement already satisfied: aiosqlite>=0.20 in /usr/local/lib/python3.12/dist-packages (from langgraph-checkpoint-sqlite) (0.21.0)\n",
            "Requirement already satisfied: langgraph-checkpoint<3.0.0,>=2.0.21 in /usr/local/lib/python3.12/dist-packages (from langgraph-checkpoint-sqlite) (2.1.1)\n",
            "Requirement already satisfied: sqlite-vec>=0.1.6 in /usr/local/lib/python3.12/dist-packages (from langgraph-checkpoint-sqlite) (0.1.6)\n",
            "Requirement already satisfied: typing_extensions>=4.0 in /usr/local/lib/python3.12/dist-packages (from aiosqlite>=0.20->langgraph-checkpoint-sqlite) (4.15.0)\n",
            "Requirement already satisfied: langchain-core>=0.2.38 in /usr/local/lib/python3.12/dist-packages (from langgraph-checkpoint<3.0.0,>=2.0.21->langgraph-checkpoint-sqlite) (0.3.76)\n",
            "Requirement already satisfied: ormsgpack>=1.10.0 in /usr/local/lib/python3.12/dist-packages (from langgraph-checkpoint<3.0.0,>=2.0.21->langgraph-checkpoint-sqlite) (1.10.0)\n",
            "Requirement already satisfied: langsmith>=0.3.45 in /usr/local/lib/python3.12/dist-packages (from langchain-core>=0.2.38->langgraph-checkpoint<3.0.0,>=2.0.21->langgraph-checkpoint-sqlite) (0.4.28)\n",
            "Requirement already satisfied: tenacity!=8.4.0,<10.0.0,>=8.1.0 in /usr/local/lib/python3.12/dist-packages (from langchain-core>=0.2.38->langgraph-checkpoint<3.0.0,>=2.0.21->langgraph-checkpoint-sqlite) (8.5.0)\n",
            "Requirement already satisfied: jsonpatch<2.0,>=1.33 in /usr/local/lib/python3.12/dist-packages (from langchain-core>=0.2.38->langgraph-checkpoint<3.0.0,>=2.0.21->langgraph-checkpoint-sqlite) (1.33)\n",
            "Requirement already satisfied: PyYAML>=5.3 in /usr/local/lib/python3.12/dist-packages (from langchain-core>=0.2.38->langgraph-checkpoint<3.0.0,>=2.0.21->langgraph-checkpoint-sqlite) (6.0.2)\n",
            "Requirement already satisfied: packaging>=23.2 in /usr/local/lib/python3.12/dist-packages (from langchain-core>=0.2.38->langgraph-checkpoint<3.0.0,>=2.0.21->langgraph-checkpoint-sqlite) (25.0)\n",
            "Requirement already satisfied: pydantic>=2.7.4 in /usr/local/lib/python3.12/dist-packages (from langchain-core>=0.2.38->langgraph-checkpoint<3.0.0,>=2.0.21->langgraph-checkpoint-sqlite) (2.11.9)\n",
            "Requirement already satisfied: jsonpointer>=1.9 in /usr/local/lib/python3.12/dist-packages (from jsonpatch<2.0,>=1.33->langchain-core>=0.2.38->langgraph-checkpoint<3.0.0,>=2.0.21->langgraph-checkpoint-sqlite) (3.0.0)\n",
            "Requirement already satisfied: httpx<1,>=0.23.0 in /usr/local/lib/python3.12/dist-packages (from langsmith>=0.3.45->langchain-core>=0.2.38->langgraph-checkpoint<3.0.0,>=2.0.21->langgraph-checkpoint-sqlite) (0.28.1)\n",
            "Requirement already satisfied: orjson>=3.9.14 in /usr/local/lib/python3.12/dist-packages (from langsmith>=0.3.45->langchain-core>=0.2.38->langgraph-checkpoint<3.0.0,>=2.0.21->langgraph-checkpoint-sqlite) (3.11.3)\n",
            "Requirement already satisfied: requests-toolbelt>=1.0.0 in /usr/local/lib/python3.12/dist-packages (from langsmith>=0.3.45->langchain-core>=0.2.38->langgraph-checkpoint<3.0.0,>=2.0.21->langgraph-checkpoint-sqlite) (1.0.0)\n",
            "Requirement already satisfied: requests>=2.0.0 in /usr/local/lib/python3.12/dist-packages (from langsmith>=0.3.45->langchain-core>=0.2.38->langgraph-checkpoint<3.0.0,>=2.0.21->langgraph-checkpoint-sqlite) (2.32.5)\n",
            "Requirement already satisfied: zstandard>=0.23.0 in /usr/local/lib/python3.12/dist-packages (from langsmith>=0.3.45->langchain-core>=0.2.38->langgraph-checkpoint<3.0.0,>=2.0.21->langgraph-checkpoint-sqlite) (0.25.0)\n",
            "Requirement already satisfied: annotated-types>=0.6.0 in /usr/local/lib/python3.12/dist-packages (from pydantic>=2.7.4->langchain-core>=0.2.38->langgraph-checkpoint<3.0.0,>=2.0.21->langgraph-checkpoint-sqlite) (0.7.0)\n",
            "Requirement already satisfied: pydantic-core==2.33.2 in /usr/local/lib/python3.12/dist-packages (from pydantic>=2.7.4->langchain-core>=0.2.38->langgraph-checkpoint<3.0.0,>=2.0.21->langgraph-checkpoint-sqlite) (2.33.2)\n",
            "Requirement already satisfied: typing-inspection>=0.4.0 in /usr/local/lib/python3.12/dist-packages (from pydantic>=2.7.4->langchain-core>=0.2.38->langgraph-checkpoint<3.0.0,>=2.0.21->langgraph-checkpoint-sqlite) (0.4.1)\n",
            "Requirement already satisfied: anyio in /usr/local/lib/python3.12/dist-packages (from httpx<1,>=0.23.0->langsmith>=0.3.45->langchain-core>=0.2.38->langgraph-checkpoint<3.0.0,>=2.0.21->langgraph-checkpoint-sqlite) (4.10.0)\n",
            "Requirement already satisfied: certifi in /usr/local/lib/python3.12/dist-packages (from httpx<1,>=0.23.0->langsmith>=0.3.45->langchain-core>=0.2.38->langgraph-checkpoint<3.0.0,>=2.0.21->langgraph-checkpoint-sqlite) (2025.8.3)\n",
            "Requirement already satisfied: httpcore==1.* in /usr/local/lib/python3.12/dist-packages (from httpx<1,>=0.23.0->langsmith>=0.3.45->langchain-core>=0.2.38->langgraph-checkpoint<3.0.0,>=2.0.21->langgraph-checkpoint-sqlite) (1.0.9)\n",
            "Requirement already satisfied: idna in /usr/local/lib/python3.12/dist-packages (from httpx<1,>=0.23.0->langsmith>=0.3.45->langchain-core>=0.2.38->langgraph-checkpoint<3.0.0,>=2.0.21->langgraph-checkpoint-sqlite) (3.10)\n",
            "Requirement already satisfied: h11>=0.16 in /usr/local/lib/python3.12/dist-packages (from httpcore==1.*->httpx<1,>=0.23.0->langsmith>=0.3.45->langchain-core>=0.2.38->langgraph-checkpoint<3.0.0,>=2.0.21->langgraph-checkpoint-sqlite) (0.16.0)\n",
            "Requirement already satisfied: charset_normalizer<4,>=2 in /usr/local/lib/python3.12/dist-packages (from requests>=2.0.0->langsmith>=0.3.45->langchain-core>=0.2.38->langgraph-checkpoint<3.0.0,>=2.0.21->langgraph-checkpoint-sqlite) (3.4.3)\n",
            "Requirement already satisfied: urllib3<3,>=1.21.1 in /usr/local/lib/python3.12/dist-packages (from requests>=2.0.0->langsmith>=0.3.45->langchain-core>=0.2.38->langgraph-checkpoint<3.0.0,>=2.0.21->langgraph-checkpoint-sqlite) (2.5.0)\n",
            "Requirement already satisfied: sniffio>=1.1 in /usr/local/lib/python3.12/dist-packages (from anyio->httpx<1,>=0.23.0->langsmith>=0.3.45->langchain-core>=0.2.38->langgraph-checkpoint<3.0.0,>=2.0.21->langgraph-checkpoint-sqlite) (1.3.1)\n"
          ]
        }
      ]
    },
    {
      "cell_type": "code",
      "source": [
        "# 4. We set the AgentState\n",
        "# 5. We make one small modification\n",
        "# 6. In the pervious example we annotated the message list with operator.add\n",
        "# 7. This added messages to the existing messages array\n",
        "# 8. For human in the loop interaction, we may also have to replace existing\n",
        "# messages.\n",
        "# 9. In order to that we write a custom function\n",
        "# 10. We call it as: reduced_messages function\n",
        "# 11. This looks for messages with the say id. And if it sees that you have\n",
        "# a message with same id, it replaces that\n",
        "# 12. Otherwise, it just appends.\n",
        "\n",
        "\n",
        "from uuid import uuid4\n",
        "from langchain_core.messages import AnyMessage, SystemMessage, HumanMessage, AIMessage\n",
        "\n",
        "\"\"\"\n",
        "In previous examples we've annotated the `messages` state key\n",
        "with the default `operator.add` or `+` reducer, which always\n",
        "appends new messages to the end of the existing messages array.\n",
        "\n",
        "Now, to support replacing existing messages, we annotate the\n",
        "`messages` key with a customer reducer function, which replaces\n",
        "messages with the same `id`, and appends them otherwise.\n",
        "\"\"\"\n",
        "def reduce_messages(left: list[AnyMessage], right: list[AnyMessage]) -> list[AnyMessage]:\n",
        "    # assign ids to messages that don't have them\n",
        "    for message in right:\n",
        "        if not message.id:\n",
        "            message.id = str(uuid4())\n",
        "    # merge the new messages with the existing messages\n",
        "    merged = left.copy()\n",
        "    for message in right:\n",
        "        for i, existing in enumerate(merged):\n",
        "            # replace any existing messages with the same id\n",
        "            if existing.id == message.id:\n",
        "                merged[i] = message\n",
        "                break\n",
        "        else:\n",
        "            # append any new messages to the end\n",
        "            merged.append(message)\n",
        "    return merged\n",
        "\n",
        "class AgentState(TypedDict):\n",
        "    messages: Annotated[list[AnyMessage], reduce_messages]"
      ],
      "metadata": {
        "id": "pZPczzJ2p_cg"
      },
      "execution_count": null,
      "outputs": []
    },
    {
      "cell_type": "markdown",
      "source": [
        "**Creating the Tavily Tool**"
      ],
      "metadata": {
        "id": "e8cKbQiHuszu"
      }
    },
    {
      "cell_type": "code",
      "source": [
        "# 13. We now create a Tavily tool as before.\n",
        "tool = TavilySearchResults(max_results=2)"
      ],
      "metadata": {
        "id": "HWs0FTFIrwoX",
        "collapsed": true
      },
      "execution_count": null,
      "outputs": []
    },
    {
      "cell_type": "markdown",
      "source": [
        "**Human in the Loop. Human Approval before a Tool Call**"
      ],
      "metadata": {
        "id": "sNKEAq-0ux-v"
      }
    },
    {
      "cell_type": "code",
      "source": [
        "# 14. We craete the same Agent as before.\n",
        "# 15. We make one small modification.\n",
        "# 16. While compiling the graph, in addition to passing the\n",
        "# check pointer, we also pass interrupt_before the action parameter\n",
        "# 17. This adds an interrupt before the action node\n",
        "# 18. Action node is wheer we call the tool\n",
        "# 19. The reason we do is that we are adding a manual approval requirement\n",
        "# before we run any tools\n",
        "# 20. This is when you want to amke sure the tools are executed correctly\n",
        "# 21. That is with approval from Human\n",
        "# 22. As mentioned, this interrupt happens before action node before tools\n",
        "# are called.\n",
        "# 23. It is also possible to ahve the interrupt before a certain tool call only\n",
        "# 24. This is not covered here\n",
        "\n",
        "\n",
        "class Agent:\n",
        "    def __init__(self, model, tools, system=\"\", checkpointer=None):\n",
        "        self.system = system\n",
        "        graph = StateGraph(AgentState)\n",
        "        graph.add_node(\"llm\", self.call_openai)\n",
        "        graph.add_node(\"action\", self.take_action)\n",
        "        graph.add_conditional_edges(\"llm\", self.exists_action, {True: \"action\", False: END})\n",
        "        graph.add_edge(\"action\", \"llm\")\n",
        "        graph.set_entry_point(\"llm\")\n",
        "        self.graph = graph.compile(\n",
        "            checkpointer=checkpointer,\n",
        "            interrupt_before=[\"action\"]\n",
        "        )\n",
        "        self.tools = {t.name: t for t in tools}\n",
        "        self.model = model.bind_tools(tools)\n",
        "\n",
        "    def call_openai(self, state: AgentState):\n",
        "        messages = state['messages']\n",
        "        if self.system:\n",
        "            messages = [SystemMessage(content=self.system)] + messages\n",
        "        message = self.model.invoke(messages)\n",
        "        return {'messages': [message]}\n",
        "\n",
        "    def exists_action(self, state: AgentState):\n",
        "        print(state)\n",
        "        result = state['messages'][-1]\n",
        "        return len(result.tool_calls) > 0\n",
        "\n",
        "    def take_action(self, state: AgentState):\n",
        "        tool_calls = state['messages'][-1].tool_calls\n",
        "        results = []\n",
        "        for t in tool_calls:\n",
        "            print(f\"Calling: {t}\")\n",
        "            result = self.tools[t['name']].invoke(t['args'])\n",
        "            results.append(ToolMessage(tool_call_id=t['id'], name=t['name'], content=str(result)))\n",
        "        print(\"Back to the model!\")\n",
        "        return {'messages': results}\n"
      ],
      "metadata": {
        "id": "T4bMrCYJr_v9"
      },
      "execution_count": null,
      "outputs": []
    },
    {
      "cell_type": "code",
      "source": [
        "# 25. We next initialize the Agent with the same System Prompt and model\n",
        "# and checkpointer as before\n",
        "\n",
        "prompt = \"\"\"You are a smart research assistant. Use the search engine to look up information. \\\n",
        "You are allowed to make multiple calls (either together or in sequence). \\\n",
        "Only look up information when you are sure of what you want. \\\n",
        "If you need to look up some information before asking a follow up question, you are allowed to do that!\n",
        "\"\"\"\n",
        "model = ChatOpenAI(model=\"gpt-4.1\")\n",
        "abot = Agent(model, [tool], system=prompt, checkpointer=memory)\n"
      ],
      "metadata": {
        "id": "srSS9sWpu9XH"
      },
      "execution_count": null,
      "outputs": []
    },
    {
      "cell_type": "markdown",
      "source": [
        "**Streaming the Messages: Observe the Interrupt after AI Message**"
      ],
      "metadata": {
        "id": "WbOKiFMb4AV3"
      }
    },
    {
      "cell_type": "code",
      "source": [
        "# 26. We now call it and we pass in the thread config with theread id of 1\n",
        "# 27. This necessary for persistence as discussed before\n",
        "# 28. This is a separate notebook, it will start from fresh\n",
        "# 29. We stream the messages\n",
        "# 30. You can notice below that the response stops after the AI message\n",
        "# 31. This is because after AI message\n",
        "# 32. This is because the AI message is saying we should call a tool\n",
        "# 33. Snce we have interrupt_before parameter it stops before calling the tool\n",
        "\n",
        "ctx = SqliteSaver.from_conn_string(\":memory:\")\n",
        "memory = ctx.__enter__()  # manually enter context\n",
        "\n",
        "\n",
        "\n",
        "abot = Agent(model, [tool], system=prompt, checkpointer=memory)\n",
        "messages = [HumanMessage(content=\"Whats the weather in SF?\")]\n",
        "thread = {\"configurable\": {\"thread_id\": \"1\"}}\n",
        "\n",
        "for event in abot.graph.stream({\"messages\": messages}, thread):\n",
        "    for v in event.values():\n",
        "        print(v.content if hasattr(v, \"content\") else v)\n",
        "\n",
        "state = abot.graph.get_state(thread)\n",
        "print(\"Current state:\", state)\n",
        "print(\"Next node to execute:\", state.next)\n"
      ],
      "metadata": {
        "colab": {
          "base_uri": "https://localhost:8080/"
        },
        "id": "xUz_UUnzxamX",
        "outputId": "392c8f94-666e-466a-9198-f566fde426d1"
      },
      "execution_count": null,
      "outputs": [
        {
          "output_type": "stream",
          "name": "stdout",
          "text": [
            "{'messages': [HumanMessage(content='Whats the weather in SF?', additional_kwargs={}, response_metadata={}, id='ba9a849b-e77d-4c23-9e6f-1de2579f9392'), AIMessage(content='', additional_kwargs={'tool_calls': [{'id': 'call_onZL6NWCUDUSPG9X7lzTClzq', 'function': {'arguments': '{\"query\":\"current weather in San Francisco\"}', 'name': 'tavily_search_results_json'}, 'type': 'function'}], 'refusal': None}, response_metadata={'token_usage': {'completion_tokens': 22, 'prompt_tokens': 150, 'total_tokens': 172, 'completion_tokens_details': {'accepted_prediction_tokens': 0, 'audio_tokens': 0, 'reasoning_tokens': 0, 'rejected_prediction_tokens': 0}, 'prompt_tokens_details': {'audio_tokens': 0, 'cached_tokens': 0}}, 'model_name': 'gpt-4.1-2025-04-14', 'system_fingerprint': 'fp_3502f4eb73', 'id': 'chatcmpl-CIyFW4ITZzEyIjfUWY6CVToNUPkDi', 'service_tier': 'default', 'finish_reason': 'tool_calls', 'logprobs': None}, id='run--44ef32f0-a001-4b39-90cf-47fda7da6ef3-0', tool_calls=[{'name': 'tavily_search_results_json', 'args': {'query': 'current weather in San Francisco'}, 'id': 'call_onZL6NWCUDUSPG9X7lzTClzq', 'type': 'tool_call'}], usage_metadata={'input_tokens': 150, 'output_tokens': 22, 'total_tokens': 172, 'input_token_details': {'audio': 0, 'cache_read': 0}, 'output_token_details': {'audio': 0, 'reasoning': 0}})]}\n",
            "{'messages': [AIMessage(content='', additional_kwargs={'tool_calls': [{'id': 'call_onZL6NWCUDUSPG9X7lzTClzq', 'function': {'arguments': '{\"query\":\"current weather in San Francisco\"}', 'name': 'tavily_search_results_json'}, 'type': 'function'}], 'refusal': None}, response_metadata={'token_usage': {'completion_tokens': 22, 'prompt_tokens': 150, 'total_tokens': 172, 'completion_tokens_details': {'accepted_prediction_tokens': 0, 'audio_tokens': 0, 'reasoning_tokens': 0, 'rejected_prediction_tokens': 0}, 'prompt_tokens_details': {'audio_tokens': 0, 'cached_tokens': 0}}, 'model_name': 'gpt-4.1-2025-04-14', 'system_fingerprint': 'fp_3502f4eb73', 'id': 'chatcmpl-CIyFW4ITZzEyIjfUWY6CVToNUPkDi', 'service_tier': 'default', 'finish_reason': 'tool_calls', 'logprobs': None}, id='run--44ef32f0-a001-4b39-90cf-47fda7da6ef3-0', tool_calls=[{'name': 'tavily_search_results_json', 'args': {'query': 'current weather in San Francisco'}, 'id': 'call_onZL6NWCUDUSPG9X7lzTClzq', 'type': 'tool_call'}], usage_metadata={'input_tokens': 150, 'output_tokens': 22, 'total_tokens': 172, 'input_token_details': {'audio': 0, 'cache_read': 0}, 'output_token_details': {'audio': 0, 'reasoning': 0}})]}\n",
            "()\n",
            "Current state: StateSnapshot(values={'messages': [HumanMessage(content='Whats the weather in SF?', additional_kwargs={}, response_metadata={}, id='ba9a849b-e77d-4c23-9e6f-1de2579f9392'), AIMessage(content='', additional_kwargs={'tool_calls': [{'id': 'call_onZL6NWCUDUSPG9X7lzTClzq', 'function': {'arguments': '{\"query\":\"current weather in San Francisco\"}', 'name': 'tavily_search_results_json'}, 'type': 'function'}], 'refusal': None}, response_metadata={'token_usage': {'completion_tokens': 22, 'prompt_tokens': 150, 'total_tokens': 172, 'completion_tokens_details': {'accepted_prediction_tokens': 0, 'audio_tokens': 0, 'reasoning_tokens': 0, 'rejected_prediction_tokens': 0}, 'prompt_tokens_details': {'audio_tokens': 0, 'cached_tokens': 0}}, 'model_name': 'gpt-4.1-2025-04-14', 'system_fingerprint': 'fp_3502f4eb73', 'id': 'chatcmpl-CIyFW4ITZzEyIjfUWY6CVToNUPkDi', 'service_tier': 'default', 'finish_reason': 'tool_calls', 'logprobs': None}, id='run--44ef32f0-a001-4b39-90cf-47fda7da6ef3-0', tool_calls=[{'name': 'tavily_search_results_json', 'args': {'query': 'current weather in San Francisco'}, 'id': 'call_onZL6NWCUDUSPG9X7lzTClzq', 'type': 'tool_call'}], usage_metadata={'input_tokens': 150, 'output_tokens': 22, 'total_tokens': 172, 'input_token_details': {'audio': 0, 'cache_read': 0}, 'output_token_details': {'audio': 0, 'reasoning': 0}})]}, next=('action',), config={'configurable': {'thread_id': '1', 'checkpoint_ns': '', 'checkpoint_id': '1f098892-e14a-6a87-8001-3aca678fb740'}}, metadata={'source': 'loop', 'step': 1, 'parents': {}}, created_at='2025-09-23T14:25:39.953286+00:00', parent_config={'configurable': {'thread_id': '1', 'checkpoint_ns': '', 'checkpoint_id': '1f098892-d3da-6a08-8000-03c5ee8da6de'}}, tasks=(PregelTask(id='78d6348f-da0a-a54e-9fd5-ea2436762f05', name='action', path=('__pregel_pull', 'action'), error=None, interrupts=(), state=None, result=None),), interrupts=())\n",
            "Next node to execute: ('action',)\n"
          ]
        }
      ]
    },
    {
      "cell_type": "markdown",
      "source": [
        "**Observe the State of the Graph as well as se what's the next Parameter**"
      ],
      "metadata": {
        "id": "JcXlj6QO4Klp"
      }
    },
    {
      "cell_type": "code",
      "source": [
        "# 34. Observe the State of the Graph\n",
        "#abot.graph.get_state(thread)\n",
        "# 35. Move to the top cell"
      ],
      "metadata": {
        "id": "J2-ScLy54VfC"
      },
      "execution_count": null,
      "outputs": []
    },
    {
      "cell_type": "code",
      "source": [
        "# 36. Find out what's the next node to be executed\n",
        "# abot.graph.get_state(thread).next\n",
        "# 37. Moved to the top cell\n",
        "# 38. We see that next node to eb executed is the action node"
      ],
      "metadata": {
        "id": "_5b6ZDXI4bmx"
      },
      "execution_count": null,
      "outputs": []
    },
    {
      "cell_type": "markdown",
      "source": [
        "**Continuing After Interrupt: In order to continue**\n"
      ],
      "metadata": {
        "id": "c2CJb7vW-wCJ"
      }
    },
    {
      "cell_type": "code",
      "source": [
        "# 39 We continue by giving None as below\n",
        "# 40 In LangGraph, the stream() method signature typically looks like:\n",
        "# 41 stream(input: Optional[Any], thread: Thread)\n",
        "# input: The initial input to the graph (e.g. a user message, tool result, etc.)\n",
        "\n",
        "# thread: The execution context, which holds the current state and history\n",
        "\n",
        "# So when you write:\n",
        "# for event in abot.graph.stream(None, thread):\n",
        "\n",
        "# You're saying:\n",
        "\n",
        "# “Resume the graph from the current thread state, without injecting any new input.”\n",
        "\n",
        "# 42. Doing that we see we get tool message by calling the tool\n",
        "# 43. We also get the final AI message\n",
        "\n",
        "for event in abot.graph.stream(None, thread):\n",
        "    for v in event.values():\n",
        "        print(v)"
      ],
      "metadata": {
        "colab": {
          "base_uri": "https://localhost:8080/"
        },
        "id": "TMLa-mdu-N2d",
        "outputId": "f76d41ee-2f63-4b58-fefa-1138a6e0ce22"
      },
      "execution_count": null,
      "outputs": [
        {
          "output_type": "stream",
          "name": "stdout",
          "text": [
            "Calling: {'name': 'tavily_search_results_json', 'args': {'query': 'current weather in San Francisco'}, 'id': 'call_onZL6NWCUDUSPG9X7lzTClzq', 'type': 'tool_call'}\n",
            "Back to the model!\n",
            "{'messages': [ToolMessage(content=\"[{'title': 'San Francisco weather in September 2025 | Weather25.com', 'url': 'https://www.weather25.com/north-america/usa/california/san-francisco?page=month&month=September', 'content': 'weather25.com\\\\nSearch\\\\nweather in United States\\\\nRemove from your favorite locations\\\\nAdd to my locations\\\\nShare\\\\nweather in United States\\\\n\\\\n# San Francisco weather in September 2025\\\\n\\\\nPartly cloudy\\\\nMist\\\\nFog\\\\nClear\\\\nPartly cloudy\\\\nClear\\\\nPartly cloudy\\\\nClear\\\\nLight drizzle\\\\nClear\\\\nClear\\\\nClear\\\\nClear\\\\nClear\\\\n\\\\n## The average weather in San Francisco in September\\\\n\\\\nThe temperatures in San Francisco in September are comfortable with low of 14°C and and high up to 25°C. [...] | 14 Sunny 21° /14° | 15 Partly cloudy 20° /13° | 16 Partly cloudy 19° /14° | 17 Partly cloudy 19° /13° | 18 Mist 18° /13° | 19 Mist 18° /14° | 20 Sunny 21° /14° |\\\\n| 21 Sunny 21° /15° | 22 Partly cloudy 20° /14° | 23 Partly cloudy 34° /15° | 24 Mist 21° /15° | 25 Fog 15° /14° | 26 Sunny 21° /15° | 27 Partly cloudy 20° /15° |\\\\n| 28 Sunny 20° /16° | 29 Partly cloudy 20° /15° | 30 Sunny 21° /16° |  |  |  |  | [...] There is little to no rain in San Francisco during September, so it’s a lot easier to explore the city. Just remember to dress in warm layers, as it can still get pretty chilly.\\\\n\\\\nOur weather forecast can give you a great sense of what weather to expect in San Francisco in September 2025.\\\\n\\\\nIf you’re planning to visit San Francisco in the near future, we highly recommend that you review the 14 day weather forecast for San Francisco before you arrive.', 'score': 0.8978479}, {'title': 'San Francisco, CA Monthly Weather - AccuWeather', 'url': 'https://www.accuweather.com/en/us/san-francisco/94103/september-weather/347629', 'content': '# San Francisco, CA\\\\n\\\\nSan Francisco\\\\n\\\\nCalifornia\\\\n\\\\n## Around the Globe\\\\n\\\\nAround the Globe\\\\n\\\\n### Hurricane Tracker\\\\n\\\\n### Severe Weather\\\\n\\\\n### Radar & Maps\\\\n\\\\n### News & Features\\\\n\\\\n### Astronomy\\\\n\\\\n### Business\\\\n\\\\n### Climate\\\\n\\\\n### Health\\\\n\\\\n### Recreation\\\\n\\\\n### Sports\\\\n\\\\n### Travel\\\\n\\\\n### Warnings\\\\n\\\\n### Data Suite\\\\n\\\\n### Forensics\\\\n\\\\n### Advertising\\\\n\\\\n### Superior Accuracy™\\\\n\\\\n### Video\\\\n\\\\n### Winter Center\\\\n\\\\n## Monthly\\\\n\\\\n## September\\\\n\\\\n## 2025\\\\n\\\\n## Daily\\\\n\\\\n## Temperature Graph\\\\n\\\\n## Further Ahead\\\\n\\\\nFurther Ahead\\\\n\\\\n### October 2025 [...] ### November 2025\\\\n\\\\n### December 2025\\\\n\\\\n## Around the Globe\\\\n\\\\nAround the Globe\\\\n\\\\n### Hurricane Tracker\\\\n\\\\n### Severe Weather\\\\n\\\\n### Radar & Maps\\\\n\\\\n### News\\\\n\\\\n### Video\\\\n\\\\n### Winter Center\\\\n\\\\nTop Stories\\\\n\\\\nHurricane\\\\n\\\\nMajor Hurricane Gabrielle brushes Bermuda; U.S. tropical threats loom\\\\n\\\\n4 hours ago\\\\n\\\\nWeather News\\\\n\\\\nWhy are leaves changing color so early in the Northeast?\\\\n\\\\n1 day ago\\\\n\\\\nHurricane\\\\n\\\\nHong Kong, southern China brace for powerful Typhoon Ragasa\\\\n\\\\n48 minutes ago\\\\n\\\\nSevere Weather [...] NASA selects new astronauts as it chases plans for the moon and Mars\\\\n\\\\n19 hours ago\\\\n\\\\nWeather News\\\\n\\\\nWhy do leaves change color in the fall?\\\\n\\\\n21 hours ago\\\\n\\\\n## Weather Near San Francisco:\\\\n\\\\n...\\\\n\\\\n...\\\\n\\\\n...', 'score': 0.5232017}]\", name='tavily_search_results_json', id='78db146a-2a33-4415-824d-9f11e6218110', tool_call_id='call_onZL6NWCUDUSPG9X7lzTClzq')]}\n",
            "{'messages': [HumanMessage(content='Whats the weather in SF?', additional_kwargs={}, response_metadata={}, id='ba9a849b-e77d-4c23-9e6f-1de2579f9392'), AIMessage(content='', additional_kwargs={'tool_calls': [{'id': 'call_onZL6NWCUDUSPG9X7lzTClzq', 'function': {'arguments': '{\"query\":\"current weather in San Francisco\"}', 'name': 'tavily_search_results_json'}, 'type': 'function'}], 'refusal': None}, response_metadata={'token_usage': {'completion_tokens': 22, 'prompt_tokens': 150, 'total_tokens': 172, 'completion_tokens_details': {'accepted_prediction_tokens': 0, 'audio_tokens': 0, 'reasoning_tokens': 0, 'rejected_prediction_tokens': 0}, 'prompt_tokens_details': {'audio_tokens': 0, 'cached_tokens': 0}}, 'model_name': 'gpt-4.1-2025-04-14', 'system_fingerprint': 'fp_3502f4eb73', 'id': 'chatcmpl-CIyFW4ITZzEyIjfUWY6CVToNUPkDi', 'service_tier': 'default', 'finish_reason': 'tool_calls', 'logprobs': None}, id='run--44ef32f0-a001-4b39-90cf-47fda7da6ef3-0', tool_calls=[{'name': 'tavily_search_results_json', 'args': {'query': 'current weather in San Francisco'}, 'id': 'call_onZL6NWCUDUSPG9X7lzTClzq', 'type': 'tool_call'}], usage_metadata={'input_tokens': 150, 'output_tokens': 22, 'total_tokens': 172, 'input_token_details': {'audio': 0, 'cache_read': 0}, 'output_token_details': {'audio': 0, 'reasoning': 0}}), ToolMessage(content=\"[{'title': 'San Francisco weather in September 2025 | Weather25.com', 'url': 'https://www.weather25.com/north-america/usa/california/san-francisco?page=month&month=September', 'content': 'weather25.com\\\\nSearch\\\\nweather in United States\\\\nRemove from your favorite locations\\\\nAdd to my locations\\\\nShare\\\\nweather in United States\\\\n\\\\n# San Francisco weather in September 2025\\\\n\\\\nPartly cloudy\\\\nMist\\\\nFog\\\\nClear\\\\nPartly cloudy\\\\nClear\\\\nPartly cloudy\\\\nClear\\\\nLight drizzle\\\\nClear\\\\nClear\\\\nClear\\\\nClear\\\\nClear\\\\n\\\\n## The average weather in San Francisco in September\\\\n\\\\nThe temperatures in San Francisco in September are comfortable with low of 14°C and and high up to 25°C. [...] | 14 Sunny 21° /14° | 15 Partly cloudy 20° /13° | 16 Partly cloudy 19° /14° | 17 Partly cloudy 19° /13° | 18 Mist 18° /13° | 19 Mist 18° /14° | 20 Sunny 21° /14° |\\\\n| 21 Sunny 21° /15° | 22 Partly cloudy 20° /14° | 23 Partly cloudy 34° /15° | 24 Mist 21° /15° | 25 Fog 15° /14° | 26 Sunny 21° /15° | 27 Partly cloudy 20° /15° |\\\\n| 28 Sunny 20° /16° | 29 Partly cloudy 20° /15° | 30 Sunny 21° /16° |  |  |  |  | [...] There is little to no rain in San Francisco during September, so it’s a lot easier to explore the city. Just remember to dress in warm layers, as it can still get pretty chilly.\\\\n\\\\nOur weather forecast can give you a great sense of what weather to expect in San Francisco in September 2025.\\\\n\\\\nIf you’re planning to visit San Francisco in the near future, we highly recommend that you review the 14 day weather forecast for San Francisco before you arrive.', 'score': 0.8978479}, {'title': 'San Francisco, CA Monthly Weather - AccuWeather', 'url': 'https://www.accuweather.com/en/us/san-francisco/94103/september-weather/347629', 'content': '# San Francisco, CA\\\\n\\\\nSan Francisco\\\\n\\\\nCalifornia\\\\n\\\\n## Around the Globe\\\\n\\\\nAround the Globe\\\\n\\\\n### Hurricane Tracker\\\\n\\\\n### Severe Weather\\\\n\\\\n### Radar & Maps\\\\n\\\\n### News & Features\\\\n\\\\n### Astronomy\\\\n\\\\n### Business\\\\n\\\\n### Climate\\\\n\\\\n### Health\\\\n\\\\n### Recreation\\\\n\\\\n### Sports\\\\n\\\\n### Travel\\\\n\\\\n### Warnings\\\\n\\\\n### Data Suite\\\\n\\\\n### Forensics\\\\n\\\\n### Advertising\\\\n\\\\n### Superior Accuracy™\\\\n\\\\n### Video\\\\n\\\\n### Winter Center\\\\n\\\\n## Monthly\\\\n\\\\n## September\\\\n\\\\n## 2025\\\\n\\\\n## Daily\\\\n\\\\n## Temperature Graph\\\\n\\\\n## Further Ahead\\\\n\\\\nFurther Ahead\\\\n\\\\n### October 2025 [...] ### November 2025\\\\n\\\\n### December 2025\\\\n\\\\n## Around the Globe\\\\n\\\\nAround the Globe\\\\n\\\\n### Hurricane Tracker\\\\n\\\\n### Severe Weather\\\\n\\\\n### Radar & Maps\\\\n\\\\n### News\\\\n\\\\n### Video\\\\n\\\\n### Winter Center\\\\n\\\\nTop Stories\\\\n\\\\nHurricane\\\\n\\\\nMajor Hurricane Gabrielle brushes Bermuda; U.S. tropical threats loom\\\\n\\\\n4 hours ago\\\\n\\\\nWeather News\\\\n\\\\nWhy are leaves changing color so early in the Northeast?\\\\n\\\\n1 day ago\\\\n\\\\nHurricane\\\\n\\\\nHong Kong, southern China brace for powerful Typhoon Ragasa\\\\n\\\\n48 minutes ago\\\\n\\\\nSevere Weather [...] NASA selects new astronauts as it chases plans for the moon and Mars\\\\n\\\\n19 hours ago\\\\n\\\\nWeather News\\\\n\\\\nWhy do leaves change color in the fall?\\\\n\\\\n21 hours ago\\\\n\\\\n## Weather Near San Francisco:\\\\n\\\\n...\\\\n\\\\n...\\\\n\\\\n...', 'score': 0.5232017}]\", name='tavily_search_results_json', id='78db146a-2a33-4415-824d-9f11e6218110', tool_call_id='call_onZL6NWCUDUSPG9X7lzTClzq'), AIMessage(content='Right now, it is partly cloudy in San Francisco, with comfortable temperatures typically ranging from 14°C (57°F) to 21°C (70°F) today. There is little to no rain, but conditions can change quickly, so dressing in warm layers is a good idea. For a more up-to-date, hour-by-hour forecast, checking a weather app before you go out is recommended.', additional_kwargs={'refusal': None}, response_metadata={'token_usage': {'completion_tokens': 81, 'prompt_tokens': 1047, 'total_tokens': 1128, 'completion_tokens_details': {'accepted_prediction_tokens': 0, 'audio_tokens': 0, 'reasoning_tokens': 0, 'rejected_prediction_tokens': 0}, 'prompt_tokens_details': {'audio_tokens': 0, 'cached_tokens': 0}}, 'model_name': 'gpt-4.1-2025-04-14', 'system_fingerprint': 'fp_3502f4eb73', 'id': 'chatcmpl-CIyFcbyg7fKGGWhJZfKXQvJN34PHh', 'service_tier': 'default', 'finish_reason': 'stop', 'logprobs': None}, id='run--4ddc477f-8ef6-430f-ad65-8337108b3e41-0', usage_metadata={'input_tokens': 1047, 'output_tokens': 81, 'total_tokens': 1128, 'input_token_details': {'audio': 0, 'cache_read': 0}, 'output_token_details': {'audio': 0, 'reasoning': 0}})]}\n",
            "{'messages': [AIMessage(content='Right now, it is partly cloudy in San Francisco, with comfortable temperatures typically ranging from 14°C (57°F) to 21°C (70°F) today. There is little to no rain, but conditions can change quickly, so dressing in warm layers is a good idea. For a more up-to-date, hour-by-hour forecast, checking a weather app before you go out is recommended.', additional_kwargs={'refusal': None}, response_metadata={'token_usage': {'completion_tokens': 81, 'prompt_tokens': 1047, 'total_tokens': 1128, 'completion_tokens_details': {'accepted_prediction_tokens': 0, 'audio_tokens': 0, 'reasoning_tokens': 0, 'rejected_prediction_tokens': 0}, 'prompt_tokens_details': {'audio_tokens': 0, 'cached_tokens': 0}}, 'model_name': 'gpt-4.1-2025-04-14', 'system_fingerprint': 'fp_3502f4eb73', 'id': 'chatcmpl-CIyFcbyg7fKGGWhJZfKXQvJN34PHh', 'service_tier': 'default', 'finish_reason': 'stop', 'logprobs': None}, id='run--4ddc477f-8ef6-430f-ad65-8337108b3e41-0', usage_metadata={'input_tokens': 1047, 'output_tokens': 81, 'total_tokens': 1128, 'input_token_details': {'audio': 0, 'cache_read': 0}, 'output_token_details': {'audio': 0, 'reasoning': 0}})]}\n"
          ]
        }
      ]
    },
    {
      "cell_type": "code",
      "source": [
        "# 44. If we now get the state, we see mssages list contains full list of messages\n",
        "# 45 NExt parameter is empty\n",
        "state = abot.graph.get_state(thread)\n",
        "print(\"Current state:\", state)\n",
        "print(\"Next node to execute:\", state.next)"
      ],
      "metadata": {
        "colab": {
          "base_uri": "https://localhost:8080/"
        },
        "id": "cAl6Axv5KI-M",
        "outputId": "2c44611f-55d8-4145-b583-197765914634"
      },
      "execution_count": null,
      "outputs": [
        {
          "output_type": "stream",
          "name": "stdout",
          "text": [
            "Current state: StateSnapshot(values={'messages': [HumanMessage(content='Whats the weather in SF?', additional_kwargs={}, response_metadata={}, id='ba9a849b-e77d-4c23-9e6f-1de2579f9392'), AIMessage(content='', additional_kwargs={'tool_calls': [{'id': 'call_onZL6NWCUDUSPG9X7lzTClzq', 'function': {'arguments': '{\"query\":\"current weather in San Francisco\"}', 'name': 'tavily_search_results_json'}, 'type': 'function'}], 'refusal': None}, response_metadata={'token_usage': {'completion_tokens': 22, 'prompt_tokens': 150, 'total_tokens': 172, 'completion_tokens_details': {'accepted_prediction_tokens': 0, 'audio_tokens': 0, 'reasoning_tokens': 0, 'rejected_prediction_tokens': 0}, 'prompt_tokens_details': {'audio_tokens': 0, 'cached_tokens': 0}}, 'model_name': 'gpt-4.1-2025-04-14', 'system_fingerprint': 'fp_3502f4eb73', 'id': 'chatcmpl-CIyFW4ITZzEyIjfUWY6CVToNUPkDi', 'service_tier': 'default', 'finish_reason': 'tool_calls', 'logprobs': None}, id='run--44ef32f0-a001-4b39-90cf-47fda7da6ef3-0', tool_calls=[{'name': 'tavily_search_results_json', 'args': {'query': 'current weather in San Francisco'}, 'id': 'call_onZL6NWCUDUSPG9X7lzTClzq', 'type': 'tool_call'}], usage_metadata={'input_tokens': 150, 'output_tokens': 22, 'total_tokens': 172, 'input_token_details': {'audio': 0, 'cache_read': 0}, 'output_token_details': {'audio': 0, 'reasoning': 0}}), ToolMessage(content=\"[{'title': 'San Francisco weather in September 2025 | Weather25.com', 'url': 'https://www.weather25.com/north-america/usa/california/san-francisco?page=month&month=September', 'content': 'weather25.com\\\\nSearch\\\\nweather in United States\\\\nRemove from your favorite locations\\\\nAdd to my locations\\\\nShare\\\\nweather in United States\\\\n\\\\n# San Francisco weather in September 2025\\\\n\\\\nPartly cloudy\\\\nMist\\\\nFog\\\\nClear\\\\nPartly cloudy\\\\nClear\\\\nPartly cloudy\\\\nClear\\\\nLight drizzle\\\\nClear\\\\nClear\\\\nClear\\\\nClear\\\\nClear\\\\n\\\\n## The average weather in San Francisco in September\\\\n\\\\nThe temperatures in San Francisco in September are comfortable with low of 14°C and and high up to 25°C. [...] | 14 Sunny 21° /14° | 15 Partly cloudy 20° /13° | 16 Partly cloudy 19° /14° | 17 Partly cloudy 19° /13° | 18 Mist 18° /13° | 19 Mist 18° /14° | 20 Sunny 21° /14° |\\\\n| 21 Sunny 21° /15° | 22 Partly cloudy 20° /14° | 23 Partly cloudy 34° /15° | 24 Mist 21° /15° | 25 Fog 15° /14° | 26 Sunny 21° /15° | 27 Partly cloudy 20° /15° |\\\\n| 28 Sunny 20° /16° | 29 Partly cloudy 20° /15° | 30 Sunny 21° /16° |  |  |  |  | [...] There is little to no rain in San Francisco during September, so it’s a lot easier to explore the city. Just remember to dress in warm layers, as it can still get pretty chilly.\\\\n\\\\nOur weather forecast can give you a great sense of what weather to expect in San Francisco in September 2025.\\\\n\\\\nIf you’re planning to visit San Francisco in the near future, we highly recommend that you review the 14 day weather forecast for San Francisco before you arrive.', 'score': 0.8978479}, {'title': 'San Francisco, CA Monthly Weather - AccuWeather', 'url': 'https://www.accuweather.com/en/us/san-francisco/94103/september-weather/347629', 'content': '# San Francisco, CA\\\\n\\\\nSan Francisco\\\\n\\\\nCalifornia\\\\n\\\\n## Around the Globe\\\\n\\\\nAround the Globe\\\\n\\\\n### Hurricane Tracker\\\\n\\\\n### Severe Weather\\\\n\\\\n### Radar & Maps\\\\n\\\\n### News & Features\\\\n\\\\n### Astronomy\\\\n\\\\n### Business\\\\n\\\\n### Climate\\\\n\\\\n### Health\\\\n\\\\n### Recreation\\\\n\\\\n### Sports\\\\n\\\\n### Travel\\\\n\\\\n### Warnings\\\\n\\\\n### Data Suite\\\\n\\\\n### Forensics\\\\n\\\\n### Advertising\\\\n\\\\n### Superior Accuracy™\\\\n\\\\n### Video\\\\n\\\\n### Winter Center\\\\n\\\\n## Monthly\\\\n\\\\n## September\\\\n\\\\n## 2025\\\\n\\\\n## Daily\\\\n\\\\n## Temperature Graph\\\\n\\\\n## Further Ahead\\\\n\\\\nFurther Ahead\\\\n\\\\n### October 2025 [...] ### November 2025\\\\n\\\\n### December 2025\\\\n\\\\n## Around the Globe\\\\n\\\\nAround the Globe\\\\n\\\\n### Hurricane Tracker\\\\n\\\\n### Severe Weather\\\\n\\\\n### Radar & Maps\\\\n\\\\n### News\\\\n\\\\n### Video\\\\n\\\\n### Winter Center\\\\n\\\\nTop Stories\\\\n\\\\nHurricane\\\\n\\\\nMajor Hurricane Gabrielle brushes Bermuda; U.S. tropical threats loom\\\\n\\\\n4 hours ago\\\\n\\\\nWeather News\\\\n\\\\nWhy are leaves changing color so early in the Northeast?\\\\n\\\\n1 day ago\\\\n\\\\nHurricane\\\\n\\\\nHong Kong, southern China brace for powerful Typhoon Ragasa\\\\n\\\\n48 minutes ago\\\\n\\\\nSevere Weather [...] NASA selects new astronauts as it chases plans for the moon and Mars\\\\n\\\\n19 hours ago\\\\n\\\\nWeather News\\\\n\\\\nWhy do leaves change color in the fall?\\\\n\\\\n21 hours ago\\\\n\\\\n## Weather Near San Francisco:\\\\n\\\\n...\\\\n\\\\n...\\\\n\\\\n...', 'score': 0.5232017}]\", name='tavily_search_results_json', id='78db146a-2a33-4415-824d-9f11e6218110', tool_call_id='call_onZL6NWCUDUSPG9X7lzTClzq'), AIMessage(content='Right now, it is partly cloudy in San Francisco, with comfortable temperatures typically ranging from 14°C (57°F) to 21°C (70°F) today. There is little to no rain, but conditions can change quickly, so dressing in warm layers is a good idea. For a more up-to-date, hour-by-hour forecast, checking a weather app before you go out is recommended.', additional_kwargs={'refusal': None}, response_metadata={'token_usage': {'completion_tokens': 81, 'prompt_tokens': 1047, 'total_tokens': 1128, 'completion_tokens_details': {'accepted_prediction_tokens': 0, 'audio_tokens': 0, 'reasoning_tokens': 0, 'rejected_prediction_tokens': 0}, 'prompt_tokens_details': {'audio_tokens': 0, 'cached_tokens': 0}}, 'model_name': 'gpt-4.1-2025-04-14', 'system_fingerprint': 'fp_3502f4eb73', 'id': 'chatcmpl-CIyFcbyg7fKGGWhJZfKXQvJN34PHh', 'service_tier': 'default', 'finish_reason': 'stop', 'logprobs': None}, id='run--4ddc477f-8ef6-430f-ad65-8337108b3e41-0', usage_metadata={'input_tokens': 1047, 'output_tokens': 81, 'total_tokens': 1128, 'input_token_details': {'audio': 0, 'cache_read': 0}, 'output_token_details': {'audio': 0, 'reasoning': 0}})]}, next=(), config={'configurable': {'thread_id': '1', 'checkpoint_ns': '', 'checkpoint_id': '1f098893-22d8-6d72-8003-31f9bc51f823'}}, metadata={'source': 'loop', 'step': 3, 'parents': {}}, created_at='2025-09-23T14:25:46.827266+00:00', parent_config={'configurable': {'thread_id': '1', 'checkpoint_ns': '', 'checkpoint_id': '1f098893-0e86-6ab2-8002-3b5f2a82693d'}}, tasks=(), interrupts=())\n",
            "Next node to execute: ()\n"
          ]
        }
      ]
    },
    {
      "cell_type": "code",
      "source": [
        "# 46. We can write some code that runs this in a loop\n",
        "# 47. And prompts us to continue or not\n",
        "# 48. We pass in a new thread id so that we start afresh\n",
        "messages = [HumanMessage(\"Whats the weather in LA?\")]\n",
        "thread = {\"configurable\": {\"thread_id\": \"2\"}}\n",
        "for event in abot.graph.stream({\"messages\": messages}, thread):\n",
        "    for v in event.values():\n",
        "        print(v)\n",
        "while abot.graph.get_state(thread).next:\n",
        "    print(\"\\n\", abot.graph.get_state(thread),\"\\n\")\n",
        "    _input = input(\"proceed?\")\n",
        "    if _input != \"y\":\n",
        "        print(\"aborting\")\n",
        "        break\n",
        "    for event in abot.graph.stream(None, thread):\n",
        "        for v in event.values():\n",
        "            print(v)"
      ],
      "metadata": {
        "colab": {
          "base_uri": "https://localhost:8080/"
        },
        "id": "xPzUjnbYKXdu",
        "outputId": "f3796cd5-f3c8-4ba5-a3b7-f717f8f829fb"
      },
      "execution_count": null,
      "outputs": [
        {
          "output_type": "stream",
          "name": "stdout",
          "text": [
            "{'messages': [HumanMessage(content='Whats the weather in LA?', additional_kwargs={}, response_metadata={}, id='3f413af4-d58d-4dae-833a-6b7ed3e98b25'), AIMessage(content='', additional_kwargs={'tool_calls': [{'id': 'call_0Gjuh4LD1TYXK751CIsegJCE', 'function': {'arguments': '{\"query\":\"current weather in Los Angeles\"}', 'name': 'tavily_search_results_json'}, 'type': 'function'}], 'refusal': None}, response_metadata={'token_usage': {'completion_tokens': 22, 'prompt_tokens': 150, 'total_tokens': 172, 'completion_tokens_details': {'accepted_prediction_tokens': 0, 'audio_tokens': 0, 'reasoning_tokens': 0, 'rejected_prediction_tokens': 0}, 'prompt_tokens_details': {'audio_tokens': 0, 'cached_tokens': 0}}, 'model_name': 'gpt-4.1-2025-04-14', 'system_fingerprint': 'fp_3502f4eb73', 'id': 'chatcmpl-CIyFmjEIMp68XTvks20XosW1RhJzd', 'service_tier': 'default', 'finish_reason': 'tool_calls', 'logprobs': None}, id='run--28fb6d11-69b8-47db-8167-e7ee2e1ca0af-0', tool_calls=[{'name': 'tavily_search_results_json', 'args': {'query': 'current weather in Los Angeles'}, 'id': 'call_0Gjuh4LD1TYXK751CIsegJCE', 'type': 'tool_call'}], usage_metadata={'input_tokens': 150, 'output_tokens': 22, 'total_tokens': 172, 'input_token_details': {'audio': 0, 'cache_read': 0}, 'output_token_details': {'audio': 0, 'reasoning': 0}})]}\n",
            "{'messages': [AIMessage(content='', additional_kwargs={'tool_calls': [{'id': 'call_0Gjuh4LD1TYXK751CIsegJCE', 'function': {'arguments': '{\"query\":\"current weather in Los Angeles\"}', 'name': 'tavily_search_results_json'}, 'type': 'function'}], 'refusal': None}, response_metadata={'token_usage': {'completion_tokens': 22, 'prompt_tokens': 150, 'total_tokens': 172, 'completion_tokens_details': {'accepted_prediction_tokens': 0, 'audio_tokens': 0, 'reasoning_tokens': 0, 'rejected_prediction_tokens': 0}, 'prompt_tokens_details': {'audio_tokens': 0, 'cached_tokens': 0}}, 'model_name': 'gpt-4.1-2025-04-14', 'system_fingerprint': 'fp_3502f4eb73', 'id': 'chatcmpl-CIyFmjEIMp68XTvks20XosW1RhJzd', 'service_tier': 'default', 'finish_reason': 'tool_calls', 'logprobs': None}, id='run--28fb6d11-69b8-47db-8167-e7ee2e1ca0af-0', tool_calls=[{'name': 'tavily_search_results_json', 'args': {'query': 'current weather in Los Angeles'}, 'id': 'call_0Gjuh4LD1TYXK751CIsegJCE', 'type': 'tool_call'}], usage_metadata={'input_tokens': 150, 'output_tokens': 22, 'total_tokens': 172, 'input_token_details': {'audio': 0, 'cache_read': 0}, 'output_token_details': {'audio': 0, 'reasoning': 0}})]}\n",
            "()\n",
            "\n",
            " StateSnapshot(values={'messages': [HumanMessage(content='Whats the weather in LA?', additional_kwargs={}, response_metadata={}, id='3f413af4-d58d-4dae-833a-6b7ed3e98b25'), AIMessage(content='', additional_kwargs={'tool_calls': [{'id': 'call_0Gjuh4LD1TYXK751CIsegJCE', 'function': {'arguments': '{\"query\":\"current weather in Los Angeles\"}', 'name': 'tavily_search_results_json'}, 'type': 'function'}], 'refusal': None}, response_metadata={'token_usage': {'completion_tokens': 22, 'prompt_tokens': 150, 'total_tokens': 172, 'completion_tokens_details': {'accepted_prediction_tokens': 0, 'audio_tokens': 0, 'reasoning_tokens': 0, 'rejected_prediction_tokens': 0}, 'prompt_tokens_details': {'audio_tokens': 0, 'cached_tokens': 0}}, 'model_name': 'gpt-4.1-2025-04-14', 'system_fingerprint': 'fp_3502f4eb73', 'id': 'chatcmpl-CIyFmjEIMp68XTvks20XosW1RhJzd', 'service_tier': 'default', 'finish_reason': 'tool_calls', 'logprobs': None}, id='run--28fb6d11-69b8-47db-8167-e7ee2e1ca0af-0', tool_calls=[{'name': 'tavily_search_results_json', 'args': {'query': 'current weather in Los Angeles'}, 'id': 'call_0Gjuh4LD1TYXK751CIsegJCE', 'type': 'tool_call'}], usage_metadata={'input_tokens': 150, 'output_tokens': 22, 'total_tokens': 172, 'input_token_details': {'audio': 0, 'cache_read': 0}, 'output_token_details': {'audio': 0, 'reasoning': 0}})]}, next=('action',), config={'configurable': {'thread_id': '2', 'checkpoint_ns': '', 'checkpoint_id': '1f098893-766b-6d64-8001-af64f09b264e'}}, metadata={'source': 'loop', 'step': 1, 'parents': {}}, created_at='2025-09-23T14:25:55.590659+00:00', parent_config={'configurable': {'thread_id': '2', 'checkpoint_ns': '', 'checkpoint_id': '1f098893-6b81-699a-8000-55d26bbcb9bd'}}, tasks=(PregelTask(id='a3a2b738-314a-36fe-7d64-e8b285d2f936', name='action', path=('__pregel_pull', 'action'), error=None, interrupts=(), state=None, result=None),), interrupts=()) \n",
            "\n",
            "proceed?y\n",
            "Calling: {'name': 'tavily_search_results_json', 'args': {'query': 'current weather in Los Angeles'}, 'id': 'call_0Gjuh4LD1TYXK751CIsegJCE', 'type': 'tool_call'}\n",
            "Back to the model!\n",
            "{'messages': [ToolMessage(content=\"[{'title': 'Los Angeles weather in September 2025 | Weather25.com', 'url': 'https://www.weather25.com/north-america/usa/california/los-angeles?page=month&month=September', 'content': 'weather25.com\\\\nSearch\\\\nweather in United States\\\\nRemove from your favorite locations\\\\nAdd to my locations\\\\nShare\\\\nweather in United States\\\\n\\\\n# Los Angeles weather in September 2025\\\\n\\\\nClear\\\\nPartly cloudy\\\\nCloudy\\\\nPatchy rain possible\\\\nClear\\\\nClear\\\\nClear\\\\nSunny\\\\nPatchy rain possible\\\\nClear\\\\nClear\\\\nPatchy rain possible\\\\nPartly cloudy\\\\nPartly cloudy\\\\n\\\\n## The average weather in Los Angeles in September\\\\n\\\\nThe weather in Los Angeles in September is hot. The average temperatures are between 21°C and 31°C. [...] | 14 Sunny 29° /20° | 15 Partly cloudy 29° /20° | 16 Sunny 28° /20° | 17 Sunny 26° /19° | 18 Partly cloudy 27° /20° | 19 Partly cloudy 25° /19° | 20 Sunny 27° /19° |\\\\n| 21 Sunny 27° /19° | 22 Overcast 28° /19° | 23 Sunny 35° /18° | 24 Partly cloudy 28° /22° | 25 Cloudy 28° /19° | 26 Patchy rain possible 25° /20° | 27 Sunny 26° /19° |\\\\n| 28 Sunny 27° /19° | 29 Sunny 31° /22° | 30 Sunny 32° /23° |  |  |  |  | [...] | Sun | Mon | Tue | Wed | Thu | Fri | Sat |\\\\n ---  ---  --- \\\\n|  | 1 Sunny 29° /21° | 2 Sunny 30° /22° | 3 Sunny 31° /23° | 4 Sunny 32° /22° | 5 Sunny 34° /24° | 6 Sunny 33° /24° |\\\\n| 7 Sunny 33° /23° | 8 Sunny 32° /24° | 9 Partly cloudy 32° /25° | 10 Partly cloudy 29° /22° | 11 Partly cloudy 28° /21° | 12 Sunny 29° /21° | 13 Sunny 28° /21° |', 'score': 0.8886914}, {'title': 'Los Angeles, CA Weather History', 'url': 'https://wu-next-prod-us-east-1-aws.wunderground.com/history/daily/us/ca/los-angeles/KCALOSAN958/date/2025-9-22', 'content': 'The Weather Company Logo\\\\nThe Weather Channel Logo\\\\nWeather Underground Logo\\\\nStorm Radar Logo\\\\n\\\\n© The Weather Company, LLC 2025 [...] # Los Angeles, CA Weather Historystar\\\\\\\\_ratehome\\\\n\\\\nicon\\\\n\\\\nThank you for reporting this station. We will review the data in question.\\\\n\\\\nYou are about to report this weather station for bad data. Please select the information that is incorrect.\\\\n\\\\nSee more\\\\n\\\\n(Reset Map)\\\\n\\\\nNo PWS\\\\n\\\\nReset Map, or Add PWS.\\\\n\\\\nAccess Logo\\\\n\\\\nWe recognize our responsibility to use data and technology for good. We may use or share your data with our data vendors. Take control of your data.', 'score': 0.30461073}]\", name='tavily_search_results_json', id='0d9a3bc9-9ee7-43fc-be96-595f818412d1', tool_call_id='call_0Gjuh4LD1TYXK751CIsegJCE')]}\n",
            "{'messages': [HumanMessage(content='Whats the weather in LA?', additional_kwargs={}, response_metadata={}, id='3f413af4-d58d-4dae-833a-6b7ed3e98b25'), AIMessage(content='', additional_kwargs={'tool_calls': [{'id': 'call_0Gjuh4LD1TYXK751CIsegJCE', 'function': {'arguments': '{\"query\":\"current weather in Los Angeles\"}', 'name': 'tavily_search_results_json'}, 'type': 'function'}], 'refusal': None}, response_metadata={'token_usage': {'completion_tokens': 22, 'prompt_tokens': 150, 'total_tokens': 172, 'completion_tokens_details': {'accepted_prediction_tokens': 0, 'audio_tokens': 0, 'reasoning_tokens': 0, 'rejected_prediction_tokens': 0}, 'prompt_tokens_details': {'audio_tokens': 0, 'cached_tokens': 0}}, 'model_name': 'gpt-4.1-2025-04-14', 'system_fingerprint': 'fp_3502f4eb73', 'id': 'chatcmpl-CIyFmjEIMp68XTvks20XosW1RhJzd', 'service_tier': 'default', 'finish_reason': 'tool_calls', 'logprobs': None}, id='run--28fb6d11-69b8-47db-8167-e7ee2e1ca0af-0', tool_calls=[{'name': 'tavily_search_results_json', 'args': {'query': 'current weather in Los Angeles'}, 'id': 'call_0Gjuh4LD1TYXK751CIsegJCE', 'type': 'tool_call'}], usage_metadata={'input_tokens': 150, 'output_tokens': 22, 'total_tokens': 172, 'input_token_details': {'audio': 0, 'cache_read': 0}, 'output_token_details': {'audio': 0, 'reasoning': 0}}), ToolMessage(content=\"[{'title': 'Los Angeles weather in September 2025 | Weather25.com', 'url': 'https://www.weather25.com/north-america/usa/california/los-angeles?page=month&month=September', 'content': 'weather25.com\\\\nSearch\\\\nweather in United States\\\\nRemove from your favorite locations\\\\nAdd to my locations\\\\nShare\\\\nweather in United States\\\\n\\\\n# Los Angeles weather in September 2025\\\\n\\\\nClear\\\\nPartly cloudy\\\\nCloudy\\\\nPatchy rain possible\\\\nClear\\\\nClear\\\\nClear\\\\nSunny\\\\nPatchy rain possible\\\\nClear\\\\nClear\\\\nPatchy rain possible\\\\nPartly cloudy\\\\nPartly cloudy\\\\n\\\\n## The average weather in Los Angeles in September\\\\n\\\\nThe weather in Los Angeles in September is hot. The average temperatures are between 21°C and 31°C. [...] | 14 Sunny 29° /20° | 15 Partly cloudy 29° /20° | 16 Sunny 28° /20° | 17 Sunny 26° /19° | 18 Partly cloudy 27° /20° | 19 Partly cloudy 25° /19° | 20 Sunny 27° /19° |\\\\n| 21 Sunny 27° /19° | 22 Overcast 28° /19° | 23 Sunny 35° /18° | 24 Partly cloudy 28° /22° | 25 Cloudy 28° /19° | 26 Patchy rain possible 25° /20° | 27 Sunny 26° /19° |\\\\n| 28 Sunny 27° /19° | 29 Sunny 31° /22° | 30 Sunny 32° /23° |  |  |  |  | [...] | Sun | Mon | Tue | Wed | Thu | Fri | Sat |\\\\n ---  ---  --- \\\\n|  | 1 Sunny 29° /21° | 2 Sunny 30° /22° | 3 Sunny 31° /23° | 4 Sunny 32° /22° | 5 Sunny 34° /24° | 6 Sunny 33° /24° |\\\\n| 7 Sunny 33° /23° | 8 Sunny 32° /24° | 9 Partly cloudy 32° /25° | 10 Partly cloudy 29° /22° | 11 Partly cloudy 28° /21° | 12 Sunny 29° /21° | 13 Sunny 28° /21° |', 'score': 0.8886914}, {'title': 'Los Angeles, CA Weather History', 'url': 'https://wu-next-prod-us-east-1-aws.wunderground.com/history/daily/us/ca/los-angeles/KCALOSAN958/date/2025-9-22', 'content': 'The Weather Company Logo\\\\nThe Weather Channel Logo\\\\nWeather Underground Logo\\\\nStorm Radar Logo\\\\n\\\\n© The Weather Company, LLC 2025 [...] # Los Angeles, CA Weather Historystar\\\\\\\\_ratehome\\\\n\\\\nicon\\\\n\\\\nThank you for reporting this station. We will review the data in question.\\\\n\\\\nYou are about to report this weather station for bad data. Please select the information that is incorrect.\\\\n\\\\nSee more\\\\n\\\\n(Reset Map)\\\\n\\\\nNo PWS\\\\n\\\\nReset Map, or Add PWS.\\\\n\\\\nAccess Logo\\\\n\\\\nWe recognize our responsibility to use data and technology for good. We may use or share your data with our data vendors. Take control of your data.', 'score': 0.30461073}]\", name='tavily_search_results_json', id='0d9a3bc9-9ee7-43fc-be96-595f818412d1', tool_call_id='call_0Gjuh4LD1TYXK751CIsegJCE'), AIMessage(content=\"The current weather in Los Angeles is mostly sunny, with temperatures ranging from about 27°C to 32°C (around 80°F to 90°F). It's warm and pleasant—typical for LA!\", additional_kwargs={'refusal': None}, response_metadata={'token_usage': {'completion_tokens': 43, 'prompt_tokens': 942, 'total_tokens': 985, 'completion_tokens_details': {'accepted_prediction_tokens': 0, 'audio_tokens': 0, 'reasoning_tokens': 0, 'rejected_prediction_tokens': 0}, 'prompt_tokens_details': {'audio_tokens': 0, 'cached_tokens': 0}}, 'model_name': 'gpt-4.1-2025-04-14', 'system_fingerprint': 'fp_3502f4eb73', 'id': 'chatcmpl-CIyG0Ww8tUKQDNEeKXc7Tv2c2XK21', 'service_tier': 'default', 'finish_reason': 'stop', 'logprobs': None}, id='run--2efcf53b-f1b4-4524-956c-483ed66f63dc-0', usage_metadata={'input_tokens': 942, 'output_tokens': 43, 'total_tokens': 985, 'input_token_details': {'audio': 0, 'cache_read': 0}, 'output_token_details': {'audio': 0, 'reasoning': 0}})]}\n",
            "{'messages': [AIMessage(content=\"The current weather in Los Angeles is mostly sunny, with temperatures ranging from about 27°C to 32°C (around 80°F to 90°F). It's warm and pleasant—typical for LA!\", additional_kwargs={'refusal': None}, response_metadata={'token_usage': {'completion_tokens': 43, 'prompt_tokens': 942, 'total_tokens': 985, 'completion_tokens_details': {'accepted_prediction_tokens': 0, 'audio_tokens': 0, 'reasoning_tokens': 0, 'rejected_prediction_tokens': 0}, 'prompt_tokens_details': {'audio_tokens': 0, 'cached_tokens': 0}}, 'model_name': 'gpt-4.1-2025-04-14', 'system_fingerprint': 'fp_3502f4eb73', 'id': 'chatcmpl-CIyG0Ww8tUKQDNEeKXc7Tv2c2XK21', 'service_tier': 'default', 'finish_reason': 'stop', 'logprobs': None}, id='run--2efcf53b-f1b4-4524-956c-483ed66f63dc-0', usage_metadata={'input_tokens': 942, 'output_tokens': 43, 'total_tokens': 985, 'input_token_details': {'audio': 0, 'cache_read': 0}, 'output_token_details': {'audio': 0, 'reasoning': 0}})]}\n"
          ]
        }
      ]
    },
    {
      "cell_type": "markdown",
      "source": [
        "**Modifying a State**"
      ],
      "metadata": {
        "id": "k_mTMbhyBZB8"
      }
    },
    {
      "cell_type": "markdown",
      "source": [
        "1. Before we get to the next section, one should undersstand about State Memory in LangGraph\n",
        "\n",
        "2. As the Graph is executing, a snapshot of each state is stored in memory\n",
        "\n",
        "3. If you use get_state witha  thraed id as an argument, you egt the current state"
      ],
      "metadata": {
        "id": "dUM-8f4FMiP_"
      }
    },
    {
      "cell_type": "code",
      "source": [
        "# 44. LEts take an example of modifying a state\n",
        "# 45. Lets take a new thread\n",
        "# 46. LEt's ask an example: What's the weather in LA?\n",
        "\n",
        "messages = [HumanMessage(\"Whats the weather in LA?\")]\n",
        "thread = {\"configurable\": {\"thread_id\": \"3\"}}\n",
        "for event in abot.graph.stream({\"messages\": messages}, thread):\n",
        "    for v in event.values():\n",
        "        print(v)\n"
      ],
      "metadata": {
        "id": "IKxJMsPeAw-x",
        "colab": {
          "base_uri": "https://localhost:8080/"
        },
        "outputId": "d736b3f6-24d7-4505-8421-254d7399d98b"
      },
      "execution_count": null,
      "outputs": [
        {
          "output_type": "stream",
          "name": "stdout",
          "text": [
            "{'messages': [HumanMessage(content='Whats the weather in LA?', additional_kwargs={}, response_metadata={}, id='ff81c88b-5454-4bfb-a501-01cba74651b7'), AIMessage(content='', additional_kwargs={'tool_calls': [{'id': 'call_YKr1mPm9DPVsScbNuWNbtXgd', 'function': {'arguments': '{\"query\":\"current weather in Los Angeles\"}', 'name': 'tavily_search_results_json'}, 'type': 'function'}], 'refusal': None}, response_metadata={'token_usage': {'completion_tokens': 22, 'prompt_tokens': 150, 'total_tokens': 172, 'completion_tokens_details': {'accepted_prediction_tokens': 0, 'audio_tokens': 0, 'reasoning_tokens': 0, 'rejected_prediction_tokens': 0}, 'prompt_tokens_details': {'audio_tokens': 0, 'cached_tokens': 0}}, 'model_name': 'gpt-4.1-2025-04-14', 'system_fingerprint': 'fp_3502f4eb73', 'id': 'chatcmpl-CIyG4rBYnLKsVMrLW2Uxf3LYvtA2D', 'service_tier': 'default', 'finish_reason': 'tool_calls', 'logprobs': None}, id='run--e3f72fd6-366d-484b-9813-569168745ea6-0', tool_calls=[{'name': 'tavily_search_results_json', 'args': {'query': 'current weather in Los Angeles'}, 'id': 'call_YKr1mPm9DPVsScbNuWNbtXgd', 'type': 'tool_call'}], usage_metadata={'input_tokens': 150, 'output_tokens': 22, 'total_tokens': 172, 'input_token_details': {'audio': 0, 'cache_read': 0}, 'output_token_details': {'audio': 0, 'reasoning': 0}})]}\n",
            "{'messages': [AIMessage(content='', additional_kwargs={'tool_calls': [{'id': 'call_YKr1mPm9DPVsScbNuWNbtXgd', 'function': {'arguments': '{\"query\":\"current weather in Los Angeles\"}', 'name': 'tavily_search_results_json'}, 'type': 'function'}], 'refusal': None}, response_metadata={'token_usage': {'completion_tokens': 22, 'prompt_tokens': 150, 'total_tokens': 172, 'completion_tokens_details': {'accepted_prediction_tokens': 0, 'audio_tokens': 0, 'reasoning_tokens': 0, 'rejected_prediction_tokens': 0}, 'prompt_tokens_details': {'audio_tokens': 0, 'cached_tokens': 0}}, 'model_name': 'gpt-4.1-2025-04-14', 'system_fingerprint': 'fp_3502f4eb73', 'id': 'chatcmpl-CIyG4rBYnLKsVMrLW2Uxf3LYvtA2D', 'service_tier': 'default', 'finish_reason': 'tool_calls', 'logprobs': None}, id='run--e3f72fd6-366d-484b-9813-569168745ea6-0', tool_calls=[{'name': 'tavily_search_results_json', 'args': {'query': 'current weather in Los Angeles'}, 'id': 'call_YKr1mPm9DPVsScbNuWNbtXgd', 'type': 'tool_call'}], usage_metadata={'input_tokens': 150, 'output_tokens': 22, 'total_tokens': 172, 'input_token_details': {'audio': 0, 'cache_read': 0}, 'output_token_details': {'audio': 0, 'reasoning': 0}})]}\n",
            "()\n"
          ]
        }
      ]
    },
    {
      "cell_type": "code",
      "source": [
        "# 77. LEts say now you want to change the state\n",
        "# 78. We want to modify the Agent Action\n",
        "# 79. LEts save the current state of the Graph\n",
        "\n",
        "current_values = abot.graph.get_state(thread)"
      ],
      "metadata": {
        "id": "66FykPA7DHj3"
      },
      "execution_count": null,
      "outputs": []
    },
    {
      "cell_type": "code",
      "source": [
        "# 80. Let's see the last message in the state\n",
        "# 81. It is the AI message\n",
        "current_values.values['messages'][-1]\n"
      ],
      "metadata": {
        "colab": {
          "base_uri": "https://localhost:8080/"
        },
        "id": "e7FrKsENLVwr",
        "outputId": "422f4ca2-f8b2-4a37-970d-5d7613a4973e"
      },
      "execution_count": null,
      "outputs": [
        {
          "output_type": "execute_result",
          "data": {
            "text/plain": [
              "AIMessage(content='', additional_kwargs={'tool_calls': [{'id': 'call_YKr1mPm9DPVsScbNuWNbtXgd', 'function': {'arguments': '{\"query\":\"current weather in Los Angeles\"}', 'name': 'tavily_search_results_json'}, 'type': 'function'}], 'refusal': None}, response_metadata={'token_usage': {'completion_tokens': 22, 'prompt_tokens': 150, 'total_tokens': 172, 'completion_tokens_details': {'accepted_prediction_tokens': 0, 'audio_tokens': 0, 'reasoning_tokens': 0, 'rejected_prediction_tokens': 0}, 'prompt_tokens_details': {'audio_tokens': 0, 'cached_tokens': 0}}, 'model_name': 'gpt-4.1-2025-04-14', 'system_fingerprint': 'fp_3502f4eb73', 'id': 'chatcmpl-CIyG4rBYnLKsVMrLW2Uxf3LYvtA2D', 'service_tier': 'default', 'finish_reason': 'tool_calls', 'logprobs': None}, id='run--e3f72fd6-366d-484b-9813-569168745ea6-0', tool_calls=[{'name': 'tavily_search_results_json', 'args': {'query': 'current weather in Los Angeles'}, 'id': 'call_YKr1mPm9DPVsScbNuWNbtXgd', 'type': 'tool_call'}], usage_metadata={'input_tokens': 150, 'output_tokens': 22, 'total_tokens': 172, 'input_token_details': {'audio': 0, 'cache_read': 0}, 'output_token_details': {'audio': 0, 'reasoning': 0}})"
            ]
          },
          "metadata": {},
          "execution_count": 43
        }
      ]
    },
    {
      "cell_type": "code",
      "source": [
        "# 82. Lets see the list of tool calls associated with the message\n",
        "current_values.values['messages'][-1].tool_calls\n"
      ],
      "metadata": {
        "colab": {
          "base_uri": "https://localhost:8080/"
        },
        "id": "ZFdwS4YXL34K",
        "outputId": "0ce80ba7-1f28-4887-f8c0-254cffa7e7f4"
      },
      "execution_count": null,
      "outputs": [
        {
          "output_type": "execute_result",
          "data": {
            "text/plain": [
              "[{'name': 'tavily_search_results_json',\n",
              "  'args': {'query': 'current weather in Los Angeles'},\n",
              "  'id': 'call_YKr1mPm9DPVsScbNuWNbtXgd',\n",
              "  'type': 'tool_call'}]"
            ]
          },
          "metadata": {},
          "execution_count": 44
        }
      ]
    },
    {
      "cell_type": "code",
      "source": [
        "# 83. We update the tool call with thes evalues\n",
        "\n",
        "_id = current_values.values['messages'][-1].tool_calls[0]['id']\n",
        "current_values.values['messages'][-1].tool_calls = [\n",
        "    {'name': 'tavily_search_results_json',\n",
        "  'args': {'query': 'current weather in Louisiana'},\n",
        "  'id': _id}\n",
        "]"
      ],
      "metadata": {
        "id": "S72cFPVCMMBR"
      },
      "execution_count": null,
      "outputs": []
    },
    {
      "cell_type": "code",
      "source": [
        "# 84. Update with new values calling update state\n",
        "\n",
        "abot.graph.update_state(thread, current_values.values)"
      ],
      "metadata": {
        "colab": {
          "base_uri": "https://localhost:8080/"
        },
        "id": "U-SbNLgjMs5G",
        "outputId": "70a69903-ec8d-44fa-90de-eae918a24318"
      },
      "execution_count": null,
      "outputs": [
        {
          "output_type": "stream",
          "name": "stdout",
          "text": [
            "{'messages': [HumanMessage(content='Whats the weather in LA?', additional_kwargs={}, response_metadata={}, id='ff81c88b-5454-4bfb-a501-01cba74651b7'), AIMessage(content='', additional_kwargs={'tool_calls': [{'id': 'call_YKr1mPm9DPVsScbNuWNbtXgd', 'function': {'arguments': '{\"query\":\"current weather in Los Angeles\"}', 'name': 'tavily_search_results_json'}, 'type': 'function'}], 'refusal': None}, response_metadata={'token_usage': {'completion_tokens': 22, 'prompt_tokens': 150, 'total_tokens': 172, 'completion_tokens_details': {'accepted_prediction_tokens': 0, 'audio_tokens': 0, 'reasoning_tokens': 0, 'rejected_prediction_tokens': 0}, 'prompt_tokens_details': {'audio_tokens': 0, 'cached_tokens': 0}}, 'model_name': 'gpt-4.1-2025-04-14', 'system_fingerprint': 'fp_3502f4eb73', 'id': 'chatcmpl-CIyG4rBYnLKsVMrLW2Uxf3LYvtA2D', 'service_tier': 'default', 'finish_reason': 'tool_calls', 'logprobs': None}, id='run--e3f72fd6-366d-484b-9813-569168745ea6-0', tool_calls=[{'name': 'tavily_search_results_json', 'args': {'query': 'current weather in Louisiana'}, 'id': 'call_YKr1mPm9DPVsScbNuWNbtXgd'}], usage_metadata={'input_tokens': 150, 'output_tokens': 22, 'total_tokens': 172, 'input_token_details': {'audio': 0, 'cache_read': 0}, 'output_token_details': {'audio': 0, 'reasoning': 0}})]}\n"
          ]
        },
        {
          "output_type": "execute_result",
          "data": {
            "text/plain": [
              "{'configurable': {'thread_id': '3',\n",
              "  'checkpoint_ns': '',\n",
              "  'checkpoint_id': '1f098894-e587-65ea-8002-cfaf6d540b0b'}}"
            ]
          },
          "metadata": {},
          "execution_count": 46
        }
      ]
    },
    {
      "cell_type": "code",
      "source": [
        "# 85. If we get the current state of the Graph, we can see the state term\n",
        "# 86. It's current_weather in Lousiana\n",
        "\n",
        "abot.graph.get_state(thread)"
      ],
      "metadata": {
        "id": "ZliRtUAkM8HX",
        "outputId": "da620239-99c6-497d-e658-4b2da24a991a",
        "colab": {
          "base_uri": "https://localhost:8080/"
        }
      },
      "execution_count": null,
      "outputs": [
        {
          "output_type": "execute_result",
          "data": {
            "text/plain": [
              "StateSnapshot(values={'messages': [HumanMessage(content='Whats the weather in LA?', additional_kwargs={}, response_metadata={}, id='ff81c88b-5454-4bfb-a501-01cba74651b7'), AIMessage(content='', additional_kwargs={'tool_calls': [{'id': 'call_YKr1mPm9DPVsScbNuWNbtXgd', 'function': {'arguments': '{\"query\":\"current weather in Los Angeles\"}', 'name': 'tavily_search_results_json'}, 'type': 'function'}], 'refusal': None}, response_metadata={'token_usage': {'completion_tokens': 22, 'prompt_tokens': 150, 'total_tokens': 172, 'completion_tokens_details': {'accepted_prediction_tokens': 0, 'audio_tokens': 0, 'reasoning_tokens': 0, 'rejected_prediction_tokens': 0}, 'prompt_tokens_details': {'audio_tokens': 0, 'cached_tokens': 0}}, 'model_name': 'gpt-4.1-2025-04-14', 'system_fingerprint': 'fp_3502f4eb73', 'id': 'chatcmpl-CIyG4rBYnLKsVMrLW2Uxf3LYvtA2D', 'service_tier': 'default', 'finish_reason': 'tool_calls', 'logprobs': None}, id='run--e3f72fd6-366d-484b-9813-569168745ea6-0', tool_calls=[{'name': 'tavily_search_results_json', 'args': {'query': 'current weather in Louisiana'}, 'id': 'call_YKr1mPm9DPVsScbNuWNbtXgd', 'type': 'tool_call'}], usage_metadata={'input_tokens': 150, 'output_tokens': 22, 'total_tokens': 172, 'input_token_details': {'audio': 0, 'cache_read': 0}, 'output_token_details': {'audio': 0, 'reasoning': 0}})]}, next=('action',), config={'configurable': {'thread_id': '3', 'checkpoint_ns': '', 'checkpoint_id': '1f098894-e587-65ea-8002-cfaf6d540b0b'}}, metadata={'source': 'update', 'step': 2, 'parents': {}}, created_at='2025-09-23T14:26:34.084681+00:00', parent_config={'configurable': {'thread_id': '3', 'checkpoint_ns': '', 'checkpoint_id': '1f098894-1f2e-638e-8001-573a36c706d4'}}, tasks=(PregelTask(id='1e491f58-ed62-f7aa-41e7-651e78a4ecdb', name='action', path=('__pregel_pull', 'action'), error=None, interrupts=(), state=None, result=None),), interrupts=())"
            ]
          },
          "metadata": {},
          "execution_count": 47
        }
      ]
    },
    {
      "cell_type": "code",
      "source": [
        "# 87. We can get the current weather in Lousiana and get the results\n",
        "for event in abot.graph.stream(None, thread):\n",
        "    for v in event.values():\n",
        "        print(v)"
      ],
      "metadata": {
        "id": "-wk-uagiM86e",
        "outputId": "133d2992-fb3f-4135-bb8f-f018791bb027",
        "colab": {
          "base_uri": "https://localhost:8080/"
        }
      },
      "execution_count": null,
      "outputs": [
        {
          "output_type": "stream",
          "name": "stdout",
          "text": [
            "Calling: {'name': 'tavily_search_results_json', 'args': {'query': 'current weather in Louisiana'}, 'id': 'call_YKr1mPm9DPVsScbNuWNbtXgd', 'type': 'tool_call'}\n",
            "Back to the model!\n",
            "{'messages': [ToolMessage(content=\"[{'title': 'Louisiana weather in September 2025 | Weather25.com', 'url': 'https://www.weather25.com/north-america/usa/louisiana?page=month&month=September', 'content': 'weather25.com\\\\nSearch\\\\nweather in United States\\\\nRemove from your favorite locations\\\\nAdd to my locations\\\\nShare\\\\nweather in United States\\\\n\\\\n# Louisiana weather in September 2025\\\\n\\\\nClear\\\\nOvercast\\\\nOvercast\\\\nPartly cloudy\\\\nClear\\\\nClear\\\\nClear\\\\nClear\\\\nModerate rain at times\\\\nLight rain\\\\nPatchy rain possible\\\\nPatchy rain possible\\\\nPartly cloudy\\\\nPatchy rain possible\\\\n\\\\n## The average weather in Louisiana in September [...] | 14 Patchy rain possible 31° /24° | 15 Light rain shower 30° /24° | 16 Patchy rain possible 31° /24° | 17 Partly cloudy 31° /24° | 18 Thundery outbreaks possible 30° /22° | 19 Light rain shower 31° /23° | 20 Light rain shower 31° /23° |\\\\n| 21 Patchy rain possible 31° /23° | 22 Sunny 31° /23° | 23 Sunny 36° /23° | 24 Overcast 33° /25° | 25 Overcast 31° /26° | 26 Partly cloudy 30° /22° | 27 Sunny 31° /24° |\\\\n| 28 Sunny 31° /22° | 29 Sunny 31° /23° | 30 Sunny 31° /22° |  |  |  |  | [...] The weather in Louisiana in September is very hot. The average temperatures are between 24°C and 31°C, drinking water regularly is advisable.\\\\n\\\\nYou can expect rain for roughly half of the month of September in Louisiana. We’re expecting roughly 8 to 15 days of rain, so your rubber boots and umbrella are going to see plenty of use this month if you’re keen on staying dry.\\\\n\\\\nOur weather forecast can give you a great sense of what weather to expect in Louisiana in September 2025.', 'score': 0.87782305}, {'title': 'September 2025 - Central, LA Monthly Weather | AccuWeather', 'url': 'https://www.accuweather.com/en/us/central/70818/september-weather/2205135?year=2025', 'content': 'Central and eastern US to see much-needed rain, but also severe storms\\\\n\\\\n4 hours ago\\\\n\\\\nWeather Forecasts\\\\n\\\\nNew storm eyes West with locally heavy rain, isolated flash flooding\\\\n\\\\n5 hours ago\\\\n\\\\nFeatured Stories\\\\n\\\\nHurricane\\\\n\\\\nHurricane Rita forced one of largest US evacuations in wake of Katrina\\\\n\\\\n1 hour ago\\\\n\\\\nWeather News\\\\n\\\\nWhy meteorological, astronomical fall start on different dates\\\\n\\\\n22 hours ago\\\\n\\\\nHurricane\\\\n\\\\nNearly a year after Helene, reopening Blue Ridge Parkway brings hope\\\\n\\\\n1 day ago\\\\n\\\\nAstronomy [...] NASA selects new astronauts as it chases plans for the moon and Mars\\\\n\\\\n19 hours ago\\\\n\\\\nWeather News\\\\n\\\\nWhy do leaves change color in the fall?\\\\n\\\\n21 hours ago\\\\n\\\\n## Weather Near Central:\\\\n\\\\n...\\\\n\\\\n...\\\\n\\\\n... [...] # Central, LA\\\\n\\\\nCentral\\\\n\\\\nLouisiana\\\\n\\\\n## Around the Globe\\\\n\\\\nAround the Globe\\\\n\\\\n### Hurricane Tracker\\\\n\\\\n### Severe Weather\\\\n\\\\n### Radar & Maps\\\\n\\\\n### News & Features\\\\n\\\\n### Astronomy\\\\n\\\\n### Business\\\\n\\\\n### Climate\\\\n\\\\n### Health\\\\n\\\\n### Recreation\\\\n\\\\n### Sports\\\\n\\\\n### Travel\\\\n\\\\n### Warnings\\\\n\\\\n### Data Suite\\\\n\\\\n### Forensics\\\\n\\\\n### Advertising\\\\n\\\\n### Superior Accuracy™\\\\n\\\\n### Video\\\\n\\\\n### Winter Center\\\\n\\\\n## Monthly\\\\n\\\\n## September\\\\n\\\\n## 2025\\\\n\\\\n## Daily\\\\n\\\\n## Temperature Graph\\\\n\\\\n## Further Ahead\\\\n\\\\nFurther Ahead\\\\n\\\\n### October 2025', 'score': 0.5809471}]\", name='tavily_search_results_json', id='aaa3eefe-9f96-4fd9-9efd-ac227bab3460', tool_call_id='call_YKr1mPm9DPVsScbNuWNbtXgd')]}\n",
            "{'messages': [HumanMessage(content='Whats the weather in LA?', additional_kwargs={}, response_metadata={}, id='ff81c88b-5454-4bfb-a501-01cba74651b7'), AIMessage(content='', additional_kwargs={'tool_calls': [{'id': 'call_YKr1mPm9DPVsScbNuWNbtXgd', 'function': {'arguments': '{\"query\":\"current weather in Los Angeles\"}', 'name': 'tavily_search_results_json'}, 'type': 'function'}], 'refusal': None}, response_metadata={'token_usage': {'completion_tokens': 22, 'prompt_tokens': 150, 'total_tokens': 172, 'completion_tokens_details': {'accepted_prediction_tokens': 0, 'audio_tokens': 0, 'reasoning_tokens': 0, 'rejected_prediction_tokens': 0}, 'prompt_tokens_details': {'audio_tokens': 0, 'cached_tokens': 0}}, 'model_name': 'gpt-4.1-2025-04-14', 'system_fingerprint': 'fp_3502f4eb73', 'id': 'chatcmpl-CIyG4rBYnLKsVMrLW2Uxf3LYvtA2D', 'service_tier': 'default', 'finish_reason': 'tool_calls', 'logprobs': None}, id='run--e3f72fd6-366d-484b-9813-569168745ea6-0', tool_calls=[{'name': 'tavily_search_results_json', 'args': {'query': 'current weather in Louisiana'}, 'id': 'call_YKr1mPm9DPVsScbNuWNbtXgd', 'type': 'tool_call'}], usage_metadata={'input_tokens': 150, 'output_tokens': 22, 'total_tokens': 172, 'input_token_details': {'audio': 0, 'cache_read': 0}, 'output_token_details': {'audio': 0, 'reasoning': 0}}), ToolMessage(content=\"[{'title': 'Louisiana weather in September 2025 | Weather25.com', 'url': 'https://www.weather25.com/north-america/usa/louisiana?page=month&month=September', 'content': 'weather25.com\\\\nSearch\\\\nweather in United States\\\\nRemove from your favorite locations\\\\nAdd to my locations\\\\nShare\\\\nweather in United States\\\\n\\\\n# Louisiana weather in September 2025\\\\n\\\\nClear\\\\nOvercast\\\\nOvercast\\\\nPartly cloudy\\\\nClear\\\\nClear\\\\nClear\\\\nClear\\\\nModerate rain at times\\\\nLight rain\\\\nPatchy rain possible\\\\nPatchy rain possible\\\\nPartly cloudy\\\\nPatchy rain possible\\\\n\\\\n## The average weather in Louisiana in September [...] | 14 Patchy rain possible 31° /24° | 15 Light rain shower 30° /24° | 16 Patchy rain possible 31° /24° | 17 Partly cloudy 31° /24° | 18 Thundery outbreaks possible 30° /22° | 19 Light rain shower 31° /23° | 20 Light rain shower 31° /23° |\\\\n| 21 Patchy rain possible 31° /23° | 22 Sunny 31° /23° | 23 Sunny 36° /23° | 24 Overcast 33° /25° | 25 Overcast 31° /26° | 26 Partly cloudy 30° /22° | 27 Sunny 31° /24° |\\\\n| 28 Sunny 31° /22° | 29 Sunny 31° /23° | 30 Sunny 31° /22° |  |  |  |  | [...] The weather in Louisiana in September is very hot. The average temperatures are between 24°C and 31°C, drinking water regularly is advisable.\\\\n\\\\nYou can expect rain for roughly half of the month of September in Louisiana. We’re expecting roughly 8 to 15 days of rain, so your rubber boots and umbrella are going to see plenty of use this month if you’re keen on staying dry.\\\\n\\\\nOur weather forecast can give you a great sense of what weather to expect in Louisiana in September 2025.', 'score': 0.87782305}, {'title': 'September 2025 - Central, LA Monthly Weather | AccuWeather', 'url': 'https://www.accuweather.com/en/us/central/70818/september-weather/2205135?year=2025', 'content': 'Central and eastern US to see much-needed rain, but also severe storms\\\\n\\\\n4 hours ago\\\\n\\\\nWeather Forecasts\\\\n\\\\nNew storm eyes West with locally heavy rain, isolated flash flooding\\\\n\\\\n5 hours ago\\\\n\\\\nFeatured Stories\\\\n\\\\nHurricane\\\\n\\\\nHurricane Rita forced one of largest US evacuations in wake of Katrina\\\\n\\\\n1 hour ago\\\\n\\\\nWeather News\\\\n\\\\nWhy meteorological, astronomical fall start on different dates\\\\n\\\\n22 hours ago\\\\n\\\\nHurricane\\\\n\\\\nNearly a year after Helene, reopening Blue Ridge Parkway brings hope\\\\n\\\\n1 day ago\\\\n\\\\nAstronomy [...] NASA selects new astronauts as it chases plans for the moon and Mars\\\\n\\\\n19 hours ago\\\\n\\\\nWeather News\\\\n\\\\nWhy do leaves change color in the fall?\\\\n\\\\n21 hours ago\\\\n\\\\n## Weather Near Central:\\\\n\\\\n...\\\\n\\\\n...\\\\n\\\\n... [...] # Central, LA\\\\n\\\\nCentral\\\\n\\\\nLouisiana\\\\n\\\\n## Around the Globe\\\\n\\\\nAround the Globe\\\\n\\\\n### Hurricane Tracker\\\\n\\\\n### Severe Weather\\\\n\\\\n### Radar & Maps\\\\n\\\\n### News & Features\\\\n\\\\n### Astronomy\\\\n\\\\n### Business\\\\n\\\\n### Climate\\\\n\\\\n### Health\\\\n\\\\n### Recreation\\\\n\\\\n### Sports\\\\n\\\\n### Travel\\\\n\\\\n### Warnings\\\\n\\\\n### Data Suite\\\\n\\\\n### Forensics\\\\n\\\\n### Advertising\\\\n\\\\n### Superior Accuracy™\\\\n\\\\n### Video\\\\n\\\\n### Winter Center\\\\n\\\\n## Monthly\\\\n\\\\n## September\\\\n\\\\n## 2025\\\\n\\\\n## Daily\\\\n\\\\n## Temperature Graph\\\\n\\\\n## Further Ahead\\\\n\\\\nFurther Ahead\\\\n\\\\n### October 2025', 'score': 0.5809471}]\", name='tavily_search_results_json', id='aaa3eefe-9f96-4fd9-9efd-ac227bab3460', tool_call_id='call_YKr1mPm9DPVsScbNuWNbtXgd'), AIMessage(content='The current weather in Louisiana (LA) is generally very hot in September, with average temperatures ranging from 24°C to 31°C (about 75°F to 88°F). There is a good chance of rain for about half the month, so carrying an umbrella is suggested.\\n\\nIf you meant Los Angeles (commonly abbreviated as LA for Los Angeles, California), please clarify, and I can provide the weather for Los Angeles, CA instead!', additional_kwargs={'refusal': None}, response_metadata={'token_usage': {'completion_tokens': 91, 'prompt_tokens': 1044, 'total_tokens': 1135, 'completion_tokens_details': {'accepted_prediction_tokens': 0, 'audio_tokens': 0, 'reasoning_tokens': 0, 'rejected_prediction_tokens': 0}, 'prompt_tokens_details': {'audio_tokens': 0, 'cached_tokens': 0}}, 'model_name': 'gpt-4.1-2025-04-14', 'system_fingerprint': 'fp_3502f4eb73', 'id': 'chatcmpl-CIyGhzYcKkqhpajo5bWPiEzQldalF', 'service_tier': 'default', 'finish_reason': 'stop', 'logprobs': None}, id='run--ba3c96a0-c2ae-492a-a774-cb1cb6934814-0', usage_metadata={'input_tokens': 1044, 'output_tokens': 91, 'total_tokens': 1135, 'input_token_details': {'audio': 0, 'cache_read': 0}, 'output_token_details': {'audio': 0, 'reasoning': 0}})]}\n",
            "{'messages': [AIMessage(content='The current weather in Louisiana (LA) is generally very hot in September, with average temperatures ranging from 24°C to 31°C (about 75°F to 88°F). There is a good chance of rain for about half the month, so carrying an umbrella is suggested.\\n\\nIf you meant Los Angeles (commonly abbreviated as LA for Los Angeles, California), please clarify, and I can provide the weather for Los Angeles, CA instead!', additional_kwargs={'refusal': None}, response_metadata={'token_usage': {'completion_tokens': 91, 'prompt_tokens': 1044, 'total_tokens': 1135, 'completion_tokens_details': {'accepted_prediction_tokens': 0, 'audio_tokens': 0, 'reasoning_tokens': 0, 'rejected_prediction_tokens': 0}, 'prompt_tokens_details': {'audio_tokens': 0, 'cached_tokens': 0}}, 'model_name': 'gpt-4.1-2025-04-14', 'system_fingerprint': 'fp_3502f4eb73', 'id': 'chatcmpl-CIyGhzYcKkqhpajo5bWPiEzQldalF', 'service_tier': 'default', 'finish_reason': 'stop', 'logprobs': None}, id='run--ba3c96a0-c2ae-492a-a774-cb1cb6934814-0', usage_metadata={'input_tokens': 1044, 'output_tokens': 91, 'total_tokens': 1135, 'input_token_details': {'audio': 0, 'cache_read': 0}, 'output_token_details': {'audio': 0, 'reasoning': 0}})]}\n"
          ]
        }
      ]
    },
    {
      "cell_type": "code",
      "source": [
        "# 88. We have now shown how we can modify the state of the graph in order to\n",
        "# control what the Agent does\n",
        "# 89. An important thing to note is that we are actually keeping a running list\n",
        "# of all these states\n",
        "# 90. We can modify the state for it to become a new state\n",
        "# 91. States get created as the graph is traversed\n",
        "# 92. You can visit the states/nodes as its stored in memory.\n",
        "# 93. That is: Time Travel\n",
        "# 94. In order to do this, call get_state_history as below\n",
        "# 95. Passing the thread id\n",
        "# 96. Start building up the list of states over time\n",
        "\n",
        "states = []\n",
        "for state in abot.graph.get_state_history(thread):\n",
        "    print(state)\n",
        "    print('--')\n",
        "    states.append(state)"
      ],
      "metadata": {
        "colab": {
          "base_uri": "https://localhost:8080/"
        },
        "id": "eUVF-xVEhboj",
        "outputId": "8680578e-5ffc-4a0b-e684-8053619abff0"
      },
      "execution_count": null,
      "outputs": [
        {
          "output_type": "stream",
          "name": "stdout",
          "text": [
            "StateSnapshot(values={'messages': [HumanMessage(content='Whats the weather in LA?', additional_kwargs={}, response_metadata={}, id='ff81c88b-5454-4bfb-a501-01cba74651b7'), AIMessage(content='', additional_kwargs={'tool_calls': [{'id': 'call_YKr1mPm9DPVsScbNuWNbtXgd', 'function': {'arguments': '{\"query\":\"current weather in Los Angeles\"}', 'name': 'tavily_search_results_json'}, 'type': 'function'}], 'refusal': None}, response_metadata={'token_usage': {'completion_tokens': 22, 'prompt_tokens': 150, 'total_tokens': 172, 'completion_tokens_details': {'accepted_prediction_tokens': 0, 'audio_tokens': 0, 'reasoning_tokens': 0, 'rejected_prediction_tokens': 0}, 'prompt_tokens_details': {'audio_tokens': 0, 'cached_tokens': 0}}, 'model_name': 'gpt-4.1-2025-04-14', 'system_fingerprint': 'fp_3502f4eb73', 'id': 'chatcmpl-CIyG4rBYnLKsVMrLW2Uxf3LYvtA2D', 'service_tier': 'default', 'finish_reason': 'tool_calls', 'logprobs': None}, id='run--e3f72fd6-366d-484b-9813-569168745ea6-0', tool_calls=[{'name': 'tavily_search_results_json', 'args': {'query': 'current weather in Louisiana'}, 'id': 'call_YKr1mPm9DPVsScbNuWNbtXgd', 'type': 'tool_call'}], usage_metadata={'input_tokens': 150, 'output_tokens': 22, 'total_tokens': 172, 'input_token_details': {'audio': 0, 'cache_read': 0}, 'output_token_details': {'audio': 0, 'reasoning': 0}}), ToolMessage(content=\"[{'title': 'Louisiana weather in September 2025 | Weather25.com', 'url': 'https://www.weather25.com/north-america/usa/louisiana?page=month&month=September', 'content': 'weather25.com\\\\nSearch\\\\nweather in United States\\\\nRemove from your favorite locations\\\\nAdd to my locations\\\\nShare\\\\nweather in United States\\\\n\\\\n# Louisiana weather in September 2025\\\\n\\\\nClear\\\\nOvercast\\\\nOvercast\\\\nPartly cloudy\\\\nClear\\\\nClear\\\\nClear\\\\nClear\\\\nModerate rain at times\\\\nLight rain\\\\nPatchy rain possible\\\\nPatchy rain possible\\\\nPartly cloudy\\\\nPatchy rain possible\\\\n\\\\n## The average weather in Louisiana in September [...] | 14 Patchy rain possible 31° /24° | 15 Light rain shower 30° /24° | 16 Patchy rain possible 31° /24° | 17 Partly cloudy 31° /24° | 18 Thundery outbreaks possible 30° /22° | 19 Light rain shower 31° /23° | 20 Light rain shower 31° /23° |\\\\n| 21 Patchy rain possible 31° /23° | 22 Sunny 31° /23° | 23 Sunny 36° /23° | 24 Overcast 33° /25° | 25 Overcast 31° /26° | 26 Partly cloudy 30° /22° | 27 Sunny 31° /24° |\\\\n| 28 Sunny 31° /22° | 29 Sunny 31° /23° | 30 Sunny 31° /22° |  |  |  |  | [...] The weather in Louisiana in September is very hot. The average temperatures are between 24°C and 31°C, drinking water regularly is advisable.\\\\n\\\\nYou can expect rain for roughly half of the month of September in Louisiana. We’re expecting roughly 8 to 15 days of rain, so your rubber boots and umbrella are going to see plenty of use this month if you’re keen on staying dry.\\\\n\\\\nOur weather forecast can give you a great sense of what weather to expect in Louisiana in September 2025.', 'score': 0.87782305}, {'title': 'September 2025 - Central, LA Monthly Weather | AccuWeather', 'url': 'https://www.accuweather.com/en/us/central/70818/september-weather/2205135?year=2025', 'content': 'Central and eastern US to see much-needed rain, but also severe storms\\\\n\\\\n4 hours ago\\\\n\\\\nWeather Forecasts\\\\n\\\\nNew storm eyes West with locally heavy rain, isolated flash flooding\\\\n\\\\n5 hours ago\\\\n\\\\nFeatured Stories\\\\n\\\\nHurricane\\\\n\\\\nHurricane Rita forced one of largest US evacuations in wake of Katrina\\\\n\\\\n1 hour ago\\\\n\\\\nWeather News\\\\n\\\\nWhy meteorological, astronomical fall start on different dates\\\\n\\\\n22 hours ago\\\\n\\\\nHurricane\\\\n\\\\nNearly a year after Helene, reopening Blue Ridge Parkway brings hope\\\\n\\\\n1 day ago\\\\n\\\\nAstronomy [...] NASA selects new astronauts as it chases plans for the moon and Mars\\\\n\\\\n19 hours ago\\\\n\\\\nWeather News\\\\n\\\\nWhy do leaves change color in the fall?\\\\n\\\\n21 hours ago\\\\n\\\\n## Weather Near Central:\\\\n\\\\n...\\\\n\\\\n...\\\\n\\\\n... [...] # Central, LA\\\\n\\\\nCentral\\\\n\\\\nLouisiana\\\\n\\\\n## Around the Globe\\\\n\\\\nAround the Globe\\\\n\\\\n### Hurricane Tracker\\\\n\\\\n### Severe Weather\\\\n\\\\n### Radar & Maps\\\\n\\\\n### News & Features\\\\n\\\\n### Astronomy\\\\n\\\\n### Business\\\\n\\\\n### Climate\\\\n\\\\n### Health\\\\n\\\\n### Recreation\\\\n\\\\n### Sports\\\\n\\\\n### Travel\\\\n\\\\n### Warnings\\\\n\\\\n### Data Suite\\\\n\\\\n### Forensics\\\\n\\\\n### Advertising\\\\n\\\\n### Superior Accuracy™\\\\n\\\\n### Video\\\\n\\\\n### Winter Center\\\\n\\\\n## Monthly\\\\n\\\\n## September\\\\n\\\\n## 2025\\\\n\\\\n## Daily\\\\n\\\\n## Temperature Graph\\\\n\\\\n## Further Ahead\\\\n\\\\nFurther Ahead\\\\n\\\\n### October 2025', 'score': 0.5809471}]\", name='tavily_search_results_json', id='aaa3eefe-9f96-4fd9-9efd-ac227bab3460', tool_call_id='call_YKr1mPm9DPVsScbNuWNbtXgd'), AIMessage(content='The current weather in Louisiana (LA) is generally very hot in September, with average temperatures ranging from 24°C to 31°C (about 75°F to 88°F). There is a good chance of rain for about half the month, so carrying an umbrella is suggested.\\n\\nIf you meant Los Angeles (commonly abbreviated as LA for Los Angeles, California), please clarify, and I can provide the weather for Los Angeles, CA instead!', additional_kwargs={'refusal': None}, response_metadata={'token_usage': {'completion_tokens': 91, 'prompt_tokens': 1044, 'total_tokens': 1135, 'completion_tokens_details': {'accepted_prediction_tokens': 0, 'audio_tokens': 0, 'reasoning_tokens': 0, 'rejected_prediction_tokens': 0}, 'prompt_tokens_details': {'audio_tokens': 0, 'cached_tokens': 0}}, 'model_name': 'gpt-4.1-2025-04-14', 'system_fingerprint': 'fp_3502f4eb73', 'id': 'chatcmpl-CIyGhzYcKkqhpajo5bWPiEzQldalF', 'service_tier': 'default', 'finish_reason': 'stop', 'logprobs': None}, id='run--ba3c96a0-c2ae-492a-a774-cb1cb6934814-0', usage_metadata={'input_tokens': 1044, 'output_tokens': 91, 'total_tokens': 1135, 'input_token_details': {'audio': 0, 'cache_read': 0}, 'output_token_details': {'audio': 0, 'reasoning': 0}})]}, next=(), config={'configurable': {'thread_id': '3', 'checkpoint_ns': '', 'checkpoint_id': '1f098895-9a75-6fb2-8004-20d50af1178a'}}, metadata={'source': 'loop', 'step': 4, 'parents': {}}, created_at='2025-09-23T14:26:53.056787+00:00', parent_config={'configurable': {'thread_id': '3', 'checkpoint_ns': '', 'checkpoint_id': '1f098895-8a04-649f-8003-e720034c42d3'}}, tasks=(), interrupts=())\n",
            "--\n",
            "StateSnapshot(values={'messages': [HumanMessage(content='Whats the weather in LA?', additional_kwargs={}, response_metadata={}, id='ff81c88b-5454-4bfb-a501-01cba74651b7'), AIMessage(content='', additional_kwargs={'tool_calls': [{'id': 'call_YKr1mPm9DPVsScbNuWNbtXgd', 'function': {'arguments': '{\"query\":\"current weather in Los Angeles\"}', 'name': 'tavily_search_results_json'}, 'type': 'function'}], 'refusal': None}, response_metadata={'token_usage': {'completion_tokens': 22, 'prompt_tokens': 150, 'total_tokens': 172, 'completion_tokens_details': {'accepted_prediction_tokens': 0, 'audio_tokens': 0, 'reasoning_tokens': 0, 'rejected_prediction_tokens': 0}, 'prompt_tokens_details': {'audio_tokens': 0, 'cached_tokens': 0}}, 'model_name': 'gpt-4.1-2025-04-14', 'system_fingerprint': 'fp_3502f4eb73', 'id': 'chatcmpl-CIyG4rBYnLKsVMrLW2Uxf3LYvtA2D', 'service_tier': 'default', 'finish_reason': 'tool_calls', 'logprobs': None}, id='run--e3f72fd6-366d-484b-9813-569168745ea6-0', tool_calls=[{'name': 'tavily_search_results_json', 'args': {'query': 'current weather in Louisiana'}, 'id': 'call_YKr1mPm9DPVsScbNuWNbtXgd', 'type': 'tool_call'}], usage_metadata={'input_tokens': 150, 'output_tokens': 22, 'total_tokens': 172, 'input_token_details': {'audio': 0, 'cache_read': 0}, 'output_token_details': {'audio': 0, 'reasoning': 0}}), ToolMessage(content=\"[{'title': 'Louisiana weather in September 2025 | Weather25.com', 'url': 'https://www.weather25.com/north-america/usa/louisiana?page=month&month=September', 'content': 'weather25.com\\\\nSearch\\\\nweather in United States\\\\nRemove from your favorite locations\\\\nAdd to my locations\\\\nShare\\\\nweather in United States\\\\n\\\\n# Louisiana weather in September 2025\\\\n\\\\nClear\\\\nOvercast\\\\nOvercast\\\\nPartly cloudy\\\\nClear\\\\nClear\\\\nClear\\\\nClear\\\\nModerate rain at times\\\\nLight rain\\\\nPatchy rain possible\\\\nPatchy rain possible\\\\nPartly cloudy\\\\nPatchy rain possible\\\\n\\\\n## The average weather in Louisiana in September [...] | 14 Patchy rain possible 31° /24° | 15 Light rain shower 30° /24° | 16 Patchy rain possible 31° /24° | 17 Partly cloudy 31° /24° | 18 Thundery outbreaks possible 30° /22° | 19 Light rain shower 31° /23° | 20 Light rain shower 31° /23° |\\\\n| 21 Patchy rain possible 31° /23° | 22 Sunny 31° /23° | 23 Sunny 36° /23° | 24 Overcast 33° /25° | 25 Overcast 31° /26° | 26 Partly cloudy 30° /22° | 27 Sunny 31° /24° |\\\\n| 28 Sunny 31° /22° | 29 Sunny 31° /23° | 30 Sunny 31° /22° |  |  |  |  | [...] The weather in Louisiana in September is very hot. The average temperatures are between 24°C and 31°C, drinking water regularly is advisable.\\\\n\\\\nYou can expect rain for roughly half of the month of September in Louisiana. We’re expecting roughly 8 to 15 days of rain, so your rubber boots and umbrella are going to see plenty of use this month if you’re keen on staying dry.\\\\n\\\\nOur weather forecast can give you a great sense of what weather to expect in Louisiana in September 2025.', 'score': 0.87782305}, {'title': 'September 2025 - Central, LA Monthly Weather | AccuWeather', 'url': 'https://www.accuweather.com/en/us/central/70818/september-weather/2205135?year=2025', 'content': 'Central and eastern US to see much-needed rain, but also severe storms\\\\n\\\\n4 hours ago\\\\n\\\\nWeather Forecasts\\\\n\\\\nNew storm eyes West with locally heavy rain, isolated flash flooding\\\\n\\\\n5 hours ago\\\\n\\\\nFeatured Stories\\\\n\\\\nHurricane\\\\n\\\\nHurricane Rita forced one of largest US evacuations in wake of Katrina\\\\n\\\\n1 hour ago\\\\n\\\\nWeather News\\\\n\\\\nWhy meteorological, astronomical fall start on different dates\\\\n\\\\n22 hours ago\\\\n\\\\nHurricane\\\\n\\\\nNearly a year after Helene, reopening Blue Ridge Parkway brings hope\\\\n\\\\n1 day ago\\\\n\\\\nAstronomy [...] NASA selects new astronauts as it chases plans for the moon and Mars\\\\n\\\\n19 hours ago\\\\n\\\\nWeather News\\\\n\\\\nWhy do leaves change color in the fall?\\\\n\\\\n21 hours ago\\\\n\\\\n## Weather Near Central:\\\\n\\\\n...\\\\n\\\\n...\\\\n\\\\n... [...] # Central, LA\\\\n\\\\nCentral\\\\n\\\\nLouisiana\\\\n\\\\n## Around the Globe\\\\n\\\\nAround the Globe\\\\n\\\\n### Hurricane Tracker\\\\n\\\\n### Severe Weather\\\\n\\\\n### Radar & Maps\\\\n\\\\n### News & Features\\\\n\\\\n### Astronomy\\\\n\\\\n### Business\\\\n\\\\n### Climate\\\\n\\\\n### Health\\\\n\\\\n### Recreation\\\\n\\\\n### Sports\\\\n\\\\n### Travel\\\\n\\\\n### Warnings\\\\n\\\\n### Data Suite\\\\n\\\\n### Forensics\\\\n\\\\n### Advertising\\\\n\\\\n### Superior Accuracy™\\\\n\\\\n### Video\\\\n\\\\n### Winter Center\\\\n\\\\n## Monthly\\\\n\\\\n## September\\\\n\\\\n## 2025\\\\n\\\\n## Daily\\\\n\\\\n## Temperature Graph\\\\n\\\\n## Further Ahead\\\\n\\\\nFurther Ahead\\\\n\\\\n### October 2025', 'score': 0.5809471}]\", name='tavily_search_results_json', id='aaa3eefe-9f96-4fd9-9efd-ac227bab3460', tool_call_id='call_YKr1mPm9DPVsScbNuWNbtXgd')]}, next=('llm',), config={'configurable': {'thread_id': '3', 'checkpoint_ns': '', 'checkpoint_id': '1f098895-8a04-649f-8003-e720034c42d3'}}, metadata={'source': 'loop', 'step': 3, 'parents': {}}, created_at='2025-09-23T14:26:51.332492+00:00', parent_config={'configurable': {'thread_id': '3', 'checkpoint_ns': '', 'checkpoint_id': '1f098894-e587-65ea-8002-cfaf6d540b0b'}}, tasks=(PregelTask(id='1782b99f-6a4c-1b47-8065-097e89d615ef', name='llm', path=('__pregel_pull', 'llm'), error=None, interrupts=(), state=None, result={'messages': [AIMessage(content='The current weather in Louisiana (LA) is generally very hot in September, with average temperatures ranging from 24°C to 31°C (about 75°F to 88°F). There is a good chance of rain for about half the month, so carrying an umbrella is suggested.\\n\\nIf you meant Los Angeles (commonly abbreviated as LA for Los Angeles, California), please clarify, and I can provide the weather for Los Angeles, CA instead!', additional_kwargs={'refusal': None}, response_metadata={'token_usage': {'completion_tokens': 91, 'prompt_tokens': 1044, 'total_tokens': 1135, 'completion_tokens_details': {'accepted_prediction_tokens': 0, 'audio_tokens': 0, 'reasoning_tokens': 0, 'rejected_prediction_tokens': 0}, 'prompt_tokens_details': {'audio_tokens': 0, 'cached_tokens': 0}}, 'model_name': 'gpt-4.1-2025-04-14', 'system_fingerprint': 'fp_3502f4eb73', 'id': 'chatcmpl-CIyGhzYcKkqhpajo5bWPiEzQldalF', 'service_tier': 'default', 'finish_reason': 'stop', 'logprobs': None}, id='run--ba3c96a0-c2ae-492a-a774-cb1cb6934814-0', usage_metadata={'input_tokens': 1044, 'output_tokens': 91, 'total_tokens': 1135, 'input_token_details': {'audio': 0, 'cache_read': 0}, 'output_token_details': {'audio': 0, 'reasoning': 0}})]}),), interrupts=())\n",
            "--\n",
            "StateSnapshot(values={'messages': [HumanMessage(content='Whats the weather in LA?', additional_kwargs={}, response_metadata={}, id='ff81c88b-5454-4bfb-a501-01cba74651b7'), AIMessage(content='', additional_kwargs={'tool_calls': [{'id': 'call_YKr1mPm9DPVsScbNuWNbtXgd', 'function': {'arguments': '{\"query\":\"current weather in Los Angeles\"}', 'name': 'tavily_search_results_json'}, 'type': 'function'}], 'refusal': None}, response_metadata={'token_usage': {'completion_tokens': 22, 'prompt_tokens': 150, 'total_tokens': 172, 'completion_tokens_details': {'accepted_prediction_tokens': 0, 'audio_tokens': 0, 'reasoning_tokens': 0, 'rejected_prediction_tokens': 0}, 'prompt_tokens_details': {'audio_tokens': 0, 'cached_tokens': 0}}, 'model_name': 'gpt-4.1-2025-04-14', 'system_fingerprint': 'fp_3502f4eb73', 'id': 'chatcmpl-CIyG4rBYnLKsVMrLW2Uxf3LYvtA2D', 'service_tier': 'default', 'finish_reason': 'tool_calls', 'logprobs': None}, id='run--e3f72fd6-366d-484b-9813-569168745ea6-0', tool_calls=[{'name': 'tavily_search_results_json', 'args': {'query': 'current weather in Louisiana'}, 'id': 'call_YKr1mPm9DPVsScbNuWNbtXgd', 'type': 'tool_call'}], usage_metadata={'input_tokens': 150, 'output_tokens': 22, 'total_tokens': 172, 'input_token_details': {'audio': 0, 'cache_read': 0}, 'output_token_details': {'audio': 0, 'reasoning': 0}})]}, next=('action',), config={'configurable': {'thread_id': '3', 'checkpoint_ns': '', 'checkpoint_id': '1f098894-e587-65ea-8002-cfaf6d540b0b'}}, metadata={'source': 'update', 'step': 2, 'parents': {}}, created_at='2025-09-23T14:26:34.084681+00:00', parent_config={'configurable': {'thread_id': '3', 'checkpoint_ns': '', 'checkpoint_id': '1f098894-1f2e-638e-8001-573a36c706d4'}}, tasks=(PregelTask(id='1e491f58-ed62-f7aa-41e7-651e78a4ecdb', name='action', path=('__pregel_pull', 'action'), error=None, interrupts=(), state=None, result={'messages': [ToolMessage(content=\"[{'title': 'Louisiana weather in September 2025 | Weather25.com', 'url': 'https://www.weather25.com/north-america/usa/louisiana?page=month&month=September', 'content': 'weather25.com\\\\nSearch\\\\nweather in United States\\\\nRemove from your favorite locations\\\\nAdd to my locations\\\\nShare\\\\nweather in United States\\\\n\\\\n# Louisiana weather in September 2025\\\\n\\\\nClear\\\\nOvercast\\\\nOvercast\\\\nPartly cloudy\\\\nClear\\\\nClear\\\\nClear\\\\nClear\\\\nModerate rain at times\\\\nLight rain\\\\nPatchy rain possible\\\\nPatchy rain possible\\\\nPartly cloudy\\\\nPatchy rain possible\\\\n\\\\n## The average weather in Louisiana in September [...] | 14 Patchy rain possible 31° /24° | 15 Light rain shower 30° /24° | 16 Patchy rain possible 31° /24° | 17 Partly cloudy 31° /24° | 18 Thundery outbreaks possible 30° /22° | 19 Light rain shower 31° /23° | 20 Light rain shower 31° /23° |\\\\n| 21 Patchy rain possible 31° /23° | 22 Sunny 31° /23° | 23 Sunny 36° /23° | 24 Overcast 33° /25° | 25 Overcast 31° /26° | 26 Partly cloudy 30° /22° | 27 Sunny 31° /24° |\\\\n| 28 Sunny 31° /22° | 29 Sunny 31° /23° | 30 Sunny 31° /22° |  |  |  |  | [...] The weather in Louisiana in September is very hot. The average temperatures are between 24°C and 31°C, drinking water regularly is advisable.\\\\n\\\\nYou can expect rain for roughly half of the month of September in Louisiana. We’re expecting roughly 8 to 15 days of rain, so your rubber boots and umbrella are going to see plenty of use this month if you’re keen on staying dry.\\\\n\\\\nOur weather forecast can give you a great sense of what weather to expect in Louisiana in September 2025.', 'score': 0.87782305}, {'title': 'September 2025 - Central, LA Monthly Weather | AccuWeather', 'url': 'https://www.accuweather.com/en/us/central/70818/september-weather/2205135?year=2025', 'content': 'Central and eastern US to see much-needed rain, but also severe storms\\\\n\\\\n4 hours ago\\\\n\\\\nWeather Forecasts\\\\n\\\\nNew storm eyes West with locally heavy rain, isolated flash flooding\\\\n\\\\n5 hours ago\\\\n\\\\nFeatured Stories\\\\n\\\\nHurricane\\\\n\\\\nHurricane Rita forced one of largest US evacuations in wake of Katrina\\\\n\\\\n1 hour ago\\\\n\\\\nWeather News\\\\n\\\\nWhy meteorological, astronomical fall start on different dates\\\\n\\\\n22 hours ago\\\\n\\\\nHurricane\\\\n\\\\nNearly a year after Helene, reopening Blue Ridge Parkway brings hope\\\\n\\\\n1 day ago\\\\n\\\\nAstronomy [...] NASA selects new astronauts as it chases plans for the moon and Mars\\\\n\\\\n19 hours ago\\\\n\\\\nWeather News\\\\n\\\\nWhy do leaves change color in the fall?\\\\n\\\\n21 hours ago\\\\n\\\\n## Weather Near Central:\\\\n\\\\n...\\\\n\\\\n...\\\\n\\\\n... [...] # Central, LA\\\\n\\\\nCentral\\\\n\\\\nLouisiana\\\\n\\\\n## Around the Globe\\\\n\\\\nAround the Globe\\\\n\\\\n### Hurricane Tracker\\\\n\\\\n### Severe Weather\\\\n\\\\n### Radar & Maps\\\\n\\\\n### News & Features\\\\n\\\\n### Astronomy\\\\n\\\\n### Business\\\\n\\\\n### Climate\\\\n\\\\n### Health\\\\n\\\\n### Recreation\\\\n\\\\n### Sports\\\\n\\\\n### Travel\\\\n\\\\n### Warnings\\\\n\\\\n### Data Suite\\\\n\\\\n### Forensics\\\\n\\\\n### Advertising\\\\n\\\\n### Superior Accuracy™\\\\n\\\\n### Video\\\\n\\\\n### Winter Center\\\\n\\\\n## Monthly\\\\n\\\\n## September\\\\n\\\\n## 2025\\\\n\\\\n## Daily\\\\n\\\\n## Temperature Graph\\\\n\\\\n## Further Ahead\\\\n\\\\nFurther Ahead\\\\n\\\\n### October 2025', 'score': 0.5809471}]\", name='tavily_search_results_json', tool_call_id='call_YKr1mPm9DPVsScbNuWNbtXgd')]}),), interrupts=())\n",
            "--\n",
            "StateSnapshot(values={'messages': [HumanMessage(content='Whats the weather in LA?', additional_kwargs={}, response_metadata={}, id='ff81c88b-5454-4bfb-a501-01cba74651b7'), AIMessage(content='', additional_kwargs={'tool_calls': [{'id': 'call_YKr1mPm9DPVsScbNuWNbtXgd', 'function': {'arguments': '{\"query\":\"current weather in Los Angeles\"}', 'name': 'tavily_search_results_json'}, 'type': 'function'}], 'refusal': None}, response_metadata={'token_usage': {'completion_tokens': 22, 'prompt_tokens': 150, 'total_tokens': 172, 'completion_tokens_details': {'accepted_prediction_tokens': 0, 'audio_tokens': 0, 'reasoning_tokens': 0, 'rejected_prediction_tokens': 0}, 'prompt_tokens_details': {'audio_tokens': 0, 'cached_tokens': 0}}, 'model_name': 'gpt-4.1-2025-04-14', 'system_fingerprint': 'fp_3502f4eb73', 'id': 'chatcmpl-CIyG4rBYnLKsVMrLW2Uxf3LYvtA2D', 'service_tier': 'default', 'finish_reason': 'tool_calls', 'logprobs': None}, id='run--e3f72fd6-366d-484b-9813-569168745ea6-0', tool_calls=[{'name': 'tavily_search_results_json', 'args': {'query': 'current weather in Los Angeles'}, 'id': 'call_YKr1mPm9DPVsScbNuWNbtXgd', 'type': 'tool_call'}], usage_metadata={'input_tokens': 150, 'output_tokens': 22, 'total_tokens': 172, 'input_token_details': {'audio': 0, 'cache_read': 0}, 'output_token_details': {'audio': 0, 'reasoning': 0}})]}, next=('action',), config={'configurable': {'thread_id': '3', 'checkpoint_ns': '', 'checkpoint_id': '1f098894-1f2e-638e-8001-573a36c706d4'}}, metadata={'source': 'loop', 'step': 1, 'parents': {}}, created_at='2025-09-23T14:26:13.286357+00:00', parent_config={'configurable': {'thread_id': '3', 'checkpoint_ns': '', 'checkpoint_id': '1f098894-1647-6717-8000-f18b17e8d244'}}, tasks=(PregelTask(id='f3e4d885-882b-d78d-ad87-baee001791cb', name='action', path=('__pregel_pull', 'action'), error=None, interrupts=(), state=None, result=None),), interrupts=())\n",
            "--\n",
            "StateSnapshot(values={'messages': [HumanMessage(content='Whats the weather in LA?', additional_kwargs={}, response_metadata={}, id='ff81c88b-5454-4bfb-a501-01cba74651b7')]}, next=('llm',), config={'configurable': {'thread_id': '3', 'checkpoint_ns': '', 'checkpoint_id': '1f098894-1647-6717-8000-f18b17e8d244'}}, metadata={'source': 'loop', 'step': 0, 'parents': {}}, created_at='2025-09-23T14:26:12.352981+00:00', parent_config={'configurable': {'thread_id': '3', 'checkpoint_ns': '', 'checkpoint_id': '1f098894-1642-6344-bfff-c162ae85c973'}}, tasks=(PregelTask(id='c038197a-52a0-8310-b221-2a5e46871e9d', name='llm', path=('__pregel_pull', 'llm'), error=None, interrupts=(), state=None, result={'messages': [AIMessage(content='', additional_kwargs={'tool_calls': [{'id': 'call_YKr1mPm9DPVsScbNuWNbtXgd', 'function': {'arguments': '{\"query\":\"current weather in Los Angeles\"}', 'name': 'tavily_search_results_json'}, 'type': 'function'}], 'refusal': None}, response_metadata={'token_usage': {'completion_tokens': 22, 'prompt_tokens': 150, 'total_tokens': 172, 'completion_tokens_details': {'accepted_prediction_tokens': 0, 'audio_tokens': 0, 'reasoning_tokens': 0, 'rejected_prediction_tokens': 0}, 'prompt_tokens_details': {'audio_tokens': 0, 'cached_tokens': 0}}, 'model_name': 'gpt-4.1-2025-04-14', 'system_fingerprint': 'fp_3502f4eb73', 'id': 'chatcmpl-CIyG4rBYnLKsVMrLW2Uxf3LYvtA2D', 'service_tier': 'default', 'finish_reason': 'tool_calls', 'logprobs': None}, id='run--e3f72fd6-366d-484b-9813-569168745ea6-0', tool_calls=[{'name': 'tavily_search_results_json', 'args': {'query': 'current weather in Los Angeles'}, 'id': 'call_YKr1mPm9DPVsScbNuWNbtXgd', 'type': 'tool_call'}], usage_metadata={'input_tokens': 150, 'output_tokens': 22, 'total_tokens': 172, 'input_token_details': {'audio': 0, 'cache_read': 0}, 'output_token_details': {'audio': 0, 'reasoning': 0}})]}),), interrupts=())\n",
            "--\n",
            "StateSnapshot(values={'messages': []}, next=('__start__',), config={'configurable': {'thread_id': '3', 'checkpoint_ns': '', 'checkpoint_id': '1f098894-1642-6344-bfff-c162ae85c973'}}, metadata={'source': 'input', 'step': -1, 'parents': {}}, created_at='2025-09-23T14:26:12.350812+00:00', parent_config=None, tasks=(PregelTask(id='a39b4eb0-8fd8-642a-8fea-1c1817379b51', name='__start__', path=('__pregel_pull', '__start__'), error=None, interrupts=(), state=None, result={'messages': [HumanMessage(content='Whats the weather in LA?', additional_kwargs={}, response_metadata={}, id='ff81c88b-5454-4bfb-a501-01cba74651b7')]}),), interrupts=())\n",
            "--\n"
          ]
        }
      ]
    },
    {
      "cell_type": "code",
      "source": [
        "#97.Let us now get the last state in the list\n",
        "#98.  This corresponds to the one where asks about the current weather in LA\n",
        "to_replay = states[-3]"
      ],
      "metadata": {
        "id": "d2h_Wxd7pT4O"
      },
      "execution_count": null,
      "outputs": []
    },
    {
      "cell_type": "code",
      "source": [
        "to_replay"
      ],
      "metadata": {
        "colab": {
          "base_uri": "https://localhost:8080/"
        },
        "id": "6VdwYF-HWtT8",
        "outputId": "6352ece5-e578-4250-8d2d-2eefe2ef7e3a"
      },
      "execution_count": null,
      "outputs": [
        {
          "output_type": "execute_result",
          "data": {
            "text/plain": [
              "StateSnapshot(values={'messages': [HumanMessage(content='Whats the weather in LA?', additional_kwargs={}, response_metadata={}, id='ff81c88b-5454-4bfb-a501-01cba74651b7'), AIMessage(content='', additional_kwargs={'tool_calls': [{'id': 'call_YKr1mPm9DPVsScbNuWNbtXgd', 'function': {'arguments': '{\"query\":\"current weather in Los Angeles\"}', 'name': 'tavily_search_results_json'}, 'type': 'function'}], 'refusal': None}, response_metadata={'token_usage': {'completion_tokens': 22, 'prompt_tokens': 150, 'total_tokens': 172, 'completion_tokens_details': {'accepted_prediction_tokens': 0, 'audio_tokens': 0, 'reasoning_tokens': 0, 'rejected_prediction_tokens': 0}, 'prompt_tokens_details': {'audio_tokens': 0, 'cached_tokens': 0}}, 'model_name': 'gpt-4.1-2025-04-14', 'system_fingerprint': 'fp_3502f4eb73', 'id': 'chatcmpl-CIyG4rBYnLKsVMrLW2Uxf3LYvtA2D', 'service_tier': 'default', 'finish_reason': 'tool_calls', 'logprobs': None}, id='run--e3f72fd6-366d-484b-9813-569168745ea6-0', tool_calls=[{'name': 'tavily_search_results_json', 'args': {'query': 'current weather in Los Angeles'}, 'id': 'call_YKr1mPm9DPVsScbNuWNbtXgd', 'type': 'tool_call'}], usage_metadata={'input_tokens': 150, 'output_tokens': 22, 'total_tokens': 172, 'input_token_details': {'audio': 0, 'cache_read': 0}, 'output_token_details': {'audio': 0, 'reasoning': 0}})]}, next=('action',), config={'configurable': {'thread_id': '3', 'checkpoint_ns': '', 'checkpoint_id': '1f098894-1f2e-638e-8001-573a36c706d4'}}, metadata={'source': 'loop', 'step': 1, 'parents': {}}, created_at='2025-09-23T14:26:13.286357+00:00', parent_config={'configurable': {'thread_id': '3', 'checkpoint_ns': '', 'checkpoint_id': '1f098894-1647-6717-8000-f18b17e8d244'}}, tasks=(PregelTask(id='f3e4d885-882b-d78d-ad87-baee001791cb', name='action', path=('__pregel_pull', 'action'), error=None, interrupts=(), state=None, result=None),), interrupts=())"
            ]
          },
          "metadata": {},
          "execution_count": 57
        }
      ]
    },
    {
      "cell_type": "code",
      "source": [
        "#99. If we run this you will ind is searching for cuent weather in Los Angeles\n",
        "#100. Gets reult back from avily\n",
        "#101. And generates a response\n",
        "\n",
        "for event in abot.graph.stream(None, to_replay.config):\n",
        "    for k, v in event.items():\n",
        "        print(v)"
      ],
      "metadata": {
        "colab": {
          "base_uri": "https://localhost:8080/"
        },
        "id": "AMEy0rr7XCs9",
        "outputId": "cdbfcb09-30af-410b-8e30-5df2bf91a607"
      },
      "execution_count": null,
      "outputs": [
        {
          "output_type": "stream",
          "name": "stdout",
          "text": [
            "Calling: {'name': 'tavily_search_results_json', 'args': {'query': 'current weather in Los Angeles'}, 'id': 'call_YKr1mPm9DPVsScbNuWNbtXgd', 'type': 'tool_call'}\n",
            "Back to the model!\n",
            "{'messages': [ToolMessage(content=\"[{'title': 'Los Angeles, CA Monthly Weather - AccuWeather', 'url': 'https://www.accuweather.com/en/us/los-angeles/90012/september-weather/347625', 'content': '# Los Angeles, CA\\\\n\\\\nLos Angeles\\\\n\\\\nCalifornia\\\\n\\\\n## Around the Globe\\\\n\\\\nAround the Globe\\\\n\\\\n### Hurricane Tracker\\\\n\\\\n### Severe Weather\\\\n\\\\n### Radar & Maps\\\\n\\\\n### News & Features\\\\n\\\\n### Astronomy\\\\n\\\\n### Business\\\\n\\\\n### Climate\\\\n\\\\n### Health\\\\n\\\\n### Recreation\\\\n\\\\n### Sports\\\\n\\\\n### Travel\\\\n\\\\n### Warnings\\\\n\\\\n### Data Suite\\\\n\\\\n### Forensics\\\\n\\\\n### Advertising\\\\n\\\\n### Superior Accuracy™\\\\n\\\\n### Video\\\\n\\\\n### Winter Center\\\\n\\\\n## Monthly\\\\n\\\\n## September\\\\n\\\\n## 2025\\\\n\\\\n## Daily\\\\n\\\\n## Temperature Graph\\\\n\\\\n## Further Ahead\\\\n\\\\nFurther Ahead\\\\n\\\\n### October 2025 [...] ### November 2025\\\\n\\\\n### December 2025\\\\n\\\\n## Around the Globe\\\\n\\\\nAround the Globe\\\\n\\\\n### Hurricane Tracker\\\\n\\\\n### Severe Weather\\\\n\\\\n### Radar & Maps\\\\n\\\\n### News\\\\n\\\\n### Video\\\\n\\\\n### Winter Center\\\\n\\\\nTop Stories\\\\n\\\\nHurricane\\\\n\\\\nMajor Hurricane Gabrielle brushes Bermuda; U.S. tropical threats loom\\\\n\\\\n4 hours ago\\\\n\\\\nWeather News\\\\n\\\\nWhy are leaves changing color so early in the Northeast?\\\\n\\\\n1 day ago\\\\n\\\\nHurricane\\\\n\\\\nHong Kong, southern China brace for powerful Typhoon Ragasa\\\\n\\\\n1 hour ago\\\\n\\\\nSevere Weather [...] NASA selects new astronauts as it chases plans for the moon and Mars\\\\n\\\\n19 hours ago\\\\n\\\\nWeather News\\\\n\\\\nWhy do leaves change color in the fall?\\\\n\\\\n21 hours ago\\\\n\\\\n## Weather Near Los Angeles:\\\\n\\\\n...\\\\n\\\\n...\\\\n\\\\n...', 'score': 0.48440504}, {'title': 'Weather Forecast for Tuesday, Sept. 23', 'url': 'https://www.yahoo.com/news/videos/weather-forecast-tuesday-sept-23-125758712.html', 'content': 'Manage your account\\\\n\\\\n## Top Stories:\\\\n\\\\nKTTV\\\\nKTTV\\\\n\\\\n# Weather Forecast for Tuesday, Sept. 23\\\\n\\\\nThe latest forecast and air quality conditions for the greater Los Angeles area, including beaches, valleys and desert regions.\\\\n\\\\n## Solve the daily Crossword\\\\n\\\\nYahoo news home\\\\nDownload app from App Store\\\\nDownload app from Google Play', 'score': 0.37093207}]\", name='tavily_search_results_json', id='5a9c9e82-daf9-48a5-a1a3-1f45bd3bb889', tool_call_id='call_YKr1mPm9DPVsScbNuWNbtXgd')]}\n",
            "{'messages': [HumanMessage(content='Whats the weather in LA?', additional_kwargs={}, response_metadata={}, id='ff81c88b-5454-4bfb-a501-01cba74651b7'), AIMessage(content='', additional_kwargs={'tool_calls': [{'id': 'call_YKr1mPm9DPVsScbNuWNbtXgd', 'function': {'arguments': '{\"query\":\"current weather in Los Angeles\"}', 'name': 'tavily_search_results_json'}, 'type': 'function'}], 'refusal': None}, response_metadata={'token_usage': {'completion_tokens': 22, 'prompt_tokens': 150, 'total_tokens': 172, 'completion_tokens_details': {'accepted_prediction_tokens': 0, 'audio_tokens': 0, 'reasoning_tokens': 0, 'rejected_prediction_tokens': 0}, 'prompt_tokens_details': {'audio_tokens': 0, 'cached_tokens': 0}}, 'model_name': 'gpt-4.1-2025-04-14', 'system_fingerprint': 'fp_3502f4eb73', 'id': 'chatcmpl-CIyG4rBYnLKsVMrLW2Uxf3LYvtA2D', 'service_tier': 'default', 'finish_reason': 'tool_calls', 'logprobs': None}, id='run--e3f72fd6-366d-484b-9813-569168745ea6-0', tool_calls=[{'name': 'tavily_search_results_json', 'args': {'query': 'current weather in Los Angeles'}, 'id': 'call_YKr1mPm9DPVsScbNuWNbtXgd', 'type': 'tool_call'}], usage_metadata={'input_tokens': 150, 'output_tokens': 22, 'total_tokens': 172, 'input_token_details': {'audio': 0, 'cache_read': 0}, 'output_token_details': {'audio': 0, 'reasoning': 0}}), ToolMessage(content=\"[{'title': 'Los Angeles, CA Monthly Weather - AccuWeather', 'url': 'https://www.accuweather.com/en/us/los-angeles/90012/september-weather/347625', 'content': '# Los Angeles, CA\\\\n\\\\nLos Angeles\\\\n\\\\nCalifornia\\\\n\\\\n## Around the Globe\\\\n\\\\nAround the Globe\\\\n\\\\n### Hurricane Tracker\\\\n\\\\n### Severe Weather\\\\n\\\\n### Radar & Maps\\\\n\\\\n### News & Features\\\\n\\\\n### Astronomy\\\\n\\\\n### Business\\\\n\\\\n### Climate\\\\n\\\\n### Health\\\\n\\\\n### Recreation\\\\n\\\\n### Sports\\\\n\\\\n### Travel\\\\n\\\\n### Warnings\\\\n\\\\n### Data Suite\\\\n\\\\n### Forensics\\\\n\\\\n### Advertising\\\\n\\\\n### Superior Accuracy™\\\\n\\\\n### Video\\\\n\\\\n### Winter Center\\\\n\\\\n## Monthly\\\\n\\\\n## September\\\\n\\\\n## 2025\\\\n\\\\n## Daily\\\\n\\\\n## Temperature Graph\\\\n\\\\n## Further Ahead\\\\n\\\\nFurther Ahead\\\\n\\\\n### October 2025 [...] ### November 2025\\\\n\\\\n### December 2025\\\\n\\\\n## Around the Globe\\\\n\\\\nAround the Globe\\\\n\\\\n### Hurricane Tracker\\\\n\\\\n### Severe Weather\\\\n\\\\n### Radar & Maps\\\\n\\\\n### News\\\\n\\\\n### Video\\\\n\\\\n### Winter Center\\\\n\\\\nTop Stories\\\\n\\\\nHurricane\\\\n\\\\nMajor Hurricane Gabrielle brushes Bermuda; U.S. tropical threats loom\\\\n\\\\n4 hours ago\\\\n\\\\nWeather News\\\\n\\\\nWhy are leaves changing color so early in the Northeast?\\\\n\\\\n1 day ago\\\\n\\\\nHurricane\\\\n\\\\nHong Kong, southern China brace for powerful Typhoon Ragasa\\\\n\\\\n1 hour ago\\\\n\\\\nSevere Weather [...] NASA selects new astronauts as it chases plans for the moon and Mars\\\\n\\\\n19 hours ago\\\\n\\\\nWeather News\\\\n\\\\nWhy do leaves change color in the fall?\\\\n\\\\n21 hours ago\\\\n\\\\n## Weather Near Los Angeles:\\\\n\\\\n...\\\\n\\\\n...\\\\n\\\\n...', 'score': 0.48440504}, {'title': 'Weather Forecast for Tuesday, Sept. 23', 'url': 'https://www.yahoo.com/news/videos/weather-forecast-tuesday-sept-23-125758712.html', 'content': 'Manage your account\\\\n\\\\n## Top Stories:\\\\n\\\\nKTTV\\\\nKTTV\\\\n\\\\n# Weather Forecast for Tuesday, Sept. 23\\\\n\\\\nThe latest forecast and air quality conditions for the greater Los Angeles area, including beaches, valleys and desert regions.\\\\n\\\\n## Solve the daily Crossword\\\\n\\\\nYahoo news home\\\\nDownload app from App Store\\\\nDownload app from Google Play', 'score': 0.37093207}]\", name='tavily_search_results_json', id='5a9c9e82-daf9-48a5-a1a3-1f45bd3bb889', tool_call_id='call_YKr1mPm9DPVsScbNuWNbtXgd'), AIMessage(content=\"I'm unable to retrieve the current weather details for Los Angeles from these sources right now. For the most accurate and up-to-date weather in LA, I recommend checking a trusted weather website or app like AccuWeather, Weather.com, or a similar service. Would you like me to try another method for a live update or provide a typical weather overview for LA?\", additional_kwargs={'refusal': None}, response_metadata={'token_usage': {'completion_tokens': 73, 'prompt_tokens': 706, 'total_tokens': 779, 'completion_tokens_details': {'accepted_prediction_tokens': 0, 'audio_tokens': 0, 'reasoning_tokens': 0, 'rejected_prediction_tokens': 0}, 'prompt_tokens_details': {'audio_tokens': 0, 'cached_tokens': 0}}, 'model_name': 'gpt-4.1-2025-04-14', 'system_fingerprint': 'fp_3502f4eb73', 'id': 'chatcmpl-CIySuUfwd84bQKZ2eS7Pf4RTeQfeg', 'service_tier': 'default', 'finish_reason': 'stop', 'logprobs': None}, id='run--eb5ffa8c-cfae-4025-9145-519a0c735455-0', usage_metadata={'input_tokens': 706, 'output_tokens': 73, 'total_tokens': 779, 'input_token_details': {'audio': 0, 'cache_read': 0}, 'output_token_details': {'audio': 0, 'reasoning': 0}})]}\n",
            "{'messages': [AIMessage(content=\"I'm unable to retrieve the current weather details for Los Angeles from these sources right now. For the most accurate and up-to-date weather in LA, I recommend checking a trusted weather website or app like AccuWeather, Weather.com, or a similar service. Would you like me to try another method for a live update or provide a typical weather overview for LA?\", additional_kwargs={'refusal': None}, response_metadata={'token_usage': {'completion_tokens': 73, 'prompt_tokens': 706, 'total_tokens': 779, 'completion_tokens_details': {'accepted_prediction_tokens': 0, 'audio_tokens': 0, 'reasoning_tokens': 0, 'rejected_prediction_tokens': 0}, 'prompt_tokens_details': {'audio_tokens': 0, 'cached_tokens': 0}}, 'model_name': 'gpt-4.1-2025-04-14', 'system_fingerprint': 'fp_3502f4eb73', 'id': 'chatcmpl-CIySuUfwd84bQKZ2eS7Pf4RTeQfeg', 'service_tier': 'default', 'finish_reason': 'stop', 'logprobs': None}, id='run--eb5ffa8c-cfae-4025-9145-519a0c735455-0', usage_metadata={'input_tokens': 706, 'output_tokens': 73, 'total_tokens': 779, 'input_token_details': {'audio': 0, 'cache_read': 0}, 'output_token_details': {'audio': 0, 'reasoning': 0}})]}\n"
          ]
        }
      ]
    },
    {
      "cell_type": "code",
      "source": [
        "#102 We can go abck in time and modify the state as shown in the code below\n",
        "#103 As seen below, we modified the current wather in LA with\n",
        "# curent weather in LA, accuweather\n",
        "#104. Here, we go abck in time and edit it\n",
        "#105. As opposed to before where we edit the most recent state\n",
        "\n",
        "_id = to_replay.values['messages'][-1].tool_calls[0]['id']\n",
        "to_replay.values['messages'][-1].tool_calls = [{'name': 'tavily_search_results_json',\n",
        "  'args': {'query': 'current weather in LA, accuweather'},\n",
        "  'id': _id}]"
      ],
      "metadata": {
        "id": "0HnfVVo-X4Jb"
      },
      "execution_count": null,
      "outputs": []
    },
    {
      "cell_type": "code",
      "source": [
        "# 106. We update the state of to_replay and we get abck the branched state\n",
        "\n",
        "branch_state = abot.graph.update_state(to_replay.config, to_replay.values)"
      ],
      "metadata": {
        "colab": {
          "base_uri": "https://localhost:8080/"
        },
        "id": "AJyUHEQ389Hk",
        "outputId": "a0a2de13-2803-4116-927a-d905668c1b2b"
      },
      "execution_count": null,
      "outputs": [
        {
          "output_type": "stream",
          "name": "stdout",
          "text": [
            "{'messages': [HumanMessage(content='Whats the weather in LA?', additional_kwargs={}, response_metadata={}, id='ff81c88b-5454-4bfb-a501-01cba74651b7'), AIMessage(content='', additional_kwargs={'tool_calls': [{'id': 'call_YKr1mPm9DPVsScbNuWNbtXgd', 'function': {'arguments': '{\"query\":\"current weather in Los Angeles\"}', 'name': 'tavily_search_results_json'}, 'type': 'function'}], 'refusal': None}, response_metadata={'token_usage': {'completion_tokens': 22, 'prompt_tokens': 150, 'total_tokens': 172, 'completion_tokens_details': {'accepted_prediction_tokens': 0, 'audio_tokens': 0, 'reasoning_tokens': 0, 'rejected_prediction_tokens': 0}, 'prompt_tokens_details': {'audio_tokens': 0, 'cached_tokens': 0}}, 'model_name': 'gpt-4.1-2025-04-14', 'system_fingerprint': 'fp_3502f4eb73', 'id': 'chatcmpl-CIyG4rBYnLKsVMrLW2Uxf3LYvtA2D', 'service_tier': 'default', 'finish_reason': 'tool_calls', 'logprobs': None}, id='run--e3f72fd6-366d-484b-9813-569168745ea6-0', tool_calls=[{'name': 'tavily_search_results_json', 'args': {'query': 'current weather in LA, accuweather'}, 'id': 'call_YKr1mPm9DPVsScbNuWNbtXgd'}], usage_metadata={'input_tokens': 150, 'output_tokens': 22, 'total_tokens': 172, 'input_token_details': {'audio': 0, 'cache_read': 0}, 'output_token_details': {'audio': 0, 'reasoning': 0}})]}\n"
          ]
        }
      ]
    },
    {
      "cell_type": "code",
      "source": [
        "# 107 Call gaph.stream on branched stae and we see we are looking\n",
        "# at accuwather\n",
        "for event in abot.graph.stream(None, branch_state):\n",
        "    for k, v in event.items():\n",
        "        if k != \"__end__\":\n",
        "            print(v)\n",
        "\n"
      ],
      "metadata": {
        "colab": {
          "base_uri": "https://localhost:8080/"
        },
        "id": "JlBWtxqOBb1o",
        "outputId": "a3745faa-b664-4ee7-bbf4-8cb9845eca76"
      },
      "execution_count": null,
      "outputs": [
        {
          "output_type": "stream",
          "name": "stdout",
          "text": [
            "Calling: {'name': 'tavily_search_results_json', 'args': {'query': 'current weather in LA, accuweather'}, 'id': 'call_YKr1mPm9DPVsScbNuWNbtXgd', 'type': 'tool_call'}\n",
            "Back to the model!\n",
            "{'messages': [ToolMessage(content='[{\\'title\\': \\'Los Angeles, CA Weather Forecast - AccuWeather\\', \\'url\\': \\'https://www.accuweather.com/en/us/los-angeles/90012/weather-forecast/347625\\', \\'content\\': \"Tonight: Partly cloudy and humid; a shower in places late\\\\nLo: 68°\\\\n\\\\n## Current Weather\\\\n\\\\n7:48 AM\\\\n\\\\n## Looking Ahead\\\\n\\\\nPleasant Sunday\\\\n\\\\n## Los Angeles Weather Radar\\\\n\\\\nLos Angeles Weather Radar\\\\n\\\\n## Hourly Weather\\\\n\\\\nrain drop\\\\n\\\\nrain drop\\\\n\\\\nrain drop\\\\n\\\\nrain drop\\\\n\\\\nrain drop\\\\n\\\\nrain drop\\\\n\\\\nrain drop\\\\n\\\\nrain drop\\\\n\\\\nrain drop\\\\n\\\\nrain drop\\\\n\\\\nrain drop\\\\n\\\\nrain drop\\\\n\\\\n## 10-Day Weather Forecast\\\\n\\\\nToday\\\\n\\\\n9/23\\\\n\\\\nWarm with periods of sun\\\\n\\\\nNight: Humid; a brief shower late\\\\n\\\\nWed\\\\n\\\\n9/24\\\\n\\\\nPartly sunny\\\\n\\\\nClear\\\\n\\\\nThu\\\\n\\\\n9/25 [...] Areas of low clouds, then sun\\\\n\\\\nIncreasing cloudiness\\\\n\\\\nFri\\\\n\\\\n9/26\\\\n\\\\nAreas of low clouds, then sun\\\\n\\\\nBecoming cloudy\\\\n\\\\nSat\\\\n\\\\n9/27\\\\n\\\\nAreas of low clouds, then sun\\\\n\\\\nMostly clear\\\\n\\\\nSun\\\\n\\\\n9/28\\\\n\\\\nPartly sunny and beautiful\\\\n\\\\nClear\\\\n\\\\nMon\\\\n\\\\n9/29\\\\n\\\\nSun and areas of high clouds\\\\n\\\\nClear\\\\n\\\\nTue\\\\n\\\\n9/30\\\\n\\\\nPartly sunny\\\\n\\\\nClear\\\\n\\\\nWed\\\\n\\\\n10/1\\\\n\\\\nPlenty of sunshine\\\\n\\\\nClear\\\\n\\\\nThu\\\\n\\\\n10/2\\\\n\\\\nPlenty of sunshine\\\\n\\\\nClear\\\\n\\\\n## Sun & Moon\\\\n\\\\n## Air Quality [...] # Los Angeles, CA\\\\n\\\\nLos Angeles\\\\n\\\\nCalifornia\\\\n\\\\n## Around the Globe\\\\n\\\\nAround the Globe\\\\n\\\\n### Hurricane Tracker\\\\n\\\\n### Severe Weather\\\\n\\\\n### Radar & Maps\\\\n\\\\n### News & Features\\\\n\\\\n### Astronomy\\\\n\\\\n### Business\\\\n\\\\n### Climate\\\\n\\\\n### Health\\\\n\\\\n### Recreation\\\\n\\\\n### Sports\\\\n\\\\n### Travel\\\\n\\\\n### Warnings\\\\n\\\\n### Data Suite\\\\n\\\\n### Forensics\\\\n\\\\n### Advertising\\\\n\\\\n### Superior Accuracy™\\\\n\\\\n### Video\\\\n\\\\n### Winter Center\\\\n\\\\n## Today\\\\n\\\\n## Today\\'s Weather\\\\n\\\\nTue, Sep 23\\\\n\\\\nWarm with times of clouds and sun\\\\nHi: 88°\", \\'score\\': 0.81133276}, {\\'title\\': \\'Los Angeles, CA Monthly Weather - AccuWeather\\', \\'url\\': \\'https://www.accuweather.com/en/us/los-angeles/90012/september-weather/347625\\', \\'content\\': \\'# Los Angeles, CA\\\\n\\\\nLos Angeles\\\\n\\\\nCalifornia\\\\n\\\\n## Around the Globe\\\\n\\\\nAround the Globe\\\\n\\\\n### Hurricane Tracker\\\\n\\\\n### Severe Weather\\\\n\\\\n### Radar & Maps\\\\n\\\\n### News & Features\\\\n\\\\n### Astronomy\\\\n\\\\n### Business\\\\n\\\\n### Climate\\\\n\\\\n### Health\\\\n\\\\n### Recreation\\\\n\\\\n### Sports\\\\n\\\\n### Travel\\\\n\\\\n### Warnings\\\\n\\\\n### Data Suite\\\\n\\\\n### Forensics\\\\n\\\\n### Advertising\\\\n\\\\n### Superior Accuracy™\\\\n\\\\n### Video\\\\n\\\\n### Winter Center\\\\n\\\\n## Monthly\\\\n\\\\n## September\\\\n\\\\n## 2025\\\\n\\\\n## Daily\\\\n\\\\n## Temperature Graph\\\\n\\\\n## Further Ahead\\\\n\\\\nFurther Ahead\\\\n\\\\n### October 2025\\', \\'score\\': 0.57637566}]', name='tavily_search_results_json', id='8b88654c-8e12-451f-a4a7-049d1030e1b3', tool_call_id='call_YKr1mPm9DPVsScbNuWNbtXgd')]}\n",
            "{'messages': [HumanMessage(content='Whats the weather in LA?', additional_kwargs={}, response_metadata={}, id='ff81c88b-5454-4bfb-a501-01cba74651b7'), AIMessage(content='', additional_kwargs={'tool_calls': [{'id': 'call_YKr1mPm9DPVsScbNuWNbtXgd', 'function': {'arguments': '{\"query\":\"current weather in Los Angeles\"}', 'name': 'tavily_search_results_json'}, 'type': 'function'}], 'refusal': None}, response_metadata={'token_usage': {'completion_tokens': 22, 'prompt_tokens': 150, 'total_tokens': 172, 'completion_tokens_details': {'accepted_prediction_tokens': 0, 'audio_tokens': 0, 'reasoning_tokens': 0, 'rejected_prediction_tokens': 0}, 'prompt_tokens_details': {'audio_tokens': 0, 'cached_tokens': 0}}, 'model_name': 'gpt-4.1-2025-04-14', 'system_fingerprint': 'fp_3502f4eb73', 'id': 'chatcmpl-CIyG4rBYnLKsVMrLW2Uxf3LYvtA2D', 'service_tier': 'default', 'finish_reason': 'tool_calls', 'logprobs': None}, id='run--e3f72fd6-366d-484b-9813-569168745ea6-0', tool_calls=[{'name': 'tavily_search_results_json', 'args': {'query': 'current weather in LA, accuweather'}, 'id': 'call_YKr1mPm9DPVsScbNuWNbtXgd', 'type': 'tool_call'}], usage_metadata={'input_tokens': 150, 'output_tokens': 22, 'total_tokens': 172, 'input_token_details': {'audio': 0, 'cache_read': 0}, 'output_token_details': {'audio': 0, 'reasoning': 0}}), ToolMessage(content='[{\\'title\\': \\'Los Angeles, CA Weather Forecast - AccuWeather\\', \\'url\\': \\'https://www.accuweather.com/en/us/los-angeles/90012/weather-forecast/347625\\', \\'content\\': \"Tonight: Partly cloudy and humid; a shower in places late\\\\nLo: 68°\\\\n\\\\n## Current Weather\\\\n\\\\n7:48 AM\\\\n\\\\n## Looking Ahead\\\\n\\\\nPleasant Sunday\\\\n\\\\n## Los Angeles Weather Radar\\\\n\\\\nLos Angeles Weather Radar\\\\n\\\\n## Hourly Weather\\\\n\\\\nrain drop\\\\n\\\\nrain drop\\\\n\\\\nrain drop\\\\n\\\\nrain drop\\\\n\\\\nrain drop\\\\n\\\\nrain drop\\\\n\\\\nrain drop\\\\n\\\\nrain drop\\\\n\\\\nrain drop\\\\n\\\\nrain drop\\\\n\\\\nrain drop\\\\n\\\\nrain drop\\\\n\\\\n## 10-Day Weather Forecast\\\\n\\\\nToday\\\\n\\\\n9/23\\\\n\\\\nWarm with periods of sun\\\\n\\\\nNight: Humid; a brief shower late\\\\n\\\\nWed\\\\n\\\\n9/24\\\\n\\\\nPartly sunny\\\\n\\\\nClear\\\\n\\\\nThu\\\\n\\\\n9/25 [...] Areas of low clouds, then sun\\\\n\\\\nIncreasing cloudiness\\\\n\\\\nFri\\\\n\\\\n9/26\\\\n\\\\nAreas of low clouds, then sun\\\\n\\\\nBecoming cloudy\\\\n\\\\nSat\\\\n\\\\n9/27\\\\n\\\\nAreas of low clouds, then sun\\\\n\\\\nMostly clear\\\\n\\\\nSun\\\\n\\\\n9/28\\\\n\\\\nPartly sunny and beautiful\\\\n\\\\nClear\\\\n\\\\nMon\\\\n\\\\n9/29\\\\n\\\\nSun and areas of high clouds\\\\n\\\\nClear\\\\n\\\\nTue\\\\n\\\\n9/30\\\\n\\\\nPartly sunny\\\\n\\\\nClear\\\\n\\\\nWed\\\\n\\\\n10/1\\\\n\\\\nPlenty of sunshine\\\\n\\\\nClear\\\\n\\\\nThu\\\\n\\\\n10/2\\\\n\\\\nPlenty of sunshine\\\\n\\\\nClear\\\\n\\\\n## Sun & Moon\\\\n\\\\n## Air Quality [...] # Los Angeles, CA\\\\n\\\\nLos Angeles\\\\n\\\\nCalifornia\\\\n\\\\n## Around the Globe\\\\n\\\\nAround the Globe\\\\n\\\\n### Hurricane Tracker\\\\n\\\\n### Severe Weather\\\\n\\\\n### Radar & Maps\\\\n\\\\n### News & Features\\\\n\\\\n### Astronomy\\\\n\\\\n### Business\\\\n\\\\n### Climate\\\\n\\\\n### Health\\\\n\\\\n### Recreation\\\\n\\\\n### Sports\\\\n\\\\n### Travel\\\\n\\\\n### Warnings\\\\n\\\\n### Data Suite\\\\n\\\\n### Forensics\\\\n\\\\n### Advertising\\\\n\\\\n### Superior Accuracy™\\\\n\\\\n### Video\\\\n\\\\n### Winter Center\\\\n\\\\n## Today\\\\n\\\\n## Today\\'s Weather\\\\n\\\\nTue, Sep 23\\\\n\\\\nWarm with times of clouds and sun\\\\nHi: 88°\", \\'score\\': 0.81133276}, {\\'title\\': \\'Los Angeles, CA Monthly Weather - AccuWeather\\', \\'url\\': \\'https://www.accuweather.com/en/us/los-angeles/90012/september-weather/347625\\', \\'content\\': \\'# Los Angeles, CA\\\\n\\\\nLos Angeles\\\\n\\\\nCalifornia\\\\n\\\\n## Around the Globe\\\\n\\\\nAround the Globe\\\\n\\\\n### Hurricane Tracker\\\\n\\\\n### Severe Weather\\\\n\\\\n### Radar & Maps\\\\n\\\\n### News & Features\\\\n\\\\n### Astronomy\\\\n\\\\n### Business\\\\n\\\\n### Climate\\\\n\\\\n### Health\\\\n\\\\n### Recreation\\\\n\\\\n### Sports\\\\n\\\\n### Travel\\\\n\\\\n### Warnings\\\\n\\\\n### Data Suite\\\\n\\\\n### Forensics\\\\n\\\\n### Advertising\\\\n\\\\n### Superior Accuracy™\\\\n\\\\n### Video\\\\n\\\\n### Winter Center\\\\n\\\\n## Monthly\\\\n\\\\n## September\\\\n\\\\n## 2025\\\\n\\\\n## Daily\\\\n\\\\n## Temperature Graph\\\\n\\\\n## Further Ahead\\\\n\\\\nFurther Ahead\\\\n\\\\n### October 2025\\', \\'score\\': 0.57637566}]', name='tavily_search_results_json', id='8b88654c-8e12-451f-a4a7-049d1030e1b3', tool_call_id='call_YKr1mPm9DPVsScbNuWNbtXgd'), AIMessage(content='The current weather in Los Angeles (LA) is warm with periods of sun, with a high around 88°F. Tonight, it will be partly cloudy and humid, with a low around 68°F and a chance of a brief shower late.', additional_kwargs={'refusal': None}, response_metadata={'token_usage': {'completion_tokens': 51, 'prompt_tokens': 908, 'total_tokens': 959, 'completion_tokens_details': {'accepted_prediction_tokens': 0, 'audio_tokens': 0, 'reasoning_tokens': 0, 'rejected_prediction_tokens': 0}, 'prompt_tokens_details': {'audio_tokens': 0, 'cached_tokens': 0}}, 'model_name': 'gpt-4.1-2025-04-14', 'system_fingerprint': 'fp_3502f4eb73', 'id': 'chatcmpl-CIybzruPY3jKfxCNBQmwUBRFdVVkF', 'service_tier': 'default', 'finish_reason': 'stop', 'logprobs': None}, id='run--4f16e61f-5223-4ef2-bde3-036045a55947-0', usage_metadata={'input_tokens': 908, 'output_tokens': 51, 'total_tokens': 959, 'input_token_details': {'audio': 0, 'cache_read': 0}, 'output_token_details': {'audio': 0, 'reasoning': 0}})]}\n",
            "{'messages': [AIMessage(content='The current weather in Los Angeles (LA) is warm with periods of sun, with a high around 88°F. Tonight, it will be partly cloudy and humid, with a low around 68°F and a chance of a brief shower late.', additional_kwargs={'refusal': None}, response_metadata={'token_usage': {'completion_tokens': 51, 'prompt_tokens': 908, 'total_tokens': 959, 'completion_tokens_details': {'accepted_prediction_tokens': 0, 'audio_tokens': 0, 'reasoning_tokens': 0, 'rejected_prediction_tokens': 0}, 'prompt_tokens_details': {'audio_tokens': 0, 'cached_tokens': 0}}, 'model_name': 'gpt-4.1-2025-04-14', 'system_fingerprint': 'fp_3502f4eb73', 'id': 'chatcmpl-CIybzruPY3jKfxCNBQmwUBRFdVVkF', 'service_tier': 'default', 'finish_reason': 'stop', 'logprobs': None}, id='run--4f16e61f-5223-4ef2-bde3-036045a55947-0', usage_metadata={'input_tokens': 908, 'output_tokens': 51, 'total_tokens': 959, 'input_token_details': {'audio': 0, 'cache_read': 0}, 'output_token_details': {'audio': 0, 'reasoning': 0}})]}\n"
          ]
        }
      ]
    },
    {
      "cell_type": "code",
      "source": [
        "# 108 Another thing that can be done is to add messages to a state\n",
        "# at any given point in time\n",
        "to_replay"
      ],
      "metadata": {
        "colab": {
          "base_uri": "https://localhost:8080/"
        },
        "id": "p8KZlrlgDRiL",
        "outputId": "d27c635c-2718-489d-aa1e-2651bddbccb9"
      },
      "execution_count": null,
      "outputs": [
        {
          "output_type": "execute_result",
          "data": {
            "text/plain": [
              "StateSnapshot(values={'messages': [HumanMessage(content='Whats the weather in LA?', additional_kwargs={}, response_metadata={}, id='ff81c88b-5454-4bfb-a501-01cba74651b7'), AIMessage(content='', additional_kwargs={'tool_calls': [{'id': 'call_YKr1mPm9DPVsScbNuWNbtXgd', 'function': {'arguments': '{\"query\":\"current weather in Los Angeles\"}', 'name': 'tavily_search_results_json'}, 'type': 'function'}], 'refusal': None}, response_metadata={'token_usage': {'completion_tokens': 22, 'prompt_tokens': 150, 'total_tokens': 172, 'completion_tokens_details': {'accepted_prediction_tokens': 0, 'audio_tokens': 0, 'reasoning_tokens': 0, 'rejected_prediction_tokens': 0}, 'prompt_tokens_details': {'audio_tokens': 0, 'cached_tokens': 0}}, 'model_name': 'gpt-4.1-2025-04-14', 'system_fingerprint': 'fp_3502f4eb73', 'id': 'chatcmpl-CIyG4rBYnLKsVMrLW2Uxf3LYvtA2D', 'service_tier': 'default', 'finish_reason': 'tool_calls', 'logprobs': None}, id='run--e3f72fd6-366d-484b-9813-569168745ea6-0', tool_calls=[{'name': 'tavily_search_results_json', 'args': {'query': 'current weather in LA, accuweather'}, 'id': 'call_YKr1mPm9DPVsScbNuWNbtXgd'}], usage_metadata={'input_tokens': 150, 'output_tokens': 22, 'total_tokens': 172, 'input_token_details': {'audio': 0, 'cache_read': 0}, 'output_token_details': {'audio': 0, 'reasoning': 0}})]}, next=('action',), config={'configurable': {'thread_id': '3', 'checkpoint_ns': '', 'checkpoint_id': '1f098894-1f2e-638e-8001-573a36c706d4'}}, metadata={'source': 'loop', 'step': 1, 'parents': {}}, created_at='2025-09-23T14:26:13.286357+00:00', parent_config={'configurable': {'thread_id': '3', 'checkpoint_ns': '', 'checkpoint_id': '1f098894-1647-6717-8000-f18b17e8d244'}}, tasks=(PregelTask(id='f3e4d885-882b-d78d-ad87-baee001791cb', name='action', path=('__pregel_pull', 'action'), error=None, interrupts=(), state=None, result=None),), interrupts=())"
            ]
          },
          "metadata": {},
          "execution_count": 62
        }
      ]
    },
    {
      "cell_type": "code",
      "source": [
        "# 109 Get the id of the tool call\n",
        "\n",
        "_id = to_replay.values['messages'][-1].tool_calls[0]['id']"
      ],
      "metadata": {
        "id": "kg-yQ1FCEHRZ"
      },
      "execution_count": null,
      "outputs": []
    },
    {
      "cell_type": "code",
      "source": [
        "# 110 We amke the state update, instead of calling Tavily we can mock out a response as below\n",
        "state_update = {\"messages\": [ToolMessage(\n",
        "    tool_call_id=_id,\n",
        "    name=\"tavily_search_results_json\",\n",
        "    content=\"54 degree celcius\",\n",
        ")]}\n"
      ],
      "metadata": {
        "id": "s7sQ1NTMDjW9"
      },
      "execution_count": null,
      "outputs": []
    },
    {
      "cell_type": "code",
      "source": [
        "# 111 Update he state of the graph\n",
        "# 112 add add_node as action\n",
        "branch_and_add = abot.graph.update_state(\n",
        "    to_replay.config,\n",
        "    state_update,\n",
        "    as_node=\"action\")"
      ],
      "metadata": {
        "id": "Ptpe9i3MEnLg"
      },
      "execution_count": null,
      "outputs": []
    },
    {
      "cell_type": "code",
      "source": [
        "#113 Call stream and you can see it does not take action anyhwere\n",
        "\n",
        "for event in abot.graph.stream(None, branch_and_add):\n",
        "    for k, v in event.items():\n",
        "        print(v)"
      ],
      "metadata": {
        "colab": {
          "base_uri": "https://localhost:8080/"
        },
        "id": "s9wxkgwGFmv_",
        "outputId": "135d41ee-a5eb-473b-e0d2-d0fe20139254"
      },
      "execution_count": null,
      "outputs": [
        {
          "output_type": "stream",
          "name": "stdout",
          "text": [
            "{'messages': [HumanMessage(content='Whats the weather in LA?', additional_kwargs={}, response_metadata={}, id='ff81c88b-5454-4bfb-a501-01cba74651b7'), AIMessage(content='', additional_kwargs={'tool_calls': [{'id': 'call_YKr1mPm9DPVsScbNuWNbtXgd', 'function': {'arguments': '{\"query\":\"current weather in Los Angeles\"}', 'name': 'tavily_search_results_json'}, 'type': 'function'}], 'refusal': None}, response_metadata={'token_usage': {'completion_tokens': 22, 'prompt_tokens': 150, 'total_tokens': 172, 'completion_tokens_details': {'accepted_prediction_tokens': 0, 'audio_tokens': 0, 'reasoning_tokens': 0, 'rejected_prediction_tokens': 0}, 'prompt_tokens_details': {'audio_tokens': 0, 'cached_tokens': 0}}, 'model_name': 'gpt-4.1-2025-04-14', 'system_fingerprint': 'fp_3502f4eb73', 'id': 'chatcmpl-CIyG4rBYnLKsVMrLW2Uxf3LYvtA2D', 'service_tier': 'default', 'finish_reason': 'tool_calls', 'logprobs': None}, id='run--e3f72fd6-366d-484b-9813-569168745ea6-0', tool_calls=[{'name': 'tavily_search_results_json', 'args': {'query': 'current weather in Los Angeles'}, 'id': 'call_YKr1mPm9DPVsScbNuWNbtXgd', 'type': 'tool_call'}], usage_metadata={'input_tokens': 150, 'output_tokens': 22, 'total_tokens': 172, 'input_token_details': {'audio': 0, 'cache_read': 0}, 'output_token_details': {'audio': 0, 'reasoning': 0}}), ToolMessage(content='54 degree celcius', name='tavily_search_results_json', id='3ac4dabf-c502-4728-be6e-56d874a6bdf6', tool_call_id='call_YKr1mPm9DPVsScbNuWNbtXgd'), AIMessage(content='The current reported temperature in Los Angeles is 54°C. However, this seems unusually high, so it is possible there was an error in the source. Would you like me to check another source for a more accurate update?', additional_kwargs={'refusal': None}, response_metadata={'token_usage': {'completion_tokens': 46, 'prompt_tokens': 188, 'total_tokens': 234, 'completion_tokens_details': {'accepted_prediction_tokens': 0, 'audio_tokens': 0, 'reasoning_tokens': 0, 'rejected_prediction_tokens': 0}, 'prompt_tokens_details': {'audio_tokens': 0, 'cached_tokens': 0}}, 'model_name': 'gpt-4.1-2025-04-14', 'system_fingerprint': 'fp_3502f4eb73', 'id': 'chatcmpl-CIymuoKA06Do0IL3zxd7umaoInaoj', 'service_tier': 'default', 'finish_reason': 'stop', 'logprobs': None}, id='run--6408182f-f6f9-4b52-9d72-3bc1233c6ef4-0', usage_metadata={'input_tokens': 188, 'output_tokens': 46, 'total_tokens': 234, 'input_token_details': {'audio': 0, 'cache_read': 0}, 'output_token_details': {'audio': 0, 'reasoning': 0}})]}\n",
            "{'messages': [AIMessage(content='The current reported temperature in Los Angeles is 54°C. However, this seems unusually high, so it is possible there was an error in the source. Would you like me to check another source for a more accurate update?', additional_kwargs={'refusal': None}, response_metadata={'token_usage': {'completion_tokens': 46, 'prompt_tokens': 188, 'total_tokens': 234, 'completion_tokens_details': {'accepted_prediction_tokens': 0, 'audio_tokens': 0, 'reasoning_tokens': 0, 'rejected_prediction_tokens': 0}, 'prompt_tokens_details': {'audio_tokens': 0, 'cached_tokens': 0}}, 'model_name': 'gpt-4.1-2025-04-14', 'system_fingerprint': 'fp_3502f4eb73', 'id': 'chatcmpl-CIymuoKA06Do0IL3zxd7umaoInaoj', 'service_tier': 'default', 'finish_reason': 'stop', 'logprobs': None}, id='run--6408182f-f6f9-4b52-9d72-3bc1233c6ef4-0', usage_metadata={'input_tokens': 188, 'output_tokens': 46, 'total_tokens': 234, 'input_token_details': {'audio': 0, 'cache_read': 0}, 'output_token_details': {'audio': 0, 'reasoning': 0}})]}\n"
          ]
        }
      ]
    }
  ]
}