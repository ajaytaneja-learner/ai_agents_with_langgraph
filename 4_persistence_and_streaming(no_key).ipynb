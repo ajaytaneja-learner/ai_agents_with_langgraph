{
  "nbformat": 4,
  "nbformat_minor": 0,
  "metadata": {
    "colab": {
      "provenance": []
    },
    "kernelspec": {
      "name": "python3",
      "display_name": "Python 3"
    },
    "language_info": {
      "name": "python"
    }
  },
  "cells": [
    {
      "cell_type": "markdown",
      "source": [
        "When building Agents, we’re often working on longer running tasks. This requires understanding of two important concepts: Persistence and Streaming. Persistence lets you record the state of the Agent at a particular point in time. This allows you to go back and resume in that state for future interactions. This is important for long running applications.\n",
        "\n",
        "Likewise with streaming, you can emit a list of signals of what’s going on that moment. So, for long running applications, you know exactly what the Agent is doing at that instant. Let us outline the steps followed in the Colab notebook attached with this article:\n",
        "\n",
        "1)\tTo get started, we create the Agent as before.\n",
        "\n",
        "2)\tWe load in the environment variables.\n",
        "\n",
        "3)\tWe make the necessary imports\n",
        "\n",
        "4)\tWe create the Tivily search tool again\n",
        "\n",
        "5)\tWe create the Agent state\n",
        "\n",
        "6)\tWe create the Agent\n",
        "\n",
        "7)\tWe next add in persistence\n",
        "\n",
        "8)\tIn order to deal with persistence, we need to understand the concept of check pointer in LangGraph\n",
        "\n",
        "9)\tA check pointer “check points” the state between every node\n",
        "\n",
        "10)\tTo add in persistence, we use a sqlite server.\n",
        "\n",
        "11)\tThis is a very simple check pointer that uses sqlite under the hood.\n",
        "\n",
        "12)\tWe just use in memory database\n",
        "\n",
        "13)\tIf we refresh the notebook, it will disappear\n",
        "\n",
        "14)\tFor a live use case, you will have to connect it to an external database\n",
        "\n",
        "15)\tWe also have check pointers that use Redis and Postgres and other persistence databases.\n",
        "\n",
        "16)\tHere we initialise the check pointer, we pass it to the graph compile\n",
        "\n",
        "17)\tThis will be another parameter that we add it to the Agent\n",
        "\n",
        "18)\tWe initialize the Agent and pass in the check pointer\n",
        "\n",
        "19)\tWhen we use the Agent, we also add in concept of streaming\n",
        "\n",
        "20)\tThere are two things to care about streaming:\n",
        "\n",
        "a)\tFirst, we take the case of streaming individual messages\n",
        "b)\tNext is the streaming of observation messages that determine the result of taking the action\n",
        "\n",
        "21)\tWe also consider the case if streaming the tokens. For each token of the LLM call, we might want to stream the output.\n",
        "\n",
        "22)\tIn the notebook, we first add streaming to the AI message.\n",
        "\n",
        "23)\tWe create a Human message\n",
        "\n",
        "24)\tWe add the thread config which allows to keep track of different threads and persistence check point\n",
        "\n",
        "25)\tThis allows us to have multiple conversations going on at the same time\n",
        "\n",
        "26)\tThe thread config is mainly a dictionary with config key and a thread id which is a string. Here we set it equal to “1”.\n",
        "\n",
        "27)\tWe call the graph not with the invoke but with stream\n",
        "\n",
        "28)\tWe pass in the messages dictionary as well as the thread config\n",
        "\n",
        "29)\tWe ask a question – What is the weather like in San Francisco?\n",
        "\n",
        "30)\tWe get back a stream of events a) AI Message b) Tool Message c) Thin AI message\n",
        "\n",
        "31)\tWe ask it another question: What about LA?\n",
        "\n",
        "32)\tIt may be oticed that there is no “weather” word here but because of persistence, it does the function call and we can see AI message with stream\n",
        "\n",
        "33)\tWe can call again using he ame thread id, asking: “Which is warmer”?\n",
        "\n",
        "34)\tChanging the thread id, one can notice that the Language Model is not able to retrieve the answer.\n",
        "\n",
        "35)\tThe above snippets covered the importance of persistence and we will next see how we can stream events\n",
        "\n",
        "36)\tLet us now see streaming of tokens\n",
        "\n",
        "37)\tWe use A stream event method that comes on all LangChain and LangGraph Agents\n",
        "\n",
        "38)\tA Sync event is an asynchronous event which means that we use async check pointer\n",
        "\n",
        "39)\tWe import async sqlite server and pass that to the Agent\n",
        "\n",
        "40)\tThis is the same as before – we are just swapping synchronous sql lite server with asynchronous sqlite server\n",
        "\n",
        "41)\tThis allows us to use asynchronous methods on the Graph\n",
        "\n",
        "42)\tWe use a new thread id to start the conversation afresh\n",
        "\n",
        "43)\tWe also use different type of events. The events represent update from the underlying stream. We look for events corresponding to the new token\n",
        "\n",
        "44)\tThese kinds of events are based on model stream\n",
        "\n",
        "45)\tWhen we use these events, we want the event printed out and we print it with pipe delimiter\n",
        "\n",
        "46)\tWhen we run this, we can see the streaming real time\n",
        "\n",
        "47)\tWe will be able to see the streaming of the tokens real time.\n",
        "\n",
        "48)\tThis becomes very useful in production applications.\n",
        "\n"
      ],
      "metadata": {
        "id": "kf6T_6wEuOEW"
      }
    },
    {
      "cell_type": "code",
      "source": [
        "# 1. Two important concepts. Persistence and Streaming\n",
        "# 2. Persistence lets you keep around the state of the Agent\n",
        "# at a particular point in time.\n",
        "# 3. This allows you to go back to that satte and resume in that state at\n",
        "# any instant\n",
        "# 4. This is important for long running applicatiions.\n",
        "# 5. Likewise for streaming, you can emit a list of signals\n",
        "# of what's going at that moment.\n",
        "# 6. So, for long running applications we know exactly what the Agent is doing\n"
      ],
      "metadata": {
        "id": "Xtc_oRxyuRNU"
      },
      "execution_count": null,
      "outputs": []
    },
    {
      "cell_type": "code",
      "source": [
        "#7. Lets craete the Agent\n",
        "#8. First, load in the environment variables.\n",
        "\n",
        "import os\n",
        "import openai\n",
        "os.environ[\"OPENAI_API_KEY\"] = \"\"\n",
        "openai.api_key = os.environ['OPENAI_API_KEY']\n",
        "os.environ[\"TAVILY_API_KEY\"] = \"\""
      ],
      "metadata": {
        "id": "Q2eHq3E9vaUW"
      },
      "execution_count": null,
      "outputs": []
    },
    {
      "cell_type": "code",
      "source": [
        "# 9. We make the necessary imports related to LAngGraph, etc\n",
        "\n",
        "!pip install langgraph\n",
        "!pip install langchain-openai\n",
        "!pip install langchain-community\n",
        "\n",
        "from langgraph.graph import StateGraph, END\n",
        "from typing import TypedDict, Annotated\n",
        "import operator\n",
        "from langchain_core.messages import AnyMessage, SystemMessage, HumanMessage, ToolMessage\n",
        "from langchain_openai import ChatOpenAI\n",
        "from langchain_community.tools.tavily_search import TavilySearchResults"
      ],
      "metadata": {
        "colab": {
          "base_uri": "https://localhost:8080/"
        },
        "collapsed": true,
        "id": "8OvT467hwtn9",
        "outputId": "87e0e70d-e426-4993-d2d6-46d68efb5410"
      },
      "execution_count": null,
      "outputs": [
        {
          "output_type": "stream",
          "name": "stdout",
          "text": [
            "Requirement already satisfied: langgraph in /usr/local/lib/python3.12/dist-packages (0.6.6)\n",
            "Requirement already satisfied: langchain-core>=0.1 in /usr/local/lib/python3.12/dist-packages (from langgraph) (0.3.74)\n",
            "Requirement already satisfied: langgraph-checkpoint<3.0.0,>=2.1.0 in /usr/local/lib/python3.12/dist-packages (from langgraph) (2.1.1)\n",
            "Requirement already satisfied: langgraph-prebuilt<0.7.0,>=0.6.0 in /usr/local/lib/python3.12/dist-packages (from langgraph) (0.6.4)\n",
            "Requirement already satisfied: langgraph-sdk<0.3.0,>=0.2.2 in /usr/local/lib/python3.12/dist-packages (from langgraph) (0.2.3)\n",
            "Requirement already satisfied: pydantic>=2.7.4 in /usr/local/lib/python3.12/dist-packages (from langgraph) (2.11.7)\n",
            "Requirement already satisfied: xxhash>=3.5.0 in /usr/local/lib/python3.12/dist-packages (from langgraph) (3.5.0)\n",
            "Requirement already satisfied: langsmith>=0.3.45 in /usr/local/lib/python3.12/dist-packages (from langchain-core>=0.1->langgraph) (0.4.14)\n",
            "Requirement already satisfied: tenacity!=8.4.0,<10.0.0,>=8.1.0 in /usr/local/lib/python3.12/dist-packages (from langchain-core>=0.1->langgraph) (8.5.0)\n",
            "Requirement already satisfied: jsonpatch<2.0,>=1.33 in /usr/local/lib/python3.12/dist-packages (from langchain-core>=0.1->langgraph) (1.33)\n",
            "Requirement already satisfied: PyYAML>=5.3 in /usr/local/lib/python3.12/dist-packages (from langchain-core>=0.1->langgraph) (6.0.2)\n",
            "Requirement already satisfied: typing-extensions>=4.7 in /usr/local/lib/python3.12/dist-packages (from langchain-core>=0.1->langgraph) (4.14.1)\n",
            "Requirement already satisfied: packaging>=23.2 in /usr/local/lib/python3.12/dist-packages (from langchain-core>=0.1->langgraph) (25.0)\n",
            "Requirement already satisfied: ormsgpack>=1.10.0 in /usr/local/lib/python3.12/dist-packages (from langgraph-checkpoint<3.0.0,>=2.1.0->langgraph) (1.10.0)\n",
            "Requirement already satisfied: httpx>=0.25.2 in /usr/local/lib/python3.12/dist-packages (from langgraph-sdk<0.3.0,>=0.2.2->langgraph) (0.28.1)\n",
            "Requirement already satisfied: orjson>=3.10.1 in /usr/local/lib/python3.12/dist-packages (from langgraph-sdk<0.3.0,>=0.2.2->langgraph) (3.11.2)\n",
            "Requirement already satisfied: annotated-types>=0.6.0 in /usr/local/lib/python3.12/dist-packages (from pydantic>=2.7.4->langgraph) (0.7.0)\n",
            "Requirement already satisfied: pydantic-core==2.33.2 in /usr/local/lib/python3.12/dist-packages (from pydantic>=2.7.4->langgraph) (2.33.2)\n",
            "Requirement already satisfied: typing-inspection>=0.4.0 in /usr/local/lib/python3.12/dist-packages (from pydantic>=2.7.4->langgraph) (0.4.1)\n",
            "Requirement already satisfied: anyio in /usr/local/lib/python3.12/dist-packages (from httpx>=0.25.2->langgraph-sdk<0.3.0,>=0.2.2->langgraph) (4.10.0)\n",
            "Requirement already satisfied: certifi in /usr/local/lib/python3.12/dist-packages (from httpx>=0.25.2->langgraph-sdk<0.3.0,>=0.2.2->langgraph) (2025.8.3)\n",
            "Requirement already satisfied: httpcore==1.* in /usr/local/lib/python3.12/dist-packages (from httpx>=0.25.2->langgraph-sdk<0.3.0,>=0.2.2->langgraph) (1.0.9)\n",
            "Requirement already satisfied: idna in /usr/local/lib/python3.12/dist-packages (from httpx>=0.25.2->langgraph-sdk<0.3.0,>=0.2.2->langgraph) (3.10)\n",
            "Requirement already satisfied: h11>=0.16 in /usr/local/lib/python3.12/dist-packages (from httpcore==1.*->httpx>=0.25.2->langgraph-sdk<0.3.0,>=0.2.2->langgraph) (0.16.0)\n",
            "Requirement already satisfied: jsonpointer>=1.9 in /usr/local/lib/python3.12/dist-packages (from jsonpatch<2.0,>=1.33->langchain-core>=0.1->langgraph) (3.0.0)\n",
            "Requirement already satisfied: requests-toolbelt>=1.0.0 in /usr/local/lib/python3.12/dist-packages (from langsmith>=0.3.45->langchain-core>=0.1->langgraph) (1.0.0)\n",
            "Requirement already satisfied: requests>=2.0.0 in /usr/local/lib/python3.12/dist-packages (from langsmith>=0.3.45->langchain-core>=0.1->langgraph) (2.32.5)\n",
            "Requirement already satisfied: zstandard>=0.23.0 in /usr/local/lib/python3.12/dist-packages (from langsmith>=0.3.45->langchain-core>=0.1->langgraph) (0.24.0)\n",
            "Requirement already satisfied: charset_normalizer<4,>=2 in /usr/local/lib/python3.12/dist-packages (from requests>=2.0.0->langsmith>=0.3.45->langchain-core>=0.1->langgraph) (3.4.3)\n",
            "Requirement already satisfied: urllib3<3,>=1.21.1 in /usr/local/lib/python3.12/dist-packages (from requests>=2.0.0->langsmith>=0.3.45->langchain-core>=0.1->langgraph) (2.5.0)\n",
            "Requirement already satisfied: sniffio>=1.1 in /usr/local/lib/python3.12/dist-packages (from anyio->httpx>=0.25.2->langgraph-sdk<0.3.0,>=0.2.2->langgraph) (1.3.1)\n",
            "Requirement already satisfied: langchain-openai in /usr/local/lib/python3.12/dist-packages (0.3.32)\n",
            "Requirement already satisfied: langchain-core<1.0.0,>=0.3.74 in /usr/local/lib/python3.12/dist-packages (from langchain-openai) (0.3.74)\n",
            "Requirement already satisfied: openai<2.0.0,>=1.99.9 in /usr/local/lib/python3.12/dist-packages (from langchain-openai) (1.100.0)\n",
            "Requirement already satisfied: tiktoken<1,>=0.7 in /usr/local/lib/python3.12/dist-packages (from langchain-openai) (0.11.0)\n",
            "Requirement already satisfied: langsmith>=0.3.45 in /usr/local/lib/python3.12/dist-packages (from langchain-core<1.0.0,>=0.3.74->langchain-openai) (0.4.14)\n",
            "Requirement already satisfied: tenacity!=8.4.0,<10.0.0,>=8.1.0 in /usr/local/lib/python3.12/dist-packages (from langchain-core<1.0.0,>=0.3.74->langchain-openai) (8.5.0)\n",
            "Requirement already satisfied: jsonpatch<2.0,>=1.33 in /usr/local/lib/python3.12/dist-packages (from langchain-core<1.0.0,>=0.3.74->langchain-openai) (1.33)\n",
            "Requirement already satisfied: PyYAML>=5.3 in /usr/local/lib/python3.12/dist-packages (from langchain-core<1.0.0,>=0.3.74->langchain-openai) (6.0.2)\n",
            "Requirement already satisfied: typing-extensions>=4.7 in /usr/local/lib/python3.12/dist-packages (from langchain-core<1.0.0,>=0.3.74->langchain-openai) (4.14.1)\n",
            "Requirement already satisfied: packaging>=23.2 in /usr/local/lib/python3.12/dist-packages (from langchain-core<1.0.0,>=0.3.74->langchain-openai) (25.0)\n",
            "Requirement already satisfied: pydantic>=2.7.4 in /usr/local/lib/python3.12/dist-packages (from langchain-core<1.0.0,>=0.3.74->langchain-openai) (2.11.7)\n",
            "Requirement already satisfied: anyio<5,>=3.5.0 in /usr/local/lib/python3.12/dist-packages (from openai<2.0.0,>=1.99.9->langchain-openai) (4.10.0)\n",
            "Requirement already satisfied: distro<2,>=1.7.0 in /usr/local/lib/python3.12/dist-packages (from openai<2.0.0,>=1.99.9->langchain-openai) (1.9.0)\n",
            "Requirement already satisfied: httpx<1,>=0.23.0 in /usr/local/lib/python3.12/dist-packages (from openai<2.0.0,>=1.99.9->langchain-openai) (0.28.1)\n",
            "Requirement already satisfied: jiter<1,>=0.4.0 in /usr/local/lib/python3.12/dist-packages (from openai<2.0.0,>=1.99.9->langchain-openai) (0.10.0)\n",
            "Requirement already satisfied: sniffio in /usr/local/lib/python3.12/dist-packages (from openai<2.0.0,>=1.99.9->langchain-openai) (1.3.1)\n",
            "Requirement already satisfied: tqdm>4 in /usr/local/lib/python3.12/dist-packages (from openai<2.0.0,>=1.99.9->langchain-openai) (4.67.1)\n",
            "Requirement already satisfied: regex>=2022.1.18 in /usr/local/lib/python3.12/dist-packages (from tiktoken<1,>=0.7->langchain-openai) (2024.11.6)\n",
            "Requirement already satisfied: requests>=2.26.0 in /usr/local/lib/python3.12/dist-packages (from tiktoken<1,>=0.7->langchain-openai) (2.32.5)\n",
            "Requirement already satisfied: idna>=2.8 in /usr/local/lib/python3.12/dist-packages (from anyio<5,>=3.5.0->openai<2.0.0,>=1.99.9->langchain-openai) (3.10)\n",
            "Requirement already satisfied: certifi in /usr/local/lib/python3.12/dist-packages (from httpx<1,>=0.23.0->openai<2.0.0,>=1.99.9->langchain-openai) (2025.8.3)\n",
            "Requirement already satisfied: httpcore==1.* in /usr/local/lib/python3.12/dist-packages (from httpx<1,>=0.23.0->openai<2.0.0,>=1.99.9->langchain-openai) (1.0.9)\n",
            "Requirement already satisfied: h11>=0.16 in /usr/local/lib/python3.12/dist-packages (from httpcore==1.*->httpx<1,>=0.23.0->openai<2.0.0,>=1.99.9->langchain-openai) (0.16.0)\n",
            "Requirement already satisfied: jsonpointer>=1.9 in /usr/local/lib/python3.12/dist-packages (from jsonpatch<2.0,>=1.33->langchain-core<1.0.0,>=0.3.74->langchain-openai) (3.0.0)\n",
            "Requirement already satisfied: orjson>=3.9.14 in /usr/local/lib/python3.12/dist-packages (from langsmith>=0.3.45->langchain-core<1.0.0,>=0.3.74->langchain-openai) (3.11.2)\n",
            "Requirement already satisfied: requests-toolbelt>=1.0.0 in /usr/local/lib/python3.12/dist-packages (from langsmith>=0.3.45->langchain-core<1.0.0,>=0.3.74->langchain-openai) (1.0.0)\n",
            "Requirement already satisfied: zstandard>=0.23.0 in /usr/local/lib/python3.12/dist-packages (from langsmith>=0.3.45->langchain-core<1.0.0,>=0.3.74->langchain-openai) (0.24.0)\n",
            "Requirement already satisfied: annotated-types>=0.6.0 in /usr/local/lib/python3.12/dist-packages (from pydantic>=2.7.4->langchain-core<1.0.0,>=0.3.74->langchain-openai) (0.7.0)\n",
            "Requirement already satisfied: pydantic-core==2.33.2 in /usr/local/lib/python3.12/dist-packages (from pydantic>=2.7.4->langchain-core<1.0.0,>=0.3.74->langchain-openai) (2.33.2)\n",
            "Requirement already satisfied: typing-inspection>=0.4.0 in /usr/local/lib/python3.12/dist-packages (from pydantic>=2.7.4->langchain-core<1.0.0,>=0.3.74->langchain-openai) (0.4.1)\n",
            "Requirement already satisfied: charset_normalizer<4,>=2 in /usr/local/lib/python3.12/dist-packages (from requests>=2.26.0->tiktoken<1,>=0.7->langchain-openai) (3.4.3)\n",
            "Requirement already satisfied: urllib3<3,>=1.21.1 in /usr/local/lib/python3.12/dist-packages (from requests>=2.26.0->tiktoken<1,>=0.7->langchain-openai) (2.5.0)\n",
            "Requirement already satisfied: langchain-community in /usr/local/lib/python3.12/dist-packages (0.3.28)\n",
            "Requirement already satisfied: langchain-core<1.0.0,>=0.3.74 in /usr/local/lib/python3.12/dist-packages (from langchain-community) (0.3.74)\n",
            "Requirement already satisfied: langchain<1.0.0,>=0.3.27 in /usr/local/lib/python3.12/dist-packages (from langchain-community) (0.3.27)\n",
            "Requirement already satisfied: SQLAlchemy<3,>=1.4 in /usr/local/lib/python3.12/dist-packages (from langchain-community) (2.0.43)\n",
            "Requirement already satisfied: requests<3,>=2.32.5 in /usr/local/lib/python3.12/dist-packages (from langchain-community) (2.32.5)\n",
            "Requirement already satisfied: PyYAML>=5.3 in /usr/local/lib/python3.12/dist-packages (from langchain-community) (6.0.2)\n",
            "Requirement already satisfied: aiohttp<4.0.0,>=3.8.3 in /usr/local/lib/python3.12/dist-packages (from langchain-community) (3.12.15)\n",
            "Requirement already satisfied: tenacity!=8.4.0,<10,>=8.1.0 in /usr/local/lib/python3.12/dist-packages (from langchain-community) (8.5.0)\n",
            "Requirement already satisfied: dataclasses-json<0.7,>=0.6.7 in /usr/local/lib/python3.12/dist-packages (from langchain-community) (0.6.7)\n",
            "Requirement already satisfied: pydantic-settings<3.0.0,>=2.10.1 in /usr/local/lib/python3.12/dist-packages (from langchain-community) (2.10.1)\n",
            "Requirement already satisfied: langsmith>=0.1.125 in /usr/local/lib/python3.12/dist-packages (from langchain-community) (0.4.14)\n",
            "Requirement already satisfied: httpx-sse<1.0.0,>=0.4.0 in /usr/local/lib/python3.12/dist-packages (from langchain-community) (0.4.1)\n",
            "Requirement already satisfied: numpy>=1.26.2 in /usr/local/lib/python3.12/dist-packages (from langchain-community) (2.0.2)\n",
            "Requirement already satisfied: aiohappyeyeballs>=2.5.0 in /usr/local/lib/python3.12/dist-packages (from aiohttp<4.0.0,>=3.8.3->langchain-community) (2.6.1)\n",
            "Requirement already satisfied: aiosignal>=1.4.0 in /usr/local/lib/python3.12/dist-packages (from aiohttp<4.0.0,>=3.8.3->langchain-community) (1.4.0)\n",
            "Requirement already satisfied: attrs>=17.3.0 in /usr/local/lib/python3.12/dist-packages (from aiohttp<4.0.0,>=3.8.3->langchain-community) (25.3.0)\n",
            "Requirement already satisfied: frozenlist>=1.1.1 in /usr/local/lib/python3.12/dist-packages (from aiohttp<4.0.0,>=3.8.3->langchain-community) (1.7.0)\n",
            "Requirement already satisfied: multidict<7.0,>=4.5 in /usr/local/lib/python3.12/dist-packages (from aiohttp<4.0.0,>=3.8.3->langchain-community) (6.6.4)\n",
            "Requirement already satisfied: propcache>=0.2.0 in /usr/local/lib/python3.12/dist-packages (from aiohttp<4.0.0,>=3.8.3->langchain-community) (0.3.2)\n",
            "Requirement already satisfied: yarl<2.0,>=1.17.0 in /usr/local/lib/python3.12/dist-packages (from aiohttp<4.0.0,>=3.8.3->langchain-community) (1.20.1)\n",
            "Requirement already satisfied: marshmallow<4.0.0,>=3.18.0 in /usr/local/lib/python3.12/dist-packages (from dataclasses-json<0.7,>=0.6.7->langchain-community) (3.26.1)\n",
            "Requirement already satisfied: typing-inspect<1,>=0.4.0 in /usr/local/lib/python3.12/dist-packages (from dataclasses-json<0.7,>=0.6.7->langchain-community) (0.9.0)\n",
            "Requirement already satisfied: langchain-text-splitters<1.0.0,>=0.3.9 in /usr/local/lib/python3.12/dist-packages (from langchain<1.0.0,>=0.3.27->langchain-community) (0.3.9)\n",
            "Requirement already satisfied: pydantic<3.0.0,>=2.7.4 in /usr/local/lib/python3.12/dist-packages (from langchain<1.0.0,>=0.3.27->langchain-community) (2.11.7)\n",
            "Requirement already satisfied: jsonpatch<2.0,>=1.33 in /usr/local/lib/python3.12/dist-packages (from langchain-core<1.0.0,>=0.3.74->langchain-community) (1.33)\n",
            "Requirement already satisfied: typing-extensions>=4.7 in /usr/local/lib/python3.12/dist-packages (from langchain-core<1.0.0,>=0.3.74->langchain-community) (4.14.1)\n",
            "Requirement already satisfied: packaging>=23.2 in /usr/local/lib/python3.12/dist-packages (from langchain-core<1.0.0,>=0.3.74->langchain-community) (25.0)\n",
            "Requirement already satisfied: httpx<1,>=0.23.0 in /usr/local/lib/python3.12/dist-packages (from langsmith>=0.1.125->langchain-community) (0.28.1)\n",
            "Requirement already satisfied: orjson>=3.9.14 in /usr/local/lib/python3.12/dist-packages (from langsmith>=0.1.125->langchain-community) (3.11.2)\n",
            "Requirement already satisfied: requests-toolbelt>=1.0.0 in /usr/local/lib/python3.12/dist-packages (from langsmith>=0.1.125->langchain-community) (1.0.0)\n",
            "Requirement already satisfied: zstandard>=0.23.0 in /usr/local/lib/python3.12/dist-packages (from langsmith>=0.1.125->langchain-community) (0.24.0)\n",
            "Requirement already satisfied: python-dotenv>=0.21.0 in /usr/local/lib/python3.12/dist-packages (from pydantic-settings<3.0.0,>=2.10.1->langchain-community) (1.1.1)\n",
            "Requirement already satisfied: typing-inspection>=0.4.0 in /usr/local/lib/python3.12/dist-packages (from pydantic-settings<3.0.0,>=2.10.1->langchain-community) (0.4.1)\n",
            "Requirement already satisfied: charset_normalizer<4,>=2 in /usr/local/lib/python3.12/dist-packages (from requests<3,>=2.32.5->langchain-community) (3.4.3)\n",
            "Requirement already satisfied: idna<4,>=2.5 in /usr/local/lib/python3.12/dist-packages (from requests<3,>=2.32.5->langchain-community) (3.10)\n",
            "Requirement already satisfied: urllib3<3,>=1.21.1 in /usr/local/lib/python3.12/dist-packages (from requests<3,>=2.32.5->langchain-community) (2.5.0)\n",
            "Requirement already satisfied: certifi>=2017.4.17 in /usr/local/lib/python3.12/dist-packages (from requests<3,>=2.32.5->langchain-community) (2025.8.3)\n",
            "Requirement already satisfied: greenlet>=1 in /usr/local/lib/python3.12/dist-packages (from SQLAlchemy<3,>=1.4->langchain-community) (3.2.4)\n",
            "Requirement already satisfied: anyio in /usr/local/lib/python3.12/dist-packages (from httpx<1,>=0.23.0->langsmith>=0.1.125->langchain-community) (4.10.0)\n",
            "Requirement already satisfied: httpcore==1.* in /usr/local/lib/python3.12/dist-packages (from httpx<1,>=0.23.0->langsmith>=0.1.125->langchain-community) (1.0.9)\n",
            "Requirement already satisfied: h11>=0.16 in /usr/local/lib/python3.12/dist-packages (from httpcore==1.*->httpx<1,>=0.23.0->langsmith>=0.1.125->langchain-community) (0.16.0)\n",
            "Requirement already satisfied: jsonpointer>=1.9 in /usr/local/lib/python3.12/dist-packages (from jsonpatch<2.0,>=1.33->langchain-core<1.0.0,>=0.3.74->langchain-community) (3.0.0)\n",
            "Requirement already satisfied: annotated-types>=0.6.0 in /usr/local/lib/python3.12/dist-packages (from pydantic<3.0.0,>=2.7.4->langchain<1.0.0,>=0.3.27->langchain-community) (0.7.0)\n",
            "Requirement already satisfied: pydantic-core==2.33.2 in /usr/local/lib/python3.12/dist-packages (from pydantic<3.0.0,>=2.7.4->langchain<1.0.0,>=0.3.27->langchain-community) (2.33.2)\n",
            "Requirement already satisfied: mypy-extensions>=0.3.0 in /usr/local/lib/python3.12/dist-packages (from typing-inspect<1,>=0.4.0->dataclasses-json<0.7,>=0.6.7->langchain-community) (1.1.0)\n",
            "Requirement already satisfied: sniffio>=1.1 in /usr/local/lib/python3.12/dist-packages (from anyio->httpx<1,>=0.23.0->langsmith>=0.1.125->langchain-community) (1.3.1)\n"
          ]
        }
      ]
    },
    {
      "cell_type": "code",
      "source": [
        "# 10. Create the Tavily Search tool\n",
        "tool = TavilySearchResults(max_results=2)"
      ],
      "metadata": {
        "collapsed": true,
        "id": "slDdPRxyynKP"
      },
      "execution_count": null,
      "outputs": []
    },
    {
      "cell_type": "code",
      "source": [
        "# 11. Create the AgentState class\n",
        "class AgentState(TypedDict):\n",
        "    messages: Annotated[list[AnyMessage], operator.add]"
      ],
      "metadata": {
        "id": "5EUDNLK5y6gA"
      },
      "execution_count": null,
      "outputs": []
    },
    {
      "cell_type": "code",
      "source": [
        "!pip install langgraph-checkpoint-sqlite\n",
        "from langgraph.checkpoint.sqlite import SqliteSaver\n",
        "\n",
        "memory = SqliteSaver.from_conn_string(\":memory:\")"
      ],
      "metadata": {
        "colab": {
          "base_uri": "https://localhost:8080/"
        },
        "collapsed": true,
        "id": "fAxwXxPe2tuF",
        "outputId": "629e2adb-3a6c-4b79-cd79-30c7eab1f550"
      },
      "execution_count": null,
      "outputs": [
        {
          "output_type": "stream",
          "name": "stdout",
          "text": [
            "Requirement already satisfied: langgraph-checkpoint-sqlite in /usr/local/lib/python3.12/dist-packages (2.0.11)\n",
            "Requirement already satisfied: aiosqlite>=0.20 in /usr/local/lib/python3.12/dist-packages (from langgraph-checkpoint-sqlite) (0.21.0)\n",
            "Requirement already satisfied: langgraph-checkpoint<3.0.0,>=2.0.21 in /usr/local/lib/python3.12/dist-packages (from langgraph-checkpoint-sqlite) (2.1.1)\n",
            "Requirement already satisfied: sqlite-vec>=0.1.6 in /usr/local/lib/python3.12/dist-packages (from langgraph-checkpoint-sqlite) (0.1.6)\n",
            "Requirement already satisfied: typing_extensions>=4.0 in /usr/local/lib/python3.12/dist-packages (from aiosqlite>=0.20->langgraph-checkpoint-sqlite) (4.14.1)\n",
            "Requirement already satisfied: langchain-core>=0.2.38 in /usr/local/lib/python3.12/dist-packages (from langgraph-checkpoint<3.0.0,>=2.0.21->langgraph-checkpoint-sqlite) (0.3.74)\n",
            "Requirement already satisfied: ormsgpack>=1.10.0 in /usr/local/lib/python3.12/dist-packages (from langgraph-checkpoint<3.0.0,>=2.0.21->langgraph-checkpoint-sqlite) (1.10.0)\n",
            "Requirement already satisfied: langsmith>=0.3.45 in /usr/local/lib/python3.12/dist-packages (from langchain-core>=0.2.38->langgraph-checkpoint<3.0.0,>=2.0.21->langgraph-checkpoint-sqlite) (0.4.14)\n",
            "Requirement already satisfied: tenacity!=8.4.0,<10.0.0,>=8.1.0 in /usr/local/lib/python3.12/dist-packages (from langchain-core>=0.2.38->langgraph-checkpoint<3.0.0,>=2.0.21->langgraph-checkpoint-sqlite) (8.5.0)\n",
            "Requirement already satisfied: jsonpatch<2.0,>=1.33 in /usr/local/lib/python3.12/dist-packages (from langchain-core>=0.2.38->langgraph-checkpoint<3.0.0,>=2.0.21->langgraph-checkpoint-sqlite) (1.33)\n",
            "Requirement already satisfied: PyYAML>=5.3 in /usr/local/lib/python3.12/dist-packages (from langchain-core>=0.2.38->langgraph-checkpoint<3.0.0,>=2.0.21->langgraph-checkpoint-sqlite) (6.0.2)\n",
            "Requirement already satisfied: packaging>=23.2 in /usr/local/lib/python3.12/dist-packages (from langchain-core>=0.2.38->langgraph-checkpoint<3.0.0,>=2.0.21->langgraph-checkpoint-sqlite) (25.0)\n",
            "Requirement already satisfied: pydantic>=2.7.4 in /usr/local/lib/python3.12/dist-packages (from langchain-core>=0.2.38->langgraph-checkpoint<3.0.0,>=2.0.21->langgraph-checkpoint-sqlite) (2.11.7)\n",
            "Requirement already satisfied: jsonpointer>=1.9 in /usr/local/lib/python3.12/dist-packages (from jsonpatch<2.0,>=1.33->langchain-core>=0.2.38->langgraph-checkpoint<3.0.0,>=2.0.21->langgraph-checkpoint-sqlite) (3.0.0)\n",
            "Requirement already satisfied: httpx<1,>=0.23.0 in /usr/local/lib/python3.12/dist-packages (from langsmith>=0.3.45->langchain-core>=0.2.38->langgraph-checkpoint<3.0.0,>=2.0.21->langgraph-checkpoint-sqlite) (0.28.1)\n",
            "Requirement already satisfied: orjson>=3.9.14 in /usr/local/lib/python3.12/dist-packages (from langsmith>=0.3.45->langchain-core>=0.2.38->langgraph-checkpoint<3.0.0,>=2.0.21->langgraph-checkpoint-sqlite) (3.11.2)\n",
            "Requirement already satisfied: requests-toolbelt>=1.0.0 in /usr/local/lib/python3.12/dist-packages (from langsmith>=0.3.45->langchain-core>=0.2.38->langgraph-checkpoint<3.0.0,>=2.0.21->langgraph-checkpoint-sqlite) (1.0.0)\n",
            "Requirement already satisfied: requests>=2.0.0 in /usr/local/lib/python3.12/dist-packages (from langsmith>=0.3.45->langchain-core>=0.2.38->langgraph-checkpoint<3.0.0,>=2.0.21->langgraph-checkpoint-sqlite) (2.32.5)\n",
            "Requirement already satisfied: zstandard>=0.23.0 in /usr/local/lib/python3.12/dist-packages (from langsmith>=0.3.45->langchain-core>=0.2.38->langgraph-checkpoint<3.0.0,>=2.0.21->langgraph-checkpoint-sqlite) (0.24.0)\n",
            "Requirement already satisfied: annotated-types>=0.6.0 in /usr/local/lib/python3.12/dist-packages (from pydantic>=2.7.4->langchain-core>=0.2.38->langgraph-checkpoint<3.0.0,>=2.0.21->langgraph-checkpoint-sqlite) (0.7.0)\n",
            "Requirement already satisfied: pydantic-core==2.33.2 in /usr/local/lib/python3.12/dist-packages (from pydantic>=2.7.4->langchain-core>=0.2.38->langgraph-checkpoint<3.0.0,>=2.0.21->langgraph-checkpoint-sqlite) (2.33.2)\n",
            "Requirement already satisfied: typing-inspection>=0.4.0 in /usr/local/lib/python3.12/dist-packages (from pydantic>=2.7.4->langchain-core>=0.2.38->langgraph-checkpoint<3.0.0,>=2.0.21->langgraph-checkpoint-sqlite) (0.4.1)\n",
            "Requirement already satisfied: anyio in /usr/local/lib/python3.12/dist-packages (from httpx<1,>=0.23.0->langsmith>=0.3.45->langchain-core>=0.2.38->langgraph-checkpoint<3.0.0,>=2.0.21->langgraph-checkpoint-sqlite) (4.10.0)\n",
            "Requirement already satisfied: certifi in /usr/local/lib/python3.12/dist-packages (from httpx<1,>=0.23.0->langsmith>=0.3.45->langchain-core>=0.2.38->langgraph-checkpoint<3.0.0,>=2.0.21->langgraph-checkpoint-sqlite) (2025.8.3)\n",
            "Requirement already satisfied: httpcore==1.* in /usr/local/lib/python3.12/dist-packages (from httpx<1,>=0.23.0->langsmith>=0.3.45->langchain-core>=0.2.38->langgraph-checkpoint<3.0.0,>=2.0.21->langgraph-checkpoint-sqlite) (1.0.9)\n",
            "Requirement already satisfied: idna in /usr/local/lib/python3.12/dist-packages (from httpx<1,>=0.23.0->langsmith>=0.3.45->langchain-core>=0.2.38->langgraph-checkpoint<3.0.0,>=2.0.21->langgraph-checkpoint-sqlite) (3.10)\n",
            "Requirement already satisfied: h11>=0.16 in /usr/local/lib/python3.12/dist-packages (from httpcore==1.*->httpx<1,>=0.23.0->langsmith>=0.3.45->langchain-core>=0.2.38->langgraph-checkpoint<3.0.0,>=2.0.21->langgraph-checkpoint-sqlite) (0.16.0)\n",
            "Requirement already satisfied: charset_normalizer<4,>=2 in /usr/local/lib/python3.12/dist-packages (from requests>=2.0.0->langsmith>=0.3.45->langchain-core>=0.2.38->langgraph-checkpoint<3.0.0,>=2.0.21->langgraph-checkpoint-sqlite) (3.4.3)\n",
            "Requirement already satisfied: urllib3<3,>=1.21.1 in /usr/local/lib/python3.12/dist-packages (from requests>=2.0.0->langsmith>=0.3.45->langchain-core>=0.2.38->langgraph-checkpoint<3.0.0,>=2.0.21->langgraph-checkpoint-sqlite) (2.5.0)\n",
            "Requirement already satisfied: sniffio>=1.1 in /usr/local/lib/python3.12/dist-packages (from anyio->httpx<1,>=0.23.0->langsmith>=0.3.45->langchain-core>=0.2.38->langgraph-checkpoint<3.0.0,>=2.0.21->langgraph-checkpoint-sqlite) (1.3.1)\n"
          ]
        }
      ]
    },
    {
      "cell_type": "code",
      "source": [
        "# 12. Create the Agent again\n",
        "class Agent:\n",
        "    def __init__(self, model, tools, checkpointer, system=\"\"):\n",
        "        self.system = system\n",
        "        graph = StateGraph(AgentState)\n",
        "        graph.add_node(\"llm\", self.call_openai)\n",
        "        graph.add_node(\"action\", self.take_action)\n",
        "        graph.add_conditional_edges(\"llm\", self.exists_action, {True: \"action\", False: END})\n",
        "        graph.add_edge(\"action\", \"llm\")\n",
        "        graph.set_entry_point(\"llm\")\n",
        "        self.graph = graph.compile(checkpointer=checkpointer)\n",
        "        self.tools = {t.name: t for t in tools}\n",
        "        self.model = model.bind_tools(tools)\n",
        "\n",
        "    def call_openai(self, state: AgentState):\n",
        "        messages = state['messages']\n",
        "        if self.system:\n",
        "            messages = [SystemMessage(content=self.system)] + messages\n",
        "        message = self.model.invoke(messages)\n",
        "        return {'messages': [message]}\n",
        "\n",
        "    def exists_action(self, state: AgentState):\n",
        "        result = state['messages'][-1]\n",
        "        return len(result.tool_calls) > 0\n",
        "\n",
        "    def take_action(self, state: AgentState):\n",
        "        tool_calls = state['messages'][-1].tool_calls\n",
        "        results = []\n",
        "        for t in tool_calls:\n",
        "            print(f\"Calling: {t}\")\n",
        "            result = self.tools[t['name']].invoke(t['args'])\n",
        "            results.append(ToolMessage(tool_call_id=t['id'], name=t['name'], content=str(result)))\n",
        "        print(\"Back to the model!\")\n",
        "        return {'messages': results}\n"
      ],
      "metadata": {
        "id": "7BC_yU2yzC5z"
      },
      "execution_count": null,
      "outputs": []
    },
    {
      "cell_type": "code",
      "source": [
        "# 13. Next, we are going to add in persistence\n",
        "# 14. In order to deal with persistence, there is the concept of checkpointer\n",
        "# in LangGraph\n",
        "# 15. A checkpointer check points the state after and in between every node\n",
        "# 16. To add in persistence, we use a sqlite server\n",
        "# 17. sqlite is a built in database under the hood\n",
        "# 18. We will use in memory database\n",
        "# 19. That is, if we refresh the notebook it will disappear\n",
        "# 20. This can be easily connected to a external database\n",
        "# 21. You can use checkpointers that vuse Redis or Postgres or\n",
        "# other persistent databases\n",
        "# 22. It may be noted that we just add another parameter to the Agent\n",
        "# that is checkpointer\n",
        "# 23. We then pass the checkpointer in graph compile\n",
        "# 24. Note, all this is already done above."
      ],
      "metadata": {
        "id": "sqwsUg-KzS-o"
      },
      "execution_count": null,
      "outputs": []
    },
    {
      "cell_type": "code",
      "source": [
        "# 25.  We create the Agent and we pass in checkpointer=memory\n",
        "\n",
        "prompt = \"\"\"You are a smart research assistant. Use the search engine to look up information. \\\n",
        "You are allowed to make multiple calls (either together or in sequence). \\\n",
        "Only look up information when you are sure of what you want. \\\n",
        "If you need to look up some information before asking a follow up question, you are allowed to do that!\n",
        "\"\"\"\n",
        "model = ChatOpenAI(model=\"gpt-4.1\")\n",
        "abot = Agent(model, [tool], system=prompt, checkpointer=memory)"
      ],
      "metadata": {
        "id": "SPuE5DaR3sAS"
      },
      "execution_count": null,
      "outputs": []
    },
    {
      "cell_type": "code",
      "source": [
        "# 26. We are also going to add cocnept of streaming\n",
        "# 27. There are two things that we care about.\n",
        "# 28. We care about streaming of indivdual messages\n",
        "# 29. These are the AI message that determines what action\n",
        "# to take.\n",
        "# 30. We then have the observation message that represents the\n",
        "# result of taking that action\n",
        "# 31. The second thing that we may want to stream is token.\n",
        "# 32. We might want to stream the LLM output\n",
        "# 33. Let us first stream the messages\n",
        "# 34. We will do the tokens later on."
      ],
      "metadata": {
        "id": "ouQimOFY4U-6"
      },
      "execution_count": null,
      "outputs": []
    },
    {
      "cell_type": "code",
      "source": [
        "# 35. Let us create a HumanMessage\n",
        "\n",
        "messages = [HumanMessage(content=\"What is the weather in Birmingham?\")]\n"
      ],
      "metadata": {
        "id": "oJcJdkka6hbw"
      },
      "execution_count": null,
      "outputs": []
    },
    {
      "cell_type": "code",
      "source": [
        "# 36. We add the concept of thread config.\n",
        "# 37. This will be used to keep track of different threads\n",
        "# inside the pesistent checkpointer\n",
        "# 28. This will allow us to ahve multiple conversations going on\n",
        "# at the same time\n",
        "# 29. This is really needed for production applications\n",
        "# 30. Where there are many users\n",
        "# 31. thread_config is a dictionary with a configurable key\n",
        "# 32. As part of that we have a thread id which can set equal to any string\n",
        "# 33. Here we set that equal to 1\n",
        "\n",
        "thread = {\"configurable\": {\"thread_id\": \"1\"}}"
      ],
      "metadata": {
        "id": "TB2FZfOy6wIX"
      },
      "execution_count": null,
      "outputs": []
    },
    {
      "cell_type": "code",
      "source": [
        "# 34. We now call the graph not with invoke but with stream.\n",
        "# 35. We are going to pass the messages dictionary but also thread config\n",
        "# as the second parameter.\n",
        "# 36. We get back a stream of events\n",
        "# 37. These events represnt the updates to the state over time\n",
        "# 38. Since we  know that our state has one key, the messages key, we\n",
        "# loop through it and print that out.\n",
        "\n",
        "# 39. When we run the cell we will see that we get a stream of results\n",
        "# 40. First we get a AI message\n",
        "# 41. This is the first result from the Language Model asking us to\n",
        "# to call Tavily.\n",
        "# 42. We then get a tool message which is the result of callling Tavily.\n",
        "# 43. We then get results from Tavily\n",
        "# 44. Finally we get the final result from LLM answering the question\n",
        "# 45. With stream, we have really good visibility of what exactly is going on\n",
        "# under the hood.\n",
        "\n",
        "\n",
        "from langgraph.checkpoint.sqlite import SqliteSaver\n",
        "thread = {\"configurable\": {\"thread_id\": \"1\"}}\n",
        "with SqliteSaver.from_conn_string(\":memory:\") as memory:\n",
        "    abot = Agent(model, [tool], system=prompt, checkpointer=memory)\n",
        "    for event in abot.graph.stream({\"messages\": messages}, thread):\n",
        "        for v in event.values():\n",
        "            print(v['messages'])\n",
        "    # Turn 2 – continues same in‑memory conversation\n",
        "    messages = [HumanMessage(content=\"What about in Mumbai\")]\n",
        "    for event in abot.graph.stream({\"messages\": messages}, thread):\n",
        "        for v in event.values():\n",
        "            print(v['messages'])\n"
      ],
      "metadata": {
        "colab": {
          "base_uri": "https://localhost:8080/"
        },
        "id": "3LCM1Gbvt2w0",
        "outputId": "c11238f5-dedf-4916-d359-ac39bf515e4d"
      },
      "execution_count": null,
      "outputs": [
        {
          "output_type": "stream",
          "name": "stdout",
          "text": [
            "[AIMessage(content='', additional_kwargs={'tool_calls': [{'id': 'call_dPcIZYpyTCML0rlTiZK989pl', 'function': {'arguments': '{\"query\":\"current weather in Birmingham\"}', 'name': 'tavily_search_results_json'}, 'type': 'function'}], 'refusal': None}, response_metadata={'token_usage': {'completion_tokens': 21, 'prompt_tokens': 151, 'total_tokens': 172, 'completion_tokens_details': {'accepted_prediction_tokens': 0, 'audio_tokens': 0, 'reasoning_tokens': 0, 'rejected_prediction_tokens': 0}, 'prompt_tokens_details': {'audio_tokens': 0, 'cached_tokens': 0}}, 'model_name': 'gpt-4.1-2025-04-14', 'system_fingerprint': 'fp_51e1070cf2', 'id': 'chatcmpl-C8uFBbRASmn0F2LhP7XL9u1ZO81FZ', 'service_tier': 'default', 'finish_reason': 'tool_calls', 'logprobs': None}, id='run--7f7d814d-439c-4eee-b1f1-e767163583c4-0', tool_calls=[{'name': 'tavily_search_results_json', 'args': {'query': 'current weather in Birmingham'}, 'id': 'call_dPcIZYpyTCML0rlTiZK989pl', 'type': 'tool_call'}], usage_metadata={'input_tokens': 151, 'output_tokens': 21, 'total_tokens': 172, 'input_token_details': {'audio': 0, 'cache_read': 0}, 'output_token_details': {'audio': 0, 'reasoning': 0}})]\n",
            "Calling: {'name': 'tavily_search_results_json', 'args': {'query': 'current weather in Birmingham'}, 'id': 'call_dPcIZYpyTCML0rlTiZK989pl', 'type': 'tool_call'}\n",
            "Back to the model!\n",
            "[ToolMessage(content=\"[{'title': 'Birmingham weather in August 2025', 'url': 'https://www.weather25.com/north-america/usa/alabama/birmingham?page=month&month=August', 'content': 'weather25.com\\\\nSearch\\\\nweather in United States\\\\nRemove from your favorite locations\\\\nAdd to my locations\\\\nShare\\\\nweather in United States\\\\n\\\\n# Birmingham weather in August 2025\\\\n\\\\nOvercast\\\\nSunny\\\\nModerate or heavy rain shower\\\\nHeavy rain\\\\nPartly cloudy\\\\nPatchy rain possible\\\\nCloudy\\\\nPartly cloudy\\\\nPartly cloudy\\\\nPartly cloudy\\\\nLight rain shower\\\\nPatchy rain possible\\\\nLight rain shower\\\\nLight drizzle\\\\n\\\\n## The average weather in Birmingham in August [...] Light rain shower\\\\nModerate or heavy rain shower\\\\nPartly cloudy\\\\nLight rain shower\\\\nPartly cloudy\\\\nSunny\\\\nPatchy rain possible\\\\nPartly cloudy\\\\nPartly cloudy\\\\nThundery outbreaks possible\\\\nPatchy rain possible\\\\nPatchy rain possible\\\\nPatchy rain possible\\\\nSunny\\\\nPatchy rain possible\\\\nPartly cloudy\\\\nSunny\\\\nPartly cloudy\\\\nModerate or heavy rain shower\\\\nPartly cloudy\\\\nLight rain shower\\\\nPatchy rain possible\\\\nModerate or heavy rain shower\\\\nModerate or heavy rain shower\\\\nPartly cloudy\\\\nOvercast\\\\nSunny [...] Moderate or heavy rain shower\\\\nHeavy rain\\\\nPartly cloudy\\\\nPatchy rain possible', 'score': 0.86024034}, {'title': 'Birmingham, MI Monthly Weather ...', 'url': 'https://www.accuweather.com/en/us/birmingham/48009/august-weather/333704', 'content': '# Birmingham, MI\\\\n\\\\nBirmingham\\\\n\\\\nMichigan\\\\n\\\\n## Around the Globe\\\\n\\\\nAround the Globe\\\\n\\\\n### Hurricane Tracker\\\\n\\\\n### Severe Weather\\\\n\\\\n### Radar & Maps\\\\n\\\\n### News & Features\\\\n\\\\n### Astronomy\\\\n\\\\n### Business\\\\n\\\\n### Climate\\\\n\\\\n### Health\\\\n\\\\n### Recreation\\\\n\\\\n### Sports\\\\n\\\\n### Travel\\\\n\\\\n### Warnings\\\\n\\\\n### Data Suite\\\\n\\\\n### Forensics\\\\n\\\\n### Advertising\\\\n\\\\n### Superior Accuracy™\\\\n\\\\n### Video\\\\n\\\\n### Winter Center\\\\n\\\\n## Monthly\\\\n\\\\n## August\\\\n\\\\n## 2025\\\\n\\\\n## Daily\\\\n\\\\n## Temperature Graph\\\\n\\\\n## Further Ahead\\\\n\\\\nFurther Ahead\\\\n\\\\n### September 2025 [...] ### October 2025\\\\n\\\\n### November 2025\\\\n\\\\n## Around the Globe\\\\n\\\\nAround the Globe\\\\n\\\\n### Hurricane Tracker\\\\n\\\\n### Severe Weather\\\\n\\\\n### Radar & Maps\\\\n\\\\n### News\\\\n\\\\n### Video\\\\n\\\\n### Winter Center\\\\n\\\\nTop Stories\\\\n\\\\nWeather Forecasts\\\\n\\\\nTaste of fall to visit Great Lakes, Northeast this week\\\\n\\\\n4 hours ago\\\\n\\\\nWeather News\\\\n\\\\nHaboob slams Phoenix, causing damage, airport delays and power outages\\\\n\\\\n6 hours ago\\\\n\\\\nWeather Forecasts\\\\n\\\\nLabor Day weekend forecast: Heat, storms may disrupt holiday plans\\\\n\\\\n22 minutes ago\\\\n\\\\nHurricane [...] Deadly Tropical Storm Kajiki causes heavy flooding in Vietnam\\\\n\\\\n9 hours ago\\\\n\\\\nWeather Forecasts\\\\n\\\\nOklahoma, Arkansas and Kansas to face swift flooding from heavy rain\\\\n\\\\n1 hour ago\\\\n\\\\nFeatured Stories\\\\n\\\\nWeather News\\\\n\\\\nDeer join rabbits, squirrels in viral skin disease outbreak\\\\n\\\\n5 hours ago\\\\n\\\\nSports\\\\n\\\\nThe pitcher who was struck by lightning and still finished the game\\\\n\\\\n1 day ago\\\\n\\\\nWhy are there so many leaves falling? Is this an early autumn?\\\\n\\\\nLATEST ENTRY', 'score': 0.45507812}]\", name='tavily_search_results_json', tool_call_id='call_dPcIZYpyTCML0rlTiZK989pl')]\n",
            "[AIMessage(content='It appears that current, real-time weather information for Birmingham is not available in the search results I accessed. For the latest live weather update, you may want to check a trusted weather website like BBC Weather, AccuWeather, or Weather.com for Birmingham, UK or Birmingham, Alabama, depending on your location of interest.\\n\\nWould you like a weather forecast for the next few days in Birmingham, or do you want information on a specific aspect like temperature or rain? Please specify the Birmingham location (UK or US) if possible.', additional_kwargs={'refusal': None}, response_metadata={'token_usage': {'completion_tokens': 106, 'prompt_tokens': 924, 'total_tokens': 1030, 'completion_tokens_details': {'accepted_prediction_tokens': 0, 'audio_tokens': 0, 'reasoning_tokens': 0, 'rejected_prediction_tokens': 0}, 'prompt_tokens_details': {'audio_tokens': 0, 'cached_tokens': 0}}, 'model_name': 'gpt-4.1-2025-04-14', 'system_fingerprint': 'fp_62bb2e3c55', 'id': 'chatcmpl-C8uFFt1jaurU7JuRmoBQdt0VO61pt', 'service_tier': 'default', 'finish_reason': 'stop', 'logprobs': None}, id='run--ffd4fe43-82b4-4161-aee3-c29643172a9e-0', usage_metadata={'input_tokens': 924, 'output_tokens': 106, 'total_tokens': 1030, 'input_token_details': {'audio': 0, 'cache_read': 0}, 'output_token_details': {'audio': 0, 'reasoning': 0}})]\n",
            "[AIMessage(content='', additional_kwargs={'tool_calls': [{'id': 'call_dAZMKex3K2LOnI6taeIsk6Ko', 'function': {'arguments': '{\"query\":\"current weather in Mumbai\"}', 'name': 'tavily_search_results_json'}, 'type': 'function'}], 'refusal': None}, response_metadata={'token_usage': {'completion_tokens': 21, 'prompt_tokens': 1041, 'total_tokens': 1062, 'completion_tokens_details': {'accepted_prediction_tokens': 0, 'audio_tokens': 0, 'reasoning_tokens': 0, 'rejected_prediction_tokens': 0}, 'prompt_tokens_details': {'audio_tokens': 0, 'cached_tokens': 0}}, 'model_name': 'gpt-4.1-2025-04-14', 'system_fingerprint': 'fp_51e1070cf2', 'id': 'chatcmpl-C8uFIxVbmTOQfvCDMv0qTg8oYZH8M', 'service_tier': 'default', 'finish_reason': 'tool_calls', 'logprobs': None}, id='run--f8b1d19d-7489-4298-8bd9-67cec57a94ae-0', tool_calls=[{'name': 'tavily_search_results_json', 'args': {'query': 'current weather in Mumbai'}, 'id': 'call_dAZMKex3K2LOnI6taeIsk6Ko', 'type': 'tool_call'}], usage_metadata={'input_tokens': 1041, 'output_tokens': 21, 'total_tokens': 1062, 'input_token_details': {'audio': 0, 'cache_read': 0}, 'output_token_details': {'audio': 0, 'reasoning': 0}})]\n",
            "Calling: {'name': 'tavily_search_results_json', 'args': {'query': 'current weather in Mumbai'}, 'id': 'call_dAZMKex3K2LOnI6taeIsk6Ko', 'type': 'tool_call'}\n",
            "Back to the model!\n",
            "[ToolMessage(content=\"[{'title': 'Mumbai weather in August 2025', 'url': 'https://www.weather25.com/asia/india/maharashtra/mumbai?page=month&month=August', 'content': 'weather25.com\\\\nSearch\\\\nweather in India\\\\nRemove from your favorite locations\\\\nAdd to my locations\\\\nShare\\\\nweather in India\\\\n\\\\n# Mumbai weather in August 2025\\\\n\\\\nLight rain shower\\\\nLight rain shower\\\\nLight rain shower\\\\nLight rain shower\\\\nPatchy light drizzle\\\\nPatchy rain possible\\\\nPatchy rain possible\\\\nLight rain shower\\\\nPatchy rain possible\\\\nPatchy light drizzle\\\\nPatchy rain possible\\\\nLight rain shower\\\\nLight rain shower\\\\nPatchy rain possible\\\\n\\\\n## The average weather in Mumbai in August [...] The weather in Mumbai in August is very hot. The average temperatures are between 26°C and 29°C, drinking water regularly is advisable.\\\\n\\\\nThere’s going to be many days of rain during the month of August in Mumbai.\\\\n\\\\nMumbai should expect an average of 15 to 22 days of rain, so be sure to bring along a waterproof jacket to stay dry this month!\\\\n\\\\nOur weather forecast can give you a great sense of what weather to expect in Mumbai in August 2025. [...] | 24 Light rain shower 28° /26° | 25 Light rain shower 27° /26° | 26 Light rain shower 29° /24° | 27 Light rain shower 28° /26° | 28 Light rain shower 27° /26° | 29 Light rain shower 28° /26° | 30 Light rain shower 28° /26° |\\\\n| 31 Patchy light drizzle 28° /27° |  |  |  |  |  |  |', 'score': 0.7373288}, {'title': 'Mumbai Weather: Moderate rain with high humidity ...', 'url': 'https://timesofindia.indiatimes.com/city/mumbai/mumbai-weather-update-rainy-and-humid-conditions-persist-today/articleshow/123513526.cms', 'content': 'Hina Khanâ\\\\x80\\\\x99s top 10 stunning looks you canâ\\\\x80\\\\x99t miss\\\\n\\\\nFrom Trisha to Keerthy Suresh: South actresses and their furry pet friends\\\\n\\\\nHartalika Teej 2025: Gorgeous mehendi designs you donâ\\\\x80\\\\x99t want to miss\\\\n\\\\nStorm EV First Impressions: Eulerâ\\\\x80\\\\x99s Tech-Laden Electric Commercial Vehicle\\\\n\\\\nKrithi Shetty shines bright in saree elegance and modern glam\\\\n\\\\n5 gentle yet powerful ways to raise emotionally resilient kids\\\\n\\\\nBB19 Star Ashnoor Kaur Serves Chic and Trendy Looks [...] 6 hill stations near Wayanad for a surprise September escape\\\\nBigg Boss Tamil: A look at all the season logos through the years\\\\nBack fat? Try these 6 exercises for a toned back\\\\nAvoid These Colors According To Your Birth Date\\\\nGanesh Chaturthi 2025: The right way bring Ganesha home and mistakes to avoid\\\\nRanbir Kapoor-Alia Bhattâ\\\\x80\\\\x99s Rs 250 crore bungalow to Shah Rukh Khanâ\\\\x80\\\\x99s iconic Rs 200 crore â\\\\x80\\\\x98Mannatâ\\\\x80\\\\x99: Most expensive Bollywood celeb homes in Mumbai [...] TOI logo\\\\n\\\\n## TOI\\\\n\\\\n# Mumbai weather: Moderate rain with high humidity expected today\\\\n\\\\nRecord Mumbai Rainfall Wreaks Havoc, Overflowing Mithi, Waterlogging, Travel Chaos Amid Red Alert\\\\n\\\\n### The data for this weather forecast has been sourced from AQI.in, providing residents with comprehensive information to plan their daily activities and weekly schedules accordingly.\\\\n\\\\n### Impact and Precautions\\\\n\\\\n### Weekly Weather Outlook\\\\n\\\\n### General Observations and Advice\\\\n\\\\n## Visual Stories', 'score': 0.5735118}]\", name='tavily_search_results_json', tool_call_id='call_dAZMKex3K2LOnI6taeIsk6Ko')]\n",
            "[AIMessage(content='Mumbai is currently experiencing rainy and humid conditions, with moderate rain and high humidity persisting today. In August, Mumbai typically has very hot weather, with average temperatures between 26°C and 29°C, and frequent rainfall—there may be 15 to 22 rainy days in the month.\\n\\nIf you need a more specific, real-time update (like the exact temperature or whether it’s raining at this moment), I recommend checking a live weather site or app such as Weather.com, AccuWeather, or a local news source.', additional_kwargs={'refusal': None}, response_metadata={'token_usage': {'completion_tokens': 108, 'prompt_tokens': 1899, 'total_tokens': 2007, 'completion_tokens_details': {'accepted_prediction_tokens': 0, 'audio_tokens': 0, 'reasoning_tokens': 0, 'rejected_prediction_tokens': 0}, 'prompt_tokens_details': {'audio_tokens': 0, 'cached_tokens': 0}}, 'model_name': 'gpt-4.1-2025-04-14', 'system_fingerprint': 'fp_51e1070cf2', 'id': 'chatcmpl-C8uFNZiEP4dC4NSVLE9Kr2EnFNxUT', 'service_tier': 'default', 'finish_reason': 'stop', 'logprobs': None}, id='run--7f0fd758-b89f-4312-a48b-b90f7099468f-0', usage_metadata={'input_tokens': 1899, 'output_tokens': 108, 'total_tokens': 2007, 'input_token_details': {'audio': 0, 'cache_read': 0}, 'output_token_details': {'audio': 0, 'reasoning': 0}})]\n"
          ]
        }
      ]
    },
    {
      "cell_type": "code",
      "source": [
        "# 46. Let's call with anothert message\n",
        "# 47. This time with \"What about Mumbai?\"\n",
        "# 48. This is continuing same question as before\n",
        "# 49. It's a follow up question\n",
        "# 50. We do not see anything explicitly about weather\n",
        "# 51. Since its a continuation of same conversation\n",
        "# 52. It should undertand the conversation is about weather\n",
        "# 53. We pass in the same thread id\n",
        "# 54 In order to show we are continuing at same point\n",
        "# 55. Done in the same `with` loop otherwise the database closes\n",
        "\n"
      ],
      "metadata": {
        "id": "PjkdfUbm6pFA"
      },
      "execution_count": null,
      "outputs": []
    },
    {
      "cell_type": "code",
      "source": [
        "# Streaming tokens\n",
        "# 56. We ahve covered the importance of Persistance\n",
        "# 57. We have seen how we can stream events\n",
        "# 58. Let us now see how we can stream tokens themselves\n",
        "# 59. We will use Astream events method that comes on all\n",
        "# LAngChain and LAngGraph objects\n",
        "# 60. Async event is an asynchronous method\n",
        "# 61. This emans we have to use an Async checkpointer\n",
        "# 62. In order to do this, we use Async sqlite server and pass it to the Agent\n",
        "# 63. Same as before but we use AsyncSQLite server which allows to use Async\n",
        "# methods on the Graph\n",
        "# 64 See streaming real time into the screen\n",
        "!pip install langgraph-checkpoint-sqlite\n",
        "\n",
        "from langgraph.checkpoint.sqlite.aio import AsyncSqliteSaver\n",
        "\n",
        "memory = AsyncSqliteSaver.from_conn_string(\":memory:\")\n",
        "abot = Agent(model, [tool], system=prompt, checkpointer=memory)\n",
        "\n"
      ],
      "metadata": {
        "colab": {
          "base_uri": "https://localhost:8080/"
        },
        "collapsed": true,
        "id": "Dfi3EEcN_34E",
        "outputId": "f16bc1ce-dfd7-4552-bdb2-12d90787541b"
      },
      "execution_count": null,
      "outputs": [
        {
          "output_type": "stream",
          "name": "stdout",
          "text": [
            "Requirement already satisfied: langgraph-checkpoint-sqlite in /usr/local/lib/python3.12/dist-packages (2.0.11)\n",
            "Requirement already satisfied: aiosqlite>=0.20 in /usr/local/lib/python3.12/dist-packages (from langgraph-checkpoint-sqlite) (0.21.0)\n",
            "Requirement already satisfied: langgraph-checkpoint<3.0.0,>=2.0.21 in /usr/local/lib/python3.12/dist-packages (from langgraph-checkpoint-sqlite) (2.1.1)\n",
            "Requirement already satisfied: sqlite-vec>=0.1.6 in /usr/local/lib/python3.12/dist-packages (from langgraph-checkpoint-sqlite) (0.1.6)\n",
            "Requirement already satisfied: typing_extensions>=4.0 in /usr/local/lib/python3.12/dist-packages (from aiosqlite>=0.20->langgraph-checkpoint-sqlite) (4.14.1)\n",
            "Requirement already satisfied: langchain-core>=0.2.38 in /usr/local/lib/python3.12/dist-packages (from langgraph-checkpoint<3.0.0,>=2.0.21->langgraph-checkpoint-sqlite) (0.3.74)\n",
            "Requirement already satisfied: ormsgpack>=1.10.0 in /usr/local/lib/python3.12/dist-packages (from langgraph-checkpoint<3.0.0,>=2.0.21->langgraph-checkpoint-sqlite) (1.10.0)\n",
            "Requirement already satisfied: langsmith>=0.3.45 in /usr/local/lib/python3.12/dist-packages (from langchain-core>=0.2.38->langgraph-checkpoint<3.0.0,>=2.0.21->langgraph-checkpoint-sqlite) (0.4.14)\n",
            "Requirement already satisfied: tenacity!=8.4.0,<10.0.0,>=8.1.0 in /usr/local/lib/python3.12/dist-packages (from langchain-core>=0.2.38->langgraph-checkpoint<3.0.0,>=2.0.21->langgraph-checkpoint-sqlite) (8.5.0)\n",
            "Requirement already satisfied: jsonpatch<2.0,>=1.33 in /usr/local/lib/python3.12/dist-packages (from langchain-core>=0.2.38->langgraph-checkpoint<3.0.0,>=2.0.21->langgraph-checkpoint-sqlite) (1.33)\n",
            "Requirement already satisfied: PyYAML>=5.3 in /usr/local/lib/python3.12/dist-packages (from langchain-core>=0.2.38->langgraph-checkpoint<3.0.0,>=2.0.21->langgraph-checkpoint-sqlite) (6.0.2)\n",
            "Requirement already satisfied: packaging>=23.2 in /usr/local/lib/python3.12/dist-packages (from langchain-core>=0.2.38->langgraph-checkpoint<3.0.0,>=2.0.21->langgraph-checkpoint-sqlite) (25.0)\n",
            "Requirement already satisfied: pydantic>=2.7.4 in /usr/local/lib/python3.12/dist-packages (from langchain-core>=0.2.38->langgraph-checkpoint<3.0.0,>=2.0.21->langgraph-checkpoint-sqlite) (2.11.7)\n",
            "Requirement already satisfied: jsonpointer>=1.9 in /usr/local/lib/python3.12/dist-packages (from jsonpatch<2.0,>=1.33->langchain-core>=0.2.38->langgraph-checkpoint<3.0.0,>=2.0.21->langgraph-checkpoint-sqlite) (3.0.0)\n",
            "Requirement already satisfied: httpx<1,>=0.23.0 in /usr/local/lib/python3.12/dist-packages (from langsmith>=0.3.45->langchain-core>=0.2.38->langgraph-checkpoint<3.0.0,>=2.0.21->langgraph-checkpoint-sqlite) (0.28.1)\n",
            "Requirement already satisfied: orjson>=3.9.14 in /usr/local/lib/python3.12/dist-packages (from langsmith>=0.3.45->langchain-core>=0.2.38->langgraph-checkpoint<3.0.0,>=2.0.21->langgraph-checkpoint-sqlite) (3.11.2)\n",
            "Requirement already satisfied: requests-toolbelt>=1.0.0 in /usr/local/lib/python3.12/dist-packages (from langsmith>=0.3.45->langchain-core>=0.2.38->langgraph-checkpoint<3.0.0,>=2.0.21->langgraph-checkpoint-sqlite) (1.0.0)\n",
            "Requirement already satisfied: requests>=2.0.0 in /usr/local/lib/python3.12/dist-packages (from langsmith>=0.3.45->langchain-core>=0.2.38->langgraph-checkpoint<3.0.0,>=2.0.21->langgraph-checkpoint-sqlite) (2.32.5)\n",
            "Requirement already satisfied: zstandard>=0.23.0 in /usr/local/lib/python3.12/dist-packages (from langsmith>=0.3.45->langchain-core>=0.2.38->langgraph-checkpoint<3.0.0,>=2.0.21->langgraph-checkpoint-sqlite) (0.24.0)\n",
            "Requirement already satisfied: annotated-types>=0.6.0 in /usr/local/lib/python3.12/dist-packages (from pydantic>=2.7.4->langchain-core>=0.2.38->langgraph-checkpoint<3.0.0,>=2.0.21->langgraph-checkpoint-sqlite) (0.7.0)\n",
            "Requirement already satisfied: pydantic-core==2.33.2 in /usr/local/lib/python3.12/dist-packages (from pydantic>=2.7.4->langchain-core>=0.2.38->langgraph-checkpoint<3.0.0,>=2.0.21->langgraph-checkpoint-sqlite) (2.33.2)\n",
            "Requirement already satisfied: typing-inspection>=0.4.0 in /usr/local/lib/python3.12/dist-packages (from pydantic>=2.7.4->langchain-core>=0.2.38->langgraph-checkpoint<3.0.0,>=2.0.21->langgraph-checkpoint-sqlite) (0.4.1)\n",
            "Requirement already satisfied: anyio in /usr/local/lib/python3.12/dist-packages (from httpx<1,>=0.23.0->langsmith>=0.3.45->langchain-core>=0.2.38->langgraph-checkpoint<3.0.0,>=2.0.21->langgraph-checkpoint-sqlite) (4.10.0)\n",
            "Requirement already satisfied: certifi in /usr/local/lib/python3.12/dist-packages (from httpx<1,>=0.23.0->langsmith>=0.3.45->langchain-core>=0.2.38->langgraph-checkpoint<3.0.0,>=2.0.21->langgraph-checkpoint-sqlite) (2025.8.3)\n",
            "Requirement already satisfied: httpcore==1.* in /usr/local/lib/python3.12/dist-packages (from httpx<1,>=0.23.0->langsmith>=0.3.45->langchain-core>=0.2.38->langgraph-checkpoint<3.0.0,>=2.0.21->langgraph-checkpoint-sqlite) (1.0.9)\n",
            "Requirement already satisfied: idna in /usr/local/lib/python3.12/dist-packages (from httpx<1,>=0.23.0->langsmith>=0.3.45->langchain-core>=0.2.38->langgraph-checkpoint<3.0.0,>=2.0.21->langgraph-checkpoint-sqlite) (3.10)\n",
            "Requirement already satisfied: h11>=0.16 in /usr/local/lib/python3.12/dist-packages (from httpcore==1.*->httpx<1,>=0.23.0->langsmith>=0.3.45->langchain-core>=0.2.38->langgraph-checkpoint<3.0.0,>=2.0.21->langgraph-checkpoint-sqlite) (0.16.0)\n",
            "Requirement already satisfied: charset_normalizer<4,>=2 in /usr/local/lib/python3.12/dist-packages (from requests>=2.0.0->langsmith>=0.3.45->langchain-core>=0.2.38->langgraph-checkpoint<3.0.0,>=2.0.21->langgraph-checkpoint-sqlite) (3.4.3)\n",
            "Requirement already satisfied: urllib3<3,>=1.21.1 in /usr/local/lib/python3.12/dist-packages (from requests>=2.0.0->langsmith>=0.3.45->langchain-core>=0.2.38->langgraph-checkpoint<3.0.0,>=2.0.21->langgraph-checkpoint-sqlite) (2.5.0)\n",
            "Requirement already satisfied: sniffio>=1.1 in /usr/local/lib/python3.12/dist-packages (from anyio->httpx<1,>=0.23.0->langsmith>=0.3.45->langchain-core>=0.2.38->langgraph-checkpoint<3.0.0,>=2.0.21->langgraph-checkpoint-sqlite) (1.3.1)\n"
          ]
        }
      ]
    },
    {
      "cell_type": "code",
      "source": [
        "from langgraph.checkpoint.sqlite.aio import AsyncSqliteSaver\n",
        "\n",
        "async with AsyncSqliteSaver.from_conn_string(\":memory:\") as memory:\n",
        "    abot = Agent(model, [tool], system=prompt, checkpointer=memory)\n",
        "    messages = [HumanMessage(content=\"What is the weather in Birmingham?\")]\n",
        "    thread = {\"configurable\": {\"thread_id\": \"4\"}}\n",
        "\n",
        "    async for event in abot.graph.astream_events({\"messages\": messages}, thread, version=\"v1\"):\n",
        "        if event[\"event\"] == \"on_chat_model_stream\":\n",
        "            content = event[\"data\"][\"chunk\"].content\n",
        "            if content:\n",
        "                print(content, end=\"|\")\n",
        "\n"
      ],
      "metadata": {
        "colab": {
          "base_uri": "https://localhost:8080/"
        },
        "id": "ko3ipFgvEfGX",
        "outputId": "f5af678e-a170-4ff5-db94-41401ac6dda9"
      },
      "execution_count": null,
      "outputs": [
        {
          "output_type": "stream",
          "name": "stdout",
          "text": [
            "Calling: {'name': 'tavily_search_results_json', 'args': {'query': 'current weather in Birmingham'}, 'id': 'call_iF7shvsZ8PpxcjLOtKfE36Dx', 'type': 'tool_call'}\n",
            "Back to the model!\n",
            "The| current| weather| in| Birmingham| is| over|cast| with| a| temperature| of| around| |27|°C|.| The| wind| is| calm| at| |0| km|/h|,| and| humidity| is| at| |45|%.| Clouds| cover| about| |80|%| of| the| sky|.| Visibility| is| good| at| |16| km|.|"
          ]
        }
      ]
    }
  ]
}