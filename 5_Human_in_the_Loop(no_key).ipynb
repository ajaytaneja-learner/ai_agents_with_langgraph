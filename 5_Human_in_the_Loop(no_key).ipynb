{
  "nbformat": 4,
  "nbformat_minor": 0,
  "metadata": {
    "colab": {
      "provenance": []
    },
    "kernelspec": {
      "name": "python3",
      "display_name": "Python 3"
    },
    "language_info": {
      "name": "python"
    }
  },
  "cells": [
    {
      "cell_type": "code",
      "execution_count": null,
      "metadata": {
        "id": "J-gZ8NIbn9x3"
      },
      "outputs": [],
      "source": []
    },
    {
      "cell_type": "markdown",
      "source": [
        "1. There are many occasions where you'd like to ut human in the loop to keep track on what an Agent is doing.\n",
        "\n",
        "2. This is very easy to do with LangGraph\n",
        "\n",
        "3. Let's see how this works.\n"
      ],
      "metadata": {
        "id": "1mqj6kVroRo3"
      }
    },
    {
      "cell_type": "code",
      "source": [
        "# 1. We are actually resuming from where we left in Persistence and Streaming\n",
        "# 2. Let's start by setting the environmental variables.\n",
        "\n",
        "\n",
        "\n",
        "import os\n",
        "import openai\n",
        "os.environ[\"OPENAI_API_KEY\"] = \"\"\n",
        "openai.api_key = os.environ['OPENAI_API_KEY']\n",
        "os.environ[\"TAVILY_API_KEY\"] = \"\""
      ],
      "metadata": {
        "id": "u_jVrNkWoo9d"
      },
      "execution_count": null,
      "outputs": []
    },
    {
      "cell_type": "code",
      "source": [
        "# 3. We make the relevant imports and set up the check pointer\n",
        "\n",
        "!pip install langgraph\n",
        "!pip install langchain-openai\n",
        "!pip install langchain-community\n",
        "!pip install langgraph-checkpoint-sqlite\n",
        "\n",
        "from langgraph.graph import StateGraph, END\n",
        "from typing import TypedDict, Annotated\n",
        "import operator\n",
        "from langchain_core.messages import AnyMessage, SystemMessage, HumanMessage, ToolMessage\n",
        "from langchain_openai import ChatOpenAI\n",
        "from langchain_community.tools.tavily_search import TavilySearchResults\n",
        "from langgraph.checkpoint.sqlite import SqliteSaver\n",
        "\n",
        "memory = SqliteSaver.from_conn_string(\":memory:\")"
      ],
      "metadata": {
        "colab": {
          "base_uri": "https://localhost:8080/"
        },
        "collapsed": true,
        "id": "wf5F-ZapphV5",
        "outputId": "39fa131e-f1db-44ac-95a3-464b32b37027"
      },
      "execution_count": null,
      "outputs": [
        {
          "output_type": "stream",
          "name": "stdout",
          "text": [
            "Collecting langgraph\n",
            "  Downloading langgraph-0.6.6-py3-none-any.whl.metadata (6.8 kB)\n",
            "Requirement already satisfied: langchain-core>=0.1 in /usr/local/lib/python3.12/dist-packages (from langgraph) (0.3.74)\n",
            "Collecting langgraph-checkpoint<3.0.0,>=2.1.0 (from langgraph)\n",
            "  Downloading langgraph_checkpoint-2.1.1-py3-none-any.whl.metadata (4.2 kB)\n",
            "Collecting langgraph-prebuilt<0.7.0,>=0.6.0 (from langgraph)\n",
            "  Downloading langgraph_prebuilt-0.6.4-py3-none-any.whl.metadata (4.5 kB)\n",
            "Collecting langgraph-sdk<0.3.0,>=0.2.2 (from langgraph)\n",
            "  Downloading langgraph_sdk-0.2.4-py3-none-any.whl.metadata (1.5 kB)\n",
            "Requirement already satisfied: pydantic>=2.7.4 in /usr/local/lib/python3.12/dist-packages (from langgraph) (2.11.7)\n",
            "Requirement already satisfied: xxhash>=3.5.0 in /usr/local/lib/python3.12/dist-packages (from langgraph) (3.5.0)\n",
            "Requirement already satisfied: langsmith>=0.3.45 in /usr/local/lib/python3.12/dist-packages (from langchain-core>=0.1->langgraph) (0.4.16)\n",
            "Requirement already satisfied: tenacity!=8.4.0,<10.0.0,>=8.1.0 in /usr/local/lib/python3.12/dist-packages (from langchain-core>=0.1->langgraph) (8.5.0)\n",
            "Requirement already satisfied: jsonpatch<2.0,>=1.33 in /usr/local/lib/python3.12/dist-packages (from langchain-core>=0.1->langgraph) (1.33)\n",
            "Requirement already satisfied: PyYAML>=5.3 in /usr/local/lib/python3.12/dist-packages (from langchain-core>=0.1->langgraph) (6.0.2)\n",
            "Requirement already satisfied: typing-extensions>=4.7 in /usr/local/lib/python3.12/dist-packages (from langchain-core>=0.1->langgraph) (4.15.0)\n",
            "Requirement already satisfied: packaging>=23.2 in /usr/local/lib/python3.12/dist-packages (from langchain-core>=0.1->langgraph) (25.0)\n",
            "Collecting ormsgpack>=1.10.0 (from langgraph-checkpoint<3.0.0,>=2.1.0->langgraph)\n",
            "  Downloading ormsgpack-1.10.0-cp312-cp312-manylinux_2_17_x86_64.manylinux2014_x86_64.whl.metadata (43 kB)\n",
            "\u001b[2K     \u001b[90m━━━━━━━━━━━━━━━━━━━━━━━━━━━━━━━━━━━━━━━━\u001b[0m \u001b[32m43.7/43.7 kB\u001b[0m \u001b[31m2.8 MB/s\u001b[0m eta \u001b[36m0:00:00\u001b[0m\n",
            "\u001b[?25hRequirement already satisfied: httpx>=0.25.2 in /usr/local/lib/python3.12/dist-packages (from langgraph-sdk<0.3.0,>=0.2.2->langgraph) (0.28.1)\n",
            "Requirement already satisfied: orjson>=3.10.1 in /usr/local/lib/python3.12/dist-packages (from langgraph-sdk<0.3.0,>=0.2.2->langgraph) (3.11.2)\n",
            "Requirement already satisfied: annotated-types>=0.6.0 in /usr/local/lib/python3.12/dist-packages (from pydantic>=2.7.4->langgraph) (0.7.0)\n",
            "Requirement already satisfied: pydantic-core==2.33.2 in /usr/local/lib/python3.12/dist-packages (from pydantic>=2.7.4->langgraph) (2.33.2)\n",
            "Requirement already satisfied: typing-inspection>=0.4.0 in /usr/local/lib/python3.12/dist-packages (from pydantic>=2.7.4->langgraph) (0.4.1)\n",
            "Requirement already satisfied: anyio in /usr/local/lib/python3.12/dist-packages (from httpx>=0.25.2->langgraph-sdk<0.3.0,>=0.2.2->langgraph) (4.10.0)\n",
            "Requirement already satisfied: certifi in /usr/local/lib/python3.12/dist-packages (from httpx>=0.25.2->langgraph-sdk<0.3.0,>=0.2.2->langgraph) (2025.8.3)\n",
            "Requirement already satisfied: httpcore==1.* in /usr/local/lib/python3.12/dist-packages (from httpx>=0.25.2->langgraph-sdk<0.3.0,>=0.2.2->langgraph) (1.0.9)\n",
            "Requirement already satisfied: idna in /usr/local/lib/python3.12/dist-packages (from httpx>=0.25.2->langgraph-sdk<0.3.0,>=0.2.2->langgraph) (3.10)\n",
            "Requirement already satisfied: h11>=0.16 in /usr/local/lib/python3.12/dist-packages (from httpcore==1.*->httpx>=0.25.2->langgraph-sdk<0.3.0,>=0.2.2->langgraph) (0.16.0)\n",
            "Requirement already satisfied: jsonpointer>=1.9 in /usr/local/lib/python3.12/dist-packages (from jsonpatch<2.0,>=1.33->langchain-core>=0.1->langgraph) (3.0.0)\n",
            "Requirement already satisfied: requests-toolbelt>=1.0.0 in /usr/local/lib/python3.12/dist-packages (from langsmith>=0.3.45->langchain-core>=0.1->langgraph) (1.0.0)\n",
            "Requirement already satisfied: requests>=2.0.0 in /usr/local/lib/python3.12/dist-packages (from langsmith>=0.3.45->langchain-core>=0.1->langgraph) (2.32.4)\n",
            "Requirement already satisfied: zstandard>=0.23.0 in /usr/local/lib/python3.12/dist-packages (from langsmith>=0.3.45->langchain-core>=0.1->langgraph) (0.24.0)\n",
            "Requirement already satisfied: charset_normalizer<4,>=2 in /usr/local/lib/python3.12/dist-packages (from requests>=2.0.0->langsmith>=0.3.45->langchain-core>=0.1->langgraph) (3.4.3)\n",
            "Requirement already satisfied: urllib3<3,>=1.21.1 in /usr/local/lib/python3.12/dist-packages (from requests>=2.0.0->langsmith>=0.3.45->langchain-core>=0.1->langgraph) (2.5.0)\n",
            "Requirement already satisfied: sniffio>=1.1 in /usr/local/lib/python3.12/dist-packages (from anyio->httpx>=0.25.2->langgraph-sdk<0.3.0,>=0.2.2->langgraph) (1.3.1)\n",
            "Downloading langgraph-0.6.6-py3-none-any.whl (153 kB)\n",
            "\u001b[2K   \u001b[90m━━━━━━━━━━━━━━━━━━━━━━━━━━━━━━━━━━━━━━━━\u001b[0m \u001b[32m153.3/153.3 kB\u001b[0m \u001b[31m7.3 MB/s\u001b[0m eta \u001b[36m0:00:00\u001b[0m\n",
            "\u001b[?25hDownloading langgraph_checkpoint-2.1.1-py3-none-any.whl (43 kB)\n",
            "\u001b[2K   \u001b[90m━━━━━━━━━━━━━━━━━━━━━━━━━━━━━━━━━━━━━━━━\u001b[0m \u001b[32m43.9/43.9 kB\u001b[0m \u001b[31m2.7 MB/s\u001b[0m eta \u001b[36m0:00:00\u001b[0m\n",
            "\u001b[?25hDownloading langgraph_prebuilt-0.6.4-py3-none-any.whl (28 kB)\n",
            "Downloading langgraph_sdk-0.2.4-py3-none-any.whl (53 kB)\n",
            "\u001b[2K   \u001b[90m━━━━━━━━━━━━━━━━━━━━━━━━━━━━━━━━━━━━━━━━\u001b[0m \u001b[32m54.0/54.0 kB\u001b[0m \u001b[31m3.8 MB/s\u001b[0m eta \u001b[36m0:00:00\u001b[0m\n",
            "\u001b[?25hDownloading ormsgpack-1.10.0-cp312-cp312-manylinux_2_17_x86_64.manylinux2014_x86_64.whl (216 kB)\n",
            "\u001b[2K   \u001b[90m━━━━━━━━━━━━━━━━━━━━━━━━━━━━━━━━━━━━━━━━\u001b[0m \u001b[32m216.7/216.7 kB\u001b[0m \u001b[31m15.8 MB/s\u001b[0m eta \u001b[36m0:00:00\u001b[0m\n",
            "\u001b[?25hInstalling collected packages: ormsgpack, langgraph-sdk, langgraph-checkpoint, langgraph-prebuilt, langgraph\n",
            "Successfully installed langgraph-0.6.6 langgraph-checkpoint-2.1.1 langgraph-prebuilt-0.6.4 langgraph-sdk-0.2.4 ormsgpack-1.10.0\n",
            "Collecting langchain-openai\n",
            "  Downloading langchain_openai-0.3.32-py3-none-any.whl.metadata (2.4 kB)\n",
            "Requirement already satisfied: langchain-core<1.0.0,>=0.3.74 in /usr/local/lib/python3.12/dist-packages (from langchain-openai) (0.3.74)\n",
            "Requirement already satisfied: openai<2.0.0,>=1.99.9 in /usr/local/lib/python3.12/dist-packages (from langchain-openai) (1.101.0)\n",
            "Requirement already satisfied: tiktoken<1,>=0.7 in /usr/local/lib/python3.12/dist-packages (from langchain-openai) (0.11.0)\n",
            "Requirement already satisfied: langsmith>=0.3.45 in /usr/local/lib/python3.12/dist-packages (from langchain-core<1.0.0,>=0.3.74->langchain-openai) (0.4.16)\n",
            "Requirement already satisfied: tenacity!=8.4.0,<10.0.0,>=8.1.0 in /usr/local/lib/python3.12/dist-packages (from langchain-core<1.0.0,>=0.3.74->langchain-openai) (8.5.0)\n",
            "Requirement already satisfied: jsonpatch<2.0,>=1.33 in /usr/local/lib/python3.12/dist-packages (from langchain-core<1.0.0,>=0.3.74->langchain-openai) (1.33)\n",
            "Requirement already satisfied: PyYAML>=5.3 in /usr/local/lib/python3.12/dist-packages (from langchain-core<1.0.0,>=0.3.74->langchain-openai) (6.0.2)\n",
            "Requirement already satisfied: typing-extensions>=4.7 in /usr/local/lib/python3.12/dist-packages (from langchain-core<1.0.0,>=0.3.74->langchain-openai) (4.15.0)\n",
            "Requirement already satisfied: packaging>=23.2 in /usr/local/lib/python3.12/dist-packages (from langchain-core<1.0.0,>=0.3.74->langchain-openai) (25.0)\n",
            "Requirement already satisfied: pydantic>=2.7.4 in /usr/local/lib/python3.12/dist-packages (from langchain-core<1.0.0,>=0.3.74->langchain-openai) (2.11.7)\n",
            "Requirement already satisfied: anyio<5,>=3.5.0 in /usr/local/lib/python3.12/dist-packages (from openai<2.0.0,>=1.99.9->langchain-openai) (4.10.0)\n",
            "Requirement already satisfied: distro<2,>=1.7.0 in /usr/local/lib/python3.12/dist-packages (from openai<2.0.0,>=1.99.9->langchain-openai) (1.9.0)\n",
            "Requirement already satisfied: httpx<1,>=0.23.0 in /usr/local/lib/python3.12/dist-packages (from openai<2.0.0,>=1.99.9->langchain-openai) (0.28.1)\n",
            "Requirement already satisfied: jiter<1,>=0.4.0 in /usr/local/lib/python3.12/dist-packages (from openai<2.0.0,>=1.99.9->langchain-openai) (0.10.0)\n",
            "Requirement already satisfied: sniffio in /usr/local/lib/python3.12/dist-packages (from openai<2.0.0,>=1.99.9->langchain-openai) (1.3.1)\n",
            "Requirement already satisfied: tqdm>4 in /usr/local/lib/python3.12/dist-packages (from openai<2.0.0,>=1.99.9->langchain-openai) (4.67.1)\n",
            "Requirement already satisfied: regex>=2022.1.18 in /usr/local/lib/python3.12/dist-packages (from tiktoken<1,>=0.7->langchain-openai) (2024.11.6)\n",
            "Requirement already satisfied: requests>=2.26.0 in /usr/local/lib/python3.12/dist-packages (from tiktoken<1,>=0.7->langchain-openai) (2.32.4)\n",
            "Requirement already satisfied: idna>=2.8 in /usr/local/lib/python3.12/dist-packages (from anyio<5,>=3.5.0->openai<2.0.0,>=1.99.9->langchain-openai) (3.10)\n",
            "Requirement already satisfied: certifi in /usr/local/lib/python3.12/dist-packages (from httpx<1,>=0.23.0->openai<2.0.0,>=1.99.9->langchain-openai) (2025.8.3)\n",
            "Requirement already satisfied: httpcore==1.* in /usr/local/lib/python3.12/dist-packages (from httpx<1,>=0.23.0->openai<2.0.0,>=1.99.9->langchain-openai) (1.0.9)\n",
            "Requirement already satisfied: h11>=0.16 in /usr/local/lib/python3.12/dist-packages (from httpcore==1.*->httpx<1,>=0.23.0->openai<2.0.0,>=1.99.9->langchain-openai) (0.16.0)\n",
            "Requirement already satisfied: jsonpointer>=1.9 in /usr/local/lib/python3.12/dist-packages (from jsonpatch<2.0,>=1.33->langchain-core<1.0.0,>=0.3.74->langchain-openai) (3.0.0)\n",
            "Requirement already satisfied: orjson>=3.9.14 in /usr/local/lib/python3.12/dist-packages (from langsmith>=0.3.45->langchain-core<1.0.0,>=0.3.74->langchain-openai) (3.11.2)\n",
            "Requirement already satisfied: requests-toolbelt>=1.0.0 in /usr/local/lib/python3.12/dist-packages (from langsmith>=0.3.45->langchain-core<1.0.0,>=0.3.74->langchain-openai) (1.0.0)\n",
            "Requirement already satisfied: zstandard>=0.23.0 in /usr/local/lib/python3.12/dist-packages (from langsmith>=0.3.45->langchain-core<1.0.0,>=0.3.74->langchain-openai) (0.24.0)\n",
            "Requirement already satisfied: annotated-types>=0.6.0 in /usr/local/lib/python3.12/dist-packages (from pydantic>=2.7.4->langchain-core<1.0.0,>=0.3.74->langchain-openai) (0.7.0)\n",
            "Requirement already satisfied: pydantic-core==2.33.2 in /usr/local/lib/python3.12/dist-packages (from pydantic>=2.7.4->langchain-core<1.0.0,>=0.3.74->langchain-openai) (2.33.2)\n",
            "Requirement already satisfied: typing-inspection>=0.4.0 in /usr/local/lib/python3.12/dist-packages (from pydantic>=2.7.4->langchain-core<1.0.0,>=0.3.74->langchain-openai) (0.4.1)\n",
            "Requirement already satisfied: charset_normalizer<4,>=2 in /usr/local/lib/python3.12/dist-packages (from requests>=2.26.0->tiktoken<1,>=0.7->langchain-openai) (3.4.3)\n",
            "Requirement already satisfied: urllib3<3,>=1.21.1 in /usr/local/lib/python3.12/dist-packages (from requests>=2.26.0->tiktoken<1,>=0.7->langchain-openai) (2.5.0)\n",
            "Downloading langchain_openai-0.3.32-py3-none-any.whl (74 kB)\n",
            "\u001b[2K   \u001b[90m━━━━━━━━━━━━━━━━━━━━━━━━━━━━━━━━━━━━━━━━\u001b[0m \u001b[32m74.5/74.5 kB\u001b[0m \u001b[31m3.9 MB/s\u001b[0m eta \u001b[36m0:00:00\u001b[0m\n",
            "\u001b[?25hInstalling collected packages: langchain-openai\n",
            "Successfully installed langchain-openai-0.3.32\n",
            "Collecting langchain-community\n",
            "  Downloading langchain_community-0.3.29-py3-none-any.whl.metadata (2.9 kB)\n",
            "Collecting langchain-core<2.0.0,>=0.3.75 (from langchain-community)\n",
            "  Downloading langchain_core-0.3.75-py3-none-any.whl.metadata (5.7 kB)\n",
            "Requirement already satisfied: langchain<2.0.0,>=0.3.27 in /usr/local/lib/python3.12/dist-packages (from langchain-community) (0.3.27)\n",
            "Requirement already satisfied: SQLAlchemy<3,>=1.4 in /usr/local/lib/python3.12/dist-packages (from langchain-community) (2.0.43)\n",
            "Collecting requests<3,>=2.32.5 (from langchain-community)\n",
            "  Downloading requests-2.32.5-py3-none-any.whl.metadata (4.9 kB)\n",
            "Requirement already satisfied: PyYAML>=5.3 in /usr/local/lib/python3.12/dist-packages (from langchain-community) (6.0.2)\n",
            "Requirement already satisfied: aiohttp<4.0.0,>=3.8.3 in /usr/local/lib/python3.12/dist-packages (from langchain-community) (3.12.15)\n",
            "Requirement already satisfied: tenacity!=8.4.0,<10,>=8.1.0 in /usr/local/lib/python3.12/dist-packages (from langchain-community) (8.5.0)\n",
            "Collecting dataclasses-json<0.7,>=0.6.7 (from langchain-community)\n",
            "  Downloading dataclasses_json-0.6.7-py3-none-any.whl.metadata (25 kB)\n",
            "Requirement already satisfied: pydantic-settings<3.0.0,>=2.10.1 in /usr/local/lib/python3.12/dist-packages (from langchain-community) (2.10.1)\n",
            "Requirement already satisfied: langsmith>=0.1.125 in /usr/local/lib/python3.12/dist-packages (from langchain-community) (0.4.16)\n",
            "Requirement already satisfied: httpx-sse<1.0.0,>=0.4.0 in /usr/local/lib/python3.12/dist-packages (from langchain-community) (0.4.1)\n",
            "Requirement already satisfied: numpy>=1.26.2 in /usr/local/lib/python3.12/dist-packages (from langchain-community) (2.0.2)\n",
            "Requirement already satisfied: aiohappyeyeballs>=2.5.0 in /usr/local/lib/python3.12/dist-packages (from aiohttp<4.0.0,>=3.8.3->langchain-community) (2.6.1)\n",
            "Requirement already satisfied: aiosignal>=1.4.0 in /usr/local/lib/python3.12/dist-packages (from aiohttp<4.0.0,>=3.8.3->langchain-community) (1.4.0)\n",
            "Requirement already satisfied: attrs>=17.3.0 in /usr/local/lib/python3.12/dist-packages (from aiohttp<4.0.0,>=3.8.3->langchain-community) (25.3.0)\n",
            "Requirement already satisfied: frozenlist>=1.1.1 in /usr/local/lib/python3.12/dist-packages (from aiohttp<4.0.0,>=3.8.3->langchain-community) (1.7.0)\n",
            "Requirement already satisfied: multidict<7.0,>=4.5 in /usr/local/lib/python3.12/dist-packages (from aiohttp<4.0.0,>=3.8.3->langchain-community) (6.6.4)\n",
            "Requirement already satisfied: propcache>=0.2.0 in /usr/local/lib/python3.12/dist-packages (from aiohttp<4.0.0,>=3.8.3->langchain-community) (0.3.2)\n",
            "Requirement already satisfied: yarl<2.0,>=1.17.0 in /usr/local/lib/python3.12/dist-packages (from aiohttp<4.0.0,>=3.8.3->langchain-community) (1.20.1)\n",
            "Collecting marshmallow<4.0.0,>=3.18.0 (from dataclasses-json<0.7,>=0.6.7->langchain-community)\n",
            "  Downloading marshmallow-3.26.1-py3-none-any.whl.metadata (7.3 kB)\n",
            "Collecting typing-inspect<1,>=0.4.0 (from dataclasses-json<0.7,>=0.6.7->langchain-community)\n",
            "  Downloading typing_inspect-0.9.0-py3-none-any.whl.metadata (1.5 kB)\n",
            "Requirement already satisfied: langchain-text-splitters<1.0.0,>=0.3.9 in /usr/local/lib/python3.12/dist-packages (from langchain<2.0.0,>=0.3.27->langchain-community) (0.3.9)\n",
            "Requirement already satisfied: pydantic<3.0.0,>=2.7.4 in /usr/local/lib/python3.12/dist-packages (from langchain<2.0.0,>=0.3.27->langchain-community) (2.11.7)\n",
            "Requirement already satisfied: jsonpatch<2.0,>=1.33 in /usr/local/lib/python3.12/dist-packages (from langchain-core<2.0.0,>=0.3.75->langchain-community) (1.33)\n",
            "Requirement already satisfied: typing-extensions>=4.7 in /usr/local/lib/python3.12/dist-packages (from langchain-core<2.0.0,>=0.3.75->langchain-community) (4.15.0)\n",
            "Requirement already satisfied: packaging>=23.2 in /usr/local/lib/python3.12/dist-packages (from langchain-core<2.0.0,>=0.3.75->langchain-community) (25.0)\n",
            "Requirement already satisfied: httpx<1,>=0.23.0 in /usr/local/lib/python3.12/dist-packages (from langsmith>=0.1.125->langchain-community) (0.28.1)\n",
            "Requirement already satisfied: orjson>=3.9.14 in /usr/local/lib/python3.12/dist-packages (from langsmith>=0.1.125->langchain-community) (3.11.2)\n",
            "Requirement already satisfied: requests-toolbelt>=1.0.0 in /usr/local/lib/python3.12/dist-packages (from langsmith>=0.1.125->langchain-community) (1.0.0)\n",
            "Requirement already satisfied: zstandard>=0.23.0 in /usr/local/lib/python3.12/dist-packages (from langsmith>=0.1.125->langchain-community) (0.24.0)\n",
            "Requirement already satisfied: python-dotenv>=0.21.0 in /usr/local/lib/python3.12/dist-packages (from pydantic-settings<3.0.0,>=2.10.1->langchain-community) (1.1.1)\n",
            "Requirement already satisfied: typing-inspection>=0.4.0 in /usr/local/lib/python3.12/dist-packages (from pydantic-settings<3.0.0,>=2.10.1->langchain-community) (0.4.1)\n",
            "Requirement already satisfied: charset_normalizer<4,>=2 in /usr/local/lib/python3.12/dist-packages (from requests<3,>=2.32.5->langchain-community) (3.4.3)\n",
            "Requirement already satisfied: idna<4,>=2.5 in /usr/local/lib/python3.12/dist-packages (from requests<3,>=2.32.5->langchain-community) (3.10)\n",
            "Requirement already satisfied: urllib3<3,>=1.21.1 in /usr/local/lib/python3.12/dist-packages (from requests<3,>=2.32.5->langchain-community) (2.5.0)\n",
            "Requirement already satisfied: certifi>=2017.4.17 in /usr/local/lib/python3.12/dist-packages (from requests<3,>=2.32.5->langchain-community) (2025.8.3)\n",
            "Requirement already satisfied: greenlet>=1 in /usr/local/lib/python3.12/dist-packages (from SQLAlchemy<3,>=1.4->langchain-community) (3.2.4)\n",
            "Requirement already satisfied: anyio in /usr/local/lib/python3.12/dist-packages (from httpx<1,>=0.23.0->langsmith>=0.1.125->langchain-community) (4.10.0)\n",
            "Requirement already satisfied: httpcore==1.* in /usr/local/lib/python3.12/dist-packages (from httpx<1,>=0.23.0->langsmith>=0.1.125->langchain-community) (1.0.9)\n",
            "Requirement already satisfied: h11>=0.16 in /usr/local/lib/python3.12/dist-packages (from httpcore==1.*->httpx<1,>=0.23.0->langsmith>=0.1.125->langchain-community) (0.16.0)\n",
            "Requirement already satisfied: jsonpointer>=1.9 in /usr/local/lib/python3.12/dist-packages (from jsonpatch<2.0,>=1.33->langchain-core<2.0.0,>=0.3.75->langchain-community) (3.0.0)\n",
            "Requirement already satisfied: annotated-types>=0.6.0 in /usr/local/lib/python3.12/dist-packages (from pydantic<3.0.0,>=2.7.4->langchain<2.0.0,>=0.3.27->langchain-community) (0.7.0)\n",
            "Requirement already satisfied: pydantic-core==2.33.2 in /usr/local/lib/python3.12/dist-packages (from pydantic<3.0.0,>=2.7.4->langchain<2.0.0,>=0.3.27->langchain-community) (2.33.2)\n",
            "Collecting mypy-extensions>=0.3.0 (from typing-inspect<1,>=0.4.0->dataclasses-json<0.7,>=0.6.7->langchain-community)\n",
            "  Downloading mypy_extensions-1.1.0-py3-none-any.whl.metadata (1.1 kB)\n",
            "Requirement already satisfied: sniffio>=1.1 in /usr/local/lib/python3.12/dist-packages (from anyio->httpx<1,>=0.23.0->langsmith>=0.1.125->langchain-community) (1.3.1)\n",
            "Downloading langchain_community-0.3.29-py3-none-any.whl (2.5 MB)\n",
            "\u001b[2K   \u001b[90m━━━━━━━━━━━━━━━━━━━━━━━━━━━━━━━━━━━━━━━━\u001b[0m \u001b[32m2.5/2.5 MB\u001b[0m \u001b[31m48.7 MB/s\u001b[0m eta \u001b[36m0:00:00\u001b[0m\n",
            "\u001b[?25hDownloading dataclasses_json-0.6.7-py3-none-any.whl (28 kB)\n",
            "Downloading langchain_core-0.3.75-py3-none-any.whl (443 kB)\n",
            "\u001b[2K   \u001b[90m━━━━━━━━━━━━━━━━━━━━━━━━━━━━━━━━━━━━━━━━\u001b[0m \u001b[32m444.0/444.0 kB\u001b[0m \u001b[31m25.9 MB/s\u001b[0m eta \u001b[36m0:00:00\u001b[0m\n",
            "\u001b[?25hDownloading requests-2.32.5-py3-none-any.whl (64 kB)\n",
            "\u001b[2K   \u001b[90m━━━━━━━━━━━━━━━━━━━━━━━━━━━━━━━━━━━━━━━━\u001b[0m \u001b[32m64.7/64.7 kB\u001b[0m \u001b[31m4.5 MB/s\u001b[0m eta \u001b[36m0:00:00\u001b[0m\n",
            "\u001b[?25hDownloading marshmallow-3.26.1-py3-none-any.whl (50 kB)\n",
            "\u001b[2K   \u001b[90m━━━━━━━━━━━━━━━━━━━━━━━━━━━━━━━━━━━━━━━━\u001b[0m \u001b[32m50.9/50.9 kB\u001b[0m \u001b[31m2.4 MB/s\u001b[0m eta \u001b[36m0:00:00\u001b[0m\n",
            "\u001b[?25hDownloading typing_inspect-0.9.0-py3-none-any.whl (8.8 kB)\n",
            "Downloading mypy_extensions-1.1.0-py3-none-any.whl (5.0 kB)\n",
            "Installing collected packages: requests, mypy-extensions, marshmallow, typing-inspect, dataclasses-json, langchain-core, langchain-community\n",
            "  Attempting uninstall: requests\n",
            "    Found existing installation: requests 2.32.4\n",
            "    Uninstalling requests-2.32.4:\n",
            "      Successfully uninstalled requests-2.32.4\n",
            "  Attempting uninstall: langchain-core\n",
            "    Found existing installation: langchain-core 0.3.74\n",
            "    Uninstalling langchain-core-0.3.74:\n",
            "      Successfully uninstalled langchain-core-0.3.74\n",
            "\u001b[31mERROR: pip's dependency resolver does not currently take into account all the packages that are installed. This behaviour is the source of the following dependency conflicts.\n",
            "google-colab 1.0.0 requires requests==2.32.4, but you have requests 2.32.5 which is incompatible.\u001b[0m\u001b[31m\n",
            "\u001b[0mSuccessfully installed dataclasses-json-0.6.7 langchain-community-0.3.29 langchain-core-0.3.75 marshmallow-3.26.1 mypy-extensions-1.1.0 requests-2.32.5 typing-inspect-0.9.0\n",
            "Collecting langgraph-checkpoint-sqlite\n",
            "  Downloading langgraph_checkpoint_sqlite-2.0.11-py3-none-any.whl.metadata (2.6 kB)\n",
            "Collecting aiosqlite>=0.20 (from langgraph-checkpoint-sqlite)\n",
            "  Downloading aiosqlite-0.21.0-py3-none-any.whl.metadata (4.3 kB)\n",
            "Requirement already satisfied: langgraph-checkpoint<3.0.0,>=2.0.21 in /usr/local/lib/python3.12/dist-packages (from langgraph-checkpoint-sqlite) (2.1.1)\n",
            "Collecting sqlite-vec>=0.1.6 (from langgraph-checkpoint-sqlite)\n",
            "  Downloading sqlite_vec-0.1.6-py3-none-manylinux_2_17_x86_64.manylinux2014_x86_64.manylinux1_x86_64.whl.metadata (198 bytes)\n",
            "Requirement already satisfied: typing_extensions>=4.0 in /usr/local/lib/python3.12/dist-packages (from aiosqlite>=0.20->langgraph-checkpoint-sqlite) (4.15.0)\n",
            "Requirement already satisfied: langchain-core>=0.2.38 in /usr/local/lib/python3.12/dist-packages (from langgraph-checkpoint<3.0.0,>=2.0.21->langgraph-checkpoint-sqlite) (0.3.75)\n",
            "Requirement already satisfied: ormsgpack>=1.10.0 in /usr/local/lib/python3.12/dist-packages (from langgraph-checkpoint<3.0.0,>=2.0.21->langgraph-checkpoint-sqlite) (1.10.0)\n",
            "Requirement already satisfied: langsmith>=0.3.45 in /usr/local/lib/python3.12/dist-packages (from langchain-core>=0.2.38->langgraph-checkpoint<3.0.0,>=2.0.21->langgraph-checkpoint-sqlite) (0.4.16)\n",
            "Requirement already satisfied: tenacity!=8.4.0,<10.0.0,>=8.1.0 in /usr/local/lib/python3.12/dist-packages (from langchain-core>=0.2.38->langgraph-checkpoint<3.0.0,>=2.0.21->langgraph-checkpoint-sqlite) (8.5.0)\n",
            "Requirement already satisfied: jsonpatch<2.0,>=1.33 in /usr/local/lib/python3.12/dist-packages (from langchain-core>=0.2.38->langgraph-checkpoint<3.0.0,>=2.0.21->langgraph-checkpoint-sqlite) (1.33)\n",
            "Requirement already satisfied: PyYAML>=5.3 in /usr/local/lib/python3.12/dist-packages (from langchain-core>=0.2.38->langgraph-checkpoint<3.0.0,>=2.0.21->langgraph-checkpoint-sqlite) (6.0.2)\n",
            "Requirement already satisfied: packaging>=23.2 in /usr/local/lib/python3.12/dist-packages (from langchain-core>=0.2.38->langgraph-checkpoint<3.0.0,>=2.0.21->langgraph-checkpoint-sqlite) (25.0)\n",
            "Requirement already satisfied: pydantic>=2.7.4 in /usr/local/lib/python3.12/dist-packages (from langchain-core>=0.2.38->langgraph-checkpoint<3.0.0,>=2.0.21->langgraph-checkpoint-sqlite) (2.11.7)\n",
            "Requirement already satisfied: jsonpointer>=1.9 in /usr/local/lib/python3.12/dist-packages (from jsonpatch<2.0,>=1.33->langchain-core>=0.2.38->langgraph-checkpoint<3.0.0,>=2.0.21->langgraph-checkpoint-sqlite) (3.0.0)\n",
            "Requirement already satisfied: httpx<1,>=0.23.0 in /usr/local/lib/python3.12/dist-packages (from langsmith>=0.3.45->langchain-core>=0.2.38->langgraph-checkpoint<3.0.0,>=2.0.21->langgraph-checkpoint-sqlite) (0.28.1)\n",
            "Requirement already satisfied: orjson>=3.9.14 in /usr/local/lib/python3.12/dist-packages (from langsmith>=0.3.45->langchain-core>=0.2.38->langgraph-checkpoint<3.0.0,>=2.0.21->langgraph-checkpoint-sqlite) (3.11.2)\n",
            "Requirement already satisfied: requests-toolbelt>=1.0.0 in /usr/local/lib/python3.12/dist-packages (from langsmith>=0.3.45->langchain-core>=0.2.38->langgraph-checkpoint<3.0.0,>=2.0.21->langgraph-checkpoint-sqlite) (1.0.0)\n",
            "Requirement already satisfied: requests>=2.0.0 in /usr/local/lib/python3.12/dist-packages (from langsmith>=0.3.45->langchain-core>=0.2.38->langgraph-checkpoint<3.0.0,>=2.0.21->langgraph-checkpoint-sqlite) (2.32.5)\n",
            "Requirement already satisfied: zstandard>=0.23.0 in /usr/local/lib/python3.12/dist-packages (from langsmith>=0.3.45->langchain-core>=0.2.38->langgraph-checkpoint<3.0.0,>=2.0.21->langgraph-checkpoint-sqlite) (0.24.0)\n",
            "Requirement already satisfied: annotated-types>=0.6.0 in /usr/local/lib/python3.12/dist-packages (from pydantic>=2.7.4->langchain-core>=0.2.38->langgraph-checkpoint<3.0.0,>=2.0.21->langgraph-checkpoint-sqlite) (0.7.0)\n",
            "Requirement already satisfied: pydantic-core==2.33.2 in /usr/local/lib/python3.12/dist-packages (from pydantic>=2.7.4->langchain-core>=0.2.38->langgraph-checkpoint<3.0.0,>=2.0.21->langgraph-checkpoint-sqlite) (2.33.2)\n",
            "Requirement already satisfied: typing-inspection>=0.4.0 in /usr/local/lib/python3.12/dist-packages (from pydantic>=2.7.4->langchain-core>=0.2.38->langgraph-checkpoint<3.0.0,>=2.0.21->langgraph-checkpoint-sqlite) (0.4.1)\n",
            "Requirement already satisfied: anyio in /usr/local/lib/python3.12/dist-packages (from httpx<1,>=0.23.0->langsmith>=0.3.45->langchain-core>=0.2.38->langgraph-checkpoint<3.0.0,>=2.0.21->langgraph-checkpoint-sqlite) (4.10.0)\n",
            "Requirement already satisfied: certifi in /usr/local/lib/python3.12/dist-packages (from httpx<1,>=0.23.0->langsmith>=0.3.45->langchain-core>=0.2.38->langgraph-checkpoint<3.0.0,>=2.0.21->langgraph-checkpoint-sqlite) (2025.8.3)\n",
            "Requirement already satisfied: httpcore==1.* in /usr/local/lib/python3.12/dist-packages (from httpx<1,>=0.23.0->langsmith>=0.3.45->langchain-core>=0.2.38->langgraph-checkpoint<3.0.0,>=2.0.21->langgraph-checkpoint-sqlite) (1.0.9)\n",
            "Requirement already satisfied: idna in /usr/local/lib/python3.12/dist-packages (from httpx<1,>=0.23.0->langsmith>=0.3.45->langchain-core>=0.2.38->langgraph-checkpoint<3.0.0,>=2.0.21->langgraph-checkpoint-sqlite) (3.10)\n",
            "Requirement already satisfied: h11>=0.16 in /usr/local/lib/python3.12/dist-packages (from httpcore==1.*->httpx<1,>=0.23.0->langsmith>=0.3.45->langchain-core>=0.2.38->langgraph-checkpoint<3.0.0,>=2.0.21->langgraph-checkpoint-sqlite) (0.16.0)\n",
            "Requirement already satisfied: charset_normalizer<4,>=2 in /usr/local/lib/python3.12/dist-packages (from requests>=2.0.0->langsmith>=0.3.45->langchain-core>=0.2.38->langgraph-checkpoint<3.0.0,>=2.0.21->langgraph-checkpoint-sqlite) (3.4.3)\n",
            "Requirement already satisfied: urllib3<3,>=1.21.1 in /usr/local/lib/python3.12/dist-packages (from requests>=2.0.0->langsmith>=0.3.45->langchain-core>=0.2.38->langgraph-checkpoint<3.0.0,>=2.0.21->langgraph-checkpoint-sqlite) (2.5.0)\n",
            "Requirement already satisfied: sniffio>=1.1 in /usr/local/lib/python3.12/dist-packages (from anyio->httpx<1,>=0.23.0->langsmith>=0.3.45->langchain-core>=0.2.38->langgraph-checkpoint<3.0.0,>=2.0.21->langgraph-checkpoint-sqlite) (1.3.1)\n",
            "Downloading langgraph_checkpoint_sqlite-2.0.11-py3-none-any.whl (31 kB)\n",
            "Downloading aiosqlite-0.21.0-py3-none-any.whl (15 kB)\n",
            "Downloading sqlite_vec-0.1.6-py3-none-manylinux_2_17_x86_64.manylinux2014_x86_64.manylinux1_x86_64.whl (151 kB)\n",
            "\u001b[2K   \u001b[90m━━━━━━━━━━━━━━━━━━━━━━━━━━━━━━━━━━━━━━━━\u001b[0m \u001b[32m151.6/151.6 kB\u001b[0m \u001b[31m6.5 MB/s\u001b[0m eta \u001b[36m0:00:00\u001b[0m\n",
            "\u001b[?25hInstalling collected packages: sqlite-vec, aiosqlite, langgraph-checkpoint-sqlite\n",
            "Successfully installed aiosqlite-0.21.0 langgraph-checkpoint-sqlite-2.0.11 sqlite-vec-0.1.6\n"
          ]
        }
      ]
    },
    {
      "cell_type": "code",
      "source": [
        "# 4. We set the AgentState\n",
        "# 5. We make one small modification\n",
        "# 6. In the pervious example we annotated the message list with operator.add\n",
        "# 7. This added messages to the existing messages array\n",
        "# 8. For human in the loop interaction, we may also have to replace existing\n",
        "# messages.\n",
        "# 9. In order to that we write a custom function\n",
        "# 10. We call it as: reduced_messages function\n",
        "# 11. This looks for messages with the say id. And if it sees that you have\n",
        "# a message with same id, it replaces that\n",
        "# 12. Otherwise, it just appends.\n",
        "\n",
        "\n",
        "from uuid import uuid4\n",
        "from langchain_core.messages import AnyMessage, SystemMessage, HumanMessage, AIMessage\n",
        "\n",
        "\"\"\"\n",
        "In previous examples we've annotated the `messages` state key\n",
        "with the default `operator.add` or `+` reducer, which always\n",
        "appends new messages to the end of the existing messages array.\n",
        "\n",
        "Now, to support replacing existing messages, we annotate the\n",
        "`messages` key with a customer reducer function, which replaces\n",
        "messages with the same `id`, and appends them otherwise.\n",
        "\"\"\"\n",
        "def reduce_messages(left: list[AnyMessage], right: list[AnyMessage]) -> list[AnyMessage]:\n",
        "    # assign ids to messages that don't have them\n",
        "    for message in right:\n",
        "        if not message.id:\n",
        "            message.id = str(uuid4())\n",
        "    # merge the new messages with the existing messages\n",
        "    merged = left.copy()\n",
        "    for message in right:\n",
        "        for i, existing in enumerate(merged):\n",
        "            # replace any existing messages with the same id\n",
        "            if existing.id == message.id:\n",
        "                merged[i] = message\n",
        "                break\n",
        "        else:\n",
        "            # append any new messages to the end\n",
        "            merged.append(message)\n",
        "    return merged\n",
        "\n",
        "class AgentState(TypedDict):\n",
        "    messages: Annotated[list[AnyMessage], reduce_messages]"
      ],
      "metadata": {
        "id": "pZPczzJ2p_cg"
      },
      "execution_count": null,
      "outputs": []
    },
    {
      "cell_type": "markdown",
      "source": [
        "**Creating the Tavily Tool**"
      ],
      "metadata": {
        "id": "e8cKbQiHuszu"
      }
    },
    {
      "cell_type": "code",
      "source": [
        "# 13. We now create a Tavily tool as before.\n",
        "tool = TavilySearchResults(max_results=2)"
      ],
      "metadata": {
        "id": "HWs0FTFIrwoX",
        "colab": {
          "base_uri": "https://localhost:8080/"
        },
        "outputId": "d8f5f19f-53e2-4ffd-88e8-5c380cfa5085"
      },
      "execution_count": null,
      "outputs": [
        {
          "output_type": "stream",
          "name": "stderr",
          "text": [
            "/tmp/ipython-input-2573608900.py:2: LangChainDeprecationWarning: The class `TavilySearchResults` was deprecated in LangChain 0.3.25 and will be removed in 1.0. An updated version of the class exists in the :class:`~langchain-tavily package and should be used instead. To use it run `pip install -U :class:`~langchain-tavily` and import as `from :class:`~langchain_tavily import TavilySearch``.\n",
            "  tool = TavilySearchResults(max_results=2)\n"
          ]
        }
      ]
    },
    {
      "cell_type": "markdown",
      "source": [
        "**Human in the Loop. Human Approval before a Tool Call**"
      ],
      "metadata": {
        "id": "sNKEAq-0ux-v"
      }
    },
    {
      "cell_type": "code",
      "source": [
        "# 14. We craete the same Agent as before.\n",
        "# 15. We make one small modification.\n",
        "# 16. While compiling the graph, in addition to passing the\n",
        "# check pointer, we also pass interrupt_before the action parameter\n",
        "# 17. This adds an interrupt before the action node\n",
        "# 18. Action node is wheer we call the tool\n",
        "# 19. The reason we do is that we are adding a manual approval requirement\n",
        "# before we run any tools\n",
        "# 20. This is when you want to amke sure the tools are executed correctly\n",
        "# 21. That is with approval from Human\n",
        "# 22. As mentioned, this interrupt happens before action node before tools\n",
        "# are called.\n",
        "# 23. It is also possible to ahve the interrupt before a certain tool call only\n",
        "# 24. This is not covered here\n",
        "\n",
        "\n",
        "class Agent:\n",
        "    def __init__(self, model, tools, system=\"\", checkpointer=None):\n",
        "        self.system = system\n",
        "        graph = StateGraph(AgentState)\n",
        "        graph.add_node(\"llm\", self.call_openai)\n",
        "        graph.add_node(\"action\", self.take_action)\n",
        "        graph.add_conditional_edges(\"llm\", self.exists_action, {True: \"action\", False: END})\n",
        "        graph.add_edge(\"action\", \"llm\")\n",
        "        graph.set_entry_point(\"llm\")\n",
        "        self.graph = graph.compile(\n",
        "            checkpointer=checkpointer,\n",
        "            interrupt_before=[\"action\"]\n",
        "        )\n",
        "        self.tools = {t.name: t for t in tools}\n",
        "        self.model = model.bind_tools(tools)\n",
        "\n",
        "    def call_openai(self, state: AgentState):\n",
        "        messages = state['messages']\n",
        "        if self.system:\n",
        "            messages = [SystemMessage(content=self.system)] + messages\n",
        "        message = self.model.invoke(messages)\n",
        "        return {'messages': [message]}\n",
        "\n",
        "    def exists_action(self, state: AgentState):\n",
        "        print(state)\n",
        "        result = state['messages'][-1]\n",
        "        return len(result.tool_calls) > 0\n",
        "\n",
        "    def take_action(self, state: AgentState):\n",
        "        tool_calls = state['messages'][-1].tool_calls\n",
        "        results = []\n",
        "        for t in tool_calls:\n",
        "            print(f\"Calling: {t}\")\n",
        "            result = self.tools[t['name']].invoke(t['args'])\n",
        "            results.append(ToolMessage(tool_call_id=t['id'], name=t['name'], content=str(result)))\n",
        "        print(\"Back to the model!\")\n",
        "        return {'messages': results}\n"
      ],
      "metadata": {
        "id": "T4bMrCYJr_v9"
      },
      "execution_count": null,
      "outputs": []
    },
    {
      "cell_type": "code",
      "source": [
        "# 25. We next initialize the Agent with the same System Prompt and model\n",
        "# and checkpointer as before\n",
        "\n",
        "prompt = \"\"\"You are a smart research assistant. Use the search engine to look up information. \\\n",
        "You are allowed to make multiple calls (either together or in sequence). \\\n",
        "Only look up information when you are sure of what you want. \\\n",
        "If you need to look up some information before asking a follow up question, you are allowed to do that!\n",
        "\"\"\"\n",
        "model = ChatOpenAI(model=\"gpt-4.1\")\n",
        "abot = Agent(model, [tool], system=prompt, checkpointer=memory)\n"
      ],
      "metadata": {
        "id": "srSS9sWpu9XH"
      },
      "execution_count": null,
      "outputs": []
    },
    {
      "cell_type": "markdown",
      "source": [
        "**Streaming the Messages: Observe the Interrupt after AI Message**"
      ],
      "metadata": {
        "id": "WbOKiFMb4AV3"
      }
    },
    {
      "cell_type": "code",
      "source": [
        "# 26. We now call it and we pass in the thread config with theread id of 1\n",
        "# 27. This necessary for persistence as discussed before\n",
        "# 28. This is a separate notebook, it will start from fresh\n",
        "# 29. We stream the messages\n",
        "# 30. You can notice below that the response stops after the AI message\n",
        "# 31. This is because after AI message\n",
        "# 32. This is because the AI message is saying we should call a tool\n",
        "# 33. Snce we have interrupt_before parameter it stops before calling the tool\n",
        "\n",
        "ctx = SqliteSaver.from_conn_string(\":memory:\")\n",
        "memory = ctx.__enter__()  # manually enter context\n",
        "\n",
        "\n",
        "\n",
        "abot = Agent(model, [tool], system=prompt, checkpointer=memory)\n",
        "messages = [HumanMessage(content=\"Whats the weather in SF?\")]\n",
        "thread = {\"configurable\": {\"thread_id\": \"1\"}}\n",
        "\n",
        "for event in abot.graph.stream({\"messages\": messages}, thread):\n",
        "    for v in event.values():\n",
        "        print(v.content if hasattr(v, \"content\") else v)\n",
        "\n",
        "state = abot.graph.get_state(thread)\n",
        "print(\"Current state:\", state)\n",
        "print(\"Next node to execute:\", state.next)\n"
      ],
      "metadata": {
        "colab": {
          "base_uri": "https://localhost:8080/"
        },
        "id": "xUz_UUnzxamX",
        "outputId": "a23da91c-050e-4acb-f3b0-70f551581593"
      },
      "execution_count": null,
      "outputs": [
        {
          "output_type": "stream",
          "name": "stdout",
          "text": [
            "{'messages': [HumanMessage(content='Whats the weather in SF?', additional_kwargs={}, response_metadata={}, id='1cf67838-527a-48ea-a308-e15812da7fba'), AIMessage(content='', additional_kwargs={'tool_calls': [{'id': 'call_WccREUv51PLdXImv90uhdmTd', 'function': {'arguments': '{\"query\":\"current weather in San Francisco\"}', 'name': 'tavily_search_results_json'}, 'type': 'function'}], 'refusal': None}, response_metadata={'token_usage': {'completion_tokens': 22, 'prompt_tokens': 150, 'total_tokens': 172, 'completion_tokens_details': {'accepted_prediction_tokens': 0, 'audio_tokens': 0, 'reasoning_tokens': 0, 'rejected_prediction_tokens': 0}, 'prompt_tokens_details': {'audio_tokens': 0, 'cached_tokens': 0}}, 'model_name': 'gpt-4.1-2025-04-14', 'system_fingerprint': 'fp_daf5fcc80a', 'id': 'chatcmpl-CBPI8qlh6Y1ftImOD3OyQjzNL6iui', 'service_tier': 'default', 'finish_reason': 'tool_calls', 'logprobs': None}, id='run--6f36d7e6-550a-4e06-85b6-cef480f53aab-0', tool_calls=[{'name': 'tavily_search_results_json', 'args': {'query': 'current weather in San Francisco'}, 'id': 'call_WccREUv51PLdXImv90uhdmTd', 'type': 'tool_call'}], usage_metadata={'input_tokens': 150, 'output_tokens': 22, 'total_tokens': 172, 'input_token_details': {'audio': 0, 'cache_read': 0}, 'output_token_details': {'audio': 0, 'reasoning': 0}})]}\n",
            "{'messages': [AIMessage(content='', additional_kwargs={'tool_calls': [{'id': 'call_WccREUv51PLdXImv90uhdmTd', 'function': {'arguments': '{\"query\":\"current weather in San Francisco\"}', 'name': 'tavily_search_results_json'}, 'type': 'function'}], 'refusal': None}, response_metadata={'token_usage': {'completion_tokens': 22, 'prompt_tokens': 150, 'total_tokens': 172, 'completion_tokens_details': {'accepted_prediction_tokens': 0, 'audio_tokens': 0, 'reasoning_tokens': 0, 'rejected_prediction_tokens': 0}, 'prompt_tokens_details': {'audio_tokens': 0, 'cached_tokens': 0}}, 'model_name': 'gpt-4.1-2025-04-14', 'system_fingerprint': 'fp_daf5fcc80a', 'id': 'chatcmpl-CBPI8qlh6Y1ftImOD3OyQjzNL6iui', 'service_tier': 'default', 'finish_reason': 'tool_calls', 'logprobs': None}, id='run--6f36d7e6-550a-4e06-85b6-cef480f53aab-0', tool_calls=[{'name': 'tavily_search_results_json', 'args': {'query': 'current weather in San Francisco'}, 'id': 'call_WccREUv51PLdXImv90uhdmTd', 'type': 'tool_call'}], usage_metadata={'input_tokens': 150, 'output_tokens': 22, 'total_tokens': 172, 'input_token_details': {'audio': 0, 'cache_read': 0}, 'output_token_details': {'audio': 0, 'reasoning': 0}})]}\n",
            "()\n",
            "Current state: StateSnapshot(values={'messages': [HumanMessage(content='Whats the weather in SF?', additional_kwargs={}, response_metadata={}, id='1cf67838-527a-48ea-a308-e15812da7fba'), AIMessage(content='', additional_kwargs={'tool_calls': [{'id': 'call_WccREUv51PLdXImv90uhdmTd', 'function': {'arguments': '{\"query\":\"current weather in San Francisco\"}', 'name': 'tavily_search_results_json'}, 'type': 'function'}], 'refusal': None}, response_metadata={'token_usage': {'completion_tokens': 22, 'prompt_tokens': 150, 'total_tokens': 172, 'completion_tokens_details': {'accepted_prediction_tokens': 0, 'audio_tokens': 0, 'reasoning_tokens': 0, 'rejected_prediction_tokens': 0}, 'prompt_tokens_details': {'audio_tokens': 0, 'cached_tokens': 0}}, 'model_name': 'gpt-4.1-2025-04-14', 'system_fingerprint': 'fp_daf5fcc80a', 'id': 'chatcmpl-CBPI8qlh6Y1ftImOD3OyQjzNL6iui', 'service_tier': 'default', 'finish_reason': 'tool_calls', 'logprobs': None}, id='run--6f36d7e6-550a-4e06-85b6-cef480f53aab-0', tool_calls=[{'name': 'tavily_search_results_json', 'args': {'query': 'current weather in San Francisco'}, 'id': 'call_WccREUv51PLdXImv90uhdmTd', 'type': 'tool_call'}], usage_metadata={'input_tokens': 150, 'output_tokens': 22, 'total_tokens': 172, 'input_token_details': {'audio': 0, 'cache_read': 0}, 'output_token_details': {'audio': 0, 'reasoning': 0}})]}, next=('action',), config={'configurable': {'thread_id': '1', 'checkpoint_ns': '', 'checkpoint_id': '1f088240-0027-6cd5-8001-1428ccb8cf5e'}}, metadata={'source': 'loop', 'step': 1, 'parents': {}}, created_at='2025-09-02T17:41:04.884825+00:00', parent_config={'configurable': {'thread_id': '1', 'checkpoint_ns': '', 'checkpoint_id': '1f08823f-e918-64d9-8000-4bf2a76b3fd4'}}, tasks=(PregelTask(id='41d6b2ba-e147-c6d5-b7cb-71a0bf9a4854', name='action', path=('__pregel_pull', 'action'), error=None, interrupts=(), state=None, result=None),), interrupts=())\n",
            "Next node to execute: ('action',)\n"
          ]
        }
      ]
    },
    {
      "cell_type": "markdown",
      "source": [
        "**Observe the State of the Graph as well as se what's the next Parameter**"
      ],
      "metadata": {
        "id": "JcXlj6QO4Klp"
      }
    },
    {
      "cell_type": "code",
      "source": [
        "# 34. Observe the State of the Graph\n",
        "#abot.graph.get_state(thread)\n",
        "# 35. Move to the top cell"
      ],
      "metadata": {
        "id": "J2-ScLy54VfC"
      },
      "execution_count": null,
      "outputs": []
    },
    {
      "cell_type": "code",
      "source": [
        "# 36. Find out what's the next node to be executed\n",
        "# abot.graph.get_state(thread).next\n",
        "# 37. Moved to the top cell\n",
        "# 38. We see that next node to eb executed is the action node"
      ],
      "metadata": {
        "id": "_5b6ZDXI4bmx"
      },
      "execution_count": null,
      "outputs": []
    },
    {
      "cell_type": "markdown",
      "source": [
        "**Continuing After Interrupt: In order to continue**\n"
      ],
      "metadata": {
        "id": "c2CJb7vW-wCJ"
      }
    },
    {
      "cell_type": "code",
      "source": [
        "# 39 We continue by giving None as below\n",
        "# 40 In LangGraph, the stream() method signature typically looks like:\n",
        "# 41 stream(input: Optional[Any], thread: Thread)\n",
        "# input: The initial input to the graph (e.g. a user message, tool result, etc.)\n",
        "\n",
        "# thread: The execution context, which holds the current state and history\n",
        "\n",
        "# So when you write:\n",
        "# for event in abot.graph.stream(None, thread):\n",
        "\n",
        "# You're saying:\n",
        "\n",
        "# “Resume the graph from the current thread state, without injecting any new input.”\n",
        "\n",
        "# 42. Doing that we see we get tool message by calling the tool\n",
        "# 43. We also get the final AI message\n",
        "\n",
        "for event in abot.graph.stream(None, thread):\n",
        "    for v in event.values():\n",
        "        print(v)"
      ],
      "metadata": {
        "colab": {
          "base_uri": "https://localhost:8080/"
        },
        "id": "TMLa-mdu-N2d",
        "outputId": "d2da4d29-e519-4605-a7df-20f31ab8c42a"
      },
      "execution_count": null,
      "outputs": [
        {
          "output_type": "stream",
          "name": "stdout",
          "text": [
            "Calling: {'name': 'tavily_search_results_json', 'args': {'query': 'current weather in San Francisco'}, 'id': 'call_WccREUv51PLdXImv90uhdmTd', 'type': 'tool_call'}\n",
            "Back to the model!\n",
            "{'messages': [ToolMessage(content='[{\\'title\\': \\'San Francisco weather in September 2025 | Weather25.com\\', \\'url\\': \\'https://www.weather25.com/north-america/usa/california/san-francisco?page=month&month=September\\', \\'content\\': \\'| 14 Sunny 18° /14° | 15 Sunny 20° /13° | 16 Partly cloudy 19° /14° | 17 Partly cloudy 19° /13° | 18 Mist 18° /13° | 19 Sunny 19° /13° | 20 Sunny 22° /13° |\\\\n| 21 Sunny 22° /15° | 22 Partly cloudy 20° /14° | 23 Sunny 22° /13° | 24 Mist 22° /15° | 25 Partly cloudy 22° /14° | 26 Partly cloudy 20° /15° | 27 Cloudy 21° /14° |\\\\n| 28 Sunny 21° /13° | 29 Partly cloudy 21° /14° | 30 Sunny 22° /14° |  |  |  |  | [...] | Sun | Mon | Tue | Wed | Thu | Fri | Sat |\\\\n ---  ---  --- \\\\n|  | 1 Sunny 21° /14° | 2 Mist 16° /13° | 3 Fog 16° /13° | 4 Fog 16° /13° | 5 Sunny 19° /15° | 6 Sunny 19° /15° |\\\\n| 7 Sunny 19° /15° | 8 Sunny 19° /15° | 9 Partly cloudy 18° /15° | 10 Patchy rain possible 18° /15° | 11 Sunny 18° /14° | 12 Partly cloudy 18° /14° | 13 Partly cloudy 18° /15° | [...] Sunny\\\\nMist\\\\nFog\\\\nFog\\\\nSunny\\\\nSunny\\\\nSunny\\\\nSunny\\\\nPartly cloudy\\\\nPatchy rain possible\\\\nSunny\\\\nPartly cloudy\\\\nPartly cloudy\\\\nSunny\\\\nSunny\\\\nPartly cloudy\\\\nPartly cloudy\\\\nMist\\\\nSunny\\\\nSunny\\\\nSunny\\\\nPartly cloudy\\\\nSunny\\\\nMist\\\\nPartly cloudy\\\\nPartly cloudy\\\\nCloudy\\\\nSunny\\\\nPartly cloudy\\\\nSunny\\\\n\\\\n## Explore the weather in San Francisco in other months\\\\n\\\\n## San Francisco annual weather\\', \\'score\\': 0.69024646}, {\\'title\\': \\'San Francisco, CA Weather Forecast\\', \\'url\\': \\'https://www.accuweather.com/en/us/san-francisco/94103/weather-forecast/347629\\', \\'content\\': \"# San Francisco, CA\\\\n\\\\nSan Francisco\\\\n\\\\nCalifornia\\\\n\\\\n## Around the Globe\\\\n\\\\nAround the Globe\\\\n\\\\n### Hurricane Tracker\\\\n\\\\n### Severe Weather\\\\n\\\\n### Radar & Maps\\\\n\\\\n### News & Features\\\\n\\\\n### Astronomy\\\\n\\\\n### Business\\\\n\\\\n### Climate\\\\n\\\\n### Health\\\\n\\\\n### Recreation\\\\n\\\\n### Sports\\\\n\\\\n### Travel\\\\n\\\\n### Warnings\\\\n\\\\n### Data Suite\\\\n\\\\n### Forensics\\\\n\\\\n### Advertising\\\\n\\\\n### Superior Accuracy™\\\\n\\\\n### Video\\\\n\\\\n### Winter Center\\\\n\\\\n## Today\\\\n\\\\n## Today\\'s Weather\\\\n\\\\nTue, Sep 2\\\\n\\\\nPartly sunny\\\\nHi: 70°\\\\n\\\\nTonight: Low clouds\\\\nLo: 61°\\\\n\\\\n## Current Weather\\\\n\\\\n10:41 AM\", \\'score\\': 0.39501804}]', name='tavily_search_results_json', id='b67fade7-f247-4d94-bede-f594a14dce28', tool_call_id='call_WccREUv51PLdXImv90uhdmTd')]}\n",
            "{'messages': [HumanMessage(content='Whats the weather in SF?', additional_kwargs={}, response_metadata={}, id='1cf67838-527a-48ea-a308-e15812da7fba'), AIMessage(content='', additional_kwargs={'tool_calls': [{'id': 'call_WccREUv51PLdXImv90uhdmTd', 'function': {'arguments': '{\"query\":\"current weather in San Francisco\"}', 'name': 'tavily_search_results_json'}, 'type': 'function'}], 'refusal': None}, response_metadata={'token_usage': {'completion_tokens': 22, 'prompt_tokens': 150, 'total_tokens': 172, 'completion_tokens_details': {'accepted_prediction_tokens': 0, 'audio_tokens': 0, 'reasoning_tokens': 0, 'rejected_prediction_tokens': 0}, 'prompt_tokens_details': {'audio_tokens': 0, 'cached_tokens': 0}}, 'model_name': 'gpt-4.1-2025-04-14', 'system_fingerprint': 'fp_daf5fcc80a', 'id': 'chatcmpl-CBPI8qlh6Y1ftImOD3OyQjzNL6iui', 'service_tier': 'default', 'finish_reason': 'tool_calls', 'logprobs': None}, id='run--6f36d7e6-550a-4e06-85b6-cef480f53aab-0', tool_calls=[{'name': 'tavily_search_results_json', 'args': {'query': 'current weather in San Francisco'}, 'id': 'call_WccREUv51PLdXImv90uhdmTd', 'type': 'tool_call'}], usage_metadata={'input_tokens': 150, 'output_tokens': 22, 'total_tokens': 172, 'input_token_details': {'audio': 0, 'cache_read': 0}, 'output_token_details': {'audio': 0, 'reasoning': 0}}), ToolMessage(content='[{\\'title\\': \\'San Francisco weather in September 2025 | Weather25.com\\', \\'url\\': \\'https://www.weather25.com/north-america/usa/california/san-francisco?page=month&month=September\\', \\'content\\': \\'| 14 Sunny 18° /14° | 15 Sunny 20° /13° | 16 Partly cloudy 19° /14° | 17 Partly cloudy 19° /13° | 18 Mist 18° /13° | 19 Sunny 19° /13° | 20 Sunny 22° /13° |\\\\n| 21 Sunny 22° /15° | 22 Partly cloudy 20° /14° | 23 Sunny 22° /13° | 24 Mist 22° /15° | 25 Partly cloudy 22° /14° | 26 Partly cloudy 20° /15° | 27 Cloudy 21° /14° |\\\\n| 28 Sunny 21° /13° | 29 Partly cloudy 21° /14° | 30 Sunny 22° /14° |  |  |  |  | [...] | Sun | Mon | Tue | Wed | Thu | Fri | Sat |\\\\n ---  ---  --- \\\\n|  | 1 Sunny 21° /14° | 2 Mist 16° /13° | 3 Fog 16° /13° | 4 Fog 16° /13° | 5 Sunny 19° /15° | 6 Sunny 19° /15° |\\\\n| 7 Sunny 19° /15° | 8 Sunny 19° /15° | 9 Partly cloudy 18° /15° | 10 Patchy rain possible 18° /15° | 11 Sunny 18° /14° | 12 Partly cloudy 18° /14° | 13 Partly cloudy 18° /15° | [...] Sunny\\\\nMist\\\\nFog\\\\nFog\\\\nSunny\\\\nSunny\\\\nSunny\\\\nSunny\\\\nPartly cloudy\\\\nPatchy rain possible\\\\nSunny\\\\nPartly cloudy\\\\nPartly cloudy\\\\nSunny\\\\nSunny\\\\nPartly cloudy\\\\nPartly cloudy\\\\nMist\\\\nSunny\\\\nSunny\\\\nSunny\\\\nPartly cloudy\\\\nSunny\\\\nMist\\\\nPartly cloudy\\\\nPartly cloudy\\\\nCloudy\\\\nSunny\\\\nPartly cloudy\\\\nSunny\\\\n\\\\n## Explore the weather in San Francisco in other months\\\\n\\\\n## San Francisco annual weather\\', \\'score\\': 0.69024646}, {\\'title\\': \\'San Francisco, CA Weather Forecast\\', \\'url\\': \\'https://www.accuweather.com/en/us/san-francisco/94103/weather-forecast/347629\\', \\'content\\': \"# San Francisco, CA\\\\n\\\\nSan Francisco\\\\n\\\\nCalifornia\\\\n\\\\n## Around the Globe\\\\n\\\\nAround the Globe\\\\n\\\\n### Hurricane Tracker\\\\n\\\\n### Severe Weather\\\\n\\\\n### Radar & Maps\\\\n\\\\n### News & Features\\\\n\\\\n### Astronomy\\\\n\\\\n### Business\\\\n\\\\n### Climate\\\\n\\\\n### Health\\\\n\\\\n### Recreation\\\\n\\\\n### Sports\\\\n\\\\n### Travel\\\\n\\\\n### Warnings\\\\n\\\\n### Data Suite\\\\n\\\\n### Forensics\\\\n\\\\n### Advertising\\\\n\\\\n### Superior Accuracy™\\\\n\\\\n### Video\\\\n\\\\n### Winter Center\\\\n\\\\n## Today\\\\n\\\\n## Today\\'s Weather\\\\n\\\\nTue, Sep 2\\\\n\\\\nPartly sunny\\\\nHi: 70°\\\\n\\\\nTonight: Low clouds\\\\nLo: 61°\\\\n\\\\n## Current Weather\\\\n\\\\n10:41 AM\", \\'score\\': 0.39501804}]', name='tavily_search_results_json', id='b67fade7-f247-4d94-bede-f594a14dce28', tool_call_id='call_WccREUv51PLdXImv90uhdmTd'), AIMessage(content='The current weather in San Francisco is partly sunny with a high around 70°F. Tonight is expected to have low clouds with a low around 61°F.', additional_kwargs={'refusal': None}, response_metadata={'token_usage': {'completion_tokens': 33, 'prompt_tokens': 925, 'total_tokens': 958, 'completion_tokens_details': {'accepted_prediction_tokens': 0, 'audio_tokens': 0, 'reasoning_tokens': 0, 'rejected_prediction_tokens': 0}, 'prompt_tokens_details': {'audio_tokens': 0, 'cached_tokens': 0}}, 'model_name': 'gpt-4.1-2025-04-14', 'system_fingerprint': 'fp_daf5fcc80a', 'id': 'chatcmpl-CBPID2XUptMX5eYLZSsHeXQbhh3R4', 'service_tier': 'default', 'finish_reason': 'stop', 'logprobs': None}, id='run--b6f01c7a-b726-45b0-92b0-dc4db8367263-0', usage_metadata={'input_tokens': 925, 'output_tokens': 33, 'total_tokens': 958, 'input_token_details': {'audio': 0, 'cache_read': 0}, 'output_token_details': {'audio': 0, 'reasoning': 0}})]}\n",
            "{'messages': [AIMessage(content='The current weather in San Francisco is partly sunny with a high around 70°F. Tonight is expected to have low clouds with a low around 61°F.', additional_kwargs={'refusal': None}, response_metadata={'token_usage': {'completion_tokens': 33, 'prompt_tokens': 925, 'total_tokens': 958, 'completion_tokens_details': {'accepted_prediction_tokens': 0, 'audio_tokens': 0, 'reasoning_tokens': 0, 'rejected_prediction_tokens': 0}, 'prompt_tokens_details': {'audio_tokens': 0, 'cached_tokens': 0}}, 'model_name': 'gpt-4.1-2025-04-14', 'system_fingerprint': 'fp_daf5fcc80a', 'id': 'chatcmpl-CBPID2XUptMX5eYLZSsHeXQbhh3R4', 'service_tier': 'default', 'finish_reason': 'stop', 'logprobs': None}, id='run--b6f01c7a-b726-45b0-92b0-dc4db8367263-0', usage_metadata={'input_tokens': 925, 'output_tokens': 33, 'total_tokens': 958, 'input_token_details': {'audio': 0, 'cache_read': 0}, 'output_token_details': {'audio': 0, 'reasoning': 0}})]}\n"
          ]
        }
      ]
    },
    {
      "cell_type": "code",
      "source": [
        "# 44. If we now get the state, we see mssages list contains full list of messages\n",
        "# 45 NExt parameter is empty\n",
        "state = abot.graph.get_state(thread)\n",
        "print(\"Current state:\", state)\n",
        "print(\"Next node to execute:\", state.next)"
      ],
      "metadata": {
        "colab": {
          "base_uri": "https://localhost:8080/"
        },
        "id": "cAl6Axv5KI-M",
        "outputId": "beb4393b-bc67-439f-8b94-b9c0e1c03cd3"
      },
      "execution_count": null,
      "outputs": [
        {
          "output_type": "stream",
          "name": "stdout",
          "text": [
            "Current state: StateSnapshot(values={'messages': [HumanMessage(content='Whats the weather in SF?', additional_kwargs={}, response_metadata={}, id='1cf67838-527a-48ea-a308-e15812da7fba'), AIMessage(content='', additional_kwargs={'tool_calls': [{'id': 'call_WccREUv51PLdXImv90uhdmTd', 'function': {'arguments': '{\"query\":\"current weather in San Francisco\"}', 'name': 'tavily_search_results_json'}, 'type': 'function'}], 'refusal': None}, response_metadata={'token_usage': {'completion_tokens': 22, 'prompt_tokens': 150, 'total_tokens': 172, 'completion_tokens_details': {'accepted_prediction_tokens': 0, 'audio_tokens': 0, 'reasoning_tokens': 0, 'rejected_prediction_tokens': 0}, 'prompt_tokens_details': {'audio_tokens': 0, 'cached_tokens': 0}}, 'model_name': 'gpt-4.1-2025-04-14', 'system_fingerprint': 'fp_daf5fcc80a', 'id': 'chatcmpl-CBPI8qlh6Y1ftImOD3OyQjzNL6iui', 'service_tier': 'default', 'finish_reason': 'tool_calls', 'logprobs': None}, id='run--6f36d7e6-550a-4e06-85b6-cef480f53aab-0', tool_calls=[{'name': 'tavily_search_results_json', 'args': {'query': 'current weather in San Francisco'}, 'id': 'call_WccREUv51PLdXImv90uhdmTd', 'type': 'tool_call'}], usage_metadata={'input_tokens': 150, 'output_tokens': 22, 'total_tokens': 172, 'input_token_details': {'audio': 0, 'cache_read': 0}, 'output_token_details': {'audio': 0, 'reasoning': 0}}), ToolMessage(content='[{\\'title\\': \\'San Francisco weather in September 2025 | Weather25.com\\', \\'url\\': \\'https://www.weather25.com/north-america/usa/california/san-francisco?page=month&month=September\\', \\'content\\': \\'| 14 Sunny 18° /14° | 15 Sunny 20° /13° | 16 Partly cloudy 19° /14° | 17 Partly cloudy 19° /13° | 18 Mist 18° /13° | 19 Sunny 19° /13° | 20 Sunny 22° /13° |\\\\n| 21 Sunny 22° /15° | 22 Partly cloudy 20° /14° | 23 Sunny 22° /13° | 24 Mist 22° /15° | 25 Partly cloudy 22° /14° | 26 Partly cloudy 20° /15° | 27 Cloudy 21° /14° |\\\\n| 28 Sunny 21° /13° | 29 Partly cloudy 21° /14° | 30 Sunny 22° /14° |  |  |  |  | [...] | Sun | Mon | Tue | Wed | Thu | Fri | Sat |\\\\n ---  ---  --- \\\\n|  | 1 Sunny 21° /14° | 2 Mist 16° /13° | 3 Fog 16° /13° | 4 Fog 16° /13° | 5 Sunny 19° /15° | 6 Sunny 19° /15° |\\\\n| 7 Sunny 19° /15° | 8 Sunny 19° /15° | 9 Partly cloudy 18° /15° | 10 Patchy rain possible 18° /15° | 11 Sunny 18° /14° | 12 Partly cloudy 18° /14° | 13 Partly cloudy 18° /15° | [...] Sunny\\\\nMist\\\\nFog\\\\nFog\\\\nSunny\\\\nSunny\\\\nSunny\\\\nSunny\\\\nPartly cloudy\\\\nPatchy rain possible\\\\nSunny\\\\nPartly cloudy\\\\nPartly cloudy\\\\nSunny\\\\nSunny\\\\nPartly cloudy\\\\nPartly cloudy\\\\nMist\\\\nSunny\\\\nSunny\\\\nSunny\\\\nPartly cloudy\\\\nSunny\\\\nMist\\\\nPartly cloudy\\\\nPartly cloudy\\\\nCloudy\\\\nSunny\\\\nPartly cloudy\\\\nSunny\\\\n\\\\n## Explore the weather in San Francisco in other months\\\\n\\\\n## San Francisco annual weather\\', \\'score\\': 0.69024646}, {\\'title\\': \\'San Francisco, CA Weather Forecast\\', \\'url\\': \\'https://www.accuweather.com/en/us/san-francisco/94103/weather-forecast/347629\\', \\'content\\': \"# San Francisco, CA\\\\n\\\\nSan Francisco\\\\n\\\\nCalifornia\\\\n\\\\n## Around the Globe\\\\n\\\\nAround the Globe\\\\n\\\\n### Hurricane Tracker\\\\n\\\\n### Severe Weather\\\\n\\\\n### Radar & Maps\\\\n\\\\n### News & Features\\\\n\\\\n### Astronomy\\\\n\\\\n### Business\\\\n\\\\n### Climate\\\\n\\\\n### Health\\\\n\\\\n### Recreation\\\\n\\\\n### Sports\\\\n\\\\n### Travel\\\\n\\\\n### Warnings\\\\n\\\\n### Data Suite\\\\n\\\\n### Forensics\\\\n\\\\n### Advertising\\\\n\\\\n### Superior Accuracy™\\\\n\\\\n### Video\\\\n\\\\n### Winter Center\\\\n\\\\n## Today\\\\n\\\\n## Today\\'s Weather\\\\n\\\\nTue, Sep 2\\\\n\\\\nPartly sunny\\\\nHi: 70°\\\\n\\\\nTonight: Low clouds\\\\nLo: 61°\\\\n\\\\n## Current Weather\\\\n\\\\n10:41 AM\", \\'score\\': 0.39501804}]', name='tavily_search_results_json', id='b67fade7-f247-4d94-bede-f594a14dce28', tool_call_id='call_WccREUv51PLdXImv90uhdmTd'), AIMessage(content='The current weather in San Francisco is partly sunny with a high around 70°F. Tonight is expected to have low clouds with a low around 61°F.', additional_kwargs={'refusal': None}, response_metadata={'token_usage': {'completion_tokens': 33, 'prompt_tokens': 925, 'total_tokens': 958, 'completion_tokens_details': {'accepted_prediction_tokens': 0, 'audio_tokens': 0, 'reasoning_tokens': 0, 'rejected_prediction_tokens': 0}, 'prompt_tokens_details': {'audio_tokens': 0, 'cached_tokens': 0}}, 'model_name': 'gpt-4.1-2025-04-14', 'system_fingerprint': 'fp_daf5fcc80a', 'id': 'chatcmpl-CBPID2XUptMX5eYLZSsHeXQbhh3R4', 'service_tier': 'default', 'finish_reason': 'stop', 'logprobs': None}, id='run--b6f01c7a-b726-45b0-92b0-dc4db8367263-0', usage_metadata={'input_tokens': 925, 'output_tokens': 33, 'total_tokens': 958, 'input_token_details': {'audio': 0, 'cache_read': 0}, 'output_token_details': {'audio': 0, 'reasoning': 0}})]}, next=(), config={'configurable': {'thread_id': '1', 'checkpoint_ns': '', 'checkpoint_id': '1f088240-350b-6d7a-8003-eb482f08efb7'}}, metadata={'source': 'loop', 'step': 3, 'parents': {}}, created_at='2025-09-02T17:41:10.430826+00:00', parent_config={'configurable': {'thread_id': '1', 'checkpoint_ns': '', 'checkpoint_id': '1f088240-27ac-601b-8002-3016d36d5b6a'}}, tasks=(), interrupts=())\n",
            "Next node to execute: ()\n"
          ]
        }
      ]
    },
    {
      "cell_type": "code",
      "source": [
        "# 46. We can write some code that runs this in a loop\n",
        "# 47. And prompts us to continue or not\n",
        "# 48. We pass in a new thread id so that we start afresh\n",
        "messages = [HumanMessage(\"Whats the weather in LA?\")]\n",
        "thread = {\"configurable\": {\"thread_id\": \"2\"}}\n",
        "for event in abot.graph.stream({\"messages\": messages}, thread):\n",
        "    for v in event.values():\n",
        "        print(v)\n",
        "while abot.graph.get_state(thread).next:\n",
        "    print(\"\\n\", abot.graph.get_state(thread),\"\\n\")\n",
        "    _input = input(\"proceed?\")\n",
        "    if _input != \"y\":\n",
        "        print(\"aborting\")\n",
        "        break\n",
        "    for event in abot.graph.stream(None, thread):\n",
        "        for v in event.values():\n",
        "            print(v)"
      ],
      "metadata": {
        "colab": {
          "base_uri": "https://localhost:8080/"
        },
        "id": "xPzUjnbYKXdu",
        "outputId": "ceb8e0bf-48fd-4fe3-efab-db58a7077f76"
      },
      "execution_count": null,
      "outputs": [
        {
          "output_type": "stream",
          "name": "stdout",
          "text": [
            "{'messages': [HumanMessage(content='Whats the weather in LA?', additional_kwargs={}, response_metadata={}, id='4df3c33b-c90e-4917-877f-efdebc6ef6a2'), AIMessage(content='', additional_kwargs={'tool_calls': [{'id': 'call_13erpvKznv4taFlSQX3uXAr0', 'function': {'arguments': '{\"query\":\"current weather in Los Angeles\"}', 'name': 'tavily_search_results_json'}, 'type': 'function'}], 'refusal': None}, response_metadata={'token_usage': {'completion_tokens': 22, 'prompt_tokens': 150, 'total_tokens': 172, 'completion_tokens_details': {'accepted_prediction_tokens': 0, 'audio_tokens': 0, 'reasoning_tokens': 0, 'rejected_prediction_tokens': 0}, 'prompt_tokens_details': {'audio_tokens': 0, 'cached_tokens': 0}}, 'model_name': 'gpt-4.1-2025-04-14', 'system_fingerprint': 'fp_daf5fcc80a', 'id': 'chatcmpl-CBPIFcpHgs6tBKT0ST2TOOfaJpMtn', 'service_tier': 'default', 'finish_reason': 'tool_calls', 'logprobs': None}, id='run--3b3514a1-abdf-4eda-a113-69d6ece23674-0', tool_calls=[{'name': 'tavily_search_results_json', 'args': {'query': 'current weather in Los Angeles'}, 'id': 'call_13erpvKznv4taFlSQX3uXAr0', 'type': 'tool_call'}], usage_metadata={'input_tokens': 150, 'output_tokens': 22, 'total_tokens': 172, 'input_token_details': {'audio': 0, 'cache_read': 0}, 'output_token_details': {'audio': 0, 'reasoning': 0}})]}\n",
            "{'messages': [AIMessage(content='', additional_kwargs={'tool_calls': [{'id': 'call_13erpvKznv4taFlSQX3uXAr0', 'function': {'arguments': '{\"query\":\"current weather in Los Angeles\"}', 'name': 'tavily_search_results_json'}, 'type': 'function'}], 'refusal': None}, response_metadata={'token_usage': {'completion_tokens': 22, 'prompt_tokens': 150, 'total_tokens': 172, 'completion_tokens_details': {'accepted_prediction_tokens': 0, 'audio_tokens': 0, 'reasoning_tokens': 0, 'rejected_prediction_tokens': 0}, 'prompt_tokens_details': {'audio_tokens': 0, 'cached_tokens': 0}}, 'model_name': 'gpt-4.1-2025-04-14', 'system_fingerprint': 'fp_daf5fcc80a', 'id': 'chatcmpl-CBPIFcpHgs6tBKT0ST2TOOfaJpMtn', 'service_tier': 'default', 'finish_reason': 'tool_calls', 'logprobs': None}, id='run--3b3514a1-abdf-4eda-a113-69d6ece23674-0', tool_calls=[{'name': 'tavily_search_results_json', 'args': {'query': 'current weather in Los Angeles'}, 'id': 'call_13erpvKznv4taFlSQX3uXAr0', 'type': 'tool_call'}], usage_metadata={'input_tokens': 150, 'output_tokens': 22, 'total_tokens': 172, 'input_token_details': {'audio': 0, 'cache_read': 0}, 'output_token_details': {'audio': 0, 'reasoning': 0}})]}\n",
            "()\n",
            "\n",
            " StateSnapshot(values={'messages': [HumanMessage(content='Whats the weather in LA?', additional_kwargs={}, response_metadata={}, id='4df3c33b-c90e-4917-877f-efdebc6ef6a2'), AIMessage(content='', additional_kwargs={'tool_calls': [{'id': 'call_13erpvKznv4taFlSQX3uXAr0', 'function': {'arguments': '{\"query\":\"current weather in Los Angeles\"}', 'name': 'tavily_search_results_json'}, 'type': 'function'}], 'refusal': None}, response_metadata={'token_usage': {'completion_tokens': 22, 'prompt_tokens': 150, 'total_tokens': 172, 'completion_tokens_details': {'accepted_prediction_tokens': 0, 'audio_tokens': 0, 'reasoning_tokens': 0, 'rejected_prediction_tokens': 0}, 'prompt_tokens_details': {'audio_tokens': 0, 'cached_tokens': 0}}, 'model_name': 'gpt-4.1-2025-04-14', 'system_fingerprint': 'fp_daf5fcc80a', 'id': 'chatcmpl-CBPIFcpHgs6tBKT0ST2TOOfaJpMtn', 'service_tier': 'default', 'finish_reason': 'tool_calls', 'logprobs': None}, id='run--3b3514a1-abdf-4eda-a113-69d6ece23674-0', tool_calls=[{'name': 'tavily_search_results_json', 'args': {'query': 'current weather in Los Angeles'}, 'id': 'call_13erpvKznv4taFlSQX3uXAr0', 'type': 'tool_call'}], usage_metadata={'input_tokens': 150, 'output_tokens': 22, 'total_tokens': 172, 'input_token_details': {'audio': 0, 'cache_read': 0}, 'output_token_details': {'audio': 0, 'reasoning': 0}})]}, next=('action',), config={'configurable': {'thread_id': '2', 'checkpoint_ns': '', 'checkpoint_id': '1f088240-42ff-6ca6-8001-1da6cc49fa2b'}}, metadata={'source': 'loop', 'step': 1, 'parents': {}}, created_at='2025-09-02T17:41:11.893902+00:00', parent_config={'configurable': {'thread_id': '2', 'checkpoint_ns': '', 'checkpoint_id': '1f088240-3570-622b-8000-2359f78adcf9'}}, tasks=(PregelTask(id='fa54897a-3701-0c62-181e-e0c47d8e184f', name='action', path=('__pregel_pull', 'action'), error=None, interrupts=(), state=None, result=None),), interrupts=()) \n",
            "\n",
            "proceed?y\n",
            "Calling: {'name': 'tavily_search_results_json', 'args': {'query': 'current weather in Los Angeles'}, 'id': 'call_13erpvKznv4taFlSQX3uXAr0', 'type': 'tool_call'}\n",
            "Back to the model!\n",
            "{'messages': [ToolMessage(content=\"[{'title': 'Los Angeles weather in September 2025', 'url': 'https://www.weather25.com/north-america/usa/california/los-angeles?page=month&month=September', 'content': 'Sunny\\\\nPartly cloudy\\\\nPartly cloudy\\\\nSunny\\\\nSunny\\\\nSunny\\\\nSunny\\\\nSunny\\\\nSunny\\\\nSunny\\\\nSunny\\\\nOvercast\\\\nSunny\\\\nSunny\\\\nSunny\\\\nSunny\\\\nSunny\\\\nPartly cloudy\\\\nPartly cloudy\\\\nSunny\\\\nSunny\\\\nOvercast\\\\nSunny\\\\nSunny\\\\nSunny\\\\nSunny\\\\nCloudy\\\\nPartly cloudy\\\\nSunny\\\\nSunny\\\\n\\\\n## Explore the weather in Los Angeles in other months\\\\n\\\\n## Los Angeles annual weather [...] | Sun | Mon | Tue | Wed | Thu | Fri | Sat |\\\\n ---  ---  --- \\\\n|  | 1 Sunny 29° /21° | 2 Partly cloudy 37° /22° | 3 Partly cloudy 35° /23° | 4 Sunny 34° /23° | 5 Sunny 31° /21° | 6 Sunny 28° /20° |\\\\n| 7 Sunny 30° /21° | 8 Sunny 30° /22° | 9 Sunny 30° /22° | 10 Sunny 26° /19° | 11 Sunny 28° /19° | 12 Overcast 28° /20° | 13 Sunny 28° /19° |\\\\n| 14 Sunny 26° /19° | 15 Sunny 25° /18° | 16 Sunny 28° /20° | 17 Sunny 26° /19° | 18 Partly cloudy 27° /19° | 19 Partly cloudy 25° /19° | 20 Sunny 27° /19° | [...] | 21 Sunny 27° /20° | 22 Overcast 28° /20° | 23 Sunny 29° /21° | 24 Sunny 28° /19° | 25 Sunny 29° /20° | 26 Sunny 27° /20° | 27 Cloudy 28° /19° |\\\\n| 28 Partly cloudy 27° /19° | 29 Sunny 28° /19° | 30 Sunny 28° /20° |  |  |  |  |', 'score': 0.65914243}, {'title': 'Weather Forecast for Tuesday, Sept. 2', 'url': 'https://www.foxla.com/video/1700926', 'content': '###### Good Day LA\\\\n\\\\n###### Sports\\\\n\\\\n###### Features\\\\n\\\\n###### Watch FOX 11\\\\n\\\\n###### Stay Connected\\\\n\\\\n###### Politics\\\\n\\\\n###### Money\\\\n\\\\n###### Regional News\\\\n\\\\n###### About Us\\\\n\\\\nFOX 11 Los Angeles\\\\n\\\\nThis material may not be published, broadcast, rewritten, or redistributed. ©2025 FOX Television Stations', 'score': 0.5243709}]\", name='tavily_search_results_json', id='f6f702d5-cf60-4e5e-a352-295325c72819', tool_call_id='call_13erpvKznv4taFlSQX3uXAr0')]}\n",
            "{'messages': [HumanMessage(content='Whats the weather in LA?', additional_kwargs={}, response_metadata={}, id='4df3c33b-c90e-4917-877f-efdebc6ef6a2'), AIMessage(content='', additional_kwargs={'tool_calls': [{'id': 'call_13erpvKznv4taFlSQX3uXAr0', 'function': {'arguments': '{\"query\":\"current weather in Los Angeles\"}', 'name': 'tavily_search_results_json'}, 'type': 'function'}], 'refusal': None}, response_metadata={'token_usage': {'completion_tokens': 22, 'prompt_tokens': 150, 'total_tokens': 172, 'completion_tokens_details': {'accepted_prediction_tokens': 0, 'audio_tokens': 0, 'reasoning_tokens': 0, 'rejected_prediction_tokens': 0}, 'prompt_tokens_details': {'audio_tokens': 0, 'cached_tokens': 0}}, 'model_name': 'gpt-4.1-2025-04-14', 'system_fingerprint': 'fp_daf5fcc80a', 'id': 'chatcmpl-CBPIFcpHgs6tBKT0ST2TOOfaJpMtn', 'service_tier': 'default', 'finish_reason': 'tool_calls', 'logprobs': None}, id='run--3b3514a1-abdf-4eda-a113-69d6ece23674-0', tool_calls=[{'name': 'tavily_search_results_json', 'args': {'query': 'current weather in Los Angeles'}, 'id': 'call_13erpvKznv4taFlSQX3uXAr0', 'type': 'tool_call'}], usage_metadata={'input_tokens': 150, 'output_tokens': 22, 'total_tokens': 172, 'input_token_details': {'audio': 0, 'cache_read': 0}, 'output_token_details': {'audio': 0, 'reasoning': 0}}), ToolMessage(content=\"[{'title': 'Los Angeles weather in September 2025', 'url': 'https://www.weather25.com/north-america/usa/california/los-angeles?page=month&month=September', 'content': 'Sunny\\\\nPartly cloudy\\\\nPartly cloudy\\\\nSunny\\\\nSunny\\\\nSunny\\\\nSunny\\\\nSunny\\\\nSunny\\\\nSunny\\\\nSunny\\\\nOvercast\\\\nSunny\\\\nSunny\\\\nSunny\\\\nSunny\\\\nSunny\\\\nPartly cloudy\\\\nPartly cloudy\\\\nSunny\\\\nSunny\\\\nOvercast\\\\nSunny\\\\nSunny\\\\nSunny\\\\nSunny\\\\nCloudy\\\\nPartly cloudy\\\\nSunny\\\\nSunny\\\\n\\\\n## Explore the weather in Los Angeles in other months\\\\n\\\\n## Los Angeles annual weather [...] | Sun | Mon | Tue | Wed | Thu | Fri | Sat |\\\\n ---  ---  --- \\\\n|  | 1 Sunny 29° /21° | 2 Partly cloudy 37° /22° | 3 Partly cloudy 35° /23° | 4 Sunny 34° /23° | 5 Sunny 31° /21° | 6 Sunny 28° /20° |\\\\n| 7 Sunny 30° /21° | 8 Sunny 30° /22° | 9 Sunny 30° /22° | 10 Sunny 26° /19° | 11 Sunny 28° /19° | 12 Overcast 28° /20° | 13 Sunny 28° /19° |\\\\n| 14 Sunny 26° /19° | 15 Sunny 25° /18° | 16 Sunny 28° /20° | 17 Sunny 26° /19° | 18 Partly cloudy 27° /19° | 19 Partly cloudy 25° /19° | 20 Sunny 27° /19° | [...] | 21 Sunny 27° /20° | 22 Overcast 28° /20° | 23 Sunny 29° /21° | 24 Sunny 28° /19° | 25 Sunny 29° /20° | 26 Sunny 27° /20° | 27 Cloudy 28° /19° |\\\\n| 28 Partly cloudy 27° /19° | 29 Sunny 28° /19° | 30 Sunny 28° /20° |  |  |  |  |', 'score': 0.65914243}, {'title': 'Weather Forecast for Tuesday, Sept. 2', 'url': 'https://www.foxla.com/video/1700926', 'content': '###### Good Day LA\\\\n\\\\n###### Sports\\\\n\\\\n###### Features\\\\n\\\\n###### Watch FOX 11\\\\n\\\\n###### Stay Connected\\\\n\\\\n###### Politics\\\\n\\\\n###### Money\\\\n\\\\n###### Regional News\\\\n\\\\n###### About Us\\\\n\\\\nFOX 11 Los Angeles\\\\n\\\\nThis material may not be published, broadcast, rewritten, or redistributed. ©2025 FOX Television Stations', 'score': 0.5243709}]\", name='tavily_search_results_json', id='f6f702d5-cf60-4e5e-a352-295325c72819', tool_call_id='call_13erpvKznv4taFlSQX3uXAr0'), AIMessage(content='The current weather in Los Angeles is sunny, with temperatures generally ranging from 28°C to 30°C (about 82°F to 86°F). Conditions are mostly clear, making it a typical sunny day in LA.\\n\\nIf you need more specific or up-to-date information (such as the exact temperature right now), let me know!', additional_kwargs={'refusal': None}, response_metadata={'token_usage': {'completion_tokens': 69, 'prompt_tokens': 807, 'total_tokens': 876, 'completion_tokens_details': {'accepted_prediction_tokens': 0, 'audio_tokens': 0, 'reasoning_tokens': 0, 'rejected_prediction_tokens': 0}, 'prompt_tokens_details': {'audio_tokens': 0, 'cached_tokens': 0}}, 'model_name': 'gpt-4.1-2025-04-14', 'system_fingerprint': 'fp_daf5fcc80a', 'id': 'chatcmpl-CBPInZwOy8SSeMTQMpyOtMlMGnvZI', 'service_tier': 'default', 'finish_reason': 'stop', 'logprobs': None}, id='run--fd34d465-45d1-41ef-b318-db5cd6dcd725-0', usage_metadata={'input_tokens': 807, 'output_tokens': 69, 'total_tokens': 876, 'input_token_details': {'audio': 0, 'cache_read': 0}, 'output_token_details': {'audio': 0, 'reasoning': 0}})]}\n",
            "{'messages': [AIMessage(content='The current weather in Los Angeles is sunny, with temperatures generally ranging from 28°C to 30°C (about 82°F to 86°F). Conditions are mostly clear, making it a typical sunny day in LA.\\n\\nIf you need more specific or up-to-date information (such as the exact temperature right now), let me know!', additional_kwargs={'refusal': None}, response_metadata={'token_usage': {'completion_tokens': 69, 'prompt_tokens': 807, 'total_tokens': 876, 'completion_tokens_details': {'accepted_prediction_tokens': 0, 'audio_tokens': 0, 'reasoning_tokens': 0, 'rejected_prediction_tokens': 0}, 'prompt_tokens_details': {'audio_tokens': 0, 'cached_tokens': 0}}, 'model_name': 'gpt-4.1-2025-04-14', 'system_fingerprint': 'fp_daf5fcc80a', 'id': 'chatcmpl-CBPInZwOy8SSeMTQMpyOtMlMGnvZI', 'service_tier': 'default', 'finish_reason': 'stop', 'logprobs': None}, id='run--fd34d465-45d1-41ef-b318-db5cd6dcd725-0', usage_metadata={'input_tokens': 807, 'output_tokens': 69, 'total_tokens': 876, 'input_token_details': {'audio': 0, 'cache_read': 0}, 'output_token_details': {'audio': 0, 'reasoning': 0}})]}\n"
          ]
        }
      ]
    },
    {
      "cell_type": "markdown",
      "source": [
        "**Modifying a State**"
      ],
      "metadata": {
        "id": "k_mTMbhyBZB8"
      }
    },
    {
      "cell_type": "markdown",
      "source": [
        "1. Before we get to the next section, one should undersstand about State Memory in LangGraph\n",
        "\n",
        "2. As the Graph is executing, a snapshot of each state is stored in memory\n",
        "\n",
        "3. If you use get_state witha  thraed id as an argument, you egt the current state"
      ],
      "metadata": {
        "id": "dUM-8f4FMiP_"
      }
    },
    {
      "cell_type": "code",
      "source": [
        "# 44. LEts take an example of modifying a state\n",
        "# 45. Lets take a new thread\n",
        "# 46. LEt's ask an example: What's the weather in LA?\n",
        "\n",
        "messages = [HumanMessage(\"Whats the weather in LA?\")]\n",
        "thread = {\"configurable\": {\"thread_id\": \"3\"}}\n",
        "for event in abot.graph.stream({\"messages\": messages}, thread):\n",
        "    for v in event.values():\n",
        "        print(v)\n"
      ],
      "metadata": {
        "id": "IKxJMsPeAw-x",
        "colab": {
          "base_uri": "https://localhost:8080/"
        },
        "outputId": "f6120406-8347-402e-fe93-ccca9b5ec75e"
      },
      "execution_count": null,
      "outputs": [
        {
          "output_type": "stream",
          "name": "stdout",
          "text": [
            "{'messages': [HumanMessage(content='Whats the weather in LA?', additional_kwargs={}, response_metadata={}, id='2b2f1895-221b-47e1-bee3-f9ff23c2a93c'), AIMessage(content='', additional_kwargs={'tool_calls': [{'id': 'call_dkA2PrjJiPiYhv90wknbJtQH', 'function': {'arguments': '{\"query\":\"current weather in Los Angeles\"}', 'name': 'tavily_search_results_json'}, 'type': 'function'}], 'refusal': None}, response_metadata={'token_usage': {'completion_tokens': 22, 'prompt_tokens': 150, 'total_tokens': 172, 'completion_tokens_details': {'accepted_prediction_tokens': 0, 'audio_tokens': 0, 'reasoning_tokens': 0, 'rejected_prediction_tokens': 0}, 'prompt_tokens_details': {'audio_tokens': 0, 'cached_tokens': 0}}, 'model_name': 'gpt-4.1-2025-04-14', 'system_fingerprint': 'fp_daf5fcc80a', 'id': 'chatcmpl-CBPIo1dyRNAPbyl5D38SmZqWJSbEP', 'service_tier': 'default', 'finish_reason': 'tool_calls', 'logprobs': None}, id='run--63decc93-e311-4101-b220-280db4768c3c-0', tool_calls=[{'name': 'tavily_search_results_json', 'args': {'query': 'current weather in Los Angeles'}, 'id': 'call_dkA2PrjJiPiYhv90wknbJtQH', 'type': 'tool_call'}], usage_metadata={'input_tokens': 150, 'output_tokens': 22, 'total_tokens': 172, 'input_token_details': {'audio': 0, 'cache_read': 0}, 'output_token_details': {'audio': 0, 'reasoning': 0}})]}\n",
            "{'messages': [AIMessage(content='', additional_kwargs={'tool_calls': [{'id': 'call_dkA2PrjJiPiYhv90wknbJtQH', 'function': {'arguments': '{\"query\":\"current weather in Los Angeles\"}', 'name': 'tavily_search_results_json'}, 'type': 'function'}], 'refusal': None}, response_metadata={'token_usage': {'completion_tokens': 22, 'prompt_tokens': 150, 'total_tokens': 172, 'completion_tokens_details': {'accepted_prediction_tokens': 0, 'audio_tokens': 0, 'reasoning_tokens': 0, 'rejected_prediction_tokens': 0}, 'prompt_tokens_details': {'audio_tokens': 0, 'cached_tokens': 0}}, 'model_name': 'gpt-4.1-2025-04-14', 'system_fingerprint': 'fp_daf5fcc80a', 'id': 'chatcmpl-CBPIo1dyRNAPbyl5D38SmZqWJSbEP', 'service_tier': 'default', 'finish_reason': 'tool_calls', 'logprobs': None}, id='run--63decc93-e311-4101-b220-280db4768c3c-0', tool_calls=[{'name': 'tavily_search_results_json', 'args': {'query': 'current weather in Los Angeles'}, 'id': 'call_dkA2PrjJiPiYhv90wknbJtQH', 'type': 'tool_call'}], usage_metadata={'input_tokens': 150, 'output_tokens': 22, 'total_tokens': 172, 'input_token_details': {'audio': 0, 'cache_read': 0}, 'output_token_details': {'audio': 0, 'reasoning': 0}})]}\n",
            "()\n"
          ]
        }
      ]
    },
    {
      "cell_type": "code",
      "source": [
        "# 77. LEts say now you want to change the state\n",
        "# 78. We want to modify the Agent Action\n",
        "# 79. LEts save the current state of the Graph\n",
        "\n",
        "current_values = abot.graph.get_state(thread)"
      ],
      "metadata": {
        "id": "66FykPA7DHj3"
      },
      "execution_count": null,
      "outputs": []
    },
    {
      "cell_type": "code",
      "source": [
        "# 80. Let's see the last message in the state\n",
        "# 81. It is the AI message\n",
        "current_values.values['messages'][-1]\n"
      ],
      "metadata": {
        "colab": {
          "base_uri": "https://localhost:8080/"
        },
        "id": "e7FrKsENLVwr",
        "outputId": "097e3ddd-ff44-4883-8c14-006827f639f4"
      },
      "execution_count": null,
      "outputs": [
        {
          "output_type": "execute_result",
          "data": {
            "text/plain": [
              "AIMessage(content='', additional_kwargs={'tool_calls': [{'id': 'call_dkA2PrjJiPiYhv90wknbJtQH', 'function': {'arguments': '{\"query\":\"current weather in Los Angeles\"}', 'name': 'tavily_search_results_json'}, 'type': 'function'}], 'refusal': None}, response_metadata={'token_usage': {'completion_tokens': 22, 'prompt_tokens': 150, 'total_tokens': 172, 'completion_tokens_details': {'accepted_prediction_tokens': 0, 'audio_tokens': 0, 'reasoning_tokens': 0, 'rejected_prediction_tokens': 0}, 'prompt_tokens_details': {'audio_tokens': 0, 'cached_tokens': 0}}, 'model_name': 'gpt-4.1-2025-04-14', 'system_fingerprint': 'fp_daf5fcc80a', 'id': 'chatcmpl-CBPIo1dyRNAPbyl5D38SmZqWJSbEP', 'service_tier': 'default', 'finish_reason': 'tool_calls', 'logprobs': None}, id='run--63decc93-e311-4101-b220-280db4768c3c-0', tool_calls=[{'name': 'tavily_search_results_json', 'args': {'query': 'current weather in Los Angeles'}, 'id': 'call_dkA2PrjJiPiYhv90wknbJtQH', 'type': 'tool_call'}], usage_metadata={'input_tokens': 150, 'output_tokens': 22, 'total_tokens': 172, 'input_token_details': {'audio': 0, 'cache_read': 0}, 'output_token_details': {'audio': 0, 'reasoning': 0}})"
            ]
          },
          "metadata": {},
          "execution_count": 17
        }
      ]
    },
    {
      "cell_type": "code",
      "source": [
        "# 82. Lets see the list of tool calls associated with the message\n",
        "current_values.values['messages'][-1].tool_calls\n"
      ],
      "metadata": {
        "colab": {
          "base_uri": "https://localhost:8080/"
        },
        "id": "ZFdwS4YXL34K",
        "outputId": "50677490-2d62-40f9-f7b1-4362f652cf6c"
      },
      "execution_count": null,
      "outputs": [
        {
          "output_type": "execute_result",
          "data": {
            "text/plain": [
              "[{'name': 'tavily_search_results_json',\n",
              "  'args': {'query': 'current weather in Los Angeles'},\n",
              "  'id': 'call_dkA2PrjJiPiYhv90wknbJtQH',\n",
              "  'type': 'tool_call'}]"
            ]
          },
          "metadata": {},
          "execution_count": 18
        }
      ]
    },
    {
      "cell_type": "code",
      "source": [
        "# 83. We update the tool call with thes evalues\n",
        "\n",
        "_id = current_values.values['messages'][-1].tool_calls[0]['id']\n",
        "current_values.values['messages'][-1].tool_calls = [\n",
        "    {'name': 'tavily_search_results_json',\n",
        "  'args': {'query': 'current weather in Louisiana'},\n",
        "  'id': _id}\n",
        "]"
      ],
      "metadata": {
        "id": "S72cFPVCMMBR"
      },
      "execution_count": null,
      "outputs": []
    },
    {
      "cell_type": "code",
      "source": [
        "# 84. Update with new values calling update state\n",
        "\n",
        "abot.graph.update_state(thread, current_values.values)"
      ],
      "metadata": {
        "colab": {
          "base_uri": "https://localhost:8080/"
        },
        "id": "U-SbNLgjMs5G",
        "outputId": "9c192cf1-d165-4daf-a450-cbcfc3a7ce1d"
      },
      "execution_count": null,
      "outputs": [
        {
          "output_type": "stream",
          "name": "stdout",
          "text": [
            "{'messages': [HumanMessage(content='Whats the weather in LA?', additional_kwargs={}, response_metadata={}, id='2b2f1895-221b-47e1-bee3-f9ff23c2a93c'), AIMessage(content='', additional_kwargs={'tool_calls': [{'id': 'call_dkA2PrjJiPiYhv90wknbJtQH', 'function': {'arguments': '{\"query\":\"current weather in Los Angeles\"}', 'name': 'tavily_search_results_json'}, 'type': 'function'}], 'refusal': None}, response_metadata={'token_usage': {'completion_tokens': 22, 'prompt_tokens': 150, 'total_tokens': 172, 'completion_tokens_details': {'accepted_prediction_tokens': 0, 'audio_tokens': 0, 'reasoning_tokens': 0, 'rejected_prediction_tokens': 0}, 'prompt_tokens_details': {'audio_tokens': 0, 'cached_tokens': 0}}, 'model_name': 'gpt-4.1-2025-04-14', 'system_fingerprint': 'fp_daf5fcc80a', 'id': 'chatcmpl-CBPIo1dyRNAPbyl5D38SmZqWJSbEP', 'service_tier': 'default', 'finish_reason': 'tool_calls', 'logprobs': None}, id='run--63decc93-e311-4101-b220-280db4768c3c-0', tool_calls=[{'name': 'tavily_search_results_json', 'args': {'query': 'current weather in Louisiana'}, 'id': 'call_dkA2PrjJiPiYhv90wknbJtQH'}], usage_metadata={'input_tokens': 150, 'output_tokens': 22, 'total_tokens': 172, 'input_token_details': {'audio': 0, 'cache_read': 0}, 'output_token_details': {'audio': 0, 'reasoning': 0}})]}\n"
          ]
        },
        {
          "output_type": "execute_result",
          "data": {
            "text/plain": [
              "{'configurable': {'thread_id': '3',\n",
              "  'checkpoint_ns': '',\n",
              "  'checkpoint_id': '1f088241-9a27-69d1-8002-9ade0a2f697f'}}"
            ]
          },
          "metadata": {},
          "execution_count": 20
        }
      ]
    },
    {
      "cell_type": "code",
      "source": [
        "# 85. If we get the current state of the Graph, we can see the state term\n",
        "# 86. It's current_weather in Lousiana\n",
        "\n",
        "abot.graph.get_state(thread)"
      ],
      "metadata": {
        "id": "ZliRtUAkM8HX",
        "outputId": "d9865011-8b07-4a3a-9ef9-1596ab369777",
        "colab": {
          "base_uri": "https://localhost:8080/"
        }
      },
      "execution_count": null,
      "outputs": [
        {
          "output_type": "execute_result",
          "data": {
            "text/plain": [
              "StateSnapshot(values={'messages': [HumanMessage(content='Whats the weather in LA?', additional_kwargs={}, response_metadata={}, id='2b2f1895-221b-47e1-bee3-f9ff23c2a93c'), AIMessage(content='', additional_kwargs={'tool_calls': [{'id': 'call_dkA2PrjJiPiYhv90wknbJtQH', 'function': {'arguments': '{\"query\":\"current weather in Los Angeles\"}', 'name': 'tavily_search_results_json'}, 'type': 'function'}], 'refusal': None}, response_metadata={'token_usage': {'completion_tokens': 22, 'prompt_tokens': 150, 'total_tokens': 172, 'completion_tokens_details': {'accepted_prediction_tokens': 0, 'audio_tokens': 0, 'reasoning_tokens': 0, 'rejected_prediction_tokens': 0}, 'prompt_tokens_details': {'audio_tokens': 0, 'cached_tokens': 0}}, 'model_name': 'gpt-4.1-2025-04-14', 'system_fingerprint': 'fp_daf5fcc80a', 'id': 'chatcmpl-CBPIo1dyRNAPbyl5D38SmZqWJSbEP', 'service_tier': 'default', 'finish_reason': 'tool_calls', 'logprobs': None}, id='run--63decc93-e311-4101-b220-280db4768c3c-0', tool_calls=[{'name': 'tavily_search_results_json', 'args': {'query': 'current weather in Louisiana'}, 'id': 'call_dkA2PrjJiPiYhv90wknbJtQH', 'type': 'tool_call'}], usage_metadata={'input_tokens': 150, 'output_tokens': 22, 'total_tokens': 172, 'input_token_details': {'audio': 0, 'cache_read': 0}, 'output_token_details': {'audio': 0, 'reasoning': 0}})]}, next=('action',), config={'configurable': {'thread_id': '3', 'checkpoint_ns': '', 'checkpoint_id': '1f088241-9a27-69d1-8002-9ade0a2f697f'}}, metadata={'source': 'update', 'step': 2, 'parents': {}}, created_at='2025-09-02T17:41:47.876364+00:00', parent_config={'configurable': {'thread_id': '3', 'checkpoint_ns': '', 'checkpoint_id': '1f088241-99a2-66a5-8001-9651336f7fb2'}}, tasks=(PregelTask(id='c8f21b55-119d-0793-a930-7393a59b1b84', name='action', path=('__pregel_pull', 'action'), error=None, interrupts=(), state=None, result=None),), interrupts=())"
            ]
          },
          "metadata": {},
          "execution_count": 21
        }
      ]
    },
    {
      "cell_type": "code",
      "source": [
        "# 87. We can get the current weather in Lousiana and get the results\n",
        "for event in abot.graph.stream(None, thread):\n",
        "    for v in event.values():\n",
        "        print(v)"
      ],
      "metadata": {
        "id": "-wk-uagiM86e",
        "outputId": "41a02101-3eef-4fb9-bc28-c95feee50b07",
        "colab": {
          "base_uri": "https://localhost:8080/"
        }
      },
      "execution_count": null,
      "outputs": [
        {
          "output_type": "stream",
          "name": "stdout",
          "text": [
            "Calling: {'name': 'tavily_search_results_json', 'args': {'query': 'current weather in Louisiana'}, 'id': 'call_dkA2PrjJiPiYhv90wknbJtQH', 'type': 'tool_call'}\n",
            "Back to the model!\n",
            "{'messages': [ToolMessage(content='[{\\'title\\': \\'Tuesday, September 2, 2025. New Orleans, LA\\', \\'url\\': \\'https://weathershogun.com/weather/usa/la/new-orleans/1865/september/2025-09-02\\', \\'content\\': \"WeatherShogun.com\\\\n\\\\n# Weather in New Orleans, Louisiana\\\\n\\\\n### Warning: Extreme UV Index Today: 11+\\\\n\\\\nOverexposure to the sun\\'s harmful UV rays can cause sunburn and increase the risk of developing skin cancer, including melanoma. Protect yourself by wearing clothing that covers your skin, sunglasses, and a hat. Apply a broad-spectrum sunscreen with an SPF of 30 or higher every two hours, even on cloudy days. Minimize direct sun exposure during peak hours (10 AM to 4 PM) to reduce the risk. [...] ## New Orleans Weather Forecast Updated\\\\n\\\\n## Weather Forecast History\\\\n\\\\nLast Year\\'s Weather on This Day (September 2, 2024)\\\\n\\\\n### Day\\\\n\\\\n93°\\\\n\\\\n### Night\\\\n\\\\n75°\\\\n\\\\n#### Wind\\\\n\\\\n7 mph\\\\n\\\\n#### UV Index\\\\n\\\\n9\\\\n\\\\n#### Precipitation\\\\n\\\\n25\\\\n\\\\n# Air quality in New Orleans\\\\n\\\\n#### Pollutant Concentrations:\\\\n\\\\n#### Health Recommendations:\\\\n\\\\nWith this level of air quality, you have no limitations. Enjoy the outdoors\\\\n\\\\n© Copyright by WeatherShogun.com\", \\'score\\': 0.81204927}, {\\'title\\': \\'Louisiana weather in September 2025\\', \\'url\\': \\'https://www.weather25.com/north-america/usa/louisiana?page=month&month=September\\', \\'content\\': \\'| 28 Patchy rain possible 32° /22° | 29 Light rain shower 30° /21° | 30 Sunny 30° /22° |  |  |  |  | [...] The weather in Louisiana in September is very hot. The average temperatures are between 24°C and 31°C, drinking water regularly is advisable.\\\\n\\\\nYou can expect rain for roughly half of the month of September in Louisiana. We’re expecting roughly 8 to 15 days of rain, so your rubber boots and umbrella are going to see plenty of use this month if you’re keen on staying dry.\\\\n\\\\nOur weather forecast can give you a great sense of what weather to expect in Louisiana in September 2025. [...] Patchy rain possible\\\\nCloudy\\\\nPartly cloudy\\\\nCloudy\\\\nMist\\\\nPatchy rain possible\\\\nLight rain shower\\\\nModerate or heavy rain shower\\\\nModerate rain\\\\nPatchy rain possible\\\\nSunny\\\\nSunny\\\\nSunny\\\\nPatchy rain possible\\\\nPartly cloudy\\\\nPatchy rain possible\\\\nPartly cloudy\\\\nThundery outbreaks possible\\\\nLight rain shower\\\\nLight rain shower\\\\nModerate or heavy rain shower\\\\nSunny\\\\nSunny\\\\nPartly cloudy\\\\nPartly cloudy\\\\nSunny\\\\nPartly cloudy\\\\nPatchy rain possible\\\\nLight rain shower\\\\nSunny\\\\n\\\\n## Explore the weather in Louisiana in other months\\', \\'score\\': 0.75659186}]', name='tavily_search_results_json', id='299ecea5-bc19-402c-a42f-5c56bf715ebc', tool_call_id='call_dkA2PrjJiPiYhv90wknbJtQH')]}\n",
            "{'messages': [HumanMessage(content='Whats the weather in LA?', additional_kwargs={}, response_metadata={}, id='2b2f1895-221b-47e1-bee3-f9ff23c2a93c'), AIMessage(content='', additional_kwargs={'tool_calls': [{'id': 'call_dkA2PrjJiPiYhv90wknbJtQH', 'function': {'arguments': '{\"query\":\"current weather in Los Angeles\"}', 'name': 'tavily_search_results_json'}, 'type': 'function'}], 'refusal': None}, response_metadata={'token_usage': {'completion_tokens': 22, 'prompt_tokens': 150, 'total_tokens': 172, 'completion_tokens_details': {'accepted_prediction_tokens': 0, 'audio_tokens': 0, 'reasoning_tokens': 0, 'rejected_prediction_tokens': 0}, 'prompt_tokens_details': {'audio_tokens': 0, 'cached_tokens': 0}}, 'model_name': 'gpt-4.1-2025-04-14', 'system_fingerprint': 'fp_daf5fcc80a', 'id': 'chatcmpl-CBPIo1dyRNAPbyl5D38SmZqWJSbEP', 'service_tier': 'default', 'finish_reason': 'tool_calls', 'logprobs': None}, id='run--63decc93-e311-4101-b220-280db4768c3c-0', tool_calls=[{'name': 'tavily_search_results_json', 'args': {'query': 'current weather in Louisiana'}, 'id': 'call_dkA2PrjJiPiYhv90wknbJtQH', 'type': 'tool_call'}], usage_metadata={'input_tokens': 150, 'output_tokens': 22, 'total_tokens': 172, 'input_token_details': {'audio': 0, 'cache_read': 0}, 'output_token_details': {'audio': 0, 'reasoning': 0}}), ToolMessage(content='[{\\'title\\': \\'Tuesday, September 2, 2025. New Orleans, LA\\', \\'url\\': \\'https://weathershogun.com/weather/usa/la/new-orleans/1865/september/2025-09-02\\', \\'content\\': \"WeatherShogun.com\\\\n\\\\n# Weather in New Orleans, Louisiana\\\\n\\\\n### Warning: Extreme UV Index Today: 11+\\\\n\\\\nOverexposure to the sun\\'s harmful UV rays can cause sunburn and increase the risk of developing skin cancer, including melanoma. Protect yourself by wearing clothing that covers your skin, sunglasses, and a hat. Apply a broad-spectrum sunscreen with an SPF of 30 or higher every two hours, even on cloudy days. Minimize direct sun exposure during peak hours (10 AM to 4 PM) to reduce the risk. [...] ## New Orleans Weather Forecast Updated\\\\n\\\\n## Weather Forecast History\\\\n\\\\nLast Year\\'s Weather on This Day (September 2, 2024)\\\\n\\\\n### Day\\\\n\\\\n93°\\\\n\\\\n### Night\\\\n\\\\n75°\\\\n\\\\n#### Wind\\\\n\\\\n7 mph\\\\n\\\\n#### UV Index\\\\n\\\\n9\\\\n\\\\n#### Precipitation\\\\n\\\\n25\\\\n\\\\n# Air quality in New Orleans\\\\n\\\\n#### Pollutant Concentrations:\\\\n\\\\n#### Health Recommendations:\\\\n\\\\nWith this level of air quality, you have no limitations. Enjoy the outdoors\\\\n\\\\n© Copyright by WeatherShogun.com\", \\'score\\': 0.81204927}, {\\'title\\': \\'Louisiana weather in September 2025\\', \\'url\\': \\'https://www.weather25.com/north-america/usa/louisiana?page=month&month=September\\', \\'content\\': \\'| 28 Patchy rain possible 32° /22° | 29 Light rain shower 30° /21° | 30 Sunny 30° /22° |  |  |  |  | [...] The weather in Louisiana in September is very hot. The average temperatures are between 24°C and 31°C, drinking water regularly is advisable.\\\\n\\\\nYou can expect rain for roughly half of the month of September in Louisiana. We’re expecting roughly 8 to 15 days of rain, so your rubber boots and umbrella are going to see plenty of use this month if you’re keen on staying dry.\\\\n\\\\nOur weather forecast can give you a great sense of what weather to expect in Louisiana in September 2025. [...] Patchy rain possible\\\\nCloudy\\\\nPartly cloudy\\\\nCloudy\\\\nMist\\\\nPatchy rain possible\\\\nLight rain shower\\\\nModerate or heavy rain shower\\\\nModerate rain\\\\nPatchy rain possible\\\\nSunny\\\\nSunny\\\\nSunny\\\\nPatchy rain possible\\\\nPartly cloudy\\\\nPatchy rain possible\\\\nPartly cloudy\\\\nThundery outbreaks possible\\\\nLight rain shower\\\\nLight rain shower\\\\nModerate or heavy rain shower\\\\nSunny\\\\nSunny\\\\nPartly cloudy\\\\nPartly cloudy\\\\nSunny\\\\nPartly cloudy\\\\nPatchy rain possible\\\\nLight rain shower\\\\nSunny\\\\n\\\\n## Explore the weather in Louisiana in other months\\', \\'score\\': 0.75659186}]', name='tavily_search_results_json', id='299ecea5-bc19-402c-a42f-5c56bf715ebc', tool_call_id='call_dkA2PrjJiPiYhv90wknbJtQH'), AIMessage(content='The current weather in Louisiana is very hot, with average temperatures ranging between 24°C and 31°C (about 75°F to 88°F). You can expect sunny conditions but also the possibility of patchy rain or light rain showers, as September in Louisiana can be rainy for about half the month.\\n\\nIf you meant Los Angeles (LA), California instead of Louisiana, please let me know and I will fetch the weather for that location!', additional_kwargs={'refusal': None}, response_metadata={'token_usage': {'completion_tokens': 90, 'prompt_tokens': 818, 'total_tokens': 908, 'completion_tokens_details': {'accepted_prediction_tokens': 0, 'audio_tokens': 0, 'reasoning_tokens': 0, 'rejected_prediction_tokens': 0}, 'prompt_tokens_details': {'audio_tokens': 0, 'cached_tokens': 0}}, 'model_name': 'gpt-4.1-2025-04-14', 'system_fingerprint': 'fp_daf5fcc80a', 'id': 'chatcmpl-CBPItqnedQyXUoJtdxv7ultGc6EY5', 'service_tier': 'default', 'finish_reason': 'stop', 'logprobs': None}, id='run--b16dcbf5-63c5-4b90-8912-487c36e991b5-0', usage_metadata={'input_tokens': 818, 'output_tokens': 90, 'total_tokens': 908, 'input_token_details': {'audio': 0, 'cache_read': 0}, 'output_token_details': {'audio': 0, 'reasoning': 0}})]}\n",
            "{'messages': [AIMessage(content='The current weather in Louisiana is very hot, with average temperatures ranging between 24°C and 31°C (about 75°F to 88°F). You can expect sunny conditions but also the possibility of patchy rain or light rain showers, as September in Louisiana can be rainy for about half the month.\\n\\nIf you meant Los Angeles (LA), California instead of Louisiana, please let me know and I will fetch the weather for that location!', additional_kwargs={'refusal': None}, response_metadata={'token_usage': {'completion_tokens': 90, 'prompt_tokens': 818, 'total_tokens': 908, 'completion_tokens_details': {'accepted_prediction_tokens': 0, 'audio_tokens': 0, 'reasoning_tokens': 0, 'rejected_prediction_tokens': 0}, 'prompt_tokens_details': {'audio_tokens': 0, 'cached_tokens': 0}}, 'model_name': 'gpt-4.1-2025-04-14', 'system_fingerprint': 'fp_daf5fcc80a', 'id': 'chatcmpl-CBPItqnedQyXUoJtdxv7ultGc6EY5', 'service_tier': 'default', 'finish_reason': 'stop', 'logprobs': None}, id='run--b16dcbf5-63c5-4b90-8912-487c36e991b5-0', usage_metadata={'input_tokens': 818, 'output_tokens': 90, 'total_tokens': 908, 'input_token_details': {'audio': 0, 'cache_read': 0}, 'output_token_details': {'audio': 0, 'reasoning': 0}})]}\n"
          ]
        }
      ]
    },
    {
      "cell_type": "code",
      "source": [
        "# 88. We have now shown how we can modify the state of the graph in order to\n",
        "# control what the Agent does\n",
        "# 89. An important thing to note is that we are actually keeping a running list\n",
        "# of all these states\n",
        "# 90. We can modify the state for it to become a new state\n",
        "# 91. States get created as the graph is traversed\n",
        "# 92. You can visit the states/nodes as its stored in memory.\n",
        "# 93. That is: Time Travel\n",
        "# 94. In order to do this, call get_state_history as below\n",
        "# 95. Passing the thread id\n",
        "# 96. Start building up the list of states over time\n",
        "\n",
        "states = []\n",
        "for state in abot.graph.get_state_history(thread):\n",
        "    print(state)\n",
        "    print('--')\n",
        "    states.append(state)"
      ],
      "metadata": {
        "colab": {
          "base_uri": "https://localhost:8080/"
        },
        "id": "eUVF-xVEhboj",
        "outputId": "bada8d01-d89e-4114-994b-b4ed73628eb2"
      },
      "execution_count": null,
      "outputs": [
        {
          "output_type": "stream",
          "name": "stdout",
          "text": [
            "StateSnapshot(values={'messages': [HumanMessage(content='Whats the weather in LA?', additional_kwargs={}, response_metadata={}, id='2b2f1895-221b-47e1-bee3-f9ff23c2a93c'), AIMessage(content='', additional_kwargs={'tool_calls': [{'id': 'call_dkA2PrjJiPiYhv90wknbJtQH', 'function': {'arguments': '{\"query\":\"current weather in Los Angeles\"}', 'name': 'tavily_search_results_json'}, 'type': 'function'}], 'refusal': None}, response_metadata={'token_usage': {'completion_tokens': 22, 'prompt_tokens': 150, 'total_tokens': 172, 'completion_tokens_details': {'accepted_prediction_tokens': 0, 'audio_tokens': 0, 'reasoning_tokens': 0, 'rejected_prediction_tokens': 0}, 'prompt_tokens_details': {'audio_tokens': 0, 'cached_tokens': 0}}, 'model_name': 'gpt-4.1-2025-04-14', 'system_fingerprint': 'fp_daf5fcc80a', 'id': 'chatcmpl-CBPIo1dyRNAPbyl5D38SmZqWJSbEP', 'service_tier': 'default', 'finish_reason': 'tool_calls', 'logprobs': None}, id='run--63decc93-e311-4101-b220-280db4768c3c-0', tool_calls=[{'name': 'tavily_search_results_json', 'args': {'query': 'current weather in Louisiana'}, 'id': 'call_dkA2PrjJiPiYhv90wknbJtQH', 'type': 'tool_call'}], usage_metadata={'input_tokens': 150, 'output_tokens': 22, 'total_tokens': 172, 'input_token_details': {'audio': 0, 'cache_read': 0}, 'output_token_details': {'audio': 0, 'reasoning': 0}}), ToolMessage(content='[{\\'title\\': \\'Tuesday, September 2, 2025. New Orleans, LA\\', \\'url\\': \\'https://weathershogun.com/weather/usa/la/new-orleans/1865/september/2025-09-02\\', \\'content\\': \"WeatherShogun.com\\\\n\\\\n# Weather in New Orleans, Louisiana\\\\n\\\\n### Warning: Extreme UV Index Today: 11+\\\\n\\\\nOverexposure to the sun\\'s harmful UV rays can cause sunburn and increase the risk of developing skin cancer, including melanoma. Protect yourself by wearing clothing that covers your skin, sunglasses, and a hat. Apply a broad-spectrum sunscreen with an SPF of 30 or higher every two hours, even on cloudy days. Minimize direct sun exposure during peak hours (10 AM to 4 PM) to reduce the risk. [...] ## New Orleans Weather Forecast Updated\\\\n\\\\n## Weather Forecast History\\\\n\\\\nLast Year\\'s Weather on This Day (September 2, 2024)\\\\n\\\\n### Day\\\\n\\\\n93°\\\\n\\\\n### Night\\\\n\\\\n75°\\\\n\\\\n#### Wind\\\\n\\\\n7 mph\\\\n\\\\n#### UV Index\\\\n\\\\n9\\\\n\\\\n#### Precipitation\\\\n\\\\n25\\\\n\\\\n# Air quality in New Orleans\\\\n\\\\n#### Pollutant Concentrations:\\\\n\\\\n#### Health Recommendations:\\\\n\\\\nWith this level of air quality, you have no limitations. Enjoy the outdoors\\\\n\\\\n© Copyright by WeatherShogun.com\", \\'score\\': 0.81204927}, {\\'title\\': \\'Louisiana weather in September 2025\\', \\'url\\': \\'https://www.weather25.com/north-america/usa/louisiana?page=month&month=September\\', \\'content\\': \\'| 28 Patchy rain possible 32° /22° | 29 Light rain shower 30° /21° | 30 Sunny 30° /22° |  |  |  |  | [...] The weather in Louisiana in September is very hot. The average temperatures are between 24°C and 31°C, drinking water regularly is advisable.\\\\n\\\\nYou can expect rain for roughly half of the month of September in Louisiana. We’re expecting roughly 8 to 15 days of rain, so your rubber boots and umbrella are going to see plenty of use this month if you’re keen on staying dry.\\\\n\\\\nOur weather forecast can give you a great sense of what weather to expect in Louisiana in September 2025. [...] Patchy rain possible\\\\nCloudy\\\\nPartly cloudy\\\\nCloudy\\\\nMist\\\\nPatchy rain possible\\\\nLight rain shower\\\\nModerate or heavy rain shower\\\\nModerate rain\\\\nPatchy rain possible\\\\nSunny\\\\nSunny\\\\nSunny\\\\nPatchy rain possible\\\\nPartly cloudy\\\\nPatchy rain possible\\\\nPartly cloudy\\\\nThundery outbreaks possible\\\\nLight rain shower\\\\nLight rain shower\\\\nModerate or heavy rain shower\\\\nSunny\\\\nSunny\\\\nPartly cloudy\\\\nPartly cloudy\\\\nSunny\\\\nPartly cloudy\\\\nPatchy rain possible\\\\nLight rain shower\\\\nSunny\\\\n\\\\n## Explore the weather in Louisiana in other months\\', \\'score\\': 0.75659186}]', name='tavily_search_results_json', id='299ecea5-bc19-402c-a42f-5c56bf715ebc', tool_call_id='call_dkA2PrjJiPiYhv90wknbJtQH'), AIMessage(content='The current weather in Louisiana is very hot, with average temperatures ranging between 24°C and 31°C (about 75°F to 88°F). You can expect sunny conditions but also the possibility of patchy rain or light rain showers, as September in Louisiana can be rainy for about half the month.\\n\\nIf you meant Los Angeles (LA), California instead of Louisiana, please let me know and I will fetch the weather for that location!', additional_kwargs={'refusal': None}, response_metadata={'token_usage': {'completion_tokens': 90, 'prompt_tokens': 818, 'total_tokens': 908, 'completion_tokens_details': {'accepted_prediction_tokens': 0, 'audio_tokens': 0, 'reasoning_tokens': 0, 'rejected_prediction_tokens': 0}, 'prompt_tokens_details': {'audio_tokens': 0, 'cached_tokens': 0}}, 'model_name': 'gpt-4.1-2025-04-14', 'system_fingerprint': 'fp_daf5fcc80a', 'id': 'chatcmpl-CBPItqnedQyXUoJtdxv7ultGc6EY5', 'service_tier': 'default', 'finish_reason': 'stop', 'logprobs': None}, id='run--b16dcbf5-63c5-4b90-8912-487c36e991b5-0', usage_metadata={'input_tokens': 818, 'output_tokens': 90, 'total_tokens': 908, 'input_token_details': {'audio': 0, 'cache_read': 0}, 'output_token_details': {'audio': 0, 'reasoning': 0}})]}, next=(), config={'configurable': {'thread_id': '3', 'checkpoint_ns': '', 'checkpoint_id': '1f088241-ce83-6bc5-8004-db488c385cf7'}}, metadata={'source': 'loop', 'step': 4, 'parents': {}}, created_at='2025-09-02T17:41:53.366683+00:00', parent_config={'configurable': {'thread_id': '3', 'checkpoint_ns': '', 'checkpoint_id': '1f088241-bf0c-692e-8003-8713cda301b8'}}, tasks=(), interrupts=())\n",
            "--\n",
            "StateSnapshot(values={'messages': [HumanMessage(content='Whats the weather in LA?', additional_kwargs={}, response_metadata={}, id='2b2f1895-221b-47e1-bee3-f9ff23c2a93c'), AIMessage(content='', additional_kwargs={'tool_calls': [{'id': 'call_dkA2PrjJiPiYhv90wknbJtQH', 'function': {'arguments': '{\"query\":\"current weather in Los Angeles\"}', 'name': 'tavily_search_results_json'}, 'type': 'function'}], 'refusal': None}, response_metadata={'token_usage': {'completion_tokens': 22, 'prompt_tokens': 150, 'total_tokens': 172, 'completion_tokens_details': {'accepted_prediction_tokens': 0, 'audio_tokens': 0, 'reasoning_tokens': 0, 'rejected_prediction_tokens': 0}, 'prompt_tokens_details': {'audio_tokens': 0, 'cached_tokens': 0}}, 'model_name': 'gpt-4.1-2025-04-14', 'system_fingerprint': 'fp_daf5fcc80a', 'id': 'chatcmpl-CBPIo1dyRNAPbyl5D38SmZqWJSbEP', 'service_tier': 'default', 'finish_reason': 'tool_calls', 'logprobs': None}, id='run--63decc93-e311-4101-b220-280db4768c3c-0', tool_calls=[{'name': 'tavily_search_results_json', 'args': {'query': 'current weather in Louisiana'}, 'id': 'call_dkA2PrjJiPiYhv90wknbJtQH', 'type': 'tool_call'}], usage_metadata={'input_tokens': 150, 'output_tokens': 22, 'total_tokens': 172, 'input_token_details': {'audio': 0, 'cache_read': 0}, 'output_token_details': {'audio': 0, 'reasoning': 0}}), ToolMessage(content='[{\\'title\\': \\'Tuesday, September 2, 2025. New Orleans, LA\\', \\'url\\': \\'https://weathershogun.com/weather/usa/la/new-orleans/1865/september/2025-09-02\\', \\'content\\': \"WeatherShogun.com\\\\n\\\\n# Weather in New Orleans, Louisiana\\\\n\\\\n### Warning: Extreme UV Index Today: 11+\\\\n\\\\nOverexposure to the sun\\'s harmful UV rays can cause sunburn and increase the risk of developing skin cancer, including melanoma. Protect yourself by wearing clothing that covers your skin, sunglasses, and a hat. Apply a broad-spectrum sunscreen with an SPF of 30 or higher every two hours, even on cloudy days. Minimize direct sun exposure during peak hours (10 AM to 4 PM) to reduce the risk. [...] ## New Orleans Weather Forecast Updated\\\\n\\\\n## Weather Forecast History\\\\n\\\\nLast Year\\'s Weather on This Day (September 2, 2024)\\\\n\\\\n### Day\\\\n\\\\n93°\\\\n\\\\n### Night\\\\n\\\\n75°\\\\n\\\\n#### Wind\\\\n\\\\n7 mph\\\\n\\\\n#### UV Index\\\\n\\\\n9\\\\n\\\\n#### Precipitation\\\\n\\\\n25\\\\n\\\\n# Air quality in New Orleans\\\\n\\\\n#### Pollutant Concentrations:\\\\n\\\\n#### Health Recommendations:\\\\n\\\\nWith this level of air quality, you have no limitations. Enjoy the outdoors\\\\n\\\\n© Copyright by WeatherShogun.com\", \\'score\\': 0.81204927}, {\\'title\\': \\'Louisiana weather in September 2025\\', \\'url\\': \\'https://www.weather25.com/north-america/usa/louisiana?page=month&month=September\\', \\'content\\': \\'| 28 Patchy rain possible 32° /22° | 29 Light rain shower 30° /21° | 30 Sunny 30° /22° |  |  |  |  | [...] The weather in Louisiana in September is very hot. The average temperatures are between 24°C and 31°C, drinking water regularly is advisable.\\\\n\\\\nYou can expect rain for roughly half of the month of September in Louisiana. We’re expecting roughly 8 to 15 days of rain, so your rubber boots and umbrella are going to see plenty of use this month if you’re keen on staying dry.\\\\n\\\\nOur weather forecast can give you a great sense of what weather to expect in Louisiana in September 2025. [...] Patchy rain possible\\\\nCloudy\\\\nPartly cloudy\\\\nCloudy\\\\nMist\\\\nPatchy rain possible\\\\nLight rain shower\\\\nModerate or heavy rain shower\\\\nModerate rain\\\\nPatchy rain possible\\\\nSunny\\\\nSunny\\\\nSunny\\\\nPatchy rain possible\\\\nPartly cloudy\\\\nPatchy rain possible\\\\nPartly cloudy\\\\nThundery outbreaks possible\\\\nLight rain shower\\\\nLight rain shower\\\\nModerate or heavy rain shower\\\\nSunny\\\\nSunny\\\\nPartly cloudy\\\\nPartly cloudy\\\\nSunny\\\\nPartly cloudy\\\\nPatchy rain possible\\\\nLight rain shower\\\\nSunny\\\\n\\\\n## Explore the weather in Louisiana in other months\\', \\'score\\': 0.75659186}]', name='tavily_search_results_json', id='299ecea5-bc19-402c-a42f-5c56bf715ebc', tool_call_id='call_dkA2PrjJiPiYhv90wknbJtQH')]}, next=('llm',), config={'configurable': {'thread_id': '3', 'checkpoint_ns': '', 'checkpoint_id': '1f088241-bf0c-692e-8003-8713cda301b8'}}, metadata={'source': 'loop', 'step': 3, 'parents': {}}, created_at='2025-09-02T17:41:51.745023+00:00', parent_config={'configurable': {'thread_id': '3', 'checkpoint_ns': '', 'checkpoint_id': '1f088241-9a27-69d1-8002-9ade0a2f697f'}}, tasks=(PregelTask(id='f30d1524-e0da-8d40-c1c6-02984afe062f', name='llm', path=('__pregel_pull', 'llm'), error=None, interrupts=(), state=None, result={'messages': [AIMessage(content='The current weather in Louisiana is very hot, with average temperatures ranging between 24°C and 31°C (about 75°F to 88°F). You can expect sunny conditions but also the possibility of patchy rain or light rain showers, as September in Louisiana can be rainy for about half the month.\\n\\nIf you meant Los Angeles (LA), California instead of Louisiana, please let me know and I will fetch the weather for that location!', additional_kwargs={'refusal': None}, response_metadata={'token_usage': {'completion_tokens': 90, 'prompt_tokens': 818, 'total_tokens': 908, 'completion_tokens_details': {'accepted_prediction_tokens': 0, 'audio_tokens': 0, 'reasoning_tokens': 0, 'rejected_prediction_tokens': 0}, 'prompt_tokens_details': {'audio_tokens': 0, 'cached_tokens': 0}}, 'model_name': 'gpt-4.1-2025-04-14', 'system_fingerprint': 'fp_daf5fcc80a', 'id': 'chatcmpl-CBPItqnedQyXUoJtdxv7ultGc6EY5', 'service_tier': 'default', 'finish_reason': 'stop', 'logprobs': None}, id='run--b16dcbf5-63c5-4b90-8912-487c36e991b5-0', usage_metadata={'input_tokens': 818, 'output_tokens': 90, 'total_tokens': 908, 'input_token_details': {'audio': 0, 'cache_read': 0}, 'output_token_details': {'audio': 0, 'reasoning': 0}})]}),), interrupts=())\n",
            "--\n",
            "StateSnapshot(values={'messages': [HumanMessage(content='Whats the weather in LA?', additional_kwargs={}, response_metadata={}, id='2b2f1895-221b-47e1-bee3-f9ff23c2a93c'), AIMessage(content='', additional_kwargs={'tool_calls': [{'id': 'call_dkA2PrjJiPiYhv90wknbJtQH', 'function': {'arguments': '{\"query\":\"current weather in Los Angeles\"}', 'name': 'tavily_search_results_json'}, 'type': 'function'}], 'refusal': None}, response_metadata={'token_usage': {'completion_tokens': 22, 'prompt_tokens': 150, 'total_tokens': 172, 'completion_tokens_details': {'accepted_prediction_tokens': 0, 'audio_tokens': 0, 'reasoning_tokens': 0, 'rejected_prediction_tokens': 0}, 'prompt_tokens_details': {'audio_tokens': 0, 'cached_tokens': 0}}, 'model_name': 'gpt-4.1-2025-04-14', 'system_fingerprint': 'fp_daf5fcc80a', 'id': 'chatcmpl-CBPIo1dyRNAPbyl5D38SmZqWJSbEP', 'service_tier': 'default', 'finish_reason': 'tool_calls', 'logprobs': None}, id='run--63decc93-e311-4101-b220-280db4768c3c-0', tool_calls=[{'name': 'tavily_search_results_json', 'args': {'query': 'current weather in Louisiana'}, 'id': 'call_dkA2PrjJiPiYhv90wknbJtQH', 'type': 'tool_call'}], usage_metadata={'input_tokens': 150, 'output_tokens': 22, 'total_tokens': 172, 'input_token_details': {'audio': 0, 'cache_read': 0}, 'output_token_details': {'audio': 0, 'reasoning': 0}})]}, next=('action',), config={'configurable': {'thread_id': '3', 'checkpoint_ns': '', 'checkpoint_id': '1f088241-9a27-69d1-8002-9ade0a2f697f'}}, metadata={'source': 'update', 'step': 2, 'parents': {}}, created_at='2025-09-02T17:41:47.876364+00:00', parent_config={'configurable': {'thread_id': '3', 'checkpoint_ns': '', 'checkpoint_id': '1f088241-99a2-66a5-8001-9651336f7fb2'}}, tasks=(PregelTask(id='c8f21b55-119d-0793-a930-7393a59b1b84', name='action', path=('__pregel_pull', 'action'), error=None, interrupts=(), state=None, result={'messages': [ToolMessage(content='[{\\'title\\': \\'Tuesday, September 2, 2025. New Orleans, LA\\', \\'url\\': \\'https://weathershogun.com/weather/usa/la/new-orleans/1865/september/2025-09-02\\', \\'content\\': \"WeatherShogun.com\\\\n\\\\n# Weather in New Orleans, Louisiana\\\\n\\\\n### Warning: Extreme UV Index Today: 11+\\\\n\\\\nOverexposure to the sun\\'s harmful UV rays can cause sunburn and increase the risk of developing skin cancer, including melanoma. Protect yourself by wearing clothing that covers your skin, sunglasses, and a hat. Apply a broad-spectrum sunscreen with an SPF of 30 or higher every two hours, even on cloudy days. Minimize direct sun exposure during peak hours (10 AM to 4 PM) to reduce the risk. [...] ## New Orleans Weather Forecast Updated\\\\n\\\\n## Weather Forecast History\\\\n\\\\nLast Year\\'s Weather on This Day (September 2, 2024)\\\\n\\\\n### Day\\\\n\\\\n93°\\\\n\\\\n### Night\\\\n\\\\n75°\\\\n\\\\n#### Wind\\\\n\\\\n7 mph\\\\n\\\\n#### UV Index\\\\n\\\\n9\\\\n\\\\n#### Precipitation\\\\n\\\\n25\\\\n\\\\n# Air quality in New Orleans\\\\n\\\\n#### Pollutant Concentrations:\\\\n\\\\n#### Health Recommendations:\\\\n\\\\nWith this level of air quality, you have no limitations. Enjoy the outdoors\\\\n\\\\n© Copyright by WeatherShogun.com\", \\'score\\': 0.81204927}, {\\'title\\': \\'Louisiana weather in September 2025\\', \\'url\\': \\'https://www.weather25.com/north-america/usa/louisiana?page=month&month=September\\', \\'content\\': \\'| 28 Patchy rain possible 32° /22° | 29 Light rain shower 30° /21° | 30 Sunny 30° /22° |  |  |  |  | [...] The weather in Louisiana in September is very hot. The average temperatures are between 24°C and 31°C, drinking water regularly is advisable.\\\\n\\\\nYou can expect rain for roughly half of the month of September in Louisiana. We’re expecting roughly 8 to 15 days of rain, so your rubber boots and umbrella are going to see plenty of use this month if you’re keen on staying dry.\\\\n\\\\nOur weather forecast can give you a great sense of what weather to expect in Louisiana in September 2025. [...] Patchy rain possible\\\\nCloudy\\\\nPartly cloudy\\\\nCloudy\\\\nMist\\\\nPatchy rain possible\\\\nLight rain shower\\\\nModerate or heavy rain shower\\\\nModerate rain\\\\nPatchy rain possible\\\\nSunny\\\\nSunny\\\\nSunny\\\\nPatchy rain possible\\\\nPartly cloudy\\\\nPatchy rain possible\\\\nPartly cloudy\\\\nThundery outbreaks possible\\\\nLight rain shower\\\\nLight rain shower\\\\nModerate or heavy rain shower\\\\nSunny\\\\nSunny\\\\nPartly cloudy\\\\nPartly cloudy\\\\nSunny\\\\nPartly cloudy\\\\nPatchy rain possible\\\\nLight rain shower\\\\nSunny\\\\n\\\\n## Explore the weather in Louisiana in other months\\', \\'score\\': 0.75659186}]', name='tavily_search_results_json', tool_call_id='call_dkA2PrjJiPiYhv90wknbJtQH')]}),), interrupts=())\n",
            "--\n",
            "StateSnapshot(values={'messages': [HumanMessage(content='Whats the weather in LA?', additional_kwargs={}, response_metadata={}, id='2b2f1895-221b-47e1-bee3-f9ff23c2a93c'), AIMessage(content='', additional_kwargs={'tool_calls': [{'id': 'call_dkA2PrjJiPiYhv90wknbJtQH', 'function': {'arguments': '{\"query\":\"current weather in Los Angeles\"}', 'name': 'tavily_search_results_json'}, 'type': 'function'}], 'refusal': None}, response_metadata={'token_usage': {'completion_tokens': 22, 'prompt_tokens': 150, 'total_tokens': 172, 'completion_tokens_details': {'accepted_prediction_tokens': 0, 'audio_tokens': 0, 'reasoning_tokens': 0, 'rejected_prediction_tokens': 0}, 'prompt_tokens_details': {'audio_tokens': 0, 'cached_tokens': 0}}, 'model_name': 'gpt-4.1-2025-04-14', 'system_fingerprint': 'fp_daf5fcc80a', 'id': 'chatcmpl-CBPIo1dyRNAPbyl5D38SmZqWJSbEP', 'service_tier': 'default', 'finish_reason': 'tool_calls', 'logprobs': None}, id='run--63decc93-e311-4101-b220-280db4768c3c-0', tool_calls=[{'name': 'tavily_search_results_json', 'args': {'query': 'current weather in Los Angeles'}, 'id': 'call_dkA2PrjJiPiYhv90wknbJtQH', 'type': 'tool_call'}], usage_metadata={'input_tokens': 150, 'output_tokens': 22, 'total_tokens': 172, 'input_token_details': {'audio': 0, 'cache_read': 0}, 'output_token_details': {'audio': 0, 'reasoning': 0}})]}, next=('action',), config={'configurable': {'thread_id': '3', 'checkpoint_ns': '', 'checkpoint_id': '1f088241-99a2-66a5-8001-9651336f7fb2'}}, metadata={'source': 'loop', 'step': 1, 'parents': {}}, created_at='2025-09-02T17:41:47.821808+00:00', parent_config={'configurable': {'thread_id': '3', 'checkpoint_ns': '', 'checkpoint_id': '1f088241-8e40-69c3-8000-085ae6e5dd0a'}}, tasks=(PregelTask(id='126e92d1-4f6c-83a5-a8a9-d5a3c2cbcd60', name='action', path=('__pregel_pull', 'action'), error=None, interrupts=(), state=None, result=None),), interrupts=())\n",
            "--\n",
            "StateSnapshot(values={'messages': [HumanMessage(content='Whats the weather in LA?', additional_kwargs={}, response_metadata={}, id='2b2f1895-221b-47e1-bee3-f9ff23c2a93c')]}, next=('llm',), config={'configurable': {'thread_id': '3', 'checkpoint_ns': '', 'checkpoint_id': '1f088241-8e40-69c3-8000-085ae6e5dd0a'}}, metadata={'source': 'loop', 'step': 0, 'parents': {}}, created_at='2025-09-02T17:41:46.628319+00:00', parent_config={'configurable': {'thread_id': '3', 'checkpoint_ns': '', 'checkpoint_id': '1f088241-8e3d-605b-bfff-c8f309b6bab6'}}, tasks=(PregelTask(id='82880714-a461-6a7d-25eb-dc6039a8cdab', name='llm', path=('__pregel_pull', 'llm'), error=None, interrupts=(), state=None, result={'messages': [AIMessage(content='', additional_kwargs={'tool_calls': [{'id': 'call_dkA2PrjJiPiYhv90wknbJtQH', 'function': {'arguments': '{\"query\":\"current weather in Los Angeles\"}', 'name': 'tavily_search_results_json'}, 'type': 'function'}], 'refusal': None}, response_metadata={'token_usage': {'completion_tokens': 22, 'prompt_tokens': 150, 'total_tokens': 172, 'completion_tokens_details': {'accepted_prediction_tokens': 0, 'audio_tokens': 0, 'reasoning_tokens': 0, 'rejected_prediction_tokens': 0}, 'prompt_tokens_details': {'audio_tokens': 0, 'cached_tokens': 0}}, 'model_name': 'gpt-4.1-2025-04-14', 'system_fingerprint': 'fp_daf5fcc80a', 'id': 'chatcmpl-CBPIo1dyRNAPbyl5D38SmZqWJSbEP', 'service_tier': 'default', 'finish_reason': 'tool_calls', 'logprobs': None}, id='run--63decc93-e311-4101-b220-280db4768c3c-0', tool_calls=[{'name': 'tavily_search_results_json', 'args': {'query': 'current weather in Los Angeles'}, 'id': 'call_dkA2PrjJiPiYhv90wknbJtQH', 'type': 'tool_call'}], usage_metadata={'input_tokens': 150, 'output_tokens': 22, 'total_tokens': 172, 'input_token_details': {'audio': 0, 'cache_read': 0}, 'output_token_details': {'audio': 0, 'reasoning': 0}})]}),), interrupts=())\n",
            "--\n",
            "StateSnapshot(values={'messages': []}, next=('__start__',), config={'configurable': {'thread_id': '3', 'checkpoint_ns': '', 'checkpoint_id': '1f088241-8e3d-605b-bfff-c8f309b6bab6'}}, metadata={'source': 'input', 'step': -1, 'parents': {}}, created_at='2025-09-02T17:41:46.626857+00:00', parent_config=None, tasks=(PregelTask(id='4b64b602-a2cb-82a8-b97b-69caec3bda43', name='__start__', path=('__pregel_pull', '__start__'), error=None, interrupts=(), state=None, result={'messages': [HumanMessage(content='Whats the weather in LA?', additional_kwargs={}, response_metadata={}, id='2b2f1895-221b-47e1-bee3-f9ff23c2a93c')]}),), interrupts=())\n",
            "--\n"
          ]
        }
      ]
    },
    {
      "cell_type": "code",
      "source": [
        "#97. You can modify the state"
      ],
      "metadata": {
        "id": "d2h_Wxd7pT4O"
      },
      "execution_count": null,
      "outputs": []
    }
  ]
}